{
  "nbformat": 4,
  "nbformat_minor": 0,
  "metadata": {
    "kernelspec": {
      "display_name": "Python 3",
      "language": "python",
      "name": "python3"
    },
    "language_info": {
      "codemirror_mode": {
        "name": "ipython",
        "version": 3
      },
      "file_extension": ".py",
      "mimetype": "text/x-python",
      "name": "python",
      "nbconvert_exporter": "python",
      "pygments_lexer": "ipython3",
      "version": "3.7.0"
    },
    "latex_envs": {
      "LaTeX_envs_menu_present": true,
      "autoclose": false,
      "autocomplete": true,
      "bibliofile": "biblio.bib",
      "cite_by": "apalike",
      "current_citInitial": 1,
      "eqLabelWithNumbers": true,
      "eqNumInitial": 1,
      "hotkeys": {
        "equation": "Ctrl-E",
        "itemize": "Ctrl-I"
      },
      "labels_anchors": false,
      "latex_user_defs": false,
      "report_style_numbering": false,
      "user_envs_cfg": false
    },
    "toc": {
      "base_numbering": 1,
      "nav_menu": {},
      "number_sections": true,
      "sideBar": true,
      "skip_h1_title": false,
      "title_cell": "Table of Contents",
      "title_sidebar": "Contents",
      "toc_cell": false,
      "toc_position": {},
      "toc_section_display": true,
      "toc_window_display": false
    },
    "varInspector": {
      "cols": {
        "lenName": 16,
        "lenType": 16,
        "lenVar": 40
      },
      "kernels_config": {
        "python": {
          "delete_cmd_postfix": "",
          "delete_cmd_prefix": "del ",
          "library": "var_list.py",
          "varRefreshCmd": "print(var_dic_list())"
        },
        "r": {
          "delete_cmd_postfix": ") ",
          "delete_cmd_prefix": "rm(",
          "library": "var_list.r",
          "varRefreshCmd": "cat(var_dic_list()) "
        }
      },
      "types_to_exclude": [
        "module",
        "function",
        "builtin_function_or_method",
        "instance",
        "_Feature"
      ],
      "window_display": false
    },
    "colab": {
      "name": "NumpyExo.ipynb",
      "provenance": [],
      "collapsed_sections": []
    }
  },
  "cells": [
    {
      "cell_type": "markdown",
      "metadata": {
        "id": "RgW46SQT7xmN",
        "colab_type": "text"
      },
      "source": [
        "# Numpy exercices pratiques\n",
        "Ce notebook à pour objectif de vous faire pratiquer numpy dans toute sa généralité. \n",
        "Vous avez donc une liste de questions à faire ! Il ne faut pas hésiter à faire des recherches sur google ainsi que voir la [documentation officielle](https://docs.scipy.org/doc/numpy-1.13.0/reference/). "
      ]
    },
    {
      "cell_type": "markdown",
      "metadata": {
        "id": "Pt5fcxjj7xmO",
        "colab_type": "text"
      },
      "source": [
        "#### Q1 : Importer le package numpy "
      ]
    },
    {
      "cell_type": "code",
      "metadata": {
        "id": "nlhvjgZs7xmO",
        "colab_type": "code",
        "colab": {}
      },
      "source": [
        "import numpy as np"
      ],
      "execution_count": null,
      "outputs": []
    },
    {
      "cell_type": "markdown",
      "metadata": {
        "id": "mZvYeZkJ7xmS",
        "colab_type": "text"
      },
      "source": [
        "#### Q2 : Afficher la version de numpy et la configuration "
      ]
    },
    {
      "cell_type": "code",
      "metadata": {
        "id": "wnpPTjV47xmS",
        "colab_type": "code",
        "colab": {
          "base_uri": "https://localhost:8080/",
          "height": 34
        },
        "outputId": "3a80ddca-1b6a-4903-dfb3-265910c73439"
      },
      "source": [
        "np.version.version"
      ],
      "execution_count": null,
      "outputs": [
        {
          "output_type": "execute_result",
          "data": {
            "text/plain": [
              "<function numpy.info>"
            ]
          },
          "metadata": {
            "tags": []
          },
          "execution_count": 12
        }
      ]
    },
    {
      "cell_type": "markdown",
      "metadata": {
        "id": "DYO802Mc7xmV",
        "colab_type": "text"
      },
      "source": [
        "#### Q3 : Créer un vecteur nul de taille 10"
      ]
    },
    {
      "cell_type": "code",
      "metadata": {
        "id": "xRfhmbzd7xmV",
        "colab_type": "code",
        "colab": {
          "base_uri": "https://localhost:8080/",
          "height": 185
        },
        "outputId": "66f3b6a4-ac2b-4a17-9c68-dae310f1e29b"
      },
      "source": [
        "np.zeros(10).reshape((10,1))"
      ],
      "execution_count": null,
      "outputs": [
        {
          "output_type": "execute_result",
          "data": {
            "text/plain": [
              "array([[0.],\n",
              "       [0.],\n",
              "       [0.],\n",
              "       [0.],\n",
              "       [0.],\n",
              "       [0.],\n",
              "       [0.],\n",
              "       [0.],\n",
              "       [0.],\n",
              "       [0.]])"
            ]
          },
          "metadata": {
            "tags": []
          },
          "execution_count": 18
        }
      ]
    },
    {
      "cell_type": "markdown",
      "metadata": {
        "id": "ZrGw_NDB7xmY",
        "colab_type": "text"
      },
      "source": [
        "#### Q4 : Créer un vecteur null de taille 10 et affecter la valeur 1 à la 4ème place (index 4) du vecteur"
      ]
    },
    {
      "cell_type": "code",
      "metadata": {
        "id": "7qN-YX9d7xmY",
        "colab_type": "code",
        "colab": {
          "base_uri": "https://localhost:8080/",
          "height": 185
        },
        "outputId": "f7b5223b-6537-466c-b499-5a9c4e6dc6ff"
      },
      "source": [
        "v0 = np.zeros(10).reshape((10,1))\n",
        "v0[4] = 1\n",
        "v0"
      ],
      "execution_count": null,
      "outputs": [
        {
          "output_type": "execute_result",
          "data": {
            "text/plain": [
              "array([[0.],\n",
              "       [0.],\n",
              "       [0.],\n",
              "       [0.],\n",
              "       [1.],\n",
              "       [0.],\n",
              "       [0.],\n",
              "       [0.],\n",
              "       [0.],\n",
              "       [0.]])"
            ]
          },
          "metadata": {
            "tags": []
          },
          "execution_count": 25
        }
      ]
    },
    {
      "cell_type": "markdown",
      "metadata": {
        "id": "R_BU_tgw7xma",
        "colab_type": "text"
      },
      "source": [
        "#### Q5 : Créer un vecteur Z de 40 valeurs allant de 10 à 50 "
      ]
    },
    {
      "cell_type": "code",
      "metadata": {
        "id": "H3SIEZxx7xmb",
        "colab_type": "code",
        "colab": {
          "base_uri": "https://localhost:8080/",
          "height": 706
        },
        "outputId": "196553c7-c95f-4b24-ca73-340e08c06beb"
      },
      "source": [
        "Z = np.arange(10,51).reshape((41,1)) ; Z"
      ],
      "execution_count": null,
      "outputs": [
        {
          "output_type": "execute_result",
          "data": {
            "text/plain": [
              "array([[10],\n",
              "       [11],\n",
              "       [12],\n",
              "       [13],\n",
              "       [14],\n",
              "       [15],\n",
              "       [16],\n",
              "       [17],\n",
              "       [18],\n",
              "       [19],\n",
              "       [20],\n",
              "       [21],\n",
              "       [22],\n",
              "       [23],\n",
              "       [24],\n",
              "       [25],\n",
              "       [26],\n",
              "       [27],\n",
              "       [28],\n",
              "       [29],\n",
              "       [30],\n",
              "       [31],\n",
              "       [32],\n",
              "       [33],\n",
              "       [34],\n",
              "       [35],\n",
              "       [36],\n",
              "       [37],\n",
              "       [38],\n",
              "       [39],\n",
              "       [40],\n",
              "       [41],\n",
              "       [42],\n",
              "       [43],\n",
              "       [44],\n",
              "       [45],\n",
              "       [46],\n",
              "       [47],\n",
              "       [48],\n",
              "       [49],\n",
              "       [50]])"
            ]
          },
          "metadata": {
            "tags": []
          },
          "execution_count": 39
        }
      ]
    },
    {
      "cell_type": "markdown",
      "metadata": {
        "id": "_mGio87e7xmd",
        "colab_type": "text"
      },
      "source": [
        "#### Q6 : Inverser Z (le premier élément devient donc le dernier)"
      ]
    },
    {
      "cell_type": "code",
      "metadata": {
        "id": "dnobVAKH7xmd",
        "colab_type": "code",
        "colab": {
          "base_uri": "https://localhost:8080/",
          "height": 706
        },
        "outputId": "c5400f52-c13b-4fa6-edab-8cdc7c107e20"
      },
      "source": [
        "Z = Z[::-1] ; Z"
      ],
      "execution_count": null,
      "outputs": [
        {
          "output_type": "execute_result",
          "data": {
            "text/plain": [
              "array([[50],\n",
              "       [49],\n",
              "       [48],\n",
              "       [47],\n",
              "       [46],\n",
              "       [45],\n",
              "       [44],\n",
              "       [43],\n",
              "       [42],\n",
              "       [41],\n",
              "       [40],\n",
              "       [39],\n",
              "       [38],\n",
              "       [37],\n",
              "       [36],\n",
              "       [35],\n",
              "       [34],\n",
              "       [33],\n",
              "       [32],\n",
              "       [31],\n",
              "       [30],\n",
              "       [29],\n",
              "       [28],\n",
              "       [27],\n",
              "       [26],\n",
              "       [25],\n",
              "       [24],\n",
              "       [23],\n",
              "       [22],\n",
              "       [21],\n",
              "       [20],\n",
              "       [19],\n",
              "       [18],\n",
              "       [17],\n",
              "       [16],\n",
              "       [15],\n",
              "       [14],\n",
              "       [13],\n",
              "       [12],\n",
              "       [11],\n",
              "       [10]])"
            ]
          },
          "metadata": {
            "tags": []
          },
          "execution_count": 44
        }
      ]
    },
    {
      "cell_type": "markdown",
      "metadata": {
        "id": "bT9MX-527xmg",
        "colab_type": "text"
      },
      "source": [
        "#### Q7 : Créer une matrice 3x3 avec des valeurs comprise entre 0 et 8 "
      ]
    },
    {
      "cell_type": "code",
      "metadata": {
        "id": "mwYxCq9T7xmg",
        "colab_type": "code",
        "colab": {
          "base_uri": "https://localhost:8080/",
          "height": 67
        },
        "outputId": "526c9b5d-091e-4c9b-af2b-789753971d13"
      },
      "source": [
        "np.arange(0,9).reshape((3,3))"
      ],
      "execution_count": null,
      "outputs": [
        {
          "output_type": "execute_result",
          "data": {
            "text/plain": [
              "array([[0, 1, 2],\n",
              "       [3, 4, 5],\n",
              "       [6, 7, 8]])"
            ]
          },
          "metadata": {
            "tags": []
          },
          "execution_count": 51
        }
      ]
    },
    {
      "cell_type": "markdown",
      "metadata": {
        "id": "3Pa_8x0V7xmi",
        "colab_type": "text"
      },
      "source": [
        "#### Q8 : Créer une matrice identié 3x3 "
      ]
    },
    {
      "cell_type": "code",
      "metadata": {
        "id": "s3UDegCo7xmi",
        "colab_type": "code",
        "colab": {
          "base_uri": "https://localhost:8080/",
          "height": 67
        },
        "outputId": "c3ce0771-c8b7-417d-8860-b362cce729e5"
      },
      "source": [
        "np.identity(3)"
      ],
      "execution_count": null,
      "outputs": [
        {
          "output_type": "execute_result",
          "data": {
            "text/plain": [
              "array([[1., 0., 0.],\n",
              "       [0., 1., 0.],\n",
              "       [0., 0., 1.]])"
            ]
          },
          "metadata": {
            "tags": []
          },
          "execution_count": 48
        }
      ]
    },
    {
      "cell_type": "markdown",
      "metadata": {
        "id": "huoCn0ba7xmk",
        "colab_type": "text"
      },
      "source": [
        "#### Q9 : Créer une matrice 3x3x3 avec des valeurs random "
      ]
    },
    {
      "cell_type": "code",
      "metadata": {
        "id": "PeKDPB9Z7xml",
        "colab_type": "code",
        "colab": {
          "base_uri": "https://localhost:8080/",
          "height": 202
        },
        "outputId": "360ff0c6-3968-4afd-e5f0-9d0b4ebeae93"
      },
      "source": [
        "np.arange(0,27).reshape((3,3,3))"
      ],
      "execution_count": null,
      "outputs": [
        {
          "output_type": "execute_result",
          "data": {
            "text/plain": [
              "array([[[ 0,  1,  2],\n",
              "        [ 3,  4,  5],\n",
              "        [ 6,  7,  8]],\n",
              "\n",
              "       [[ 9, 10, 11],\n",
              "        [12, 13, 14],\n",
              "        [15, 16, 17]],\n",
              "\n",
              "       [[18, 19, 20],\n",
              "        [21, 22, 23],\n",
              "        [24, 25, 26]]])"
            ]
          },
          "metadata": {
            "tags": []
          },
          "execution_count": 53
        }
      ]
    },
    {
      "cell_type": "markdown",
      "metadata": {
        "id": "5j492lQJ7xmn",
        "colab_type": "text"
      },
      "source": [
        "#### Q10 : Créer une matrice 10x10 avec des valeurs random et afficher le minimum et maximum de cette matrice"
      ]
    },
    {
      "cell_type": "code",
      "metadata": {
        "id": "LNaUAKm37xmn",
        "colab_type": "code",
        "colab": {
          "base_uri": "https://localhost:8080/",
          "height": 50
        },
        "outputId": "ba443079-ba86-45b6-908b-49974e304c51"
      },
      "source": [
        "s = np.arange(0,100).reshape((10,10))\n",
        "print(np.amin(s))\n",
        "print(np.amax(s))"
      ],
      "execution_count": null,
      "outputs": [
        {
          "output_type": "stream",
          "text": [
            "0\n",
            "99\n"
          ],
          "name": "stdout"
        }
      ]
    },
    {
      "cell_type": "markdown",
      "metadata": {
        "id": "aC0fj1VU7xmr",
        "colab_type": "text"
      },
      "source": [
        "#### Q11 : Créer une matrice 5x5 avec les valeurs 1,2,3,4 en dessous de la diagonale "
      ]
    },
    {
      "cell_type": "code",
      "metadata": {
        "id": "sARrOlcS7xms",
        "colab_type": "code",
        "colab": {}
      },
      "source": [
        ""
      ],
      "execution_count": null,
      "outputs": []
    },
    {
      "cell_type": "markdown",
      "metadata": {
        "id": "FzcroFya7xmu",
        "colab_type": "text"
      },
      "source": [
        "#### Q12 : Créer une liste random de taille 5 et donner la somme de ses éléments  "
      ]
    },
    {
      "cell_type": "code",
      "metadata": {
        "id": "41iAY21X7xmu",
        "colab_type": "code",
        "colab": {}
      },
      "source": [
        ""
      ],
      "execution_count": null,
      "outputs": []
    },
    {
      "cell_type": "markdown",
      "metadata": {
        "id": "_PT5q-mX7xmw",
        "colab_type": "text"
      },
      "source": [
        "#### Q13 : Créer une liste random de taille 5 et donner la moyenne de ses éléments"
      ]
    },
    {
      "cell_type": "code",
      "metadata": {
        "id": "3RTB4TBY7xmw",
        "colab_type": "code",
        "colab": {}
      },
      "source": [
        ""
      ],
      "execution_count": null,
      "outputs": []
    },
    {
      "cell_type": "markdown",
      "metadata": {
        "id": "HngOMmMe7xmy",
        "colab_type": "text"
      },
      "source": [
        "#### Q14 : En utilisant une fonction, donner la taille de la liste suivante :\n",
        "```python \n",
        "l = [x for x in range(11)]\n",
        "```"
      ]
    },
    {
      "cell_type": "code",
      "metadata": {
        "id": "4kQB7ZSo7xmz",
        "colab_type": "code",
        "colab": {}
      },
      "source": [
        ""
      ],
      "execution_count": null,
      "outputs": []
    },
    {
      "cell_type": "markdown",
      "metadata": {
        "id": "lovaErSg7xm0",
        "colab_type": "text"
      },
      "source": [
        "#### Q15 : Créer un tableau de taille 10 avec des valeurs comprises entre 0 et 1 EXCLUS "
      ]
    },
    {
      "cell_type": "code",
      "metadata": {
        "id": "DpJGXWyF7xm1",
        "colab_type": "code",
        "colab": {}
      },
      "source": [
        ""
      ],
      "execution_count": null,
      "outputs": []
    },
    {
      "cell_type": "markdown",
      "metadata": {
        "id": "985PIcJB7xm3",
        "colab_type": "text"
      },
      "source": [
        "#### Q16 : Soit deux tableau A et B de dimension 1 et de taille 5, créer A et B et afficher True si A et B sont égaux False sinon"
      ]
    },
    {
      "cell_type": "code",
      "metadata": {
        "id": "1izUUDBj7xm3",
        "colab_type": "code",
        "colab": {}
      },
      "source": [
        ""
      ],
      "execution_count": null,
      "outputs": []
    },
    {
      "cell_type": "markdown",
      "metadata": {
        "id": "4wgApiZN7xm5",
        "colab_type": "text"
      },
      "source": [
        "#### Q17 : Convertir un tableau de float32 de dimension 1 et de taille 10 en un tableau de meme taille et dimension mais de type int32"
      ]
    },
    {
      "cell_type": "code",
      "metadata": {
        "id": "pjMCQGol7xm5",
        "colab_type": "code",
        "colab": {}
      },
      "source": [
        ""
      ],
      "execution_count": null,
      "outputs": []
    },
    {
      "cell_type": "markdown",
      "metadata": {
        "id": "2kNG8DYN7xm7",
        "colab_type": "text"
      },
      "source": [
        "#### Q18 : Normaliser une matrice random 5x5 \n",
        "La normalisation d'un nombre X consiste à lui retirer sa moyenne et a diviser le tout par son écart type "
      ]
    },
    {
      "cell_type": "code",
      "metadata": {
        "id": "OLPaQYS07xm7",
        "colab_type": "code",
        "colab": {}
      },
      "source": [
        ""
      ],
      "execution_count": null,
      "outputs": []
    },
    {
      "cell_type": "markdown",
      "metadata": {
        "id": "k6EBDmJ-7xm9",
        "colab_type": "text"
      },
      "source": [
        "#### Q19 : Créer une matrice random `M` 2x2 et donner sa transposer \n",
        "L'opération de transposition dans une matrice consiste à échanger les lignes et le colonnes. "
      ]
    },
    {
      "cell_type": "code",
      "metadata": {
        "id": "uhUzcAYT7xm9",
        "colab_type": "code",
        "colab": {}
      },
      "source": [
        ""
      ],
      "execution_count": null,
      "outputs": []
    },
    {
      "cell_type": "markdown",
      "metadata": {
        "id": "xYDD4Epa7xm_",
        "colab_type": "text"
      },
      "source": [
        "#### Q20 : Écrire un petit script qui remplace un élément au hasard dans une matrice de dimension NxN"
      ]
    },
    {
      "cell_type": "code",
      "metadata": {
        "id": "pwddLp-47xm_",
        "colab_type": "code",
        "colab": {}
      },
      "source": [
        ""
      ],
      "execution_count": null,
      "outputs": []
    },
    {
      "cell_type": "markdown",
      "metadata": {
        "id": "0dsRiWB07xnB",
        "colab_type": "text"
      },
      "source": [
        "#### Q21 : Considérons une matrice de dimension (5,5,3), écrire un script qui multiplie cette matrice par une matrice de dimension (5,5)"
      ]
    },
    {
      "cell_type": "code",
      "metadata": {
        "id": "ZDoyrExq7xnB",
        "colab_type": "code",
        "colab": {}
      },
      "source": [
        ""
      ],
      "execution_count": null,
      "outputs": []
    }
  ]
}