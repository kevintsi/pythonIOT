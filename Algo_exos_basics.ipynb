{
 "cells": [
  {
   "cell_type": "markdown",
   "metadata": {},
   "source": [
    "## Exercices \n",
    "### Les bases"
   ]
  },
  {
   "cell_type": "markdown",
   "metadata": {},
   "source": [
    "#### Simple échange"
   ]
  },
  {
   "cell_type": "code",
   "execution_count": null,
   "metadata": {},
   "outputs": [],
   "source": [
    "v1,v2,temp = 1,2,0\n",
    "\n",
    "print(\"v1 = \", v1, \" v2 = \", v2)\n",
    "temp = v1\n",
    "v1 = v2\n",
    "v2 = temp\n",
    "print(\"v1 = \", v1, \" v2 = \", v2)"
   ]
  },
  {
   "cell_type": "markdown",
   "metadata": {},
   "source": [
    "#### Le carré"
   ]
  },
  {
   "cell_type": "code",
   "execution_count": 3,
   "metadata": {},
   "outputs": [
    {
     "name": "stdout",
     "output_type": "stream",
     "text": [
      "Entrez un nombre : 2\n",
      "Le carré de 2 est 4\n"
     ]
    }
   ],
   "source": [
    "val1 = 0\n",
    "val1 = int(input(\"Entrez un nombre : \"))\n",
    "print(\"Le carré de {0} est {1}\".format(val1, val1*val1))"
   ]
  },
  {
   "cell_type": "markdown",
   "metadata": {},
   "source": [
    "#### Négatif positif"
   ]
  },
  {
   "cell_type": "code",
   "execution_count": 12,
   "metadata": {},
   "outputs": [
    {
     "name": "stdout",
     "output_type": "stream",
     "text": [
      "Entrer un nombre : -5\n",
      "Le nombre entré est négatif\n"
     ]
    }
   ],
   "source": [
    "val1 = 0\n",
    "val1 = input(\"Entrer un nombre : \")\n",
    "if int(val1) > 0 :\n",
    "    print(\"Le nombre entré est positif\")\n",
    "else :\n",
    "    print(\"Le nombre entré est négatif\")"
   ]
  },
  {
   "cell_type": "markdown",
   "metadata": {},
   "source": [
    "#### Produit négatif positif"
   ]
  },
  {
   "cell_type": "code",
   "execution_count": 15,
   "metadata": {},
   "outputs": [
    {
     "name": "stdout",
     "output_type": "stream",
     "text": [
      "Entrer un nombre val1 : 3\n",
      "Entrer un nombre val2 : -5\n",
      "Le produit sera négatif\n"
     ]
    }
   ],
   "source": [
    "val1 = 0\n",
    "val2 = 0\n",
    "\n",
    "val1 = int(input(\"Entrer un nombre val1 : \"))\n",
    "val2 = int(input(\"Entrer un nombre val2 : \"))\n",
    "if val1 * val2 > 0 :\n",
    "    print(\"Le produit sera positif\")\n",
    "else:\n",
    "    print(\"Le produit sera négatif\")"
   ]
  },
  {
   "cell_type": "markdown",
   "metadata": {},
   "source": [
    "#### Calcul"
   ]
  },
  {
   "cell_type": "code",
   "execution_count": 20,
   "metadata": {},
   "outputs": [
    {
     "name": "stdout",
     "output_type": "stream",
     "text": [
      "Entrer un nombre val1 : 17\n",
      "17\n",
      "18\n",
      "19\n",
      "20\n",
      "21\n",
      "22\n",
      "23\n",
      "24\n",
      "25\n",
      "26\n"
     ]
    }
   ],
   "source": [
    "val1 = 0\n",
    "i = 0\n",
    "\n",
    "val1 = int(input(\"Entrer un nombre val1 : \"))\n",
    "for i in range(10):\n",
    "    print(val1+i)"
   ]
  },
  {
   "cell_type": "markdown",
   "metadata": {},
   "source": [
    "#### Additivité"
   ]
  },
  {
   "cell_type": "code",
   "execution_count": 22,
   "metadata": {},
   "outputs": [
    {
     "name": "stdout",
     "output_type": "stream",
     "text": [
      "Entrer un nombre val1 : 5\n",
      "0\n",
      "1\n",
      "3\n",
      "6\n",
      "10\n"
     ]
    }
   ],
   "source": [
    "val1 = 0\n",
    "somme = 0\n",
    "i = 1\n",
    "\n",
    "val1 = int(input(\"Entrer un nombre val1 : \"))\n",
    "for i in range(val1):\n",
    "    somme+= i\n",
    "    print(somme)"
   ]
  },
  {
   "cell_type": "markdown",
   "metadata": {},
   "source": [
    "### Tableaux\n",
    "#### La somme"
   ]
  },
  {
   "cell_type": "code",
   "execution_count": 14,
   "metadata": {},
   "outputs": [
    {
     "name": "stdout",
     "output_type": "stream",
     "text": [
      "Taille de tab est de 3\n",
      "Somme : 6\n"
     ]
    }
   ],
   "source": [
    "tab = [1,2,3]\n",
    "print(\"Taille de tab est de {0}\".format(len(tab)))\n",
    "somme = 0\n",
    "i = 0\n",
    "\n",
    "for i in range(len(tab)) :\n",
    "    somme+= tab[i]\n",
    "\n",
    "print(\"Somme : {0}\".format(somme))"
   ]
  },
  {
   "cell_type": "markdown",
   "metadata": {},
   "source": [
    "#### La somme : retour"
   ]
  },
  {
   "cell_type": "code",
   "execution_count": 15,
   "metadata": {},
   "outputs": [
    {
     "name": "stdout",
     "output_type": "stream",
     "text": [
      "Tab3 : [1, 3, 5]\n"
     ]
    }
   ],
   "source": [
    "tab2 = [0,1,2]\n",
    "tab3 = [0,0,0]\n",
    "i = 0\n",
    "\n",
    "for i in range(len(tab)):\n",
    "    tab3[i] = tab2[i] + tab[i]\n",
    "\n",
    "print(\"Tab3 : {0}\".format(tab3))"
   ]
  },
  {
   "cell_type": "markdown",
   "metadata": {},
   "source": [
    "#### FacProduct"
   ]
  },
  {
   "cell_type": "code",
   "execution_count": 2,
   "metadata": {},
   "outputs": [
    {
     "name": "stdout",
     "output_type": "stream",
     "text": [
      "FacProduct : 8\n"
     ]
    }
   ],
   "source": [
    "def facProduct(tab : list, tab2 : list) -> float : \n",
    "    facProduct = 0\n",
    "    i = 0\n",
    "    for i in range(len(tab)):\n",
    "        facProduct += tab[i] * tab2[i]\n",
    "    return facProduct\n",
    "\n",
    "tab = [1,2,3]\n",
    "tab2 = [0,1,2]\n",
    "\n",
    "print(\"FacProduct : {0}\".format(facProduct(tab, tab2)))\n"
   ]
  },
  {
   "cell_type": "markdown",
   "metadata": {},
   "source": [
    "#### Le plus grand"
   ]
  },
  {
   "cell_type": "code",
   "execution_count": 1,
   "metadata": {},
   "outputs": [
    {
     "name": "stdout",
     "output_type": "stream",
     "text": [
      "Entrer un nombre : 6\n",
      "Entrer un nombre : 8\n",
      "Entrer un nombre : 10\n",
      "Maximum : 10\n"
     ]
    }
   ],
   "source": [
    "def getMax() -> float : \n",
    "    a = int(input(\"Entrer un nombre : \"))\n",
    "    b = int(input(\"Entrer un nombre : \"))\n",
    "    c = int(input(\"Entrer un nombre : \"))\n",
    "    tab = [a,b,c]\n",
    "    maxi =tab[0]\n",
    "    for i in range(len(tab)-1) :\n",
    "        if tab[i+1] > maxi:\n",
    "            maxi = tab[i+1]\n",
    "    return maxi\n",
    "        \n",
    "print(\"Maximum : {0}\".format(getMax()))\n",
    " \n",
    "    \n",
    "    "
   ]
  },
  {
   "cell_type": "markdown",
   "metadata": {},
   "source": [
    "### Maths\n",
    "#### Temps arrêt"
   ]
  },
  {
   "cell_type": "code",
   "execution_count": 4,
   "metadata": {},
   "outputs": [
    {
     "name": "stdout",
     "output_type": "stream",
     "text": [
      "13562028\n"
     ]
    }
   ],
   "source": [
    "def tempArret(alpha : float) -> int:\n",
    "    somme = 0\n",
    "    n = 0\n",
    "    k = 1\n",
    "    while somme < alpha:\n",
    "        somme += 1/k\n",
    "        k += 1\n",
    "    if somme > alpha:\n",
    "        n = k\n",
    "    return n\n",
    "print(tempArret(17))"
   ]
  },
  {
   "cell_type": "code",
   "execution_count": null,
   "metadata": {},
   "outputs": [],
   "source": [
    "for k in range(n):\n",
    "    for i in range(n):\n",
    "        for j in range(n):\n",
    "            "
   ]
  }
 ],
 "metadata": {
  "kernelspec": {
   "display_name": "Python 3",
   "language": "python",
   "name": "python3"
  },
  "language_info": {
   "codemirror_mode": {
    "name": "ipython",
    "version": 3
   },
   "file_extension": ".py",
   "mimetype": "text/x-python",
   "name": "python",
   "nbconvert_exporter": "python",
   "pygments_lexer": "ipython3",
   "version": "3.8.2"
  }
 },
 "nbformat": 4,
 "nbformat_minor": 4
}
