{
 "cells": [
  {
   "cell_type": "markdown",
   "metadata": {
    "colab_type": "text",
    "id": "binPN-FDOmt4"
   },
   "source": [
    "# Modèle linéaire\n",
    "\n",
    "Considérons la cas classique d'une fonction affine :\n",
    "\n",
    "$$y=ax+b$$\n",
    "\n",
    "Ici, $a$ et $b$ sont des réels. Ces deux nombres définissent entièrement la courbe et permet donc d'obtenir une relation **affine** entre $x$ et $y$. En statistique, cette relation est à la base des modèles dit **linéaires**, où une variable réponse se définit comme une somme de variables explicatives où chacune de ces dernières sont multipliés par un coefficient.\n",
    "\n",
    "\n",
    "## Modèle linéaire simple\n",
    "\n",
    "![](https://upload.wikimedia.org/wikipedia/commons/thumb/3/3a/Linear_regression.svg/438px-Linear_regression.svg.png)\n",
    "\n",
    "Dans le modèle linéaire simple (une seule variable explicative), on suppose que la variable réponse suit le modèle suivant :\n",
    "\n",
    "$$y_i=\\beta_0 + \\beta_1 x_i + \\varepsilon_i$$\n",
    "\n",
    "On remarque la ressemblance avec la fonction affine présentée ci-dessus. La différence réside dans l'existence du terme aléatoire (appelé bruit) $\\varepsilon_i$. Afin de considérer le modèle, il est nécessaire de se placer sous les hypothèses suivantes\n",
    "\n",
    "$$(\\mathcal{H}) : \\left\\{\\begin{matrix}\n",
    "\\mathbb{E}[\\varepsilon_i]=0\\\\ \n",
    "\\text{Cov}(\\varepsilon_i, \\varepsilon_j)=\\delta_{ij} \\sigma^2\n",
    "\\end{matrix}\\right.$$\n",
    "Les différents éléments qui interviennent sont :\n",
    "\n",
    "- $\\beta_0$ : l'ordonnée à l'origine (nommée *intercept*)\n",
    "- $\\beta_1$ : le coefficient directeur\n",
    "- $x_i$ : l'observation $i$\n",
    "- $y_i$ : le $i$-ème prix\n",
    "- $\\varepsilon_i$ : le bruit aléatoire liée à la $i$-ème observation\n",
    "\n",
    "La solution peut se calculer facilement via les formules fermées suivantes :\n",
    "\n",
    "$$\\hat{\\beta}_1=\\frac{\\sum_{i=1}^n (x_i - \\bar{x})(y_i - \\bar{y})}{\\sum_{i=1}^n (x_i - \\bar{x})^2} \\qquad \\hat{\\beta}_0 = \\hat{y} - \\hat{\\beta}_1 \\bar{x}$$\n",
    "\n",
    "## Modèle linéaire multiple\n",
    "\n",
    "Dans le cas multiple (pour $p$ variables explicatives), pour la $i$-ème observation, le modèle s'écrit :\n",
    "\n",
    "$$y_i= \\beta_0 + \\sum_{j=1}^p \\beta_j x_{ij} + \\varepsilon_i$$\n",
    "\n",
    "Ainsi, une observation $x_i$ n'est plus une valeur, mais un **vecteur** $(x_{i1}, \\dots, x_{ip})$. Il est plus commode de regrouper ces prix $y_i$ et ces vecteurs d'observations $x_i$ dans des matrices :\n",
    "\n",
    "$$Y=X \\beta + \\varepsilon$$\n",
    "\n",
    "Sous les hypothèses équivalentes du modèle simple en plus grand dimension\n",
    "\n",
    "$$(\\mathcal{H}) : \\left\\{\\begin{matrix}\n",
    "\\text{rank}(X)=p\\\\ \n",
    "\\mathbb{E}[\\varepsilon]=0 \\text{ et }\\text{Var}(\\varepsilon)=\\sigma^2 I_p\n",
    "\\end{matrix}\\right.$$\n",
    "\n",
    "Les différents éléments qui interviennent sont :\n",
    "\n",
    "- $\\beta$ : le vecteur directeur\n",
    "- $X$ : la matrice des observations\n",
    "- $Y$ : le vecteur de prix\n",
    "- $\\varepsilon$ : le vecteur de bruit\n",
    "\n",
    "Avec $X=( \\mathbf{1}, X_1, \\dots, X_n)$, $Y=(y_1, \\dots, y_n)^\\top$ et $\\varepsilon=(\\varepsilon_1, \\dots, \\varepsilon_n)^\\top$. La solution des MCO (Moindres Carrés Ordinaires) est alors :\n",
    "\n",
    "$$\\hat{\\beta}= (X^\\top X)^{-1} X^\\top Y$$\n",
    "\n",
    "Vous pouvez d'ailleurs faire la démonstration de votre coté ! Pour plus d'information mathématiques, le portail de wikipédia qui est très bien fait : [lien ici](https://fr.wikipedia.org/wiki/Portail:Probabilit%C3%A9s_et_statistiques)"
   ]
  },
  {
   "cell_type": "markdown",
   "metadata": {
    "colab_type": "text",
    "id": "dRQO2ydTOmuA"
   },
   "source": [
    "# Implémenter une régression linéaire \n"
   ]
  },
  {
   "cell_type": "code",
   "execution_count": 130,
   "metadata": {
    "colab": {},
    "colab_type": "code",
    "id": "ckyBi2FLOmuE"
   },
   "outputs": [],
   "source": [
    "#importer vos librairies \n",
    "import pandas as pds\n",
    "import numpy as np\n",
    "from sklearn import linear_model\n",
    "import matplotlib.pyplot as plt\n"
   ]
  },
  {
   "cell_type": "code",
   "execution_count": 131,
   "metadata": {
    "colab": {},
    "colab_type": "code",
    "id": "B6I-a12SOmud",
    "outputId": "cbe1bdef-5dda-429a-a4f9-81fc4df45794"
   },
   "outputs": [],
   "source": [
    "#charger les données \n",
    "#price_availability.csv\n",
    "#listings_final.csv\n",
    "#vérifier si tous les individus ont bien un prix\n",
    "\n",
    "df_price = pds.read_csv(\"Data/price_availability.csv\", sep=\";\")\n",
    "df_listings = pds.read_csv(\"Data/listings_final.csv\", sep=\";\", index_col=0)"
   ]
  },
  {
   "cell_type": "code",
   "execution_count": 132,
   "metadata": {},
   "outputs": [
    {
     "output_type": "execute_result",
     "data": {
      "text/plain": [
       "   listing_id         day                       created  available  \\\n",
       "0     9810829  2018-12-08  2018-09-27 06:14:10.000+0000       True   \n",
       "1     9810829  2018-12-08  2018-09-26 19:34:02.000+0000       True   \n",
       "2    20897010  2018-12-09  2018-09-27 10:38:57.000+0000       True   \n",
       "3    20897010  2018-12-09  2018-09-27 06:10:27.000+0000       True   \n",
       "4    20897010  2018-12-09  2018-09-26 19:30:25.000+0000       True   \n",
       "\n",
       "  local_currency  local_price  min_nights  \n",
       "0            EUR          160           1  \n",
       "1            EUR          160           1  \n",
       "2            EUR          172           2  \n",
       "3            EUR          172           2  \n",
       "4            EUR          172           2  "
      ],
      "text/html": "<div>\n<style scoped>\n    .dataframe tbody tr th:only-of-type {\n        vertical-align: middle;\n    }\n\n    .dataframe tbody tr th {\n        vertical-align: top;\n    }\n\n    .dataframe thead th {\n        text-align: right;\n    }\n</style>\n<table border=\"1\" class=\"dataframe\">\n  <thead>\n    <tr style=\"text-align: right;\">\n      <th></th>\n      <th>listing_id</th>\n      <th>day</th>\n      <th>created</th>\n      <th>available</th>\n      <th>local_currency</th>\n      <th>local_price</th>\n      <th>min_nights</th>\n    </tr>\n  </thead>\n  <tbody>\n    <tr>\n      <th>0</th>\n      <td>9810829</td>\n      <td>2018-12-08</td>\n      <td>2018-09-27 06:14:10.000+0000</td>\n      <td>True</td>\n      <td>EUR</td>\n      <td>160</td>\n      <td>1</td>\n    </tr>\n    <tr>\n      <th>1</th>\n      <td>9810829</td>\n      <td>2018-12-08</td>\n      <td>2018-09-26 19:34:02.000+0000</td>\n      <td>True</td>\n      <td>EUR</td>\n      <td>160</td>\n      <td>1</td>\n    </tr>\n    <tr>\n      <th>2</th>\n      <td>20897010</td>\n      <td>2018-12-09</td>\n      <td>2018-09-27 10:38:57.000+0000</td>\n      <td>True</td>\n      <td>EUR</td>\n      <td>172</td>\n      <td>2</td>\n    </tr>\n    <tr>\n      <th>3</th>\n      <td>20897010</td>\n      <td>2018-12-09</td>\n      <td>2018-09-27 06:10:27.000+0000</td>\n      <td>True</td>\n      <td>EUR</td>\n      <td>172</td>\n      <td>2</td>\n    </tr>\n    <tr>\n      <th>4</th>\n      <td>20897010</td>\n      <td>2018-12-09</td>\n      <td>2018-09-26 19:30:25.000+0000</td>\n      <td>True</td>\n      <td>EUR</td>\n      <td>172</td>\n      <td>2</td>\n    </tr>\n  </tbody>\n</table>\n</div>"
     },
     "metadata": {},
     "execution_count": 132
    }
   ],
   "source": [
    "df_price.head()"
   ]
  },
  {
   "cell_type": "code",
   "execution_count": 133,
   "metadata": {},
   "outputs": [
    {
     "output_type": "stream",
     "name": "stdout",
     "text": [
      "Number of rows without price : 0\n",
      "\n",
      "Number of rows with null values : listing_id        0\n",
      "day               0\n",
      "created           0\n",
      "available         0\n",
      "local_currency    0\n",
      "local_price       0\n",
      "min_nights        0\n",
      "dtype: int64\n"
     ]
    }
   ],
   "source": [
    "print(\"Number of rows without price : {}\\n\".format(df_price.local_price.isna().sum()))\n",
    "\n",
    "print(\"Number of rows with null values : {}\".format(df_price.isna().sum()))"
   ]
  },
  {
   "cell_type": "code",
   "execution_count": 134,
   "metadata": {},
   "outputs": [
    {
     "output_type": "execute_result",
     "data": {
      "text/plain": [
       "     listing_id                                      name          type  \\\n",
       "0      28581061                           La maison Clery  private_room   \n",
       "1        661961       studio PARIS PLACE EDITH PIAF 75020   entire_home   \n",
       "2       1261705  chambre privée à louer @ paris oberkampf  private_room   \n",
       "3       1318834            Appartement au coeur du Marais   entire_home   \n",
       "4       1677091                       Lovely & Quiet flat   entire_home   \n",
       "..          ...                                       ...           ...   \n",
       "995    28335197          Studio cosy Jardin du Luxembourg   entire_home   \n",
       "996    28583013    Charmant  30m2 - Faubourg Saint Martin   entire_home   \n",
       "997    28628316       Cosy flat in the marais - Best area   entire_home   \n",
       "998    28792796         Appartement 3 chambres madeleine.   entire_home   \n",
       "999    28682896                          Village Jourdain  private_room   \n",
       "\n",
       "      city                    neighborhood   latitude  longitude  \\\n",
       "0    Paris               2e arrondissement  48.869292   2.348335   \n",
       "1    Paris                             NaN  48.867284   2.403255   \n",
       "2    Paris                             NaN  48.867894   2.375897   \n",
       "3    Paris                      République  48.870370   2.358510   \n",
       "4    Paris    Buttes-Chaumont - Belleville  48.874149   2.373700   \n",
       "..     ...                             ...        ...        ...   \n",
       "995  Paris  Saint Germain des Prés - Odéon  48.848695   2.325857   \n",
       "996  Paris                      République  48.871623   2.358006   \n",
       "997  Paris               2e arrondissement  48.867434   2.351771   \n",
       "998  Paris             Madeleine - Vendôme  48.870109   2.321475   \n",
       "999  Paris    Buttes-Chaumont - Belleville  48.875425   2.395240   \n",
       "\n",
       "     person_capacity  beds  bedrooms  bathrooms  is_rebookable  \\\n",
       "0                  1     1         1        2.0          False   \n",
       "1                  2     1         1        1.0          False   \n",
       "2                  1     1         1        1.0          False   \n",
       "3                  3     2         2        1.0          False   \n",
       "4                  2     1         1        1.0          False   \n",
       "..               ...   ...       ...        ...            ...   \n",
       "995                2     1         0        1.0          False   \n",
       "996                3     1         1        1.0          False   \n",
       "997                4     2         1        1.0          False   \n",
       "998                6     4         2        1.5          False   \n",
       "999                2     1         1        1.0          False   \n",
       "\n",
       "     is_new_listing  is_fully_refundable  is_host_highly_rated  \\\n",
       "0              True                 True                 False   \n",
       "1             False                 True                  True   \n",
       "2             False                 True                  True   \n",
       "3             False                 True                 False   \n",
       "4             False                 True                  True   \n",
       "..              ...                  ...                   ...   \n",
       "995            True                 True                 False   \n",
       "996            True                 True                 False   \n",
       "997            True                 True                  True   \n",
       "998            True                 True                 False   \n",
       "999            True                 True                 False   \n",
       "\n",
       "     is_business_travel_ready  pricing_weekly_factor  pricing_monthly_factor  \n",
       "0                       False                   1.00                    1.00  \n",
       "1                       False                   0.88                    0.69  \n",
       "2                       False                   1.00                    1.00  \n",
       "3                       False                   0.82                    0.48  \n",
       "4                       False                   0.95                    0.90  \n",
       "..                        ...                    ...                     ...  \n",
       "995                     False                   0.79                    1.00  \n",
       "996                     False                   1.00                    1.00  \n",
       "997                     False                   1.00                    1.00  \n",
       "998                     False                   1.00                    1.00  \n",
       "999                     False                   1.00                    1.00  \n",
       "\n",
       "[1000 rows x 18 columns]"
      ],
      "text/html": "<div>\n<style scoped>\n    .dataframe tbody tr th:only-of-type {\n        vertical-align: middle;\n    }\n\n    .dataframe tbody tr th {\n        vertical-align: top;\n    }\n\n    .dataframe thead th {\n        text-align: right;\n    }\n</style>\n<table border=\"1\" class=\"dataframe\">\n  <thead>\n    <tr style=\"text-align: right;\">\n      <th></th>\n      <th>listing_id</th>\n      <th>name</th>\n      <th>type</th>\n      <th>city</th>\n      <th>neighborhood</th>\n      <th>latitude</th>\n      <th>longitude</th>\n      <th>person_capacity</th>\n      <th>beds</th>\n      <th>bedrooms</th>\n      <th>bathrooms</th>\n      <th>is_rebookable</th>\n      <th>is_new_listing</th>\n      <th>is_fully_refundable</th>\n      <th>is_host_highly_rated</th>\n      <th>is_business_travel_ready</th>\n      <th>pricing_weekly_factor</th>\n      <th>pricing_monthly_factor</th>\n    </tr>\n  </thead>\n  <tbody>\n    <tr>\n      <th>0</th>\n      <td>28581061</td>\n      <td>La maison Clery</td>\n      <td>private_room</td>\n      <td>Paris</td>\n      <td>2e arrondissement</td>\n      <td>48.869292</td>\n      <td>2.348335</td>\n      <td>1</td>\n      <td>1</td>\n      <td>1</td>\n      <td>2.0</td>\n      <td>False</td>\n      <td>True</td>\n      <td>True</td>\n      <td>False</td>\n      <td>False</td>\n      <td>1.00</td>\n      <td>1.00</td>\n    </tr>\n    <tr>\n      <th>1</th>\n      <td>661961</td>\n      <td>studio PARIS PLACE EDITH PIAF 75020</td>\n      <td>entire_home</td>\n      <td>Paris</td>\n      <td>NaN</td>\n      <td>48.867284</td>\n      <td>2.403255</td>\n      <td>2</td>\n      <td>1</td>\n      <td>1</td>\n      <td>1.0</td>\n      <td>False</td>\n      <td>False</td>\n      <td>True</td>\n      <td>True</td>\n      <td>False</td>\n      <td>0.88</td>\n      <td>0.69</td>\n    </tr>\n    <tr>\n      <th>2</th>\n      <td>1261705</td>\n      <td>chambre privée à louer @ paris oberkampf</td>\n      <td>private_room</td>\n      <td>Paris</td>\n      <td>NaN</td>\n      <td>48.867894</td>\n      <td>2.375897</td>\n      <td>1</td>\n      <td>1</td>\n      <td>1</td>\n      <td>1.0</td>\n      <td>False</td>\n      <td>False</td>\n      <td>True</td>\n      <td>True</td>\n      <td>False</td>\n      <td>1.00</td>\n      <td>1.00</td>\n    </tr>\n    <tr>\n      <th>3</th>\n      <td>1318834</td>\n      <td>Appartement au coeur du Marais</td>\n      <td>entire_home</td>\n      <td>Paris</td>\n      <td>République</td>\n      <td>48.870370</td>\n      <td>2.358510</td>\n      <td>3</td>\n      <td>2</td>\n      <td>2</td>\n      <td>1.0</td>\n      <td>False</td>\n      <td>False</td>\n      <td>True</td>\n      <td>False</td>\n      <td>False</td>\n      <td>0.82</td>\n      <td>0.48</td>\n    </tr>\n    <tr>\n      <th>4</th>\n      <td>1677091</td>\n      <td>Lovely &amp; Quiet flat</td>\n      <td>entire_home</td>\n      <td>Paris</td>\n      <td>Buttes-Chaumont - Belleville</td>\n      <td>48.874149</td>\n      <td>2.373700</td>\n      <td>2</td>\n      <td>1</td>\n      <td>1</td>\n      <td>1.0</td>\n      <td>False</td>\n      <td>False</td>\n      <td>True</td>\n      <td>True</td>\n      <td>False</td>\n      <td>0.95</td>\n      <td>0.90</td>\n    </tr>\n    <tr>\n      <th>...</th>\n      <td>...</td>\n      <td>...</td>\n      <td>...</td>\n      <td>...</td>\n      <td>...</td>\n      <td>...</td>\n      <td>...</td>\n      <td>...</td>\n      <td>...</td>\n      <td>...</td>\n      <td>...</td>\n      <td>...</td>\n      <td>...</td>\n      <td>...</td>\n      <td>...</td>\n      <td>...</td>\n      <td>...</td>\n      <td>...</td>\n    </tr>\n    <tr>\n      <th>995</th>\n      <td>28335197</td>\n      <td>Studio cosy Jardin du Luxembourg</td>\n      <td>entire_home</td>\n      <td>Paris</td>\n      <td>Saint Germain des Prés - Odéon</td>\n      <td>48.848695</td>\n      <td>2.325857</td>\n      <td>2</td>\n      <td>1</td>\n      <td>0</td>\n      <td>1.0</td>\n      <td>False</td>\n      <td>True</td>\n      <td>True</td>\n      <td>False</td>\n      <td>False</td>\n      <td>0.79</td>\n      <td>1.00</td>\n    </tr>\n    <tr>\n      <th>996</th>\n      <td>28583013</td>\n      <td>Charmant  30m2 - Faubourg Saint Martin</td>\n      <td>entire_home</td>\n      <td>Paris</td>\n      <td>République</td>\n      <td>48.871623</td>\n      <td>2.358006</td>\n      <td>3</td>\n      <td>1</td>\n      <td>1</td>\n      <td>1.0</td>\n      <td>False</td>\n      <td>True</td>\n      <td>True</td>\n      <td>False</td>\n      <td>False</td>\n      <td>1.00</td>\n      <td>1.00</td>\n    </tr>\n    <tr>\n      <th>997</th>\n      <td>28628316</td>\n      <td>Cosy flat in the marais - Best area</td>\n      <td>entire_home</td>\n      <td>Paris</td>\n      <td>2e arrondissement</td>\n      <td>48.867434</td>\n      <td>2.351771</td>\n      <td>4</td>\n      <td>2</td>\n      <td>1</td>\n      <td>1.0</td>\n      <td>False</td>\n      <td>True</td>\n      <td>True</td>\n      <td>True</td>\n      <td>False</td>\n      <td>1.00</td>\n      <td>1.00</td>\n    </tr>\n    <tr>\n      <th>998</th>\n      <td>28792796</td>\n      <td>Appartement 3 chambres madeleine.</td>\n      <td>entire_home</td>\n      <td>Paris</td>\n      <td>Madeleine - Vendôme</td>\n      <td>48.870109</td>\n      <td>2.321475</td>\n      <td>6</td>\n      <td>4</td>\n      <td>2</td>\n      <td>1.5</td>\n      <td>False</td>\n      <td>True</td>\n      <td>True</td>\n      <td>False</td>\n      <td>False</td>\n      <td>1.00</td>\n      <td>1.00</td>\n    </tr>\n    <tr>\n      <th>999</th>\n      <td>28682896</td>\n      <td>Village Jourdain</td>\n      <td>private_room</td>\n      <td>Paris</td>\n      <td>Buttes-Chaumont - Belleville</td>\n      <td>48.875425</td>\n      <td>2.395240</td>\n      <td>2</td>\n      <td>1</td>\n      <td>1</td>\n      <td>1.0</td>\n      <td>False</td>\n      <td>True</td>\n      <td>True</td>\n      <td>False</td>\n      <td>False</td>\n      <td>1.00</td>\n      <td>1.00</td>\n    </tr>\n  </tbody>\n</table>\n<p>1000 rows × 18 columns</p>\n</div>"
     },
     "metadata": {},
     "execution_count": 134
    }
   ],
   "source": [
    "df_listings"
   ]
  },
  {
   "cell_type": "code",
   "execution_count": 135,
   "metadata": {},
   "outputs": [
    {
     "output_type": "stream",
     "name": "stdout",
     "text": [
      "Total lines : 1000 \nNumber of unique line : 1000 \n"
     ]
    }
   ],
   "source": [
    "print(\"Total lines : {} \".format(df_listings.listing_id.count()))\n",
    "print(\"Number of unique line : {} \".format(df_listings.listing_id.nunique()))"
   ]
  },
  {
   "cell_type": "code",
   "execution_count": 136,
   "metadata": {},
   "outputs": [
    {
     "output_type": "execute_result",
     "data": {
      "text/plain": [
       "                  mean\n",
       "listing_id            \n",
       "5396        102.363985\n",
       "7397        110.107632\n",
       "9342        396.863014\n",
       "10010       136.154856\n",
       "10270       105.779221\n",
       "...                ...\n",
       "28836096    321.428571\n",
       "28838519     54.483333\n",
       "28840013    112.122530\n",
       "28846494    168.037594\n",
       "28851976    128.000000\n",
       "\n",
       "[11749 rows x 1 columns]"
      ],
      "text/html": "<div>\n<style scoped>\n    .dataframe tbody tr th:only-of-type {\n        vertical-align: middle;\n    }\n\n    .dataframe tbody tr th {\n        vertical-align: top;\n    }\n\n    .dataframe thead th {\n        text-align: right;\n    }\n</style>\n<table border=\"1\" class=\"dataframe\">\n  <thead>\n    <tr style=\"text-align: right;\">\n      <th></th>\n      <th>mean</th>\n    </tr>\n    <tr>\n      <th>listing_id</th>\n      <th></th>\n    </tr>\n  </thead>\n  <tbody>\n    <tr>\n      <th>5396</th>\n      <td>102.363985</td>\n    </tr>\n    <tr>\n      <th>7397</th>\n      <td>110.107632</td>\n    </tr>\n    <tr>\n      <th>9342</th>\n      <td>396.863014</td>\n    </tr>\n    <tr>\n      <th>10010</th>\n      <td>136.154856</td>\n    </tr>\n    <tr>\n      <th>10270</th>\n      <td>105.779221</td>\n    </tr>\n    <tr>\n      <th>...</th>\n      <td>...</td>\n    </tr>\n    <tr>\n      <th>28836096</th>\n      <td>321.428571</td>\n    </tr>\n    <tr>\n      <th>28838519</th>\n      <td>54.483333</td>\n    </tr>\n    <tr>\n      <th>28840013</th>\n      <td>112.122530</td>\n    </tr>\n    <tr>\n      <th>28846494</th>\n      <td>168.037594</td>\n    </tr>\n    <tr>\n      <th>28851976</th>\n      <td>128.000000</td>\n    </tr>\n  </tbody>\n</table>\n<p>11749 rows × 1 columns</p>\n</div>"
     },
     "metadata": {},
     "execution_count": 136
    }
   ],
   "source": [
    "df_mean = df_price.groupby(\"listing_id\")[\"local_price\"].agg([np.mean])\n",
    "\n",
    "df_mean"
   ]
  },
  {
   "cell_type": "code",
   "execution_count": 137,
   "metadata": {},
   "outputs": [],
   "source": [
    "df_mean.rename(columns={\"mean\" : \"mean_price\"}, inplace=True)"
   ]
  },
  {
   "cell_type": "code",
   "execution_count": 138,
   "metadata": {},
   "outputs": [
    {
     "output_type": "execute_result",
     "data": {
      "text/plain": [
       "     listing_id                                      name          type  \\\n",
       "0      28581061                           La maison Clery  private_room   \n",
       "1        661961       studio PARIS PLACE EDITH PIAF 75020   entire_home   \n",
       "2       1261705  chambre privée à louer @ paris oberkampf  private_room   \n",
       "3       1318834            Appartement au coeur du Marais   entire_home   \n",
       "4       1677091                       Lovely & Quiet flat   entire_home   \n",
       "..          ...                                       ...           ...   \n",
       "994    28335197          Studio cosy Jardin du Luxembourg   entire_home   \n",
       "995    28583013    Charmant  30m2 - Faubourg Saint Martin   entire_home   \n",
       "996    28628316       Cosy flat in the marais - Best area   entire_home   \n",
       "997    28792796         Appartement 3 chambres madeleine.   entire_home   \n",
       "998    28682896                          Village Jourdain  private_room   \n",
       "\n",
       "      city                    neighborhood   latitude  longitude  \\\n",
       "0    Paris               2e arrondissement  48.869292   2.348335   \n",
       "1    Paris                             NaN  48.867284   2.403255   \n",
       "2    Paris                             NaN  48.867894   2.375897   \n",
       "3    Paris                      République  48.870370   2.358510   \n",
       "4    Paris    Buttes-Chaumont - Belleville  48.874149   2.373700   \n",
       "..     ...                             ...        ...        ...   \n",
       "994  Paris  Saint Germain des Prés - Odéon  48.848695   2.325857   \n",
       "995  Paris                      République  48.871623   2.358006   \n",
       "996  Paris               2e arrondissement  48.867434   2.351771   \n",
       "997  Paris             Madeleine - Vendôme  48.870109   2.321475   \n",
       "998  Paris    Buttes-Chaumont - Belleville  48.875425   2.395240   \n",
       "\n",
       "     person_capacity  beds  bedrooms  bathrooms  is_rebookable  \\\n",
       "0                  1     1         1        2.0          False   \n",
       "1                  2     1         1        1.0          False   \n",
       "2                  1     1         1        1.0          False   \n",
       "3                  3     2         2        1.0          False   \n",
       "4                  2     1         1        1.0          False   \n",
       "..               ...   ...       ...        ...            ...   \n",
       "994                2     1         0        1.0          False   \n",
       "995                3     1         1        1.0          False   \n",
       "996                4     2         1        1.0          False   \n",
       "997                6     4         2        1.5          False   \n",
       "998                2     1         1        1.0          False   \n",
       "\n",
       "     is_new_listing  is_fully_refundable  is_host_highly_rated  \\\n",
       "0              True                 True                 False   \n",
       "1             False                 True                  True   \n",
       "2             False                 True                  True   \n",
       "3             False                 True                 False   \n",
       "4             False                 True                  True   \n",
       "..              ...                  ...                   ...   \n",
       "994            True                 True                 False   \n",
       "995            True                 True                 False   \n",
       "996            True                 True                  True   \n",
       "997            True                 True                 False   \n",
       "998            True                 True                 False   \n",
       "\n",
       "     is_business_travel_ready  pricing_weekly_factor  pricing_monthly_factor  \\\n",
       "0                       False                   1.00                    1.00   \n",
       "1                       False                   0.88                    0.69   \n",
       "2                       False                   1.00                    1.00   \n",
       "3                       False                   0.82                    0.48   \n",
       "4                       False                   0.95                    0.90   \n",
       "..                        ...                    ...                     ...   \n",
       "994                     False                   0.79                    1.00   \n",
       "995                     False                   1.00                    1.00   \n",
       "996                     False                   1.00                    1.00   \n",
       "997                     False                   1.00                    1.00   \n",
       "998                     False                   1.00                    1.00   \n",
       "\n",
       "     mean_price  \n",
       "0     45.948454  \n",
       "1     44.473684  \n",
       "2     49.000000  \n",
       "3    165.000000  \n",
       "4     69.774436  \n",
       "..          ...  \n",
       "994   38.507732  \n",
       "995  147.752551  \n",
       "996  152.860825  \n",
       "997   49.184211  \n",
       "998   39.503937  \n",
       "\n",
       "[999 rows x 19 columns]"
      ],
      "text/html": "<div>\n<style scoped>\n    .dataframe tbody tr th:only-of-type {\n        vertical-align: middle;\n    }\n\n    .dataframe tbody tr th {\n        vertical-align: top;\n    }\n\n    .dataframe thead th {\n        text-align: right;\n    }\n</style>\n<table border=\"1\" class=\"dataframe\">\n  <thead>\n    <tr style=\"text-align: right;\">\n      <th></th>\n      <th>listing_id</th>\n      <th>name</th>\n      <th>type</th>\n      <th>city</th>\n      <th>neighborhood</th>\n      <th>latitude</th>\n      <th>longitude</th>\n      <th>person_capacity</th>\n      <th>beds</th>\n      <th>bedrooms</th>\n      <th>bathrooms</th>\n      <th>is_rebookable</th>\n      <th>is_new_listing</th>\n      <th>is_fully_refundable</th>\n      <th>is_host_highly_rated</th>\n      <th>is_business_travel_ready</th>\n      <th>pricing_weekly_factor</th>\n      <th>pricing_monthly_factor</th>\n      <th>mean_price</th>\n    </tr>\n  </thead>\n  <tbody>\n    <tr>\n      <th>0</th>\n      <td>28581061</td>\n      <td>La maison Clery</td>\n      <td>private_room</td>\n      <td>Paris</td>\n      <td>2e arrondissement</td>\n      <td>48.869292</td>\n      <td>2.348335</td>\n      <td>1</td>\n      <td>1</td>\n      <td>1</td>\n      <td>2.0</td>\n      <td>False</td>\n      <td>True</td>\n      <td>True</td>\n      <td>False</td>\n      <td>False</td>\n      <td>1.00</td>\n      <td>1.00</td>\n      <td>45.948454</td>\n    </tr>\n    <tr>\n      <th>1</th>\n      <td>661961</td>\n      <td>studio PARIS PLACE EDITH PIAF 75020</td>\n      <td>entire_home</td>\n      <td>Paris</td>\n      <td>NaN</td>\n      <td>48.867284</td>\n      <td>2.403255</td>\n      <td>2</td>\n      <td>1</td>\n      <td>1</td>\n      <td>1.0</td>\n      <td>False</td>\n      <td>False</td>\n      <td>True</td>\n      <td>True</td>\n      <td>False</td>\n      <td>0.88</td>\n      <td>0.69</td>\n      <td>44.473684</td>\n    </tr>\n    <tr>\n      <th>2</th>\n      <td>1261705</td>\n      <td>chambre privée à louer @ paris oberkampf</td>\n      <td>private_room</td>\n      <td>Paris</td>\n      <td>NaN</td>\n      <td>48.867894</td>\n      <td>2.375897</td>\n      <td>1</td>\n      <td>1</td>\n      <td>1</td>\n      <td>1.0</td>\n      <td>False</td>\n      <td>False</td>\n      <td>True</td>\n      <td>True</td>\n      <td>False</td>\n      <td>1.00</td>\n      <td>1.00</td>\n      <td>49.000000</td>\n    </tr>\n    <tr>\n      <th>3</th>\n      <td>1318834</td>\n      <td>Appartement au coeur du Marais</td>\n      <td>entire_home</td>\n      <td>Paris</td>\n      <td>République</td>\n      <td>48.870370</td>\n      <td>2.358510</td>\n      <td>3</td>\n      <td>2</td>\n      <td>2</td>\n      <td>1.0</td>\n      <td>False</td>\n      <td>False</td>\n      <td>True</td>\n      <td>False</td>\n      <td>False</td>\n      <td>0.82</td>\n      <td>0.48</td>\n      <td>165.000000</td>\n    </tr>\n    <tr>\n      <th>4</th>\n      <td>1677091</td>\n      <td>Lovely &amp; Quiet flat</td>\n      <td>entire_home</td>\n      <td>Paris</td>\n      <td>Buttes-Chaumont - Belleville</td>\n      <td>48.874149</td>\n      <td>2.373700</td>\n      <td>2</td>\n      <td>1</td>\n      <td>1</td>\n      <td>1.0</td>\n      <td>False</td>\n      <td>False</td>\n      <td>True</td>\n      <td>True</td>\n      <td>False</td>\n      <td>0.95</td>\n      <td>0.90</td>\n      <td>69.774436</td>\n    </tr>\n    <tr>\n      <th>...</th>\n      <td>...</td>\n      <td>...</td>\n      <td>...</td>\n      <td>...</td>\n      <td>...</td>\n      <td>...</td>\n      <td>...</td>\n      <td>...</td>\n      <td>...</td>\n      <td>...</td>\n      <td>...</td>\n      <td>...</td>\n      <td>...</td>\n      <td>...</td>\n      <td>...</td>\n      <td>...</td>\n      <td>...</td>\n      <td>...</td>\n      <td>...</td>\n    </tr>\n    <tr>\n      <th>994</th>\n      <td>28335197</td>\n      <td>Studio cosy Jardin du Luxembourg</td>\n      <td>entire_home</td>\n      <td>Paris</td>\n      <td>Saint Germain des Prés - Odéon</td>\n      <td>48.848695</td>\n      <td>2.325857</td>\n      <td>2</td>\n      <td>1</td>\n      <td>0</td>\n      <td>1.0</td>\n      <td>False</td>\n      <td>True</td>\n      <td>True</td>\n      <td>False</td>\n      <td>False</td>\n      <td>0.79</td>\n      <td>1.00</td>\n      <td>38.507732</td>\n    </tr>\n    <tr>\n      <th>995</th>\n      <td>28583013</td>\n      <td>Charmant  30m2 - Faubourg Saint Martin</td>\n      <td>entire_home</td>\n      <td>Paris</td>\n      <td>République</td>\n      <td>48.871623</td>\n      <td>2.358006</td>\n      <td>3</td>\n      <td>1</td>\n      <td>1</td>\n      <td>1.0</td>\n      <td>False</td>\n      <td>True</td>\n      <td>True</td>\n      <td>False</td>\n      <td>False</td>\n      <td>1.00</td>\n      <td>1.00</td>\n      <td>147.752551</td>\n    </tr>\n    <tr>\n      <th>996</th>\n      <td>28628316</td>\n      <td>Cosy flat in the marais - Best area</td>\n      <td>entire_home</td>\n      <td>Paris</td>\n      <td>2e arrondissement</td>\n      <td>48.867434</td>\n      <td>2.351771</td>\n      <td>4</td>\n      <td>2</td>\n      <td>1</td>\n      <td>1.0</td>\n      <td>False</td>\n      <td>True</td>\n      <td>True</td>\n      <td>True</td>\n      <td>False</td>\n      <td>1.00</td>\n      <td>1.00</td>\n      <td>152.860825</td>\n    </tr>\n    <tr>\n      <th>997</th>\n      <td>28792796</td>\n      <td>Appartement 3 chambres madeleine.</td>\n      <td>entire_home</td>\n      <td>Paris</td>\n      <td>Madeleine - Vendôme</td>\n      <td>48.870109</td>\n      <td>2.321475</td>\n      <td>6</td>\n      <td>4</td>\n      <td>2</td>\n      <td>1.5</td>\n      <td>False</td>\n      <td>True</td>\n      <td>True</td>\n      <td>False</td>\n      <td>False</td>\n      <td>1.00</td>\n      <td>1.00</td>\n      <td>49.184211</td>\n    </tr>\n    <tr>\n      <th>998</th>\n      <td>28682896</td>\n      <td>Village Jourdain</td>\n      <td>private_room</td>\n      <td>Paris</td>\n      <td>Buttes-Chaumont - Belleville</td>\n      <td>48.875425</td>\n      <td>2.395240</td>\n      <td>2</td>\n      <td>1</td>\n      <td>1</td>\n      <td>1.0</td>\n      <td>False</td>\n      <td>True</td>\n      <td>True</td>\n      <td>False</td>\n      <td>False</td>\n      <td>1.00</td>\n      <td>1.00</td>\n      <td>39.503937</td>\n    </tr>\n  </tbody>\n</table>\n<p>999 rows × 19 columns</p>\n</div>"
     },
     "metadata": {},
     "execution_count": 138
    }
   ],
   "source": [
    "df_merge = pds.merge(df_listings, df_mean, how=\"inner\", on=\"listing_id\")\n",
    "\n",
    "df_merge.shape\n",
    "\n",
    "df_merge"
   ]
  },
  {
   "cell_type": "markdown",
   "metadata": {
    "colab_type": "text",
    "id": "XT3LsnvVOmut"
   },
   "source": [
    "## Données d'entrée"
   ]
  },
  {
   "cell_type": "markdown",
   "metadata": {
    "colab_type": "text",
    "id": "T8DTTFEKOmu0"
   },
   "source": [
    "L'objectif ici est de charger les données pour créer les matrices $X$ et $Y$ du modèle linéaire. **Attention**, il n'est pas nécessaire de rajouter le vecteur colonne $\\mathbf{1}$ en première colonne, car *scikit-learn* le fait automatiquement !"
   ]
  },
  {
   "cell_type": "code",
   "execution_count": 139,
   "metadata": {
    "colab": {},
    "colab_type": "code",
    "id": "tnTd7XKdOmu5"
   },
   "outputs": [],
   "source": [
    "#définir 2 variables de travail\n",
    "#X := les features à utiliser \n",
    "#Y := la target (prix) \n",
    "x = df_merge[[\"person_capacity\", \"beds\", \"bedrooms\", \"bathrooms\"]] \n",
    "y = df_merge[\"mean_price\"]"
   ]
  },
  {
   "cell_type": "code",
   "execution_count": 140,
   "metadata": {
    "colab": {},
    "colab_type": "code",
    "id": "E_zalIbpOmvI"
   },
   "outputs": [
    {
     "output_type": "execute_result",
     "data": {
      "text/plain": [
       "0       45.948454\n",
       "1       44.473684\n",
       "2       49.000000\n",
       "3      165.000000\n",
       "4       69.774436\n",
       "          ...    \n",
       "994     38.507732\n",
       "995    147.752551\n",
       "996    152.860825\n",
       "997     49.184211\n",
       "998     39.503937\n",
       "Name: mean_price, Length: 999, dtype: float64"
      ]
     },
     "metadata": {},
     "execution_count": 140
    }
   ],
   "source": [
    "#construire l'ensemble de donnée prix \n",
    "#\n",
    "#    INDICE \n",
    "# \n",
    "# récupérer les prix des ID dans le dataset de prix \n",
    "# 🚧 il y a plusieurs prix dans le dataset 🚧\n",
    "\n",
    "y"
   ]
  },
  {
   "cell_type": "markdown",
   "metadata": {
    "colab_type": "text",
    "id": "z1ckoHuzOmvW"
   },
   "source": [
    "En *Machine Learning*, on a l'habitude de couper l'ensemble de données en deux sous-ensembles :\n",
    "\n",
    "- Un ensemble d'entraînement (*train set*), sur lequel le modèle va être calibré.\n",
    "- Un ensemble de test (*test set*), qui ne sera pas utilisé pendant le calibrage mais permettra de vérifier l'aptitude du modèle à généraliser sur de nouvelles observations inconnues.\n",
    "\n",
    "En général, on découpe l'ensemble de données (*split*) en prenant $\\alpha \\%$ de l'ensemble pour entraînement et $1-\\alpha \\%$ comme test. Dans la plus part des cas, on considère que $\\alpha=10,20 ou 30\\%$."
   ]
  },
  {
   "cell_type": "code",
   "execution_count": 141,
   "metadata": {},
   "outputs": [],
   "source": [
    "#utiliser la méthode split de sklearn en splitant avec un alpha=30 et un random state=42 \n",
    "#zafficher la shape de vos données \n",
    "\n",
    "from sklearn.model_selection import train_test_split\n",
    "\n",
    "X_train, X_test, y_train, y_test = train_test_split(x, y, test_size=0.3, random_state=42)\n"
   ]
  },
  {
   "cell_type": "code",
   "execution_count": 142,
   "metadata": {},
   "outputs": [
    {
     "output_type": "execute_result",
     "data": {
      "text/plain": [
       "((699, 4), (699,), (300, 4), (300,))"
      ]
     },
     "metadata": {},
     "execution_count": 142
    }
   ],
   "source": [
    "(X_train.shape,y_train.shape, X_test.shape, y_test.shape)"
   ]
  },
  {
   "cell_type": "markdown",
   "metadata": {
    "colab_type": "text",
    "id": "szd_JPzXOmvq"
   },
   "source": [
    "## Entraînement"
   ]
  },
  {
   "cell_type": "markdown",
   "metadata": {
    "colab_type": "text",
    "id": "1e4cfWxoOmvr"
   },
   "source": [
    "Pour information, *scikit-learn* utilise le solveur OLS (Ordinary Least Squares) de *numpy*."
   ]
  },
  {
   "cell_type": "code",
   "execution_count": 154,
   "metadata": {
    "colab": {},
    "colab_type": "code",
    "id": "TrS4fboZOmvu",
    "outputId": "9a26f504-379b-45b3-b498-8b37befc4e30"
   },
   "outputs": [
    {
     "output_type": "stream",
     "name": "stdout",
     "text": [
      "     person_capacity  beds  bedrooms  bathrooms\n728                6     3         2        2.0\n630                2     1         1        1.0\n394                7     4         2        2.0\n777                2     1         1        1.0\n598                4     2         1        1.0\n..               ...   ...       ...        ...\n106                6     3         3        1.5\n270                2     1         0        1.0\n860                2     1         1        1.0\n435                4     2         0        1.0\n102                5     4         3        2.0\n\n[699 rows x 4 columns]\n     person_capacity  beds  bedrooms  bathrooms\n453                2     1         1        1.0\n793                2     2         1        1.0\n209                2     1         0        1.0\n309                1     1         1        1.0\n740                5     3         2        1.0\n..               ...   ...       ...        ...\n314                8     3         3        2.5\n404                7     4         3        2.0\n7                  2     2         1        1.0\n155                2     1         0        1.0\n809                9     4         4        3.0\n\n[300 rows x 4 columns]\n[123.52209138 102.04062793 103.31200929  85.24040396 215.61430884\n 160.53239745 537.84588489  81.83054584 363.01667945 223.05930333\n 120.11223326 593.37703034 141.59369671 235.82439093 103.31200929\n 123.52209138  81.83054584 177.33262142 407.24373825 769.69860944\n 609.95626201 200.08546622 198.81408487  81.83054584 103.31200929\n 173.92276331 167.97739193 200.08546622 120.11223326  85.24040396\n  85.24040396 221.78792197 103.31200929 750.95677774 415.55582814\n 266.24322252 103.31200929 407.47198    123.52209138 202.84922124\n 140.32231535  65.03032187 200.08546622 249.44299855 341.53521601\n 123.52209138 103.31200929 178.60400278 123.52209138 123.52209138\n 123.52209138 140.32231535 198.81408487 103.31200929 274.10607835\n 178.60400278 243.26938542 157.12253933 216.8856902   60.3490824\n 102.04062793 167.97739193 123.52209138 232.41453282 164.56753381\n 496.3825811  123.52209138 123.52209138 221.78792197 324.73499203\n 221.78792197 395.34574605 158.39392069 177.33262142 178.60400278\n 425.31534358 161.8037788  103.31200929 123.52209138 103.31200929\n 260.06960939 103.31200929 260.06960939 123.52209138 258.15212494\n 123.52209138 178.60400278  65.03032187 178.60400278 198.81408487\n 342.80659736  85.24040396 232.41453282  40.78510341 103.31200929\n 103.31200929 123.52209138 158.39392069 140.32231535 221.78792197\n 200.08546622 178.60400278 287.72468597 103.31200929 178.60400278\n 102.04062793  85.24040396 198.81408487 103.31200929 178.60400278\n 237.09577229 244.54076677 321.32513392  85.24040396 123.52209138\n 161.8037788   65.03032187 584.21142045 475.94425726 123.52209138\n 287.72468597 474.90111766 140.32231535 103.31200929 198.81408487\n 158.39392069 177.33262142  85.24040396 379.81690343 123.52209138\n 160.53239745 103.31200929 363.01667945 335.58259519 102.04062793\n 451.92728055 123.52209138 140.32231535 123.52209138 223.05930333\n 123.52209138 103.31200929 103.31200929 253.89599626 123.52209138\n 528.49065539 123.52209138  85.24040396 342.80659736 123.52209138\n 184.7776159  179.87538413 284.31482785 123.52209138 326.00637339\n 178.60400278 172.65138195 123.52209138 658.19433391 123.52209138\n 287.72468597 178.60400278 198.81408487 103.31200929  65.03032187\n 123.52209138 103.31200929 253.89599626 292.17768368 160.53239745\n 235.82439093 364.28806081 123.52209138 103.31200929 103.31200929\n 123.52209138 183.28524224 103.31200929 140.32231535 238.36715364\n 192.86146404  85.24040396 161.8037788  178.60400278 103.31200929\n 198.81408487 194.1328454  430.44581711 243.26938542 178.60400278\n 102.04062793 103.31200929 167.97739193 103.31200929 336.85397654\n  58.85670874 177.33262142 198.81408487 275.59845202 123.52209138\n  85.24040396 290.90630233 178.60400278 361.52430579 103.31200929\n 103.31200929 123.52209138 178.60400278 103.31200929 198.81408487\n 123.52209138 140.32231535 123.52209138 260.06960939 215.61430884\n 123.52209138 140.32231535 178.60400278 158.39392069 140.32231535\n 103.31200929 123.52209138 103.31200929 123.52209138 198.81408487\n 103.31200929 123.52209138 123.52209138 123.52209138 354.92558187\n 123.52209138 102.04062793 223.05930333 451.92003111 178.60400278\n 178.60400278 160.53239745 198.81408487 332.17998652 102.04062793\n 232.41453282 178.60400278 103.31200929 160.53239745 167.97739193\n 123.52209138 200.08546622 418.09859085 198.81408487 253.89599626\n 158.39392069 123.52209138 123.52209138 140.32231535  85.24040396\n 281.77206514 120.11223326 140.32231535 178.60400278 140.32231535\n 178.60400278 324.73499203 178.60400278 118.84085191 233.68591417\n 103.31200929 431.48895671 161.8037788  123.52209138 223.05930333\n 379.81690343 221.56692966 252.62461491 198.81408487 178.60400278\n 123.52209138 103.31200929 253.89599626 158.39392069 103.31200929\n 249.2147568  178.60400278 103.31200929  65.03032187 178.60400278\n 161.8037788  200.08546622 200.08546622 123.52209138 215.61430884\n 103.31200929 123.52209138 177.33262142 253.89599626 123.52209138\n 484.03535484 379.81690343 102.04062793 103.31200929 565.50096146]\n"
     ]
    }
   ],
   "source": [
    "#créer l'objet de régression et entrainer le sur notre ensemble d'entraînement\n",
    "from sklearn.linear_model import LinearRegression\n",
    "\n",
    "reg = LinearRegression()\n",
    "\n",
    "reg.fit(X_train, y_train)\n",
    "\n",
    "print(X_train)\n",
    "\n",
    "print(X_test)\n",
    "\n",
    "print(reg.predict(X_test))"
   ]
  },
  {
   "cell_type": "markdown",
   "metadata": {
    "colab_type": "text",
    "id": "40mJxNwhOmv5"
   },
   "source": [
    "On affiche le vecteur des coefficients pour interpréter rapidement le modèle."
   ]
  },
  {
   "cell_type": "code",
   "execution_count": 157,
   "metadata": {
    "colab": {},
    "colab_type": "code",
    "id": "uUjLZYBEOmv7",
    "outputId": "3ac3800a-e028-46d6-e367-f64e1232d3bc"
   },
   "outputs": [
    {
     "output_type": "stream",
     "name": "stdout",
     "text": [
      "Coef : [ 38.28168742 -21.48146344  20.21008209  88.9106011 ]\nMinimum : -40.680503208889576\nCoef accurancy : 46.1515323314056 %\n"
     ]
    }
   ],
   "source": [
    "#afficher les coefficients\n",
    "#que remarquez vous ?\n",
    " \n",
    "print(\"Coef :\", reg.coef_)\n",
    "print(\"Minimum :\", reg.intercept_)\n",
    "print(\"Coef accurancy : {} %\".format(reg.score(X_test, y_test)*100))\n"
   ]
  },
  {
   "cell_type": "markdown",
   "metadata": {
    "colab_type": "text",
    "id": "nt4z_sh4OmwI"
   },
   "source": [
    "## Validation du modèle\n",
    "\n",
    "### Le coefficient de détermination $R^2$\n",
    "\n",
    "Par la suite, nous ferons l'hypothèse de gaussianité sur les bruits. Dans l'idée, nous aimerions obtenir une valeur numérique qui nous indique à quel point la régression linéaire a un sens sur nos données. Pour cela, introduisons les notations suivantes :\n",
    "\n",
    "- $SCT=\\|Y-\\hat{y} \\mathbf{1}\\|^2$ est la somme des carrés totaux\n",
    "- $SCE=\\|\\hat{Y}-\\hat{y} \\mathbf{1}\\|^2$ est la somme des carrés expliqués\n",
    "- $SCR=\\|\\hat{\\varepsilon}\\|^2$ est la somme des carrés résiduels\n",
    "\n",
    "L'idée est de décomposer la somme des carrés totaux comme la somme des carrés que le modèle explique, en plus de la somme des carrés qui sont liés aux résidus (et donc que le modèle ne peut pas expliquer). On voit donc ici l'intérêt de calculer un coefficient à partir du $SCE$. Puisque l'on a la relation suivante :\n",
    "\n",
    "$$SCT=SCE+SCR \\text{ alors } 1=\\frac{SCE}{SCT}+\\frac{SCR}{SCT}$$\n",
    "\n",
    "Plus les résidus sont petits (et donc la régression est \"bonne\"), plus $SCR$ devient petit et donc $SCE$ devient grand. Le schéma inverse s'opère de la même façon. Dans le meilleur des cas, on obtient $SCR=0$ et donc $SCE=SCT$ d'où le premier membre vaut $1$. Dans le cas contraite, $SCE=0$ et automatiquement, le premier membre est nul. C'est ainsi que l'on définit le coefficient de détermination $R^2$ comme \n",
    "$$R^2=\\frac{SCE}{SCT}=1-\\frac{SCR}{SCT}$$\n",
    "Ainsi, $R^2 \\in [0,1]$. Plus $R^2$ est proche de $1$, plus la régression linéaire a du sens. Au contraire, si $R^2$ est proche de $0$, le modèle linéaire possède un faible pouvoir explicatif."
   ]
  },
  {
   "cell_type": "code",
   "execution_count": 145,
   "metadata": {
    "colab": {},
    "colab_type": "code",
    "id": "uf8_Sw5yOmwJ",
    "outputId": "5035a388-7cdb-4346-f833-d47fdabf2bc0"
   },
   "outputs": [],
   "source": [
    "#faire une prediction sur X\n"
   ]
  },
  {
   "cell_type": "code",
   "execution_count": 146,
   "metadata": {
    "colab": {},
    "colab_type": "code",
    "id": "AEQrrOb6OmwV",
    "outputId": "f5e692a4-e10f-4a15-d37a-a12edfc7aaaf"
   },
   "outputs": [],
   "source": [
    "#afficher l'erreur des moindres carrées sur l'ensemble d'entrainement ainsi que le R2\n"
   ]
  },
  {
   "cell_type": "markdown",
   "metadata": {
    "colab_type": "text",
    "id": "3C3r6tz9Omwd"
   },
   "source": [
    "## Bonus : Analyse de l'homoscédasticité\n",
    "\n",
    "L'analyse de l'homoscédasticité est primordiale : c'est en particulier elle qui nous permet de vérifier, à partir des résidus, si les bruits vérifient bien l'hypothèse $(\\mathcal{H})$. On calcule donc les **résidus studentisés**.\n",
    "\n",
    "$$t_i^*=\\frac{\\hat{\\varepsilon}_i}{\\hat{\\sigma}_{(i)} \\sqrt{1-h_{ii}}}$$\n",
    "Avec $h_{ii}=\\{X(X^\\top X)^{-1} X^\\top\\}_{ii}=H_{ii}$ la matrice de projection sur l'hyperplan des variables. Plus précisément, $H$ est la matrice qui projette $Y$ sur l'espace engendré par les variables, soit $\\hat{Y}=HY$. De même, on considère $\\hat{\\sigma}_{(i)}$ l'estimateur de la variance du bruit en supprimant l'observation $i$ (par une méthode de validation croisée Leave-One-Out que nous ne détaillerons pas ici).\n",
    "\n",
    "Dans ce cas, on peut montrer que les résidus studentisés suivent une loi de Student à $n-p-1$ degrés de liberté."
   ]
  },
  {
   "cell_type": "code",
   "execution_count": 156,
   "metadata": {
    "colab": {},
    "colab_type": "code",
    "id": "QC71Z7HhOmwf",
    "outputId": "ab8657d8-81d0-4c77-871a-d232178a2537"
   },
   "outputs": [
    {
     "output_type": "error",
     "ename": "ValueError",
     "evalue": "Shape of passed values is (699, 699), indices imply (699, 4)",
     "traceback": [
      "\u001b[1;31m---------------------------------------------------------------------------\u001b[0m",
      "\u001b[1;31mValueError\u001b[0m                                Traceback (most recent call last)",
      "\u001b[1;32m~\\AppData\\Local\\Programs\\Python\\Python38\\lib\\site-packages\\pandas\\core\\internals\\managers.py\u001b[0m in \u001b[0;36mcreate_block_manager_from_blocks\u001b[1;34m(blocks, axes)\u001b[0m\n\u001b[0;32m   1661\u001b[0m                 blocks = [\n\u001b[1;32m-> 1662\u001b[1;33m                     \u001b[0mmake_block\u001b[0m\u001b[1;33m(\u001b[0m\u001b[0mvalues\u001b[0m\u001b[1;33m=\u001b[0m\u001b[0mblocks\u001b[0m\u001b[1;33m[\u001b[0m\u001b[1;36m0\u001b[0m\u001b[1;33m]\u001b[0m\u001b[1;33m,\u001b[0m \u001b[0mplacement\u001b[0m\u001b[1;33m=\u001b[0m\u001b[0mslice\u001b[0m\u001b[1;33m(\u001b[0m\u001b[1;36m0\u001b[0m\u001b[1;33m,\u001b[0m \u001b[0mlen\u001b[0m\u001b[1;33m(\u001b[0m\u001b[0maxes\u001b[0m\u001b[1;33m[\u001b[0m\u001b[1;36m0\u001b[0m\u001b[1;33m]\u001b[0m\u001b[1;33m)\u001b[0m\u001b[1;33m)\u001b[0m\u001b[1;33m)\u001b[0m\u001b[1;33m\u001b[0m\u001b[1;33m\u001b[0m\u001b[0m\n\u001b[0m\u001b[0;32m   1663\u001b[0m                 ]\n",
      "\u001b[1;32m~\\AppData\\Local\\Programs\\Python\\Python38\\lib\\site-packages\\pandas\\core\\internals\\blocks.py\u001b[0m in \u001b[0;36mmake_block\u001b[1;34m(values, placement, klass, ndim, dtype)\u001b[0m\n\u001b[0;32m   2718\u001b[0m \u001b[1;33m\u001b[0m\u001b[0m\n\u001b[1;32m-> 2719\u001b[1;33m     \u001b[1;32mreturn\u001b[0m \u001b[0mklass\u001b[0m\u001b[1;33m(\u001b[0m\u001b[0mvalues\u001b[0m\u001b[1;33m,\u001b[0m \u001b[0mndim\u001b[0m\u001b[1;33m=\u001b[0m\u001b[0mndim\u001b[0m\u001b[1;33m,\u001b[0m \u001b[0mplacement\u001b[0m\u001b[1;33m=\u001b[0m\u001b[0mplacement\u001b[0m\u001b[1;33m)\u001b[0m\u001b[1;33m\u001b[0m\u001b[1;33m\u001b[0m\u001b[0m\n\u001b[0m\u001b[0;32m   2720\u001b[0m \u001b[1;33m\u001b[0m\u001b[0m\n",
      "\u001b[1;32m~\\AppData\\Local\\Programs\\Python\\Python38\\lib\\site-packages\\pandas\\core\\internals\\blocks.py\u001b[0m in \u001b[0;36m__init__\u001b[1;34m(self, values, placement, ndim)\u001b[0m\n\u001b[0;32m    128\u001b[0m         \u001b[1;32mif\u001b[0m \u001b[0mself\u001b[0m\u001b[1;33m.\u001b[0m\u001b[0m_validate_ndim\u001b[0m \u001b[1;32mand\u001b[0m \u001b[0mself\u001b[0m\u001b[1;33m.\u001b[0m\u001b[0mndim\u001b[0m \u001b[1;32mand\u001b[0m \u001b[0mlen\u001b[0m\u001b[1;33m(\u001b[0m\u001b[0mself\u001b[0m\u001b[1;33m.\u001b[0m\u001b[0mmgr_locs\u001b[0m\u001b[1;33m)\u001b[0m \u001b[1;33m!=\u001b[0m \u001b[0mlen\u001b[0m\u001b[1;33m(\u001b[0m\u001b[0mself\u001b[0m\u001b[1;33m.\u001b[0m\u001b[0mvalues\u001b[0m\u001b[1;33m)\u001b[0m\u001b[1;33m:\u001b[0m\u001b[1;33m\u001b[0m\u001b[1;33m\u001b[0m\u001b[0m\n\u001b[1;32m--> 129\u001b[1;33m             raise ValueError(\n\u001b[0m\u001b[0;32m    130\u001b[0m                 \u001b[1;34mf\"Wrong number of items passed {len(self.values)}, \"\u001b[0m\u001b[1;33m\u001b[0m\u001b[1;33m\u001b[0m\u001b[0m\n",
      "\u001b[1;31mValueError\u001b[0m: Wrong number of items passed 699, placement implies 4",
      "\nDuring handling of the above exception, another exception occurred:\n",
      "\u001b[1;31mValueError\u001b[0m                                Traceback (most recent call last)",
      "\u001b[1;32m<ipython-input-156-a763b166d602>\u001b[0m in \u001b[0;36m<module>\u001b[1;34m\u001b[0m\n\u001b[0;32m      5\u001b[0m \u001b[0mp\u001b[0m \u001b[1;33m=\u001b[0m \u001b[1;36m4\u001b[0m\u001b[1;33m\u001b[0m\u001b[1;33m\u001b[0m\u001b[0m\n\u001b[0;32m      6\u001b[0m \u001b[0mresiduals\u001b[0m \u001b[1;33m=\u001b[0m \u001b[0mnp\u001b[0m\u001b[1;33m.\u001b[0m\u001b[0mabs\u001b[0m\u001b[1;33m(\u001b[0m\u001b[0my_train\u001b[0m \u001b[1;33m-\u001b[0m \u001b[0mY_pred\u001b[0m\u001b[1;33m)\u001b[0m\u001b[1;33m\u001b[0m\u001b[1;33m\u001b[0m\u001b[0m\n\u001b[1;32m----> 7\u001b[1;33m \u001b[0mH\u001b[0m \u001b[1;33m=\u001b[0m \u001b[0mnp\u001b[0m\u001b[1;33m.\u001b[0m\u001b[0mmatmul\u001b[0m\u001b[1;33m(\u001b[0m\u001b[0mX_train\u001b[0m\u001b[1;33m,\u001b[0m \u001b[0mnp\u001b[0m\u001b[1;33m.\u001b[0m\u001b[0mlinalg\u001b[0m\u001b[1;33m.\u001b[0m\u001b[0msolve\u001b[0m\u001b[1;33m(\u001b[0m\u001b[0mnp\u001b[0m\u001b[1;33m.\u001b[0m\u001b[0mdot\u001b[0m\u001b[1;33m(\u001b[0m\u001b[0mX_train\u001b[0m\u001b[1;33m.\u001b[0m\u001b[0mT\u001b[0m\u001b[1;33m,\u001b[0m \u001b[0mX_train\u001b[0m\u001b[1;33m)\u001b[0m\u001b[1;33m,\u001b[0m \u001b[0mX_train\u001b[0m\u001b[1;33m.\u001b[0m\u001b[0mT\u001b[0m\u001b[1;33m)\u001b[0m\u001b[1;33m)\u001b[0m\u001b[1;33m\u001b[0m\u001b[1;33m\u001b[0m\u001b[0m\n\u001b[0m\u001b[0;32m      8\u001b[0m \u001b[0mstd_hat\u001b[0m \u001b[1;33m=\u001b[0m \u001b[0mnp\u001b[0m\u001b[1;33m.\u001b[0m\u001b[0mdot\u001b[0m\u001b[1;33m(\u001b[0m\u001b[0mresiduals\u001b[0m\u001b[1;33m,\u001b[0m \u001b[0mresiduals\u001b[0m\u001b[1;33m)\u001b[0m \u001b[1;33m/\u001b[0m \u001b[1;33m(\u001b[0m\u001b[0mn\u001b[0m \u001b[1;33m-\u001b[0m \u001b[0mp\u001b[0m\u001b[1;33m)\u001b[0m\u001b[1;33m\u001b[0m\u001b[1;33m\u001b[0m\u001b[0m\n\u001b[0;32m      9\u001b[0m \u001b[0mstandart_residuals\u001b[0m \u001b[1;33m=\u001b[0m \u001b[0mnp\u001b[0m\u001b[1;33m.\u001b[0m\u001b[0masarray\u001b[0m\u001b[1;33m(\u001b[0m\u001b[1;33m[\u001b[0m\u001b[0mresiduals\u001b[0m\u001b[1;33m[\u001b[0m\u001b[0mi\u001b[0m\u001b[1;33m]\u001b[0m \u001b[1;33m/\u001b[0m \u001b[0mnp\u001b[0m\u001b[1;33m.\u001b[0m\u001b[0msqrt\u001b[0m\u001b[1;33m(\u001b[0m\u001b[0mstd_hat\u001b[0m \u001b[1;33m*\u001b[0m \u001b[1;33m(\u001b[0m\u001b[1;36m1\u001b[0m \u001b[1;33m-\u001b[0m \u001b[0mH\u001b[0m\u001b[1;33m[\u001b[0m\u001b[0mi\u001b[0m\u001b[1;33m,\u001b[0m \u001b[0mi\u001b[0m\u001b[1;33m]\u001b[0m\u001b[1;33m)\u001b[0m\u001b[1;33m)\u001b[0m \u001b[1;32mfor\u001b[0m \u001b[0mi\u001b[0m \u001b[1;32min\u001b[0m \u001b[0mrange\u001b[0m\u001b[1;33m(\u001b[0m\u001b[0mlen\u001b[0m\u001b[1;33m(\u001b[0m\u001b[0mresiduals\u001b[0m\u001b[1;33m)\u001b[0m\u001b[1;33m)\u001b[0m\u001b[1;33m]\u001b[0m\u001b[1;33m)\u001b[0m\u001b[1;33m\u001b[0m\u001b[1;33m\u001b[0m\u001b[0m\n",
      "\u001b[1;32m~\\AppData\\Local\\Programs\\Python\\Python38\\lib\\site-packages\\pandas\\core\\generic.py\u001b[0m in \u001b[0;36m__array_wrap__\u001b[1;34m(self, result, context)\u001b[0m\n\u001b[0;32m   1785\u001b[0m             \u001b[1;32mreturn\u001b[0m \u001b[0mresult\u001b[0m\u001b[1;33m\u001b[0m\u001b[1;33m\u001b[0m\u001b[0m\n\u001b[0;32m   1786\u001b[0m         \u001b[0md\u001b[0m \u001b[1;33m=\u001b[0m \u001b[0mself\u001b[0m\u001b[1;33m.\u001b[0m\u001b[0m_construct_axes_dict\u001b[0m\u001b[1;33m(\u001b[0m\u001b[0mself\u001b[0m\u001b[1;33m.\u001b[0m\u001b[0m_AXIS_ORDERS\u001b[0m\u001b[1;33m,\u001b[0m \u001b[0mcopy\u001b[0m\u001b[1;33m=\u001b[0m\u001b[1;32mFalse\u001b[0m\u001b[1;33m)\u001b[0m\u001b[1;33m\u001b[0m\u001b[1;33m\u001b[0m\u001b[0m\n\u001b[1;32m-> 1787\u001b[1;33m         return self._constructor(result, **d).__finalize__(\n\u001b[0m\u001b[0;32m   1788\u001b[0m             \u001b[0mself\u001b[0m\u001b[1;33m,\u001b[0m \u001b[0mmethod\u001b[0m\u001b[1;33m=\u001b[0m\u001b[1;34m\"__array_wrap__\"\u001b[0m\u001b[1;33m\u001b[0m\u001b[1;33m\u001b[0m\u001b[0m\n\u001b[0;32m   1789\u001b[0m         )\n",
      "\u001b[1;32m~\\AppData\\Local\\Programs\\Python\\Python38\\lib\\site-packages\\pandas\\core\\frame.py\u001b[0m in \u001b[0;36m__init__\u001b[1;34m(self, data, index, columns, dtype, copy)\u001b[0m\n\u001b[0;32m    495\u001b[0m                 \u001b[0mmgr\u001b[0m \u001b[1;33m=\u001b[0m \u001b[0minit_dict\u001b[0m\u001b[1;33m(\u001b[0m\u001b[1;33m{\u001b[0m\u001b[0mdata\u001b[0m\u001b[1;33m.\u001b[0m\u001b[0mname\u001b[0m\u001b[1;33m:\u001b[0m \u001b[0mdata\u001b[0m\u001b[1;33m}\u001b[0m\u001b[1;33m,\u001b[0m \u001b[0mindex\u001b[0m\u001b[1;33m,\u001b[0m \u001b[0mcolumns\u001b[0m\u001b[1;33m,\u001b[0m \u001b[0mdtype\u001b[0m\u001b[1;33m=\u001b[0m\u001b[0mdtype\u001b[0m\u001b[1;33m)\u001b[0m\u001b[1;33m\u001b[0m\u001b[1;33m\u001b[0m\u001b[0m\n\u001b[0;32m    496\u001b[0m             \u001b[1;32melse\u001b[0m\u001b[1;33m:\u001b[0m\u001b[1;33m\u001b[0m\u001b[1;33m\u001b[0m\u001b[0m\n\u001b[1;32m--> 497\u001b[1;33m                 \u001b[0mmgr\u001b[0m \u001b[1;33m=\u001b[0m \u001b[0minit_ndarray\u001b[0m\u001b[1;33m(\u001b[0m\u001b[0mdata\u001b[0m\u001b[1;33m,\u001b[0m \u001b[0mindex\u001b[0m\u001b[1;33m,\u001b[0m \u001b[0mcolumns\u001b[0m\u001b[1;33m,\u001b[0m \u001b[0mdtype\u001b[0m\u001b[1;33m=\u001b[0m\u001b[0mdtype\u001b[0m\u001b[1;33m,\u001b[0m \u001b[0mcopy\u001b[0m\u001b[1;33m=\u001b[0m\u001b[0mcopy\u001b[0m\u001b[1;33m)\u001b[0m\u001b[1;33m\u001b[0m\u001b[1;33m\u001b[0m\u001b[0m\n\u001b[0m\u001b[0;32m    498\u001b[0m \u001b[1;33m\u001b[0m\u001b[0m\n\u001b[0;32m    499\u001b[0m         \u001b[1;31m# For data is list-like, or Iterable (will consume into list)\u001b[0m\u001b[1;33m\u001b[0m\u001b[1;33m\u001b[0m\u001b[1;33m\u001b[0m\u001b[0m\n",
      "\u001b[1;32m~\\AppData\\Local\\Programs\\Python\\Python38\\lib\\site-packages\\pandas\\core\\internals\\construction.py\u001b[0m in \u001b[0;36minit_ndarray\u001b[1;34m(values, index, columns, dtype, copy)\u001b[0m\n\u001b[0;32m    232\u001b[0m         \u001b[0mblock_values\u001b[0m \u001b[1;33m=\u001b[0m \u001b[1;33m[\u001b[0m\u001b[0mvalues\u001b[0m\u001b[1;33m]\u001b[0m\u001b[1;33m\u001b[0m\u001b[1;33m\u001b[0m\u001b[0m\n\u001b[0;32m    233\u001b[0m \u001b[1;33m\u001b[0m\u001b[0m\n\u001b[1;32m--> 234\u001b[1;33m     \u001b[1;32mreturn\u001b[0m \u001b[0mcreate_block_manager_from_blocks\u001b[0m\u001b[1;33m(\u001b[0m\u001b[0mblock_values\u001b[0m\u001b[1;33m,\u001b[0m \u001b[1;33m[\u001b[0m\u001b[0mcolumns\u001b[0m\u001b[1;33m,\u001b[0m \u001b[0mindex\u001b[0m\u001b[1;33m]\u001b[0m\u001b[1;33m)\u001b[0m\u001b[1;33m\u001b[0m\u001b[1;33m\u001b[0m\u001b[0m\n\u001b[0m\u001b[0;32m    235\u001b[0m \u001b[1;33m\u001b[0m\u001b[0m\n\u001b[0;32m    236\u001b[0m \u001b[1;33m\u001b[0m\u001b[0m\n",
      "\u001b[1;32m~\\AppData\\Local\\Programs\\Python\\Python38\\lib\\site-packages\\pandas\\core\\internals\\managers.py\u001b[0m in \u001b[0;36mcreate_block_manager_from_blocks\u001b[1;34m(blocks, axes)\u001b[0m\n\u001b[0;32m   1670\u001b[0m         \u001b[0mblocks\u001b[0m \u001b[1;33m=\u001b[0m \u001b[1;33m[\u001b[0m\u001b[0mgetattr\u001b[0m\u001b[1;33m(\u001b[0m\u001b[0mb\u001b[0m\u001b[1;33m,\u001b[0m \u001b[1;34m\"values\"\u001b[0m\u001b[1;33m,\u001b[0m \u001b[0mb\u001b[0m\u001b[1;33m)\u001b[0m \u001b[1;32mfor\u001b[0m \u001b[0mb\u001b[0m \u001b[1;32min\u001b[0m \u001b[0mblocks\u001b[0m\u001b[1;33m]\u001b[0m\u001b[1;33m\u001b[0m\u001b[1;33m\u001b[0m\u001b[0m\n\u001b[0;32m   1671\u001b[0m         \u001b[0mtot_items\u001b[0m \u001b[1;33m=\u001b[0m \u001b[0msum\u001b[0m\u001b[1;33m(\u001b[0m\u001b[0mb\u001b[0m\u001b[1;33m.\u001b[0m\u001b[0mshape\u001b[0m\u001b[1;33m[\u001b[0m\u001b[1;36m0\u001b[0m\u001b[1;33m]\u001b[0m \u001b[1;32mfor\u001b[0m \u001b[0mb\u001b[0m \u001b[1;32min\u001b[0m \u001b[0mblocks\u001b[0m\u001b[1;33m)\u001b[0m\u001b[1;33m\u001b[0m\u001b[1;33m\u001b[0m\u001b[0m\n\u001b[1;32m-> 1672\u001b[1;33m         \u001b[1;32mraise\u001b[0m \u001b[0mconstruction_error\u001b[0m\u001b[1;33m(\u001b[0m\u001b[0mtot_items\u001b[0m\u001b[1;33m,\u001b[0m \u001b[0mblocks\u001b[0m\u001b[1;33m[\u001b[0m\u001b[1;36m0\u001b[0m\u001b[1;33m]\u001b[0m\u001b[1;33m.\u001b[0m\u001b[0mshape\u001b[0m\u001b[1;33m[\u001b[0m\u001b[1;36m1\u001b[0m\u001b[1;33m:\u001b[0m\u001b[1;33m]\u001b[0m\u001b[1;33m,\u001b[0m \u001b[0maxes\u001b[0m\u001b[1;33m,\u001b[0m \u001b[0me\u001b[0m\u001b[1;33m)\u001b[0m\u001b[1;33m\u001b[0m\u001b[1;33m\u001b[0m\u001b[0m\n\u001b[0m\u001b[0;32m   1673\u001b[0m \u001b[1;33m\u001b[0m\u001b[0m\n\u001b[0;32m   1674\u001b[0m \u001b[1;33m\u001b[0m\u001b[0m\n",
      "\u001b[1;31mValueError\u001b[0m: Shape of passed values is (699, 699), indices imply (699, 4)"
     ]
    }
   ],
   "source": [
    "#analyser le code ci-dessous \n",
    "import scipy\n",
    "Y_pred = reg.predict(X_train)\n",
    "n = X_train.shape[0]\n",
    "p = 4\n",
    "residuals = np.abs(y_train - Y_pred)\n",
    "H = np.matmul(X_train, np.linalg.solve(np.dot(X_train.T, X_train), X_train.T))\n",
    "std_hat = np.dot(residuals, residuals) / (n - p)\n",
    "standart_residuals = np.asarray([residuals[i] / np.sqrt(std_hat * (1 - H[i, i])) for i in range(len(residuals))])\n",
    "student_residuals = np.asarray([ standart_residuals[i] * np.sqrt((n - p - 1) / (n - p - standart_residuals[i]**2)) for i in range(n) ])\n",
    "cook = np.asarray([ H[i, i] * student_residuals[i] / (X_train.shape[1] * (1 - H[i, i])) for i in range(n) ])\n",
    "\n",
    "plt.figure(figsize=(20, 12))\n",
    "plt.subplot(221)\n",
    "plt.scatter(Y_pred, student_residuals, s=12, c=\"white\", edgecolors=\"blue\")\n",
    "plt.plot([min(Y_pred), max(Y_pred)], [ scipy.stats.t.ppf(q=0.975, df=n-p-1), scipy.stats.t.ppf(q=0.975, df=n-p-1)], color=\"green\", alpha=0.6, label=\"Quantile de Student\")\n",
    "plt.title(\"Analyse de l’homoscédasticité\")\n",
    "plt.xlabel(\"Prédictions $\\hat{y}_i$\")\n",
    "plt.ylabel(\"Résidus studentisés $|t_i^*|$\")\n",
    "plt.legend()"
   ]
  },
  {
   "cell_type": "code",
   "execution_count": null,
   "metadata": {
    "colab": {},
    "colab_type": "code",
    "id": "RHy-a9jROmws"
   },
   "outputs": [],
   "source": []
  }
 ],
 "metadata": {
  "colab": {
   "name": "ModeleLineaire1.ipynb",
   "provenance": []
  },
  "kernelspec": {
   "name": "Python 3.8.3 64-bit",
   "display_name": "Python 3.8.3 64-bit",
   "metadata": {
    "interpreter": {
     "hash": "991da9b17d5655561a8686b9327745da023652667e5744d6112d3c7cefcedf59"
    }
   }
  },
  "language_info": {
   "codemirror_mode": {
    "name": "ipython",
    "version": 3
   },
   "file_extension": ".py",
   "mimetype": "text/x-python",
   "name": "python",
   "nbconvert_exporter": "python",
   "pygments_lexer": "ipython3",
   "version": "3.8.3-final"
  },
  "latex_envs": {
   "LaTeX_envs_menu_present": true,
   "autoclose": false,
   "autocomplete": true,
   "bibliofile": "biblio.bib",
   "cite_by": "apalike",
   "current_citInitial": 1,
   "eqLabelWithNumbers": true,
   "eqNumInitial": 1,
   "hotkeys": {
    "equation": "Ctrl-E",
    "itemize": "Ctrl-I"
   },
   "labels_anchors": false,
   "latex_user_defs": false,
   "report_style_numbering": false,
   "user_envs_cfg": false
  },
  "toc": {
   "base_numbering": 1,
   "nav_menu": {},
   "number_sections": true,
   "sideBar": true,
   "skip_h1_title": false,
   "title_cell": "Table of Contents",
   "title_sidebar": "Contents",
   "toc_cell": false,
   "toc_position": {},
   "toc_section_display": true,
   "toc_window_display": false
  },
  "varInspector": {
   "cols": {
    "lenName": 16,
    "lenType": 16,
    "lenVar": 40
   },
   "kernels_config": {
    "python": {
     "delete_cmd_postfix": "",
     "delete_cmd_prefix": "del ",
     "library": "var_list.py",
     "varRefreshCmd": "print(var_dic_list())"
    },
    "r": {
     "delete_cmd_postfix": ") ",
     "delete_cmd_prefix": "rm(",
     "library": "var_list.r",
     "varRefreshCmd": "cat(var_dic_list()) "
    }
   },
   "types_to_exclude": [
    "module",
    "function",
    "builtin_function_or_method",
    "instance",
    "_Feature"
   ],
   "window_display": false
  }
 },
 "nbformat": 4,
 "nbformat_minor": 1
}