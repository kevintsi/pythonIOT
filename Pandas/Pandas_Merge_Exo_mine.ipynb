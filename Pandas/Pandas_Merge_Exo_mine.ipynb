{
 "cells": [
  {
   "cell_type": "markdown",
   "metadata": {},
   "source": [
    "# Merging Data avec Pandas \n",
    "\n",
    "Dans la science de données on a souvent besoin de fusionner des tableaux. On peut le faire avec la fonction `merge()` qui prend comme paramètres deux `DataFrames` ainsi que les colonnes avec lesquelles réaliser les jointures. Cette méthode est très similaire à SQL sur le principe 🔭\n"
   ]
  },
  {
   "cell_type": "markdown",
   "metadata": {},
   "source": [
    "### Importer pandas et les dataset `user_device.csv`, `user_usage.csv` et `android_devices.csv`"
   ]
  },
  {
   "cell_type": "code",
   "execution_count": 3,
   "metadata": {},
   "outputs": [],
   "source": [
    "import pandas as pds\n",
    "\n",
    "user_device = pds.read_csv(\"user_device.csv\")\n",
    "user_usage = pds.read_csv(\"user_usage.csv\")\n",
    "android_devices = pds.read_csv(\"android_devices.csv\")"
   ]
  },
  {
   "cell_type": "markdown",
   "metadata": {},
   "source": [
    "### Importer les dataset & renommer la colonne `Branding` du dataset `android_devices.csv`"
   ]
  },
  {
   "cell_type": "code",
   "execution_count": 55,
   "metadata": {
    "tags": []
   },
   "outputs": [
    {
     "output_type": "stream",
     "name": "stdout",
     "text": "Retail Branding Marketing Name       Device                      Model\n0                 NaN            NaN       AD681H  Smartfren Andromax AD681H\n1                 NaN            NaN        FJL21                      FJL21\n2                 NaN            NaN          T31              Panasonic T31\n3                 NaN            NaN     hws7721g         MediaPad 7 Youth 2\n4                  3Q        OC1020A      OC1020A                    OC1020A\n...               ...            ...          ...                        ...\n14541           pendo    PNDPP44QC10  PNDPP44QC10                PNDPP44QC10\n14542           pendo     PNDPP44QC7   PNDPP44QC7                 PNDPP44QC7\n14543      sugar_aums         QPOINT        QPI-1                      QPI-1\n14544       tecmobile       OmnisOne     OmnisOne                  Omnis One\n14545           ucall          EASY1        EASY1                      EASY1\n\n[14546 rows x 4 columns]\n         Branding Marketing Name       Device                      Model\n0             NaN            NaN       AD681H  Smartfren Andromax AD681H\n1             NaN            NaN        FJL21                      FJL21\n2             NaN            NaN          T31              Panasonic T31\n3             NaN            NaN     hws7721g         MediaPad 7 Youth 2\n4              3Q        OC1020A      OC1020A                    OC1020A\n...           ...            ...          ...                        ...\n14541       pendo    PNDPP44QC10  PNDPP44QC10                PNDPP44QC10\n14542       pendo     PNDPP44QC7   PNDPP44QC7                 PNDPP44QC7\n14543  sugar_aums         QPOINT        QPI-1                      QPI-1\n14544   tecmobile       OmnisOne     OmnisOne                  Omnis One\n14545       ucall          EASY1        EASY1                      EASY1\n\n[14546 rows x 4 columns]\n"
    }
   ],
   "source": [
    "print(android_devices)\n",
    "print(android_devices.rename(columns={\"Retail Branding\" : \"Branding\"}))"
   ]
  },
  {
   "cell_type": "markdown",
   "metadata": {},
   "source": [
    "### Afficher les dataset "
   ]
  },
  {
   "cell_type": "code",
   "execution_count": 5,
   "metadata": {
    "scrolled": true,
    "tags": []
   },
   "outputs": [
    {
     "output_type": "execute_result",
     "data": {
      "text/plain": "   outgoing_mins_per_month  outgoing_sms_per_month  monthly_mb  use_id\n0                    21.97                    4.82     1557.33   22787\n1                  1710.08                  136.88     7267.55   22788\n2                  1710.08                  136.88     7267.55   22789\n3                    94.46                   35.17      519.12   22790\n4                    71.59                   79.26     1557.33   22792",
      "text/html": "<div>\n<style scoped>\n    .dataframe tbody tr th:only-of-type {\n        vertical-align: middle;\n    }\n\n    .dataframe tbody tr th {\n        vertical-align: top;\n    }\n\n    .dataframe thead th {\n        text-align: right;\n    }\n</style>\n<table border=\"1\" class=\"dataframe\">\n  <thead>\n    <tr style=\"text-align: right;\">\n      <th></th>\n      <th>outgoing_mins_per_month</th>\n      <th>outgoing_sms_per_month</th>\n      <th>monthly_mb</th>\n      <th>use_id</th>\n    </tr>\n  </thead>\n  <tbody>\n    <tr>\n      <th>0</th>\n      <td>21.97</td>\n      <td>4.82</td>\n      <td>1557.33</td>\n      <td>22787</td>\n    </tr>\n    <tr>\n      <th>1</th>\n      <td>1710.08</td>\n      <td>136.88</td>\n      <td>7267.55</td>\n      <td>22788</td>\n    </tr>\n    <tr>\n      <th>2</th>\n      <td>1710.08</td>\n      <td>136.88</td>\n      <td>7267.55</td>\n      <td>22789</td>\n    </tr>\n    <tr>\n      <th>3</th>\n      <td>94.46</td>\n      <td>35.17</td>\n      <td>519.12</td>\n      <td>22790</td>\n    </tr>\n    <tr>\n      <th>4</th>\n      <td>71.59</td>\n      <td>79.26</td>\n      <td>1557.33</td>\n      <td>22792</td>\n    </tr>\n  </tbody>\n</table>\n</div>"
     },
     "metadata": {},
     "execution_count": 5
    }
   ],
   "source": [
    "user_usage.head()"
   ]
  },
  {
   "cell_type": "code",
   "execution_count": 6,
   "metadata": {
    "scrolled": true
   },
   "outputs": [
    {
     "output_type": "execute_result",
     "data": {
      "text/plain": "   use_id  user_id platform  platform_version     device  use_type_id\n0   22782    26980      ios              10.2  iPhone7,2            2\n1   22783    29628  android               6.0    Nexus 5            3\n2   22784    28473  android               5.1   SM-G903F            1\n3   22785    15200      ios              10.2  iPhone7,2            3\n4   22786    28239  android               6.0  ONE E1003            1",
      "text/html": "<div>\n<style scoped>\n    .dataframe tbody tr th:only-of-type {\n        vertical-align: middle;\n    }\n\n    .dataframe tbody tr th {\n        vertical-align: top;\n    }\n\n    .dataframe thead th {\n        text-align: right;\n    }\n</style>\n<table border=\"1\" class=\"dataframe\">\n  <thead>\n    <tr style=\"text-align: right;\">\n      <th></th>\n      <th>use_id</th>\n      <th>user_id</th>\n      <th>platform</th>\n      <th>platform_version</th>\n      <th>device</th>\n      <th>use_type_id</th>\n    </tr>\n  </thead>\n  <tbody>\n    <tr>\n      <th>0</th>\n      <td>22782</td>\n      <td>26980</td>\n      <td>ios</td>\n      <td>10.2</td>\n      <td>iPhone7,2</td>\n      <td>2</td>\n    </tr>\n    <tr>\n      <th>1</th>\n      <td>22783</td>\n      <td>29628</td>\n      <td>android</td>\n      <td>6.0</td>\n      <td>Nexus 5</td>\n      <td>3</td>\n    </tr>\n    <tr>\n      <th>2</th>\n      <td>22784</td>\n      <td>28473</td>\n      <td>android</td>\n      <td>5.1</td>\n      <td>SM-G903F</td>\n      <td>1</td>\n    </tr>\n    <tr>\n      <th>3</th>\n      <td>22785</td>\n      <td>15200</td>\n      <td>ios</td>\n      <td>10.2</td>\n      <td>iPhone7,2</td>\n      <td>3</td>\n    </tr>\n    <tr>\n      <th>4</th>\n      <td>22786</td>\n      <td>28239</td>\n      <td>android</td>\n      <td>6.0</td>\n      <td>ONE E1003</td>\n      <td>1</td>\n    </tr>\n  </tbody>\n</table>\n</div>"
     },
     "metadata": {},
     "execution_count": 6
    }
   ],
   "source": [
    "user_device.head()"
   ]
  },
  {
   "cell_type": "code",
   "execution_count": 57,
   "metadata": {
    "scrolled": false
   },
   "outputs": [
    {
     "output_type": "execute_result",
     "data": {
      "text/plain": "              Retail Branding      Marketing Name              Device  \\\n0                         NaN                 NaN              AD681H   \n1                         NaN                 NaN               FJL21   \n2                         NaN                 NaN                 T31   \n3                         NaN                 NaN            hws7721g   \n4                          3Q             OC1020A             OC1020A   \n5                     7Eleven               IN265               IN265   \n6  A.O.I. ELECTRONICS FACTORY              A.O.I.          TR10CS1_11   \n7                   AG Mobile          AG BOOST 2              BOOST2   \n8                   AG Mobile            AG Flair            AG_Flair   \n9                   AG Mobile  AG Go Tab Access 2  AG_Go_Tab_Access_2   \n\n                       Model  \n0  Smartfren Andromax AD681H  \n1                      FJL21  \n2              Panasonic T31  \n3         MediaPad 7 Youth 2  \n4                    OC1020A  \n5                      IN265  \n6                    TR10CS1  \n7                      E4010  \n8                      Flair  \n9         AG_Go_Tab_Access_2  ",
      "text/html": "<div>\n<style scoped>\n    .dataframe tbody tr th:only-of-type {\n        vertical-align: middle;\n    }\n\n    .dataframe tbody tr th {\n        vertical-align: top;\n    }\n\n    .dataframe thead th {\n        text-align: right;\n    }\n</style>\n<table border=\"1\" class=\"dataframe\">\n  <thead>\n    <tr style=\"text-align: right;\">\n      <th></th>\n      <th>Retail Branding</th>\n      <th>Marketing Name</th>\n      <th>Device</th>\n      <th>Model</th>\n    </tr>\n  </thead>\n  <tbody>\n    <tr>\n      <th>0</th>\n      <td>NaN</td>\n      <td>NaN</td>\n      <td>AD681H</td>\n      <td>Smartfren Andromax AD681H</td>\n    </tr>\n    <tr>\n      <th>1</th>\n      <td>NaN</td>\n      <td>NaN</td>\n      <td>FJL21</td>\n      <td>FJL21</td>\n    </tr>\n    <tr>\n      <th>2</th>\n      <td>NaN</td>\n      <td>NaN</td>\n      <td>T31</td>\n      <td>Panasonic T31</td>\n    </tr>\n    <tr>\n      <th>3</th>\n      <td>NaN</td>\n      <td>NaN</td>\n      <td>hws7721g</td>\n      <td>MediaPad 7 Youth 2</td>\n    </tr>\n    <tr>\n      <th>4</th>\n      <td>3Q</td>\n      <td>OC1020A</td>\n      <td>OC1020A</td>\n      <td>OC1020A</td>\n    </tr>\n    <tr>\n      <th>5</th>\n      <td>7Eleven</td>\n      <td>IN265</td>\n      <td>IN265</td>\n      <td>IN265</td>\n    </tr>\n    <tr>\n      <th>6</th>\n      <td>A.O.I. ELECTRONICS FACTORY</td>\n      <td>A.O.I.</td>\n      <td>TR10CS1_11</td>\n      <td>TR10CS1</td>\n    </tr>\n    <tr>\n      <th>7</th>\n      <td>AG Mobile</td>\n      <td>AG BOOST 2</td>\n      <td>BOOST2</td>\n      <td>E4010</td>\n    </tr>\n    <tr>\n      <th>8</th>\n      <td>AG Mobile</td>\n      <td>AG Flair</td>\n      <td>AG_Flair</td>\n      <td>Flair</td>\n    </tr>\n    <tr>\n      <th>9</th>\n      <td>AG Mobile</td>\n      <td>AG Go Tab Access 2</td>\n      <td>AG_Go_Tab_Access_2</td>\n      <td>AG_Go_Tab_Access_2</td>\n    </tr>\n  </tbody>\n</table>\n</div>"
     },
     "metadata": {},
     "execution_count": 57
    }
   ],
   "source": [
    "android_devices.head(10)"
   ]
  },
  {
   "cell_type": "markdown",
   "metadata": {},
   "source": [
    "### Votre premier merge"
   ]
  },
  {
   "cell_type": "code",
   "execution_count": 4,
   "metadata": {
    "scrolled": true,
    "tags": []
   },
   "outputs": [
    {
     "output_type": "execute_result",
     "data": {
      "text/plain": "   outgoing_mins_per_month  outgoing_sms_per_month  monthly_mb  use_id  \\\n0                    21.97                    4.82     1557.33   22787   \n1                  1710.08                  136.88     7267.55   22788   \n2                  1710.08                  136.88     7267.55   22789   \n3                    94.46                   35.17      519.12   22790   \n4                    71.59                   79.26     1557.33   22792   \n\n  platform    device  \n0  android  GT-I9505  \n1  android  SM-G930F  \n2  android  SM-G930F  \n3  android     D2303  \n4  android  SM-G361F  ",
      "text/html": "<div>\n<style scoped>\n    .dataframe tbody tr th:only-of-type {\n        vertical-align: middle;\n    }\n\n    .dataframe tbody tr th {\n        vertical-align: top;\n    }\n\n    .dataframe thead th {\n        text-align: right;\n    }\n</style>\n<table border=\"1\" class=\"dataframe\">\n  <thead>\n    <tr style=\"text-align: right;\">\n      <th></th>\n      <th>outgoing_mins_per_month</th>\n      <th>outgoing_sms_per_month</th>\n      <th>monthly_mb</th>\n      <th>use_id</th>\n      <th>platform</th>\n      <th>device</th>\n    </tr>\n  </thead>\n  <tbody>\n    <tr>\n      <th>0</th>\n      <td>21.97</td>\n      <td>4.82</td>\n      <td>1557.33</td>\n      <td>22787</td>\n      <td>android</td>\n      <td>GT-I9505</td>\n    </tr>\n    <tr>\n      <th>1</th>\n      <td>1710.08</td>\n      <td>136.88</td>\n      <td>7267.55</td>\n      <td>22788</td>\n      <td>android</td>\n      <td>SM-G930F</td>\n    </tr>\n    <tr>\n      <th>2</th>\n      <td>1710.08</td>\n      <td>136.88</td>\n      <td>7267.55</td>\n      <td>22789</td>\n      <td>android</td>\n      <td>SM-G930F</td>\n    </tr>\n    <tr>\n      <th>3</th>\n      <td>94.46</td>\n      <td>35.17</td>\n      <td>519.12</td>\n      <td>22790</td>\n      <td>android</td>\n      <td>D2303</td>\n    </tr>\n    <tr>\n      <th>4</th>\n      <td>71.59</td>\n      <td>79.26</td>\n      <td>1557.33</td>\n      <td>22792</td>\n      <td>android</td>\n      <td>SM-G361F</td>\n    </tr>\n  </tbody>\n</table>\n</div>"
     },
     "metadata": {},
     "execution_count": 4
    }
   ],
   "source": [
    "new_user_device = user_device[['platform','device','use_id']] \n",
    "result = pds.merge(user_usage,new_user_device )\n",
    "result.head()"
   ]
  },
  {
   "cell_type": "markdown",
   "metadata": {},
   "source": [
    "### Afficher la `shape` de vos dataset ainsi que celle du dataset de sortie \n",
    "\n",
    "Que remarquez vous ? "
   ]
  },
  {
   "cell_type": "code",
   "execution_count": 79,
   "metadata": {
    "scrolled": true,
    "tags": []
   },
   "outputs": [
    {
     "output_type": "stream",
     "name": "stdout",
     "text": "user_usage dimensions:  (240, 4)\nuser_device dimensions:  (272, 3)\nresult dimensions:  (159, 6)\n"
    }
   ],
   "source": [
    "print(\"user_usage dimensions: \",user_usage.shape)\n",
    "print(\"user_device dimensions: \",new_user_device.shape)\n",
    "print(\"result dimensions: \", result.shape)"
   ]
  },
  {
   "cell_type": "markdown",
   "metadata": {},
   "source": [
    "### Afficher via `value_counts` les `use_id` présent dans le nouveau dataset ainsi que ceux non présent "
   ]
  },
  {
   "cell_type": "code",
   "execution_count": 10,
   "metadata": {
    "scrolled": true
   },
   "outputs": [
    {
     "output_type": "execute_result",
     "data": {
      "text/plain": "True     159\nFalse     81\nName: use_id, dtype: int64"
     },
     "metadata": {},
     "execution_count": 10
    }
   ],
   "source": [
    "user_usage.use_id.isin(user_device.use_id).value_counts()"
   ]
  },
  {
   "cell_type": "markdown",
   "metadata": {},
   "source": [
    "### Le left merge\n",
    "\n",
    "Afficher la `shape` du dataset `user_usage`, celle du dataset de sortie ainsi que les valeurs manquantes. "
   ]
  },
  {
   "cell_type": "code",
   "execution_count": 14,
   "metadata": {
    "tags": []
   },
   "outputs": [
    {
     "output_type": "stream",
     "name": "stdout",
     "text": "user_usage dimensions :  (240, 4)\nresult dimensions :  (240, 6)\nThere are Index([False], dtype='object')\n"
    }
   ],
   "source": [
    "print(\"user_usage dimensions : \",user_usage.shape)\n",
    "result_left_merge = pds.merge(user_usage,new_user_device, how=\"left\" )\n",
    "print(\"result dimensions : \",result_left_merge.shape)\n",
    "print(\"There are\", result_left_merge.use_id.isnull().value_counts())\n"
   ]
  },
  {
   "cell_type": "markdown",
   "metadata": {},
   "source": [
    "### Afficher votre dataset "
   ]
  },
  {
   "cell_type": "code",
   "execution_count": 83,
   "metadata": {
    "scrolled": false
   },
   "outputs": [
    {
     "output_type": "execute_result",
     "data": {
      "text/plain": "   outgoing_mins_per_month  outgoing_sms_per_month  monthly_mb  use_id  \\\n0                    21.97                    4.82     1557.33   22787   \n1                  1710.08                  136.88     7267.55   22788   \n2                  1710.08                  136.88     7267.55   22789   \n3                    94.46                   35.17      519.12   22790   \n4                    71.59                   79.26     1557.33   22792   \n\n  platform    device  \n0  android  GT-I9505  \n1  android  SM-G930F  \n2  android  SM-G930F  \n3  android     D2303  \n4  android  SM-G361F  ",
      "text/html": "<div>\n<style scoped>\n    .dataframe tbody tr th:only-of-type {\n        vertical-align: middle;\n    }\n\n    .dataframe tbody tr th {\n        vertical-align: top;\n    }\n\n    .dataframe thead th {\n        text-align: right;\n    }\n</style>\n<table border=\"1\" class=\"dataframe\">\n  <thead>\n    <tr style=\"text-align: right;\">\n      <th></th>\n      <th>outgoing_mins_per_month</th>\n      <th>outgoing_sms_per_month</th>\n      <th>monthly_mb</th>\n      <th>use_id</th>\n      <th>platform</th>\n      <th>device</th>\n    </tr>\n  </thead>\n  <tbody>\n    <tr>\n      <th>0</th>\n      <td>21.97</td>\n      <td>4.82</td>\n      <td>1557.33</td>\n      <td>22787</td>\n      <td>android</td>\n      <td>GT-I9505</td>\n    </tr>\n    <tr>\n      <th>1</th>\n      <td>1710.08</td>\n      <td>136.88</td>\n      <td>7267.55</td>\n      <td>22788</td>\n      <td>android</td>\n      <td>SM-G930F</td>\n    </tr>\n    <tr>\n      <th>2</th>\n      <td>1710.08</td>\n      <td>136.88</td>\n      <td>7267.55</td>\n      <td>22789</td>\n      <td>android</td>\n      <td>SM-G930F</td>\n    </tr>\n    <tr>\n      <th>3</th>\n      <td>94.46</td>\n      <td>35.17</td>\n      <td>519.12</td>\n      <td>22790</td>\n      <td>android</td>\n      <td>D2303</td>\n    </tr>\n    <tr>\n      <th>4</th>\n      <td>71.59</td>\n      <td>79.26</td>\n      <td>1557.33</td>\n      <td>22792</td>\n      <td>android</td>\n      <td>SM-G361F</td>\n    </tr>\n  </tbody>\n</table>\n</div>"
     },
     "metadata": {},
     "execution_count": 83
    }
   ],
   "source": [
    "result_left_merge.head()"
   ]
  },
  {
   "cell_type": "markdown",
   "metadata": {},
   "source": [
    "### Le right merge\n",
    "\n",
    "Afficher la `shape` du dataset `user_device`, celle du dataset de sortie ainsi que les valeurs manquantes des colonnes `monthly_mb` et `platform`. "
   ]
  },
  {
   "cell_type": "code",
   "execution_count": 89,
   "metadata": {
    "scrolled": true,
    "tags": []
   },
   "outputs": [
    {
     "output_type": "stream",
     "name": "stdout",
     "text": "user_device dimensions :  (272, 6)\nresult dimensions :  (272, 6)\n"
    }
   ],
   "source": [
    "print(\"user_device dimensions : \",user_device.shape)\n",
    "result_right_merge = pds.merge(user_device,new_user_device, how=\"left\" )\n",
    "print(\"result dimensions : \",result_right_merge.shape)"
   ]
  },
  {
   "cell_type": "markdown",
   "metadata": {},
   "source": [
    "### Le outer merge example\n",
    "\n",
    "Afficher les valeurs unique de `use_id` des datasets `user_device` & `user_usage`, celle du dataset de sortie ainsi que les valeurs no manquantes. "
   ]
  },
  {
   "cell_type": "code",
   "execution_count": 47,
   "metadata": {},
   "outputs": [
    {
     "name": "stdout",
     "output_type": "stream",
     "text": [
      "There are 353 unique values of use_id in our dataframes.\n",
      "Outer merge result has (353, 7) rows.\n",
      "There are 159 rows with no missing values.\n"
     ]
    }
   ],
   "source": []
  },
  {
   "cell_type": "markdown",
   "metadata": {},
   "source": [
    "### Afficher les lignes `0,1,200,201,350,351`"
   ]
  },
  {
   "cell_type": "code",
   "execution_count": 113,
   "metadata": {
    "tags": []
   },
   "outputs": [
    {
     "output_type": "execute_result",
     "data": {
      "text/plain": "     outgoing_mins_per_month  outgoing_sms_per_month  monthly_mb  use_id  \\\n0                      21.97                    4.82     1557.33   22787   \n1                    1710.08                  136.88     7267.55   22788   \n200                    28.79                   29.42     3114.67   23988   \n201                   616.56                   99.85     5414.14   24006   \n350                      NaN                     NaN         NaN   23050   \n351                      NaN                     NaN         NaN   23051   \n\n    platform     device      _merge  \n0    android   GT-I9505        both  \n1    android   SM-G930F        both  \n200      NaN        NaN   left_only  \n201      NaN        NaN   left_only  \n350      ios  iPhone7,2  right_only  \n351      ios  iPhone7,2  right_only  ",
      "text/html": "<div>\n<style scoped>\n    .dataframe tbody tr th:only-of-type {\n        vertical-align: middle;\n    }\n\n    .dataframe tbody tr th {\n        vertical-align: top;\n    }\n\n    .dataframe thead th {\n        text-align: right;\n    }\n</style>\n<table border=\"1\" class=\"dataframe\">\n  <thead>\n    <tr style=\"text-align: right;\">\n      <th></th>\n      <th>outgoing_mins_per_month</th>\n      <th>outgoing_sms_per_month</th>\n      <th>monthly_mb</th>\n      <th>use_id</th>\n      <th>platform</th>\n      <th>device</th>\n      <th>_merge</th>\n    </tr>\n  </thead>\n  <tbody>\n    <tr>\n      <th>0</th>\n      <td>21.97</td>\n      <td>4.82</td>\n      <td>1557.33</td>\n      <td>22787</td>\n      <td>android</td>\n      <td>GT-I9505</td>\n      <td>both</td>\n    </tr>\n    <tr>\n      <th>1</th>\n      <td>1710.08</td>\n      <td>136.88</td>\n      <td>7267.55</td>\n      <td>22788</td>\n      <td>android</td>\n      <td>SM-G930F</td>\n      <td>both</td>\n    </tr>\n    <tr>\n      <th>200</th>\n      <td>28.79</td>\n      <td>29.42</td>\n      <td>3114.67</td>\n      <td>23988</td>\n      <td>NaN</td>\n      <td>NaN</td>\n      <td>left_only</td>\n    </tr>\n    <tr>\n      <th>201</th>\n      <td>616.56</td>\n      <td>99.85</td>\n      <td>5414.14</td>\n      <td>24006</td>\n      <td>NaN</td>\n      <td>NaN</td>\n      <td>left_only</td>\n    </tr>\n    <tr>\n      <th>350</th>\n      <td>NaN</td>\n      <td>NaN</td>\n      <td>NaN</td>\n      <td>23050</td>\n      <td>ios</td>\n      <td>iPhone7,2</td>\n      <td>right_only</td>\n    </tr>\n    <tr>\n      <th>351</th>\n      <td>NaN</td>\n      <td>NaN</td>\n      <td>NaN</td>\n      <td>23051</td>\n      <td>ios</td>\n      <td>iPhone7,2</td>\n      <td>right_only</td>\n    </tr>\n  </tbody>\n</table>\n</div>"
     },
     "metadata": {},
     "execution_count": 113
    }
   ],
   "source": [
    "result = pds.merge(user_usage,new_user_device, indicator=True, how=\"outer\")\n",
    "result.iloc[[0,1,200,201,350,351]]"
   ]
  },
  {
   "cell_type": "markdown",
   "metadata": {},
   "source": [
    "### Ajouter les colonnes `device` & `manufacturer`"
   ]
  },
  {
   "cell_type": "code",
   "execution_count": 117,
   "metadata": {
    "scrolled": true,
    "tags": []
   },
   "outputs": [
    {
     "output_type": "stream",
     "name": "stdout",
     "text": "outgoing_mins_per_month  outgoing_sms_per_month  monthly_mb  use_id  \\\n0                    21.97                    4.82     1557.33   22787   \n1                  1710.08                  136.88     7267.55   22788   \n2                  1710.08                  136.88     7267.55   22789   \n3                    94.46                   35.17      519.12   22790   \n4                    71.59                   79.26     1557.33   22792   \n\n  platform    device  \n0  android  GT-I9505  \n1  android  SM-G930F  \n2  android  SM-G930F  \n3  android     D2303  \n4  android  SM-G361F  \n"
    }
   ],
   "source": [
    "result = pds.merge(user_usage,new_user_device, how=\"outer\")\n",
    "print(result.head())"
   ]
  },
  {
   "cell_type": "markdown",
   "metadata": {},
   "source": [
    "### Afficher les `device` commencant par 'GT'"
   ]
  },
  {
   "cell_type": "code",
   "execution_count": 131,
   "metadata": {
    "scrolled": true
   },
   "outputs": [
    {
     "output_type": "execute_result",
     "data": {
      "text/plain": "      Retail Branding          Marketing Name     Device      Model\n1095          Bitmore                 GTAB700    GTAB700   NID_7010\n1096          Bitmore                 GTAB900    GTAB900       S952\n2402          Grundig                 GTB1050    GTB1050   GTB 1050\n2403          Grundig                  GTB850     GTB850    GTB 850\n2404          Grundig                 TC69CA2     GTB801    GTB 801\n9125          Samsung                     NaN  GT-I5510M  GT-I5510M\n9126          Samsung                     NaN  GT-I5510T  GT-I5510T\n9127          Samsung                     NaN  GT-I5800L  GT-I5800L\n9128          Samsung                     NaN  GT-N7000B  GT-N7000B\n9129          Samsung                     NaN  GT-P7300B  GT-P7300B\n9130          Samsung                     NaN  GT-P7320T  GT-P7320T\n9131          Samsung                     NaN  GT-P7500M  GT-P7500M\n9132          Samsung                     NaN  GT-P7500R  GT-P7500R\n9133          Samsung                     NaN  GT-P7500V  GT-P7500V\n9134          Samsung                     NaN   GT-S5698   GT-S5698\n9135          Samsung                     NaN   GT-S5820   GT-S5820\n9136          Samsung                     NaN  GT-S5830V  GT-S5830V\n9173          Samsung                Absolute   GT-B9120   GT-B9120\n9184          Samsung                  Europa  GT-I5500B  GT-I5500B\n9185          Samsung                  Europa  GT-I5500L  GT-I5500L\n9186          Samsung                  Europa  GT-I5500M  GT-I5500M\n9187          Samsung                  Europa  GT-I5503T  GT-I5503T\n9188          Samsung                  Europa  GT-I5510L  GT-I5510L\n9191          Samsung          Galaxy (China)   GT-B9062   GT-B9062\n9288          Samsung              Galaxy Ace   GT-S5830   GT-S5830\n9289          Samsung              Galaxy Ace  GT-S5830B  GT-S5830B\n9290          Samsung              Galaxy Ace  GT-S5830C  GT-S5830C\n9291          Samsung              Galaxy Ace  GT-S5830D  GT-S5830D\n9292          Samsung              Galaxy Ace  GT-S5830F  GT-S5830F\n9293          Samsung              Galaxy Ace  GT-S5830G  GT-S5830G\n9294          Samsung              Galaxy Ace  GT-S5830L  GT-S5830L\n9295          Samsung              Galaxy Ace  GT-S5830M  GT-S5830M\n9296          Samsung              Galaxy Ace  GT-S5830T  GT-S5830T\n9297          Samsung              Galaxy Ace  GT-S5830i  GT-S5830i\n9298          Samsung              Galaxy Ace  GT-S5831i  GT-S5831i\n9299          Samsung              Galaxy Ace   GT-S5838   GT-S5838\n9300          Samsung              Galaxy Ace  GT-S5839i  GT-S5839i\n9301          Samsung              Galaxy Ace   GT-S6358   GT-S6358\n9311          Samsung      Galaxy Ace Advance   GT-S6800   GT-S6800\n9312          Samsung         Galaxy Ace Duos   GT-S6352   GT-S6352\n9313          Samsung         Galaxy Ace Duos   GT-S6802   GT-S6802\n9314          Samsung         Galaxy Ace Duos  GT-S6802B  GT-S6802B\n9320          Samsung         Galaxy Ace Plus   GT-S7500   GT-S7500\n9321          Samsung         Galaxy Ace Plus  GT-S7500L  GT-S7500L\n9322          Samsung         Galaxy Ace Plus  GT-S7500T  GT-S7500T\n9323          Samsung         Galaxy Ace Plus  GT-S7500W  GT-S7500W\n9324          Samsung         Galaxy Ace Plus   GT-S7508   GT-S7508\n9330          Samsung             Galaxy Ace2   GT-I8160   GT-I8160\n9331          Samsung             Galaxy Ace2  GT-I8160L  GT-I8160L\n9332          Samsung             Galaxy Ace2  GT-I8160P  GT-I8160P\n9379          Samsung           Galaxy Apollo   GT-I5800   GT-I5800\n9380          Samsung           Galaxy Apollo   GT-I5800  GT-I5800L\n9381          Samsung           Galaxy Apollo  GT-I5800D  GT-I5800D\n9382          Samsung           Galaxy Apollo   GT-I5801   GT-I5801\n9387          Samsung             Galaxy Beam   GT-I8250   GT-I8250\n9388          Samsung             Galaxy Beam   GT-I8530   GT-I8530\n9480          Samsung           Galaxy Europa   GT-I5500   GT-I5500\n9481          Samsung           Galaxy Europa   GT-I5503   GT-I5503\n9482          Samsung           Galaxy Europa   GT-I5508   GT-I5508\n9483          Samsung           Galaxy Europa   GT-I5510   GT-I5510\n9513          Samsung              Galaxy Fit   GT-S5670   GT-S5670\n9514          Samsung              Galaxy Fit  GT-S5670B  GT-S5670B\n9515          Samsung              Galaxy Fit  GT-S5670L  GT-S5670L\n9525          Samsung              Galaxy Gio   GT-S5660   GT-S5660\n9526          Samsung              Galaxy Gio  GT-S5660B  GT-S5660B\n9527          Samsung              Galaxy Gio  GT-S5660L  GT-S5660L\n9528          Samsung              Galaxy Gio  GT-S5660M  GT-S5660M\n9529          Samsung              Galaxy Gio  GT-S5660V  GT-S5660V\n9762          Samsung             Galaxy Mini   GT-S5570   GT-S5570\n9763          Samsung             Galaxy Mini  GT-S5570B  GT-S5570B\n9764          Samsung             Galaxy Mini  GT-S5570I  GT-S5570I\n9765          Samsung             Galaxy Mini  GT-S5570L  GT-S5570L\n9766          Samsung             Galaxy Mini   GT-S5578   GT-S5578\n9770          Samsung            Galaxy Mini2   GT-S6500   GT-S6500\n9771          Samsung            Galaxy Mini2  GT-S6500D  GT-S6500D\n9772          Samsung            Galaxy Mini2  GT-S6500L  GT-S6500L\n9773          Samsung            Galaxy Mini2  GT-S6500T  GT-S6500T\n9786          Samsung             Galaxy Note   GT-I9220   GT-I9220\n9787          Samsung             Galaxy Note   GT-I9228   GT-I9228\n9788          Samsung             Galaxy Note   GT-N7000   GT-N7000\n9789          Samsung             Galaxy Note   GT-N7005   GT-N7005\n10015         Samsung           Galaxy Pocket   GT-S5300   GT-S5300\n10016         Samsung           Galaxy Pocket  GT-S5300B  GT-S5300B\n10017         Samsung           Galaxy Pocket  GT-S5300L  GT-S5300L\n10018         Samsung           Galaxy Pocket   GT-S5302   GT-S5302\n10019         Samsung           Galaxy Pocket  GT-S5302B  GT-S5302B\n10051         Samsung              Galaxy Pro   GT-B7510   GT-B7510\n10052         Samsung              Galaxy Pro  GT-B7510B  GT-B7510B\n10053         Samsung              Galaxy Pro  GT-B7510L  GT-B7510L\n10066         Samsung                Galaxy S   GT-I9000   GT-I9000\n10067         Samsung                Galaxy S  GT-I9000B  GT-I9000B\n10068         Samsung                Galaxy S  GT-I9000M  GT-I9000M\n10069         Samsung                Galaxy S  GT-I9000T  GT-I9000T\n10070         Samsung                Galaxy S   GT-I9003   GT-I9003\n10071         Samsung                Galaxy S  GT-I9003L  GT-I9003L\n10072         Samsung                Galaxy S  GT-I9008L  GT-I9008L\n10073         Samsung                Galaxy S   GT-I9010   GT-I9010\n10074         Samsung                Galaxy S   GT-I9018   GT-I9018\n10075         Samsung                Galaxy S   GT-I9050   GT-I9050\n10087         Samsung        Galaxy S Advance   GT-I9070   GT-I9070\n10088         Samsung        Galaxy S Advance  GT-I9070P  GT-I9070P\n10107         Samsung           Galaxy S Plus   GT-I9001   GT-I9001\n10112         Samsung               Galaxy S2   GT-I9100   GT-I9100\n10113         Samsung               Galaxy S2  GT-I9100M  GT-I9100M\n10114         Samsung               Galaxy S2  GT-I9100P  GT-I9100P\n10115         Samsung               Galaxy S2  GT-I9100T  GT-I9100T\n10116         Samsung               Galaxy S2   GT-I9103   GT-I9103\n10117         Samsung               Galaxy S2   GT-I9108   GT-I9108\n10118         Samsung               Galaxy S2  GT-I9210T  GT-I9210T\n10139         Samsung           Galaxy S2 LTE   GT-I9210   GT-I9210\n10142         Samsung          Galaxy S2 Plus  GT-I9100G  GT-I9100G\n10418         Samsung            Galaxy Spica   GT-I5700   GT-I5700\n10419         Samsung            Galaxy Spica   GT-I5700  GT-I5700L\n10420         Samsung            Galaxy Spica   GT-I5700  GT-I5700R\n10421         Samsung            Galaxy Spica  GT-I5700L  GT-I5700L\n10435         Samsung              Galaxy Tab   GT-P1000   GT-P1000\n10436         Samsung              Galaxy Tab  GT-P1000L  GT-P1000L\n10437         Samsung              Galaxy Tab  GT-P1000M  GT-P1000M\n10438         Samsung              Galaxy Tab  GT-P1000N  GT-P1000N\n10439         Samsung              Galaxy Tab  GT-P1000R  GT-P1000R\n10440         Samsung              Galaxy Tab  GT-P1000T  GT-P1000T\n10441         Samsung              Galaxy Tab   GT-P1010   GT-P1010\n10442         Samsung              Galaxy Tab   GT-P1013   GT-P1013\n10451         Samsung         Galaxy Tab 10.1   GT-P7500   GT-P7500\n10452         Samsung         Galaxy Tab 10.1  GT-P7500D  GT-P7500D\n10453         Samsung         Galaxy Tab 10.1   GT-P7503   GT-P7503\n10454         Samsung         Galaxy Tab 10.1   GT-P7510   GT-P7510\n10462         Samsung       Galaxy Tab 10.1 N   GT-P7501   GT-P7501\n10463         Samsung       Galaxy Tab 10.1 N   GT-P7511   GT-P7511\n10472         Samsung     Galaxy Tab 7.0 Plus   GT-P6200   GT-P6200\n10473         Samsung     Galaxy Tab 7.0 Plus  GT-P6200L  GT-P6200L\n10474         Samsung     Galaxy Tab 7.0 Plus   GT-P6201   GT-P6201\n10475         Samsung     Galaxy Tab 7.0 Plus   GT-P6210   GT-P6210\n10476         Samsung     Galaxy Tab 7.0 Plus   GT-P6211   GT-P6211\n10480         Samsung          Galaxy Tab 7.7   GT-P6800   GT-P6800\n10481         Samsung          Galaxy Tab 7.7   GT-P6810   GT-P6810\n10484         Samsung          Galaxy Tab 8.9   GT-P7300   GT-P7300\n10485         Samsung          Galaxy Tab 8.9   GT-P7310   GT-P7310\n10486         Samsung          Galaxy Tab 8.9   GT-P7320   GT-P7320\n10778         Samsung                Galaxy W   GT-I8150   GT-I8150\n10779         Samsung                Galaxy W  GT-I8150B  GT-I8150B\n10780         Samsung                Galaxy W  GT-I8150T  GT-I8150T\n10796         Samsung           Galaxy Xcover   GT-S5690   GT-S5690\n10797         Samsung           Galaxy Xcover  GT-S5690L  GT-S5690L\n10798         Samsung           Galaxy Xcover  GT-S5690M  GT-S5690M\n10799         Samsung           Galaxy Xcover  GT-S5690R  GT-S5690R\n10804         Samsung                Galaxy Y   GT-S5360   GT-S5360\n10805         Samsung                Galaxy Y  GT-S5360B  GT-S5360B\n10806         Samsung                Galaxy Y  GT-S5360L  GT-S5360L\n10807         Samsung                Galaxy Y  GT-S5360T  GT-S5360T\n10808         Samsung                Galaxy Y   GT-S5363   GT-S5363\n10809         Samsung                Galaxy Y   GT-S5368   GT-S5368\n10810         Samsung                Galaxy Y   GT-S5369   GT-S5369\n10813         Samsung           Galaxy Y Duos   GT-S6102   GT-S6102\n10814         Samsung           Galaxy Y Duos  GT-S6102B  GT-S6102B\n10815         Samsung           Galaxy Y Duos  GT-S6102E  GT-S6102E\n10818         Samsung            Galaxy Y Pop   GT-S6108   GT-S6108\n10819         Samsung            Galaxy Y Pro   GT-B5510   GT-B5510\n10820         Samsung            Galaxy Y Pro  GT-B5510B  GT-B5510B\n10821         Samsung            Galaxy Y Pro  GT-B5510L  GT-B5510L\n10822         Samsung       Galaxy Y Pro Duos   GT-B5512   GT-B5512\n10823         Samsung       Galaxy Y Pro Duos  GT-B5512B  GT-B5512B\n10824         Samsung             Galaxy Y TV   GT-S5367   GT-S5367\n10979           Sharp  AQUOS SERIE mini SHV38        GTQ      SHV38",
      "text/html": "<div>\n<style scoped>\n    .dataframe tbody tr th:only-of-type {\n        vertical-align: middle;\n    }\n\n    .dataframe tbody tr th {\n        vertical-align: top;\n    }\n\n    .dataframe thead th {\n        text-align: right;\n    }\n</style>\n<table border=\"1\" class=\"dataframe\">\n  <thead>\n    <tr style=\"text-align: right;\">\n      <th></th>\n      <th>Retail Branding</th>\n      <th>Marketing Name</th>\n      <th>Device</th>\n      <th>Model</th>\n    </tr>\n  </thead>\n  <tbody>\n    <tr>\n      <th>1095</th>\n      <td>Bitmore</td>\n      <td>GTAB700</td>\n      <td>GTAB700</td>\n      <td>NID_7010</td>\n    </tr>\n    <tr>\n      <th>1096</th>\n      <td>Bitmore</td>\n      <td>GTAB900</td>\n      <td>GTAB900</td>\n      <td>S952</td>\n    </tr>\n    <tr>\n      <th>2402</th>\n      <td>Grundig</td>\n      <td>GTB1050</td>\n      <td>GTB1050</td>\n      <td>GTB 1050</td>\n    </tr>\n    <tr>\n      <th>2403</th>\n      <td>Grundig</td>\n      <td>GTB850</td>\n      <td>GTB850</td>\n      <td>GTB 850</td>\n    </tr>\n    <tr>\n      <th>2404</th>\n      <td>Grundig</td>\n      <td>TC69CA2</td>\n      <td>GTB801</td>\n      <td>GTB 801</td>\n    </tr>\n    <tr>\n      <th>9125</th>\n      <td>Samsung</td>\n      <td>NaN</td>\n      <td>GT-I5510M</td>\n      <td>GT-I5510M</td>\n    </tr>\n    <tr>\n      <th>9126</th>\n      <td>Samsung</td>\n      <td>NaN</td>\n      <td>GT-I5510T</td>\n      <td>GT-I5510T</td>\n    </tr>\n    <tr>\n      <th>9127</th>\n      <td>Samsung</td>\n      <td>NaN</td>\n      <td>GT-I5800L</td>\n      <td>GT-I5800L</td>\n    </tr>\n    <tr>\n      <th>9128</th>\n      <td>Samsung</td>\n      <td>NaN</td>\n      <td>GT-N7000B</td>\n      <td>GT-N7000B</td>\n    </tr>\n    <tr>\n      <th>9129</th>\n      <td>Samsung</td>\n      <td>NaN</td>\n      <td>GT-P7300B</td>\n      <td>GT-P7300B</td>\n    </tr>\n    <tr>\n      <th>9130</th>\n      <td>Samsung</td>\n      <td>NaN</td>\n      <td>GT-P7320T</td>\n      <td>GT-P7320T</td>\n    </tr>\n    <tr>\n      <th>9131</th>\n      <td>Samsung</td>\n      <td>NaN</td>\n      <td>GT-P7500M</td>\n      <td>GT-P7500M</td>\n    </tr>\n    <tr>\n      <th>9132</th>\n      <td>Samsung</td>\n      <td>NaN</td>\n      <td>GT-P7500R</td>\n      <td>GT-P7500R</td>\n    </tr>\n    <tr>\n      <th>9133</th>\n      <td>Samsung</td>\n      <td>NaN</td>\n      <td>GT-P7500V</td>\n      <td>GT-P7500V</td>\n    </tr>\n    <tr>\n      <th>9134</th>\n      <td>Samsung</td>\n      <td>NaN</td>\n      <td>GT-S5698</td>\n      <td>GT-S5698</td>\n    </tr>\n    <tr>\n      <th>9135</th>\n      <td>Samsung</td>\n      <td>NaN</td>\n      <td>GT-S5820</td>\n      <td>GT-S5820</td>\n    </tr>\n    <tr>\n      <th>9136</th>\n      <td>Samsung</td>\n      <td>NaN</td>\n      <td>GT-S5830V</td>\n      <td>GT-S5830V</td>\n    </tr>\n    <tr>\n      <th>9173</th>\n      <td>Samsung</td>\n      <td>Absolute</td>\n      <td>GT-B9120</td>\n      <td>GT-B9120</td>\n    </tr>\n    <tr>\n      <th>9184</th>\n      <td>Samsung</td>\n      <td>Europa</td>\n      <td>GT-I5500B</td>\n      <td>GT-I5500B</td>\n    </tr>\n    <tr>\n      <th>9185</th>\n      <td>Samsung</td>\n      <td>Europa</td>\n      <td>GT-I5500L</td>\n      <td>GT-I5500L</td>\n    </tr>\n    <tr>\n      <th>9186</th>\n      <td>Samsung</td>\n      <td>Europa</td>\n      <td>GT-I5500M</td>\n      <td>GT-I5500M</td>\n    </tr>\n    <tr>\n      <th>9187</th>\n      <td>Samsung</td>\n      <td>Europa</td>\n      <td>GT-I5503T</td>\n      <td>GT-I5503T</td>\n    </tr>\n    <tr>\n      <th>9188</th>\n      <td>Samsung</td>\n      <td>Europa</td>\n      <td>GT-I5510L</td>\n      <td>GT-I5510L</td>\n    </tr>\n    <tr>\n      <th>9191</th>\n      <td>Samsung</td>\n      <td>Galaxy (China)</td>\n      <td>GT-B9062</td>\n      <td>GT-B9062</td>\n    </tr>\n    <tr>\n      <th>9288</th>\n      <td>Samsung</td>\n      <td>Galaxy Ace</td>\n      <td>GT-S5830</td>\n      <td>GT-S5830</td>\n    </tr>\n    <tr>\n      <th>9289</th>\n      <td>Samsung</td>\n      <td>Galaxy Ace</td>\n      <td>GT-S5830B</td>\n      <td>GT-S5830B</td>\n    </tr>\n    <tr>\n      <th>9290</th>\n      <td>Samsung</td>\n      <td>Galaxy Ace</td>\n      <td>GT-S5830C</td>\n      <td>GT-S5830C</td>\n    </tr>\n    <tr>\n      <th>9291</th>\n      <td>Samsung</td>\n      <td>Galaxy Ace</td>\n      <td>GT-S5830D</td>\n      <td>GT-S5830D</td>\n    </tr>\n    <tr>\n      <th>9292</th>\n      <td>Samsung</td>\n      <td>Galaxy Ace</td>\n      <td>GT-S5830F</td>\n      <td>GT-S5830F</td>\n    </tr>\n    <tr>\n      <th>9293</th>\n      <td>Samsung</td>\n      <td>Galaxy Ace</td>\n      <td>GT-S5830G</td>\n      <td>GT-S5830G</td>\n    </tr>\n    <tr>\n      <th>9294</th>\n      <td>Samsung</td>\n      <td>Galaxy Ace</td>\n      <td>GT-S5830L</td>\n      <td>GT-S5830L</td>\n    </tr>\n    <tr>\n      <th>9295</th>\n      <td>Samsung</td>\n      <td>Galaxy Ace</td>\n      <td>GT-S5830M</td>\n      <td>GT-S5830M</td>\n    </tr>\n    <tr>\n      <th>9296</th>\n      <td>Samsung</td>\n      <td>Galaxy Ace</td>\n      <td>GT-S5830T</td>\n      <td>GT-S5830T</td>\n    </tr>\n    <tr>\n      <th>9297</th>\n      <td>Samsung</td>\n      <td>Galaxy Ace</td>\n      <td>GT-S5830i</td>\n      <td>GT-S5830i</td>\n    </tr>\n    <tr>\n      <th>9298</th>\n      <td>Samsung</td>\n      <td>Galaxy Ace</td>\n      <td>GT-S5831i</td>\n      <td>GT-S5831i</td>\n    </tr>\n    <tr>\n      <th>9299</th>\n      <td>Samsung</td>\n      <td>Galaxy Ace</td>\n      <td>GT-S5838</td>\n      <td>GT-S5838</td>\n    </tr>\n    <tr>\n      <th>9300</th>\n      <td>Samsung</td>\n      <td>Galaxy Ace</td>\n      <td>GT-S5839i</td>\n      <td>GT-S5839i</td>\n    </tr>\n    <tr>\n      <th>9301</th>\n      <td>Samsung</td>\n      <td>Galaxy Ace</td>\n      <td>GT-S6358</td>\n      <td>GT-S6358</td>\n    </tr>\n    <tr>\n      <th>9311</th>\n      <td>Samsung</td>\n      <td>Galaxy Ace Advance</td>\n      <td>GT-S6800</td>\n      <td>GT-S6800</td>\n    </tr>\n    <tr>\n      <th>9312</th>\n      <td>Samsung</td>\n      <td>Galaxy Ace Duos</td>\n      <td>GT-S6352</td>\n      <td>GT-S6352</td>\n    </tr>\n    <tr>\n      <th>9313</th>\n      <td>Samsung</td>\n      <td>Galaxy Ace Duos</td>\n      <td>GT-S6802</td>\n      <td>GT-S6802</td>\n    </tr>\n    <tr>\n      <th>9314</th>\n      <td>Samsung</td>\n      <td>Galaxy Ace Duos</td>\n      <td>GT-S6802B</td>\n      <td>GT-S6802B</td>\n    </tr>\n    <tr>\n      <th>9320</th>\n      <td>Samsung</td>\n      <td>Galaxy Ace Plus</td>\n      <td>GT-S7500</td>\n      <td>GT-S7500</td>\n    </tr>\n    <tr>\n      <th>9321</th>\n      <td>Samsung</td>\n      <td>Galaxy Ace Plus</td>\n      <td>GT-S7500L</td>\n      <td>GT-S7500L</td>\n    </tr>\n    <tr>\n      <th>9322</th>\n      <td>Samsung</td>\n      <td>Galaxy Ace Plus</td>\n      <td>GT-S7500T</td>\n      <td>GT-S7500T</td>\n    </tr>\n    <tr>\n      <th>9323</th>\n      <td>Samsung</td>\n      <td>Galaxy Ace Plus</td>\n      <td>GT-S7500W</td>\n      <td>GT-S7500W</td>\n    </tr>\n    <tr>\n      <th>9324</th>\n      <td>Samsung</td>\n      <td>Galaxy Ace Plus</td>\n      <td>GT-S7508</td>\n      <td>GT-S7508</td>\n    </tr>\n    <tr>\n      <th>9330</th>\n      <td>Samsung</td>\n      <td>Galaxy Ace2</td>\n      <td>GT-I8160</td>\n      <td>GT-I8160</td>\n    </tr>\n    <tr>\n      <th>9331</th>\n      <td>Samsung</td>\n      <td>Galaxy Ace2</td>\n      <td>GT-I8160L</td>\n      <td>GT-I8160L</td>\n    </tr>\n    <tr>\n      <th>9332</th>\n      <td>Samsung</td>\n      <td>Galaxy Ace2</td>\n      <td>GT-I8160P</td>\n      <td>GT-I8160P</td>\n    </tr>\n    <tr>\n      <th>9379</th>\n      <td>Samsung</td>\n      <td>Galaxy Apollo</td>\n      <td>GT-I5800</td>\n      <td>GT-I5800</td>\n    </tr>\n    <tr>\n      <th>9380</th>\n      <td>Samsung</td>\n      <td>Galaxy Apollo</td>\n      <td>GT-I5800</td>\n      <td>GT-I5800L</td>\n    </tr>\n    <tr>\n      <th>9381</th>\n      <td>Samsung</td>\n      <td>Galaxy Apollo</td>\n      <td>GT-I5800D</td>\n      <td>GT-I5800D</td>\n    </tr>\n    <tr>\n      <th>9382</th>\n      <td>Samsung</td>\n      <td>Galaxy Apollo</td>\n      <td>GT-I5801</td>\n      <td>GT-I5801</td>\n    </tr>\n    <tr>\n      <th>9387</th>\n      <td>Samsung</td>\n      <td>Galaxy Beam</td>\n      <td>GT-I8250</td>\n      <td>GT-I8250</td>\n    </tr>\n    <tr>\n      <th>9388</th>\n      <td>Samsung</td>\n      <td>Galaxy Beam</td>\n      <td>GT-I8530</td>\n      <td>GT-I8530</td>\n    </tr>\n    <tr>\n      <th>9480</th>\n      <td>Samsung</td>\n      <td>Galaxy Europa</td>\n      <td>GT-I5500</td>\n      <td>GT-I5500</td>\n    </tr>\n    <tr>\n      <th>9481</th>\n      <td>Samsung</td>\n      <td>Galaxy Europa</td>\n      <td>GT-I5503</td>\n      <td>GT-I5503</td>\n    </tr>\n    <tr>\n      <th>9482</th>\n      <td>Samsung</td>\n      <td>Galaxy Europa</td>\n      <td>GT-I5508</td>\n      <td>GT-I5508</td>\n    </tr>\n    <tr>\n      <th>9483</th>\n      <td>Samsung</td>\n      <td>Galaxy Europa</td>\n      <td>GT-I5510</td>\n      <td>GT-I5510</td>\n    </tr>\n    <tr>\n      <th>9513</th>\n      <td>Samsung</td>\n      <td>Galaxy Fit</td>\n      <td>GT-S5670</td>\n      <td>GT-S5670</td>\n    </tr>\n    <tr>\n      <th>9514</th>\n      <td>Samsung</td>\n      <td>Galaxy Fit</td>\n      <td>GT-S5670B</td>\n      <td>GT-S5670B</td>\n    </tr>\n    <tr>\n      <th>9515</th>\n      <td>Samsung</td>\n      <td>Galaxy Fit</td>\n      <td>GT-S5670L</td>\n      <td>GT-S5670L</td>\n    </tr>\n    <tr>\n      <th>9525</th>\n      <td>Samsung</td>\n      <td>Galaxy Gio</td>\n      <td>GT-S5660</td>\n      <td>GT-S5660</td>\n    </tr>\n    <tr>\n      <th>9526</th>\n      <td>Samsung</td>\n      <td>Galaxy Gio</td>\n      <td>GT-S5660B</td>\n      <td>GT-S5660B</td>\n    </tr>\n    <tr>\n      <th>9527</th>\n      <td>Samsung</td>\n      <td>Galaxy Gio</td>\n      <td>GT-S5660L</td>\n      <td>GT-S5660L</td>\n    </tr>\n    <tr>\n      <th>9528</th>\n      <td>Samsung</td>\n      <td>Galaxy Gio</td>\n      <td>GT-S5660M</td>\n      <td>GT-S5660M</td>\n    </tr>\n    <tr>\n      <th>9529</th>\n      <td>Samsung</td>\n      <td>Galaxy Gio</td>\n      <td>GT-S5660V</td>\n      <td>GT-S5660V</td>\n    </tr>\n    <tr>\n      <th>9762</th>\n      <td>Samsung</td>\n      <td>Galaxy Mini</td>\n      <td>GT-S5570</td>\n      <td>GT-S5570</td>\n    </tr>\n    <tr>\n      <th>9763</th>\n      <td>Samsung</td>\n      <td>Galaxy Mini</td>\n      <td>GT-S5570B</td>\n      <td>GT-S5570B</td>\n    </tr>\n    <tr>\n      <th>9764</th>\n      <td>Samsung</td>\n      <td>Galaxy Mini</td>\n      <td>GT-S5570I</td>\n      <td>GT-S5570I</td>\n    </tr>\n    <tr>\n      <th>9765</th>\n      <td>Samsung</td>\n      <td>Galaxy Mini</td>\n      <td>GT-S5570L</td>\n      <td>GT-S5570L</td>\n    </tr>\n    <tr>\n      <th>9766</th>\n      <td>Samsung</td>\n      <td>Galaxy Mini</td>\n      <td>GT-S5578</td>\n      <td>GT-S5578</td>\n    </tr>\n    <tr>\n      <th>9770</th>\n      <td>Samsung</td>\n      <td>Galaxy Mini2</td>\n      <td>GT-S6500</td>\n      <td>GT-S6500</td>\n    </tr>\n    <tr>\n      <th>9771</th>\n      <td>Samsung</td>\n      <td>Galaxy Mini2</td>\n      <td>GT-S6500D</td>\n      <td>GT-S6500D</td>\n    </tr>\n    <tr>\n      <th>9772</th>\n      <td>Samsung</td>\n      <td>Galaxy Mini2</td>\n      <td>GT-S6500L</td>\n      <td>GT-S6500L</td>\n    </tr>\n    <tr>\n      <th>9773</th>\n      <td>Samsung</td>\n      <td>Galaxy Mini2</td>\n      <td>GT-S6500T</td>\n      <td>GT-S6500T</td>\n    </tr>\n    <tr>\n      <th>9786</th>\n      <td>Samsung</td>\n      <td>Galaxy Note</td>\n      <td>GT-I9220</td>\n      <td>GT-I9220</td>\n    </tr>\n    <tr>\n      <th>9787</th>\n      <td>Samsung</td>\n      <td>Galaxy Note</td>\n      <td>GT-I9228</td>\n      <td>GT-I9228</td>\n    </tr>\n    <tr>\n      <th>9788</th>\n      <td>Samsung</td>\n      <td>Galaxy Note</td>\n      <td>GT-N7000</td>\n      <td>GT-N7000</td>\n    </tr>\n    <tr>\n      <th>9789</th>\n      <td>Samsung</td>\n      <td>Galaxy Note</td>\n      <td>GT-N7005</td>\n      <td>GT-N7005</td>\n    </tr>\n    <tr>\n      <th>10015</th>\n      <td>Samsung</td>\n      <td>Galaxy Pocket</td>\n      <td>GT-S5300</td>\n      <td>GT-S5300</td>\n    </tr>\n    <tr>\n      <th>10016</th>\n      <td>Samsung</td>\n      <td>Galaxy Pocket</td>\n      <td>GT-S5300B</td>\n      <td>GT-S5300B</td>\n    </tr>\n    <tr>\n      <th>10017</th>\n      <td>Samsung</td>\n      <td>Galaxy Pocket</td>\n      <td>GT-S5300L</td>\n      <td>GT-S5300L</td>\n    </tr>\n    <tr>\n      <th>10018</th>\n      <td>Samsung</td>\n      <td>Galaxy Pocket</td>\n      <td>GT-S5302</td>\n      <td>GT-S5302</td>\n    </tr>\n    <tr>\n      <th>10019</th>\n      <td>Samsung</td>\n      <td>Galaxy Pocket</td>\n      <td>GT-S5302B</td>\n      <td>GT-S5302B</td>\n    </tr>\n    <tr>\n      <th>10051</th>\n      <td>Samsung</td>\n      <td>Galaxy Pro</td>\n      <td>GT-B7510</td>\n      <td>GT-B7510</td>\n    </tr>\n    <tr>\n      <th>10052</th>\n      <td>Samsung</td>\n      <td>Galaxy Pro</td>\n      <td>GT-B7510B</td>\n      <td>GT-B7510B</td>\n    </tr>\n    <tr>\n      <th>10053</th>\n      <td>Samsung</td>\n      <td>Galaxy Pro</td>\n      <td>GT-B7510L</td>\n      <td>GT-B7510L</td>\n    </tr>\n    <tr>\n      <th>10066</th>\n      <td>Samsung</td>\n      <td>Galaxy S</td>\n      <td>GT-I9000</td>\n      <td>GT-I9000</td>\n    </tr>\n    <tr>\n      <th>10067</th>\n      <td>Samsung</td>\n      <td>Galaxy S</td>\n      <td>GT-I9000B</td>\n      <td>GT-I9000B</td>\n    </tr>\n    <tr>\n      <th>10068</th>\n      <td>Samsung</td>\n      <td>Galaxy S</td>\n      <td>GT-I9000M</td>\n      <td>GT-I9000M</td>\n    </tr>\n    <tr>\n      <th>10069</th>\n      <td>Samsung</td>\n      <td>Galaxy S</td>\n      <td>GT-I9000T</td>\n      <td>GT-I9000T</td>\n    </tr>\n    <tr>\n      <th>10070</th>\n      <td>Samsung</td>\n      <td>Galaxy S</td>\n      <td>GT-I9003</td>\n      <td>GT-I9003</td>\n    </tr>\n    <tr>\n      <th>10071</th>\n      <td>Samsung</td>\n      <td>Galaxy S</td>\n      <td>GT-I9003L</td>\n      <td>GT-I9003L</td>\n    </tr>\n    <tr>\n      <th>10072</th>\n      <td>Samsung</td>\n      <td>Galaxy S</td>\n      <td>GT-I9008L</td>\n      <td>GT-I9008L</td>\n    </tr>\n    <tr>\n      <th>10073</th>\n      <td>Samsung</td>\n      <td>Galaxy S</td>\n      <td>GT-I9010</td>\n      <td>GT-I9010</td>\n    </tr>\n    <tr>\n      <th>10074</th>\n      <td>Samsung</td>\n      <td>Galaxy S</td>\n      <td>GT-I9018</td>\n      <td>GT-I9018</td>\n    </tr>\n    <tr>\n      <th>10075</th>\n      <td>Samsung</td>\n      <td>Galaxy S</td>\n      <td>GT-I9050</td>\n      <td>GT-I9050</td>\n    </tr>\n    <tr>\n      <th>10087</th>\n      <td>Samsung</td>\n      <td>Galaxy S Advance</td>\n      <td>GT-I9070</td>\n      <td>GT-I9070</td>\n    </tr>\n    <tr>\n      <th>10088</th>\n      <td>Samsung</td>\n      <td>Galaxy S Advance</td>\n      <td>GT-I9070P</td>\n      <td>GT-I9070P</td>\n    </tr>\n    <tr>\n      <th>10107</th>\n      <td>Samsung</td>\n      <td>Galaxy S Plus</td>\n      <td>GT-I9001</td>\n      <td>GT-I9001</td>\n    </tr>\n    <tr>\n      <th>10112</th>\n      <td>Samsung</td>\n      <td>Galaxy S2</td>\n      <td>GT-I9100</td>\n      <td>GT-I9100</td>\n    </tr>\n    <tr>\n      <th>10113</th>\n      <td>Samsung</td>\n      <td>Galaxy S2</td>\n      <td>GT-I9100M</td>\n      <td>GT-I9100M</td>\n    </tr>\n    <tr>\n      <th>10114</th>\n      <td>Samsung</td>\n      <td>Galaxy S2</td>\n      <td>GT-I9100P</td>\n      <td>GT-I9100P</td>\n    </tr>\n    <tr>\n      <th>10115</th>\n      <td>Samsung</td>\n      <td>Galaxy S2</td>\n      <td>GT-I9100T</td>\n      <td>GT-I9100T</td>\n    </tr>\n    <tr>\n      <th>10116</th>\n      <td>Samsung</td>\n      <td>Galaxy S2</td>\n      <td>GT-I9103</td>\n      <td>GT-I9103</td>\n    </tr>\n    <tr>\n      <th>10117</th>\n      <td>Samsung</td>\n      <td>Galaxy S2</td>\n      <td>GT-I9108</td>\n      <td>GT-I9108</td>\n    </tr>\n    <tr>\n      <th>10118</th>\n      <td>Samsung</td>\n      <td>Galaxy S2</td>\n      <td>GT-I9210T</td>\n      <td>GT-I9210T</td>\n    </tr>\n    <tr>\n      <th>10139</th>\n      <td>Samsung</td>\n      <td>Galaxy S2 LTE</td>\n      <td>GT-I9210</td>\n      <td>GT-I9210</td>\n    </tr>\n    <tr>\n      <th>10142</th>\n      <td>Samsung</td>\n      <td>Galaxy S2 Plus</td>\n      <td>GT-I9100G</td>\n      <td>GT-I9100G</td>\n    </tr>\n    <tr>\n      <th>10418</th>\n      <td>Samsung</td>\n      <td>Galaxy Spica</td>\n      <td>GT-I5700</td>\n      <td>GT-I5700</td>\n    </tr>\n    <tr>\n      <th>10419</th>\n      <td>Samsung</td>\n      <td>Galaxy Spica</td>\n      <td>GT-I5700</td>\n      <td>GT-I5700L</td>\n    </tr>\n    <tr>\n      <th>10420</th>\n      <td>Samsung</td>\n      <td>Galaxy Spica</td>\n      <td>GT-I5700</td>\n      <td>GT-I5700R</td>\n    </tr>\n    <tr>\n      <th>10421</th>\n      <td>Samsung</td>\n      <td>Galaxy Spica</td>\n      <td>GT-I5700L</td>\n      <td>GT-I5700L</td>\n    </tr>\n    <tr>\n      <th>10435</th>\n      <td>Samsung</td>\n      <td>Galaxy Tab</td>\n      <td>GT-P1000</td>\n      <td>GT-P1000</td>\n    </tr>\n    <tr>\n      <th>10436</th>\n      <td>Samsung</td>\n      <td>Galaxy Tab</td>\n      <td>GT-P1000L</td>\n      <td>GT-P1000L</td>\n    </tr>\n    <tr>\n      <th>10437</th>\n      <td>Samsung</td>\n      <td>Galaxy Tab</td>\n      <td>GT-P1000M</td>\n      <td>GT-P1000M</td>\n    </tr>\n    <tr>\n      <th>10438</th>\n      <td>Samsung</td>\n      <td>Galaxy Tab</td>\n      <td>GT-P1000N</td>\n      <td>GT-P1000N</td>\n    </tr>\n    <tr>\n      <th>10439</th>\n      <td>Samsung</td>\n      <td>Galaxy Tab</td>\n      <td>GT-P1000R</td>\n      <td>GT-P1000R</td>\n    </tr>\n    <tr>\n      <th>10440</th>\n      <td>Samsung</td>\n      <td>Galaxy Tab</td>\n      <td>GT-P1000T</td>\n      <td>GT-P1000T</td>\n    </tr>\n    <tr>\n      <th>10441</th>\n      <td>Samsung</td>\n      <td>Galaxy Tab</td>\n      <td>GT-P1010</td>\n      <td>GT-P1010</td>\n    </tr>\n    <tr>\n      <th>10442</th>\n      <td>Samsung</td>\n      <td>Galaxy Tab</td>\n      <td>GT-P1013</td>\n      <td>GT-P1013</td>\n    </tr>\n    <tr>\n      <th>10451</th>\n      <td>Samsung</td>\n      <td>Galaxy Tab 10.1</td>\n      <td>GT-P7500</td>\n      <td>GT-P7500</td>\n    </tr>\n    <tr>\n      <th>10452</th>\n      <td>Samsung</td>\n      <td>Galaxy Tab 10.1</td>\n      <td>GT-P7500D</td>\n      <td>GT-P7500D</td>\n    </tr>\n    <tr>\n      <th>10453</th>\n      <td>Samsung</td>\n      <td>Galaxy Tab 10.1</td>\n      <td>GT-P7503</td>\n      <td>GT-P7503</td>\n    </tr>\n    <tr>\n      <th>10454</th>\n      <td>Samsung</td>\n      <td>Galaxy Tab 10.1</td>\n      <td>GT-P7510</td>\n      <td>GT-P7510</td>\n    </tr>\n    <tr>\n      <th>10462</th>\n      <td>Samsung</td>\n      <td>Galaxy Tab 10.1 N</td>\n      <td>GT-P7501</td>\n      <td>GT-P7501</td>\n    </tr>\n    <tr>\n      <th>10463</th>\n      <td>Samsung</td>\n      <td>Galaxy Tab 10.1 N</td>\n      <td>GT-P7511</td>\n      <td>GT-P7511</td>\n    </tr>\n    <tr>\n      <th>10472</th>\n      <td>Samsung</td>\n      <td>Galaxy Tab 7.0 Plus</td>\n      <td>GT-P6200</td>\n      <td>GT-P6200</td>\n    </tr>\n    <tr>\n      <th>10473</th>\n      <td>Samsung</td>\n      <td>Galaxy Tab 7.0 Plus</td>\n      <td>GT-P6200L</td>\n      <td>GT-P6200L</td>\n    </tr>\n    <tr>\n      <th>10474</th>\n      <td>Samsung</td>\n      <td>Galaxy Tab 7.0 Plus</td>\n      <td>GT-P6201</td>\n      <td>GT-P6201</td>\n    </tr>\n    <tr>\n      <th>10475</th>\n      <td>Samsung</td>\n      <td>Galaxy Tab 7.0 Plus</td>\n      <td>GT-P6210</td>\n      <td>GT-P6210</td>\n    </tr>\n    <tr>\n      <th>10476</th>\n      <td>Samsung</td>\n      <td>Galaxy Tab 7.0 Plus</td>\n      <td>GT-P6211</td>\n      <td>GT-P6211</td>\n    </tr>\n    <tr>\n      <th>10480</th>\n      <td>Samsung</td>\n      <td>Galaxy Tab 7.7</td>\n      <td>GT-P6800</td>\n      <td>GT-P6800</td>\n    </tr>\n    <tr>\n      <th>10481</th>\n      <td>Samsung</td>\n      <td>Galaxy Tab 7.7</td>\n      <td>GT-P6810</td>\n      <td>GT-P6810</td>\n    </tr>\n    <tr>\n      <th>10484</th>\n      <td>Samsung</td>\n      <td>Galaxy Tab 8.9</td>\n      <td>GT-P7300</td>\n      <td>GT-P7300</td>\n    </tr>\n    <tr>\n      <th>10485</th>\n      <td>Samsung</td>\n      <td>Galaxy Tab 8.9</td>\n      <td>GT-P7310</td>\n      <td>GT-P7310</td>\n    </tr>\n    <tr>\n      <th>10486</th>\n      <td>Samsung</td>\n      <td>Galaxy Tab 8.9</td>\n      <td>GT-P7320</td>\n      <td>GT-P7320</td>\n    </tr>\n    <tr>\n      <th>10778</th>\n      <td>Samsung</td>\n      <td>Galaxy W</td>\n      <td>GT-I8150</td>\n      <td>GT-I8150</td>\n    </tr>\n    <tr>\n      <th>10779</th>\n      <td>Samsung</td>\n      <td>Galaxy W</td>\n      <td>GT-I8150B</td>\n      <td>GT-I8150B</td>\n    </tr>\n    <tr>\n      <th>10780</th>\n      <td>Samsung</td>\n      <td>Galaxy W</td>\n      <td>GT-I8150T</td>\n      <td>GT-I8150T</td>\n    </tr>\n    <tr>\n      <th>10796</th>\n      <td>Samsung</td>\n      <td>Galaxy Xcover</td>\n      <td>GT-S5690</td>\n      <td>GT-S5690</td>\n    </tr>\n    <tr>\n      <th>10797</th>\n      <td>Samsung</td>\n      <td>Galaxy Xcover</td>\n      <td>GT-S5690L</td>\n      <td>GT-S5690L</td>\n    </tr>\n    <tr>\n      <th>10798</th>\n      <td>Samsung</td>\n      <td>Galaxy Xcover</td>\n      <td>GT-S5690M</td>\n      <td>GT-S5690M</td>\n    </tr>\n    <tr>\n      <th>10799</th>\n      <td>Samsung</td>\n      <td>Galaxy Xcover</td>\n      <td>GT-S5690R</td>\n      <td>GT-S5690R</td>\n    </tr>\n    <tr>\n      <th>10804</th>\n      <td>Samsung</td>\n      <td>Galaxy Y</td>\n      <td>GT-S5360</td>\n      <td>GT-S5360</td>\n    </tr>\n    <tr>\n      <th>10805</th>\n      <td>Samsung</td>\n      <td>Galaxy Y</td>\n      <td>GT-S5360B</td>\n      <td>GT-S5360B</td>\n    </tr>\n    <tr>\n      <th>10806</th>\n      <td>Samsung</td>\n      <td>Galaxy Y</td>\n      <td>GT-S5360L</td>\n      <td>GT-S5360L</td>\n    </tr>\n    <tr>\n      <th>10807</th>\n      <td>Samsung</td>\n      <td>Galaxy Y</td>\n      <td>GT-S5360T</td>\n      <td>GT-S5360T</td>\n    </tr>\n    <tr>\n      <th>10808</th>\n      <td>Samsung</td>\n      <td>Galaxy Y</td>\n      <td>GT-S5363</td>\n      <td>GT-S5363</td>\n    </tr>\n    <tr>\n      <th>10809</th>\n      <td>Samsung</td>\n      <td>Galaxy Y</td>\n      <td>GT-S5368</td>\n      <td>GT-S5368</td>\n    </tr>\n    <tr>\n      <th>10810</th>\n      <td>Samsung</td>\n      <td>Galaxy Y</td>\n      <td>GT-S5369</td>\n      <td>GT-S5369</td>\n    </tr>\n    <tr>\n      <th>10813</th>\n      <td>Samsung</td>\n      <td>Galaxy Y Duos</td>\n      <td>GT-S6102</td>\n      <td>GT-S6102</td>\n    </tr>\n    <tr>\n      <th>10814</th>\n      <td>Samsung</td>\n      <td>Galaxy Y Duos</td>\n      <td>GT-S6102B</td>\n      <td>GT-S6102B</td>\n    </tr>\n    <tr>\n      <th>10815</th>\n      <td>Samsung</td>\n      <td>Galaxy Y Duos</td>\n      <td>GT-S6102E</td>\n      <td>GT-S6102E</td>\n    </tr>\n    <tr>\n      <th>10818</th>\n      <td>Samsung</td>\n      <td>Galaxy Y Pop</td>\n      <td>GT-S6108</td>\n      <td>GT-S6108</td>\n    </tr>\n    <tr>\n      <th>10819</th>\n      <td>Samsung</td>\n      <td>Galaxy Y Pro</td>\n      <td>GT-B5510</td>\n      <td>GT-B5510</td>\n    </tr>\n    <tr>\n      <th>10820</th>\n      <td>Samsung</td>\n      <td>Galaxy Y Pro</td>\n      <td>GT-B5510B</td>\n      <td>GT-B5510B</td>\n    </tr>\n    <tr>\n      <th>10821</th>\n      <td>Samsung</td>\n      <td>Galaxy Y Pro</td>\n      <td>GT-B5510L</td>\n      <td>GT-B5510L</td>\n    </tr>\n    <tr>\n      <th>10822</th>\n      <td>Samsung</td>\n      <td>Galaxy Y Pro Duos</td>\n      <td>GT-B5512</td>\n      <td>GT-B5512</td>\n    </tr>\n    <tr>\n      <th>10823</th>\n      <td>Samsung</td>\n      <td>Galaxy Y Pro Duos</td>\n      <td>GT-B5512B</td>\n      <td>GT-B5512B</td>\n    </tr>\n    <tr>\n      <th>10824</th>\n      <td>Samsung</td>\n      <td>Galaxy Y TV</td>\n      <td>GT-S5367</td>\n      <td>GT-S5367</td>\n    </tr>\n    <tr>\n      <th>10979</th>\n      <td>Sharp</td>\n      <td>AQUOS SERIE mini SHV38</td>\n      <td>GTQ</td>\n      <td>SHV38</td>\n    </tr>\n  </tbody>\n</table>\n</div>"
     },
     "metadata": {},
     "execution_count": 131
    }
   ],
   "source": [
    "pds.set_option('display.max_rows', None)\n",
    "android_devices[android_devices[\"Device\"].str.startswith(\"GT\")]\n"
   ]
  },
  {
   "cell_type": "markdown",
   "metadata": {},
   "source": [
    "### Afficher le dataset des résultats "
   ]
  },
  {
   "cell_type": "code",
   "execution_count": 80,
   "metadata": {
    "scrolled": false
   },
   "outputs": [
    {
     "data": {
      "text/html": [
       "<div>\n",
       "<table border=\"1\" class=\"dataframe\">\n",
       "  <thead>\n",
       "    <tr style=\"text-align: right;\">\n",
       "      <th></th>\n",
       "      <th>outgoing_mins_per_month</th>\n",
       "      <th>outgoing_sms_per_month</th>\n",
       "      <th>monthly_mb</th>\n",
       "      <th>use_id</th>\n",
       "      <th>platform</th>\n",
       "      <th>device</th>\n",
       "      <th>manufacturer</th>\n",
       "      <th>Model</th>\n",
       "    </tr>\n",
       "  </thead>\n",
       "  <tbody>\n",
       "    <tr>\n",
       "      <th>0</th>\n",
       "      <td>21.97</td>\n",
       "      <td>4.82</td>\n",
       "      <td>1557.33</td>\n",
       "      <td>22787</td>\n",
       "      <td>android</td>\n",
       "      <td>GT-I9505</td>\n",
       "      <td>Samsung</td>\n",
       "      <td>GT-I9505</td>\n",
       "    </tr>\n",
       "    <tr>\n",
       "      <th>1</th>\n",
       "      <td>1710.08</td>\n",
       "      <td>136.88</td>\n",
       "      <td>7267.55</td>\n",
       "      <td>22788</td>\n",
       "      <td>android</td>\n",
       "      <td>SM-G930F</td>\n",
       "      <td>Samsung</td>\n",
       "      <td>SM-G930F</td>\n",
       "    </tr>\n",
       "    <tr>\n",
       "      <th>2</th>\n",
       "      <td>1710.08</td>\n",
       "      <td>136.88</td>\n",
       "      <td>7267.55</td>\n",
       "      <td>22789</td>\n",
       "      <td>android</td>\n",
       "      <td>SM-G930F</td>\n",
       "      <td>Samsung</td>\n",
       "      <td>SM-G930F</td>\n",
       "    </tr>\n",
       "    <tr>\n",
       "      <th>3</th>\n",
       "      <td>94.46</td>\n",
       "      <td>35.17</td>\n",
       "      <td>519.12</td>\n",
       "      <td>22790</td>\n",
       "      <td>android</td>\n",
       "      <td>D2303</td>\n",
       "      <td>Sony</td>\n",
       "      <td>D2303</td>\n",
       "    </tr>\n",
       "    <tr>\n",
       "      <th>4</th>\n",
       "      <td>71.59</td>\n",
       "      <td>79.26</td>\n",
       "      <td>1557.33</td>\n",
       "      <td>22792</td>\n",
       "      <td>android</td>\n",
       "      <td>SM-G361F</td>\n",
       "      <td>Samsung</td>\n",
       "      <td>SM-G361F</td>\n",
       "    </tr>\n",
       "  </tbody>\n",
       "</table>\n",
       "</div>"
      ],
      "text/plain": [
       "   outgoing_mins_per_month  outgoing_sms_per_month  monthly_mb  use_id  \\\n",
       "0                    21.97                    4.82     1557.33   22787   \n",
       "1                  1710.08                  136.88     7267.55   22788   \n",
       "2                  1710.08                  136.88     7267.55   22789   \n",
       "3                    94.46                   35.17      519.12   22790   \n",
       "4                    71.59                   79.26     1557.33   22792   \n",
       "\n",
       "  platform    device manufacturer     Model  \n",
       "0  android  GT-I9505      Samsung  GT-I9505  \n",
       "1  android  SM-G930F      Samsung  SM-G930F  \n",
       "2  android  SM-G930F      Samsung  SM-G930F  \n",
       "3  android     D2303         Sony     D2303  \n",
       "4  android  SM-G361F      Samsung  SM-G361F  "
      ]
     },
     "execution_count": 80,
     "metadata": {},
     "output_type": "execute_result"
    }
   ],
   "source": []
  },
  {
   "cell_type": "markdown",
   "metadata": {},
   "source": [
    "### Grouper vos données par `manufacturer`\n",
    "Compter les `use_id` et afficher les moyennes des colonnes `outgoing_mins_per_month`, `outgoing_sms_per_month`, `monthly_mb`"
   ]
  },
  {
   "cell_type": "code",
   "execution_count": 84,
   "metadata": {},
   "outputs": [
    {
     "data": {
      "text/html": [
       "<div>\n",
       "<table border=\"1\" class=\"dataframe\">\n",
       "  <thead>\n",
       "    <tr style=\"text-align: right;\">\n",
       "      <th></th>\n",
       "      <th>use_id</th>\n",
       "      <th>outgoing_mins_per_month</th>\n",
       "      <th>outgoing_sms_per_month</th>\n",
       "      <th>monthly_mb</th>\n",
       "    </tr>\n",
       "    <tr>\n",
       "      <th>manufacturer</th>\n",
       "      <th></th>\n",
       "      <th></th>\n",
       "      <th></th>\n",
       "      <th></th>\n",
       "    </tr>\n",
       "  </thead>\n",
       "  <tbody>\n",
       "    <tr>\n",
       "      <th>HTC</th>\n",
       "      <td>44</td>\n",
       "      <td>299.842955</td>\n",
       "      <td>93.059318</td>\n",
       "      <td>5144.077955</td>\n",
       "    </tr>\n",
       "    <tr>\n",
       "      <th>Huawei</th>\n",
       "      <td>3</td>\n",
       "      <td>81.526667</td>\n",
       "      <td>9.500000</td>\n",
       "      <td>1561.226667</td>\n",
       "    </tr>\n",
       "    <tr>\n",
       "      <th>LGE</th>\n",
       "      <td>2</td>\n",
       "      <td>111.530000</td>\n",
       "      <td>12.760000</td>\n",
       "      <td>1557.330000</td>\n",
       "    </tr>\n",
       "    <tr>\n",
       "      <th>Lava</th>\n",
       "      <td>2</td>\n",
       "      <td>60.650000</td>\n",
       "      <td>261.900000</td>\n",
       "      <td>12458.670000</td>\n",
       "    </tr>\n",
       "    <tr>\n",
       "      <th>Lenovo</th>\n",
       "      <td>2</td>\n",
       "      <td>215.920000</td>\n",
       "      <td>12.930000</td>\n",
       "      <td>1557.330000</td>\n",
       "    </tr>\n",
       "    <tr>\n",
       "      <th>Motorola</th>\n",
       "      <td>16</td>\n",
       "      <td>95.127500</td>\n",
       "      <td>65.666250</td>\n",
       "      <td>3946.500000</td>\n",
       "    </tr>\n",
       "    <tr>\n",
       "      <th>OnePlus</th>\n",
       "      <td>6</td>\n",
       "      <td>354.855000</td>\n",
       "      <td>48.330000</td>\n",
       "      <td>6575.410000</td>\n",
       "    </tr>\n",
       "    <tr>\n",
       "      <th>Samsung</th>\n",
       "      <td>108</td>\n",
       "      <td>191.010093</td>\n",
       "      <td>92.390463</td>\n",
       "      <td>4017.318889</td>\n",
       "    </tr>\n",
       "    <tr>\n",
       "      <th>Sony</th>\n",
       "      <td>16</td>\n",
       "      <td>177.315625</td>\n",
       "      <td>40.176250</td>\n",
       "      <td>3212.000625</td>\n",
       "    </tr>\n",
       "    <tr>\n",
       "      <th>Vodafone</th>\n",
       "      <td>1</td>\n",
       "      <td>42.750000</td>\n",
       "      <td>46.830000</td>\n",
       "      <td>5191.120000</td>\n",
       "    </tr>\n",
       "    <tr>\n",
       "      <th>ZTE</th>\n",
       "      <td>1</td>\n",
       "      <td>42.750000</td>\n",
       "      <td>46.830000</td>\n",
       "      <td>5191.120000</td>\n",
       "    </tr>\n",
       "  </tbody>\n",
       "</table>\n",
       "</div>"
      ],
      "text/plain": [
       "              use_id  outgoing_mins_per_month  outgoing_sms_per_month  \\\n",
       "manufacturer                                                            \n",
       "HTC               44               299.842955               93.059318   \n",
       "Huawei             3                81.526667                9.500000   \n",
       "LGE                2               111.530000               12.760000   \n",
       "Lava               2                60.650000              261.900000   \n",
       "Lenovo             2               215.920000               12.930000   \n",
       "Motorola          16                95.127500               65.666250   \n",
       "OnePlus            6               354.855000               48.330000   \n",
       "Samsung          108               191.010093               92.390463   \n",
       "Sony              16               177.315625               40.176250   \n",
       "Vodafone           1                42.750000               46.830000   \n",
       "ZTE                1                42.750000               46.830000   \n",
       "\n",
       "                monthly_mb  \n",
       "manufacturer                \n",
       "HTC            5144.077955  \n",
       "Huawei         1561.226667  \n",
       "LGE            1557.330000  \n",
       "Lava          12458.670000  \n",
       "Lenovo         1557.330000  \n",
       "Motorola       3946.500000  \n",
       "OnePlus        6575.410000  \n",
       "Samsung        4017.318889  \n",
       "Sony           3212.000625  \n",
       "Vodafone       5191.120000  \n",
       "ZTE            5191.120000  "
      ]
     },
     "execution_count": 84,
     "metadata": {},
     "output_type": "execute_result"
    }
   ],
   "source": []
  }
 ],
 "metadata": {
  "kernelspec": {
   "display_name": "Python 3",
   "language": "python",
   "name": "python3"
  },
  "language_info": {
   "codemirror_mode": {
    "name": "ipython",
    "version": 3
   },
   "file_extension": ".py",
   "mimetype": "text/x-python",
   "name": "python",
   "nbconvert_exporter": "python",
   "pygments_lexer": "ipython3",
   "version": "3.8.3-final"
  },
  "latex_envs": {
   "LaTeX_envs_menu_present": true,
   "autoclose": false,
   "autocomplete": true,
   "bibliofile": "biblio.bib",
   "cite_by": "apalike",
   "current_citInitial": 1,
   "eqLabelWithNumbers": true,
   "eqNumInitial": 1,
   "hotkeys": {
    "equation": "Ctrl-E",
    "itemize": "Ctrl-I"
   },
   "labels_anchors": false,
   "latex_user_defs": false,
   "report_style_numbering": false,
   "user_envs_cfg": false
  },
  "toc": {
   "base_numbering": 1,
   "nav_menu": {},
   "number_sections": true,
   "sideBar": true,
   "skip_h1_title": false,
   "title_cell": "Table of Contents",
   "title_sidebar": "Contents",
   "toc_cell": false,
   "toc_position": {},
   "toc_section_display": true,
   "toc_window_display": false
  },
  "varInspector": {
   "cols": {
    "lenName": 16,
    "lenType": 16,
    "lenVar": 40
   },
   "kernels_config": {
    "python": {
     "delete_cmd_postfix": "",
     "delete_cmd_prefix": "del ",
     "library": "var_list.py",
     "varRefreshCmd": "print(var_dic_list())"
    },
    "r": {
     "delete_cmd_postfix": ") ",
     "delete_cmd_prefix": "rm(",
     "library": "var_list.r",
     "varRefreshCmd": "cat(var_dic_list()) "
    }
   },
   "types_to_exclude": [
    "module",
    "function",
    "builtin_function_or_method",
    "instance",
    "_Feature"
   ],
   "window_display": false
  }
 },
 "nbformat": 4,
 "nbformat_minor": 1
}