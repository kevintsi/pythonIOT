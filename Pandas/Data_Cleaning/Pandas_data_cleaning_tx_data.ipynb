{
 "metadata": {
  "language_info": {
   "codemirror_mode": {
    "name": "ipython",
    "version": 3
   },
   "file_extension": ".py",
   "mimetype": "text/x-python",
   "name": "python",
   "nbconvert_exporter": "python",
   "pygments_lexer": "ipython3",
   "version": "3.8.3-final"
  },
  "orig_nbformat": 2,
  "kernelspec": {
   "name": "Python 3.8.3 64-bit",
   "display_name": "Python 3.8.3 64-bit",
   "metadata": {
    "interpreter": {
     "hash": "991da9b17d5655561a8686b9327745da023652667e5744d6112d3c7cefcedf59"
    }
   }
  }
 },
 "nbformat": 4,
 "nbformat_minor": 2,
 "cells": [
  {
   "cell_type": "code",
   "execution_count": 3,
   "metadata": {},
   "outputs": [],
   "source": [
    "import numpy as np\n",
    "import pandas as pds\n",
    "\n",
    "url = 'https://bit.ly/tx-data'\n",
    "df = pds.read_csv(url)"
   ]
  },
  {
   "cell_type": "code",
   "execution_count": 4,
   "metadata": {},
   "outputs": [
    {
     "output_type": "execute_result",
     "data": {
      "text/plain": "   transaction_id  first_name   last_name       ip_address   amount\n0       50563-403      Jacobo    Haresign    18.144.134.48  $647.77\n1      54569-3911     Christy        Derl  254.107.123.242  $460.47\n2      59667-0024      Florie      Prewer    148.80.11.233  $565.38\n3       60429-123      Danika      Shimuk   233.91.221.158  $794.76\n4       0187-0771    Annelise   Antonescu   238.143.41.105  $790.41\n5       53942-299       Upton        Emig  103.190.123.125  $759.53\n6       41163-519     Rachael     Housley    3.188.252.248  $871.72\n7       60289-247       Corri  Rockcliffe    46.150.208.18    $5.68\n8       0527-1742      Ambros    Goulding   174.124.224.39  $726.12\n9       57237-083        Roma     Addekin     37.14.63.174  $526.89\n10      60758-060     Auberon       Boxen     168.0.223.98  $309.65\n11     43857-0289      Cesare   Andriolli    244.204.3.163  $746.23\n12      68180-751      Marlon      Fernie   61.133.100.141  $974.30\n13      43319-040   Gavrielle      Vittet    180.20.70.166  $994.20\n14      65862-207      Alvira      Heifer   141.170.128.72  $584.13\n15      68180-751      Marlon      Fernie   61.133.100.141  $974.30\n16      0066-0508        Jedd     Hartman     21.55.247.91  $749.96\n17      0187-5102        Beth     Lamping    125.152.40.91   $19.07\n18     44887-2589      Sergio  Whittlesee   76.116.223.149   $346.1\n19      53942-299       Upton        Emig  103.190.123.125  $759.53\n20      60289-247       Corri  Rockcliffe    46.150.208.18    $5.68\n21      42549-609      Candra    Josowitz  158.206.200.105  $443.87\n22      49999-065       Gunar        Enga     89.51.64.220   $62.60\n23      52125-412  Constancia    Emberson     58.64.16.173  $666.13\n24      64679-982     Felicle   Cappleman  246.127.246.202  $208.91\n25      59779-556    Bartlett   Thrussell   213.80.235.219  $592.77\n26      0093-1078     Wilhelm   Glanister   126.158.69.199  $722.42\n27     54569-1444      Ivette     Michele      134.85.3.31  $962.30\n28     59667-0024      Florie      Prewer    148.80.11.233  $565.38\n29     43857-0134      Sergio  Whittlesee   76.116.223.149  $346.11\n30      0378-2920    Shaylynn   Dominighi   105.104.251.83  $253.56\n31     63629-3378      Leonid      Polino    68.183.173.70  $310.88\n32      65862-207      Alvira      Heifer   141.170.128.72  $584.13\n33      11673-003       Leroy  Stephenson     143.46.85.46  $951.73\n34      60429-624     Glennis    Gianelli    48.90.168.126  $987.16\n35     54973-0611       Brody      Goburn    142.230.225.8  $663.04\n36     75949-1001      Madlin   Gotcliffe    45.31.218.244  $442.30\n37      65862-207      Alvira      Heifer   141.170.128.72  $584.13\n38      53746-191        Amil    O'Hannay     216.93.89.14  $520.86\n39      42254-131   Inglebert     Houlson   102.102.146.27  $685.97\n40      0904-6088         Ann     Cowling    113.27.40.144  $408.82\n41      46122-023       Lloyd     Colliss     81.0.211.235  $225.69\n42      0066-0508        Jedd     Hartman     21.55.247.91  $749.96\n43      0456-2212      Layney    Janssens     79.49.30.228  $889.27\n44      59779-276    Lynnelle     Ainslie      38.85.34.83  $473.65\n45      68712-049     Phaedra     Teodoro     92.45.204.14  $445.56\n46     10157-9539     Sibylla      Pedron   207.112.216.80  $362.15\n47      0378-1044    Sharlene  Wolfendale   32.253.106.253  $133.98",
      "text/html": "<div>\n<style scoped>\n    .dataframe tbody tr th:only-of-type {\n        vertical-align: middle;\n    }\n\n    .dataframe tbody tr th {\n        vertical-align: top;\n    }\n\n    .dataframe thead th {\n        text-align: right;\n    }\n</style>\n<table border=\"1\" class=\"dataframe\">\n  <thead>\n    <tr style=\"text-align: right;\">\n      <th></th>\n      <th>transaction_id</th>\n      <th>first_name</th>\n      <th>last_name</th>\n      <th>ip_address</th>\n      <th>amount</th>\n    </tr>\n  </thead>\n  <tbody>\n    <tr>\n      <th>0</th>\n      <td>50563-403</td>\n      <td>Jacobo</td>\n      <td>Haresign</td>\n      <td>18.144.134.48</td>\n      <td>$647.77</td>\n    </tr>\n    <tr>\n      <th>1</th>\n      <td>54569-3911</td>\n      <td>Christy</td>\n      <td>Derl</td>\n      <td>254.107.123.242</td>\n      <td>$460.47</td>\n    </tr>\n    <tr>\n      <th>2</th>\n      <td>59667-0024</td>\n      <td>Florie</td>\n      <td>Prewer</td>\n      <td>148.80.11.233</td>\n      <td>$565.38</td>\n    </tr>\n    <tr>\n      <th>3</th>\n      <td>60429-123</td>\n      <td>Danika</td>\n      <td>Shimuk</td>\n      <td>233.91.221.158</td>\n      <td>$794.76</td>\n    </tr>\n    <tr>\n      <th>4</th>\n      <td>0187-0771</td>\n      <td>Annelise</td>\n      <td>Antonescu</td>\n      <td>238.143.41.105</td>\n      <td>$790.41</td>\n    </tr>\n    <tr>\n      <th>5</th>\n      <td>53942-299</td>\n      <td>Upton</td>\n      <td>Emig</td>\n      <td>103.190.123.125</td>\n      <td>$759.53</td>\n    </tr>\n    <tr>\n      <th>6</th>\n      <td>41163-519</td>\n      <td>Rachael</td>\n      <td>Housley</td>\n      <td>3.188.252.248</td>\n      <td>$871.72</td>\n    </tr>\n    <tr>\n      <th>7</th>\n      <td>60289-247</td>\n      <td>Corri</td>\n      <td>Rockcliffe</td>\n      <td>46.150.208.18</td>\n      <td>$5.68</td>\n    </tr>\n    <tr>\n      <th>8</th>\n      <td>0527-1742</td>\n      <td>Ambros</td>\n      <td>Goulding</td>\n      <td>174.124.224.39</td>\n      <td>$726.12</td>\n    </tr>\n    <tr>\n      <th>9</th>\n      <td>57237-083</td>\n      <td>Roma</td>\n      <td>Addekin</td>\n      <td>37.14.63.174</td>\n      <td>$526.89</td>\n    </tr>\n    <tr>\n      <th>10</th>\n      <td>60758-060</td>\n      <td>Auberon</td>\n      <td>Boxen</td>\n      <td>168.0.223.98</td>\n      <td>$309.65</td>\n    </tr>\n    <tr>\n      <th>11</th>\n      <td>43857-0289</td>\n      <td>Cesare</td>\n      <td>Andriolli</td>\n      <td>244.204.3.163</td>\n      <td>$746.23</td>\n    </tr>\n    <tr>\n      <th>12</th>\n      <td>68180-751</td>\n      <td>Marlon</td>\n      <td>Fernie</td>\n      <td>61.133.100.141</td>\n      <td>$974.30</td>\n    </tr>\n    <tr>\n      <th>13</th>\n      <td>43319-040</td>\n      <td>Gavrielle</td>\n      <td>Vittet</td>\n      <td>180.20.70.166</td>\n      <td>$994.20</td>\n    </tr>\n    <tr>\n      <th>14</th>\n      <td>65862-207</td>\n      <td>Alvira</td>\n      <td>Heifer</td>\n      <td>141.170.128.72</td>\n      <td>$584.13</td>\n    </tr>\n    <tr>\n      <th>15</th>\n      <td>68180-751</td>\n      <td>Marlon</td>\n      <td>Fernie</td>\n      <td>61.133.100.141</td>\n      <td>$974.30</td>\n    </tr>\n    <tr>\n      <th>16</th>\n      <td>0066-0508</td>\n      <td>Jedd</td>\n      <td>Hartman</td>\n      <td>21.55.247.91</td>\n      <td>$749.96</td>\n    </tr>\n    <tr>\n      <th>17</th>\n      <td>0187-5102</td>\n      <td>Beth</td>\n      <td>Lamping</td>\n      <td>125.152.40.91</td>\n      <td>$19.07</td>\n    </tr>\n    <tr>\n      <th>18</th>\n      <td>44887-2589</td>\n      <td>Sergio</td>\n      <td>Whittlesee</td>\n      <td>76.116.223.149</td>\n      <td>$346.1</td>\n    </tr>\n    <tr>\n      <th>19</th>\n      <td>53942-299</td>\n      <td>Upton</td>\n      <td>Emig</td>\n      <td>103.190.123.125</td>\n      <td>$759.53</td>\n    </tr>\n    <tr>\n      <th>20</th>\n      <td>60289-247</td>\n      <td>Corri</td>\n      <td>Rockcliffe</td>\n      <td>46.150.208.18</td>\n      <td>$5.68</td>\n    </tr>\n    <tr>\n      <th>21</th>\n      <td>42549-609</td>\n      <td>Candra</td>\n      <td>Josowitz</td>\n      <td>158.206.200.105</td>\n      <td>$443.87</td>\n    </tr>\n    <tr>\n      <th>22</th>\n      <td>49999-065</td>\n      <td>Gunar</td>\n      <td>Enga</td>\n      <td>89.51.64.220</td>\n      <td>$62.60</td>\n    </tr>\n    <tr>\n      <th>23</th>\n      <td>52125-412</td>\n      <td>Constancia</td>\n      <td>Emberson</td>\n      <td>58.64.16.173</td>\n      <td>$666.13</td>\n    </tr>\n    <tr>\n      <th>24</th>\n      <td>64679-982</td>\n      <td>Felicle</td>\n      <td>Cappleman</td>\n      <td>246.127.246.202</td>\n      <td>$208.91</td>\n    </tr>\n    <tr>\n      <th>25</th>\n      <td>59779-556</td>\n      <td>Bartlett</td>\n      <td>Thrussell</td>\n      <td>213.80.235.219</td>\n      <td>$592.77</td>\n    </tr>\n    <tr>\n      <th>26</th>\n      <td>0093-1078</td>\n      <td>Wilhelm</td>\n      <td>Glanister</td>\n      <td>126.158.69.199</td>\n      <td>$722.42</td>\n    </tr>\n    <tr>\n      <th>27</th>\n      <td>54569-1444</td>\n      <td>Ivette</td>\n      <td>Michele</td>\n      <td>134.85.3.31</td>\n      <td>$962.30</td>\n    </tr>\n    <tr>\n      <th>28</th>\n      <td>59667-0024</td>\n      <td>Florie</td>\n      <td>Prewer</td>\n      <td>148.80.11.233</td>\n      <td>$565.38</td>\n    </tr>\n    <tr>\n      <th>29</th>\n      <td>43857-0134</td>\n      <td>Sergio</td>\n      <td>Whittlesee</td>\n      <td>76.116.223.149</td>\n      <td>$346.11</td>\n    </tr>\n    <tr>\n      <th>30</th>\n      <td>0378-2920</td>\n      <td>Shaylynn</td>\n      <td>Dominighi</td>\n      <td>105.104.251.83</td>\n      <td>$253.56</td>\n    </tr>\n    <tr>\n      <th>31</th>\n      <td>63629-3378</td>\n      <td>Leonid</td>\n      <td>Polino</td>\n      <td>68.183.173.70</td>\n      <td>$310.88</td>\n    </tr>\n    <tr>\n      <th>32</th>\n      <td>65862-207</td>\n      <td>Alvira</td>\n      <td>Heifer</td>\n      <td>141.170.128.72</td>\n      <td>$584.13</td>\n    </tr>\n    <tr>\n      <th>33</th>\n      <td>11673-003</td>\n      <td>Leroy</td>\n      <td>Stephenson</td>\n      <td>143.46.85.46</td>\n      <td>$951.73</td>\n    </tr>\n    <tr>\n      <th>34</th>\n      <td>60429-624</td>\n      <td>Glennis</td>\n      <td>Gianelli</td>\n      <td>48.90.168.126</td>\n      <td>$987.16</td>\n    </tr>\n    <tr>\n      <th>35</th>\n      <td>54973-0611</td>\n      <td>Brody</td>\n      <td>Goburn</td>\n      <td>142.230.225.8</td>\n      <td>$663.04</td>\n    </tr>\n    <tr>\n      <th>36</th>\n      <td>75949-1001</td>\n      <td>Madlin</td>\n      <td>Gotcliffe</td>\n      <td>45.31.218.244</td>\n      <td>$442.30</td>\n    </tr>\n    <tr>\n      <th>37</th>\n      <td>65862-207</td>\n      <td>Alvira</td>\n      <td>Heifer</td>\n      <td>141.170.128.72</td>\n      <td>$584.13</td>\n    </tr>\n    <tr>\n      <th>38</th>\n      <td>53746-191</td>\n      <td>Amil</td>\n      <td>O'Hannay</td>\n      <td>216.93.89.14</td>\n      <td>$520.86</td>\n    </tr>\n    <tr>\n      <th>39</th>\n      <td>42254-131</td>\n      <td>Inglebert</td>\n      <td>Houlson</td>\n      <td>102.102.146.27</td>\n      <td>$685.97</td>\n    </tr>\n    <tr>\n      <th>40</th>\n      <td>0904-6088</td>\n      <td>Ann</td>\n      <td>Cowling</td>\n      <td>113.27.40.144</td>\n      <td>$408.82</td>\n    </tr>\n    <tr>\n      <th>41</th>\n      <td>46122-023</td>\n      <td>Lloyd</td>\n      <td>Colliss</td>\n      <td>81.0.211.235</td>\n      <td>$225.69</td>\n    </tr>\n    <tr>\n      <th>42</th>\n      <td>0066-0508</td>\n      <td>Jedd</td>\n      <td>Hartman</td>\n      <td>21.55.247.91</td>\n      <td>$749.96</td>\n    </tr>\n    <tr>\n      <th>43</th>\n      <td>0456-2212</td>\n      <td>Layney</td>\n      <td>Janssens</td>\n      <td>79.49.30.228</td>\n      <td>$889.27</td>\n    </tr>\n    <tr>\n      <th>44</th>\n      <td>59779-276</td>\n      <td>Lynnelle</td>\n      <td>Ainslie</td>\n      <td>38.85.34.83</td>\n      <td>$473.65</td>\n    </tr>\n    <tr>\n      <th>45</th>\n      <td>68712-049</td>\n      <td>Phaedra</td>\n      <td>Teodoro</td>\n      <td>92.45.204.14</td>\n      <td>$445.56</td>\n    </tr>\n    <tr>\n      <th>46</th>\n      <td>10157-9539</td>\n      <td>Sibylla</td>\n      <td>Pedron</td>\n      <td>207.112.216.80</td>\n      <td>$362.15</td>\n    </tr>\n    <tr>\n      <th>47</th>\n      <td>0378-1044</td>\n      <td>Sharlene</td>\n      <td>Wolfendale</td>\n      <td>32.253.106.253</td>\n      <td>$133.98</td>\n    </tr>\n  </tbody>\n</table>\n</div>"
     },
     "metadata": {},
     "execution_count": 4
    }
   ],
   "source": [
    "df"
   ]
  },
  {
   "cell_type": "code",
   "execution_count": 5,
   "metadata": {},
   "outputs": [
    {
     "output_type": "execute_result",
     "data": {
      "text/plain": "array([3, 5])"
     },
     "metadata": {},
     "execution_count": 5
    }
   ],
   "source": [
    "x = np.array([1,2,3,4,5])\n",
    "mask = np.array([False, False, True, False, True])\n",
    "\n",
    "x[mask]"
   ]
  },
  {
   "cell_type": "code",
   "execution_count": 6,
   "metadata": {},
   "outputs": [
    {
     "output_type": "execute_result",
     "data": {
      "text/plain": "array([False,  True, False,  True, False])"
     },
     "metadata": {},
     "execution_count": 6
    }
   ],
   "source": [
    "pair = x % 2 == 0\n",
    "pair"
   ]
  },
  {
   "cell_type": "code",
   "execution_count": 9,
   "metadata": {},
   "outputs": [
    {
     "output_type": "execute_result",
     "data": {
      "text/plain": "array([2, 4])"
     },
     "metadata": {},
     "execution_count": 9
    }
   ],
   "source": [
    "x[pair]"
   ]
  },
  {
   "cell_type": "code",
   "execution_count": 13,
   "metadata": {},
   "outputs": [
    {
     "output_type": "execute_result",
     "data": {
      "text/plain": "   transaction_id first_name   last_name       ip_address   amount\n42      0066-0508       Jedd     Hartman     21.55.247.91  $749.96\n19      53942-299      Upton        Emig  103.190.123.125  $759.53\n28     59667-0024     Florie      Prewer    148.80.11.233  $565.38\n20      60289-247      Corri  Rockcliffe    46.150.208.18    $5.68\n32      65862-207     Alvira      Heifer   141.170.128.72  $584.13\n37      65862-207     Alvira      Heifer   141.170.128.72  $584.13\n15      68180-751     Marlon      Fernie   61.133.100.141  $974.30",
      "text/html": "<div>\n<style scoped>\n    .dataframe tbody tr th:only-of-type {\n        vertical-align: middle;\n    }\n\n    .dataframe tbody tr th {\n        vertical-align: top;\n    }\n\n    .dataframe thead th {\n        text-align: right;\n    }\n</style>\n<table border=\"1\" class=\"dataframe\">\n  <thead>\n    <tr style=\"text-align: right;\">\n      <th></th>\n      <th>transaction_id</th>\n      <th>first_name</th>\n      <th>last_name</th>\n      <th>ip_address</th>\n      <th>amount</th>\n    </tr>\n  </thead>\n  <tbody>\n    <tr>\n      <th>42</th>\n      <td>0066-0508</td>\n      <td>Jedd</td>\n      <td>Hartman</td>\n      <td>21.55.247.91</td>\n      <td>$749.96</td>\n    </tr>\n    <tr>\n      <th>19</th>\n      <td>53942-299</td>\n      <td>Upton</td>\n      <td>Emig</td>\n      <td>103.190.123.125</td>\n      <td>$759.53</td>\n    </tr>\n    <tr>\n      <th>28</th>\n      <td>59667-0024</td>\n      <td>Florie</td>\n      <td>Prewer</td>\n      <td>148.80.11.233</td>\n      <td>$565.38</td>\n    </tr>\n    <tr>\n      <th>20</th>\n      <td>60289-247</td>\n      <td>Corri</td>\n      <td>Rockcliffe</td>\n      <td>46.150.208.18</td>\n      <td>$5.68</td>\n    </tr>\n    <tr>\n      <th>32</th>\n      <td>65862-207</td>\n      <td>Alvira</td>\n      <td>Heifer</td>\n      <td>141.170.128.72</td>\n      <td>$584.13</td>\n    </tr>\n    <tr>\n      <th>37</th>\n      <td>65862-207</td>\n      <td>Alvira</td>\n      <td>Heifer</td>\n      <td>141.170.128.72</td>\n      <td>$584.13</td>\n    </tr>\n    <tr>\n      <th>15</th>\n      <td>68180-751</td>\n      <td>Marlon</td>\n      <td>Fernie</td>\n      <td>61.133.100.141</td>\n      <td>$974.30</td>\n    </tr>\n  </tbody>\n</table>\n</div>"
     },
     "metadata": {},
     "execution_count": 13
    }
   ],
   "source": [
    "df[df.duplicated()]"
   ]
  },
  {
   "cell_type": "code",
   "execution_count": 14,
   "metadata": {},
   "outputs": [
    {
     "output_type": "execute_result",
     "data": {
      "text/plain": "   transaction_id first_name   last_name       ip_address   amount\n16      0066-0508       Jedd     Hartman     21.55.247.91  $749.96\n42      0066-0508       Jedd     Hartman     21.55.247.91  $749.96\n5       53942-299      Upton        Emig  103.190.123.125  $759.53\n19      53942-299      Upton        Emig  103.190.123.125  $759.53\n2      59667-0024     Florie      Prewer    148.80.11.233  $565.38\n28     59667-0024     Florie      Prewer    148.80.11.233  $565.38\n7       60289-247      Corri  Rockcliffe    46.150.208.18    $5.68\n20      60289-247      Corri  Rockcliffe    46.150.208.18    $5.68\n14      65862-207     Alvira      Heifer   141.170.128.72  $584.13\n32      65862-207     Alvira      Heifer   141.170.128.72  $584.13\n37      65862-207     Alvira      Heifer   141.170.128.72  $584.13\n12      68180-751     Marlon      Fernie   61.133.100.141  $974.30\n15      68180-751     Marlon      Fernie   61.133.100.141  $974.30",
      "text/html": "<div>\n<style scoped>\n    .dataframe tbody tr th:only-of-type {\n        vertical-align: middle;\n    }\n\n    .dataframe tbody tr th {\n        vertical-align: top;\n    }\n\n    .dataframe thead th {\n        text-align: right;\n    }\n</style>\n<table border=\"1\" class=\"dataframe\">\n  <thead>\n    <tr style=\"text-align: right;\">\n      <th></th>\n      <th>transaction_id</th>\n      <th>first_name</th>\n      <th>last_name</th>\n      <th>ip_address</th>\n      <th>amount</th>\n    </tr>\n  </thead>\n  <tbody>\n    <tr>\n      <th>16</th>\n      <td>0066-0508</td>\n      <td>Jedd</td>\n      <td>Hartman</td>\n      <td>21.55.247.91</td>\n      <td>$749.96</td>\n    </tr>\n    <tr>\n      <th>42</th>\n      <td>0066-0508</td>\n      <td>Jedd</td>\n      <td>Hartman</td>\n      <td>21.55.247.91</td>\n      <td>$749.96</td>\n    </tr>\n    <tr>\n      <th>5</th>\n      <td>53942-299</td>\n      <td>Upton</td>\n      <td>Emig</td>\n      <td>103.190.123.125</td>\n      <td>$759.53</td>\n    </tr>\n    <tr>\n      <th>19</th>\n      <td>53942-299</td>\n      <td>Upton</td>\n      <td>Emig</td>\n      <td>103.190.123.125</td>\n      <td>$759.53</td>\n    </tr>\n    <tr>\n      <th>2</th>\n      <td>59667-0024</td>\n      <td>Florie</td>\n      <td>Prewer</td>\n      <td>148.80.11.233</td>\n      <td>$565.38</td>\n    </tr>\n    <tr>\n      <th>28</th>\n      <td>59667-0024</td>\n      <td>Florie</td>\n      <td>Prewer</td>\n      <td>148.80.11.233</td>\n      <td>$565.38</td>\n    </tr>\n    <tr>\n      <th>7</th>\n      <td>60289-247</td>\n      <td>Corri</td>\n      <td>Rockcliffe</td>\n      <td>46.150.208.18</td>\n      <td>$5.68</td>\n    </tr>\n    <tr>\n      <th>20</th>\n      <td>60289-247</td>\n      <td>Corri</td>\n      <td>Rockcliffe</td>\n      <td>46.150.208.18</td>\n      <td>$5.68</td>\n    </tr>\n    <tr>\n      <th>14</th>\n      <td>65862-207</td>\n      <td>Alvira</td>\n      <td>Heifer</td>\n      <td>141.170.128.72</td>\n      <td>$584.13</td>\n    </tr>\n    <tr>\n      <th>32</th>\n      <td>65862-207</td>\n      <td>Alvira</td>\n      <td>Heifer</td>\n      <td>141.170.128.72</td>\n      <td>$584.13</td>\n    </tr>\n    <tr>\n      <th>37</th>\n      <td>65862-207</td>\n      <td>Alvira</td>\n      <td>Heifer</td>\n      <td>141.170.128.72</td>\n      <td>$584.13</td>\n    </tr>\n    <tr>\n      <th>12</th>\n      <td>68180-751</td>\n      <td>Marlon</td>\n      <td>Fernie</td>\n      <td>61.133.100.141</td>\n      <td>$974.30</td>\n    </tr>\n    <tr>\n      <th>15</th>\n      <td>68180-751</td>\n      <td>Marlon</td>\n      <td>Fernie</td>\n      <td>61.133.100.141</td>\n      <td>$974.30</td>\n    </tr>\n  </tbody>\n</table>\n</div>"
     },
     "metadata": {},
     "execution_count": 14
    }
   ],
   "source": [
    "duplicatas = df.duplicated(keep=False,\n",
    "                           subset=[\"transaction_id\"])\n",
    "\n",
    "df[duplicatas].sort_values(\"transaction_id\")"
   ]
  },
  {
   "cell_type": "code",
   "execution_count": 16,
   "metadata": {},
   "outputs": [],
   "source": [
    "df.drop_duplicates(subset=[\"transaction_id\"], inplace=True)"
   ]
  },
  {
   "cell_type": "code",
   "execution_count": 18,
   "metadata": {},
   "outputs": [
    {
     "output_type": "execute_result",
     "data": {
      "text/plain": "   transaction_id  first_name   last_name       ip_address   amount\n0       50563-403      Jacobo    Haresign    18.144.134.48  $647.77\n1      54569-3911     Christy        Derl  254.107.123.242  $460.47\n2      59667-0024      Florie      Prewer    148.80.11.233  $565.38\n3       60429-123      Danika      Shimuk   233.91.221.158  $794.76\n4       0187-0771    Annelise   Antonescu   238.143.41.105  $790.41\n5       53942-299       Upton        Emig  103.190.123.125  $759.53\n6       41163-519     Rachael     Housley    3.188.252.248  $871.72\n7       60289-247       Corri  Rockcliffe    46.150.208.18    $5.68\n8       0527-1742      Ambros    Goulding   174.124.224.39  $726.12\n9       57237-083        Roma     Addekin     37.14.63.174  $526.89\n10      60758-060     Auberon       Boxen     168.0.223.98  $309.65\n11     43857-0289      Cesare   Andriolli    244.204.3.163  $746.23\n12      68180-751      Marlon      Fernie   61.133.100.141  $974.30\n13      43319-040   Gavrielle      Vittet    180.20.70.166  $994.20\n14      65862-207      Alvira      Heifer   141.170.128.72  $584.13\n16      0066-0508        Jedd     Hartman     21.55.247.91  $749.96\n17      0187-5102        Beth     Lamping    125.152.40.91   $19.07\n18     44887-2589      Sergio  Whittlesee   76.116.223.149   $346.1\n21      42549-609      Candra    Josowitz  158.206.200.105  $443.87\n22      49999-065       Gunar        Enga     89.51.64.220   $62.60\n23      52125-412  Constancia    Emberson     58.64.16.173  $666.13\n24      64679-982     Felicle   Cappleman  246.127.246.202  $208.91\n25      59779-556    Bartlett   Thrussell   213.80.235.219  $592.77\n26      0093-1078     Wilhelm   Glanister   126.158.69.199  $722.42\n27     54569-1444      Ivette     Michele      134.85.3.31  $962.30\n29     43857-0134      Sergio  Whittlesee   76.116.223.149  $346.11\n30      0378-2920    Shaylynn   Dominighi   105.104.251.83  $253.56\n31     63629-3378      Leonid      Polino    68.183.173.70  $310.88\n33      11673-003       Leroy  Stephenson     143.46.85.46  $951.73\n34      60429-624     Glennis    Gianelli    48.90.168.126  $987.16\n35     54973-0611       Brody      Goburn    142.230.225.8  $663.04\n36     75949-1001      Madlin   Gotcliffe    45.31.218.244  $442.30\n38      53746-191        Amil    O'Hannay     216.93.89.14  $520.86\n39      42254-131   Inglebert     Houlson   102.102.146.27  $685.97\n40      0904-6088         Ann     Cowling    113.27.40.144  $408.82\n41      46122-023       Lloyd     Colliss     81.0.211.235  $225.69\n43      0456-2212      Layney    Janssens     79.49.30.228  $889.27\n44      59779-276    Lynnelle     Ainslie      38.85.34.83  $473.65\n45      68712-049     Phaedra     Teodoro     92.45.204.14  $445.56\n46     10157-9539     Sibylla      Pedron   207.112.216.80  $362.15\n47      0378-1044    Sharlene  Wolfendale   32.253.106.253  $133.98",
      "text/html": "<div>\n<style scoped>\n    .dataframe tbody tr th:only-of-type {\n        vertical-align: middle;\n    }\n\n    .dataframe tbody tr th {\n        vertical-align: top;\n    }\n\n    .dataframe thead th {\n        text-align: right;\n    }\n</style>\n<table border=\"1\" class=\"dataframe\">\n  <thead>\n    <tr style=\"text-align: right;\">\n      <th></th>\n      <th>transaction_id</th>\n      <th>first_name</th>\n      <th>last_name</th>\n      <th>ip_address</th>\n      <th>amount</th>\n    </tr>\n  </thead>\n  <tbody>\n    <tr>\n      <th>0</th>\n      <td>50563-403</td>\n      <td>Jacobo</td>\n      <td>Haresign</td>\n      <td>18.144.134.48</td>\n      <td>$647.77</td>\n    </tr>\n    <tr>\n      <th>1</th>\n      <td>54569-3911</td>\n      <td>Christy</td>\n      <td>Derl</td>\n      <td>254.107.123.242</td>\n      <td>$460.47</td>\n    </tr>\n    <tr>\n      <th>2</th>\n      <td>59667-0024</td>\n      <td>Florie</td>\n      <td>Prewer</td>\n      <td>148.80.11.233</td>\n      <td>$565.38</td>\n    </tr>\n    <tr>\n      <th>3</th>\n      <td>60429-123</td>\n      <td>Danika</td>\n      <td>Shimuk</td>\n      <td>233.91.221.158</td>\n      <td>$794.76</td>\n    </tr>\n    <tr>\n      <th>4</th>\n      <td>0187-0771</td>\n      <td>Annelise</td>\n      <td>Antonescu</td>\n      <td>238.143.41.105</td>\n      <td>$790.41</td>\n    </tr>\n    <tr>\n      <th>5</th>\n      <td>53942-299</td>\n      <td>Upton</td>\n      <td>Emig</td>\n      <td>103.190.123.125</td>\n      <td>$759.53</td>\n    </tr>\n    <tr>\n      <th>6</th>\n      <td>41163-519</td>\n      <td>Rachael</td>\n      <td>Housley</td>\n      <td>3.188.252.248</td>\n      <td>$871.72</td>\n    </tr>\n    <tr>\n      <th>7</th>\n      <td>60289-247</td>\n      <td>Corri</td>\n      <td>Rockcliffe</td>\n      <td>46.150.208.18</td>\n      <td>$5.68</td>\n    </tr>\n    <tr>\n      <th>8</th>\n      <td>0527-1742</td>\n      <td>Ambros</td>\n      <td>Goulding</td>\n      <td>174.124.224.39</td>\n      <td>$726.12</td>\n    </tr>\n    <tr>\n      <th>9</th>\n      <td>57237-083</td>\n      <td>Roma</td>\n      <td>Addekin</td>\n      <td>37.14.63.174</td>\n      <td>$526.89</td>\n    </tr>\n    <tr>\n      <th>10</th>\n      <td>60758-060</td>\n      <td>Auberon</td>\n      <td>Boxen</td>\n      <td>168.0.223.98</td>\n      <td>$309.65</td>\n    </tr>\n    <tr>\n      <th>11</th>\n      <td>43857-0289</td>\n      <td>Cesare</td>\n      <td>Andriolli</td>\n      <td>244.204.3.163</td>\n      <td>$746.23</td>\n    </tr>\n    <tr>\n      <th>12</th>\n      <td>68180-751</td>\n      <td>Marlon</td>\n      <td>Fernie</td>\n      <td>61.133.100.141</td>\n      <td>$974.30</td>\n    </tr>\n    <tr>\n      <th>13</th>\n      <td>43319-040</td>\n      <td>Gavrielle</td>\n      <td>Vittet</td>\n      <td>180.20.70.166</td>\n      <td>$994.20</td>\n    </tr>\n    <tr>\n      <th>14</th>\n      <td>65862-207</td>\n      <td>Alvira</td>\n      <td>Heifer</td>\n      <td>141.170.128.72</td>\n      <td>$584.13</td>\n    </tr>\n    <tr>\n      <th>16</th>\n      <td>0066-0508</td>\n      <td>Jedd</td>\n      <td>Hartman</td>\n      <td>21.55.247.91</td>\n      <td>$749.96</td>\n    </tr>\n    <tr>\n      <th>17</th>\n      <td>0187-5102</td>\n      <td>Beth</td>\n      <td>Lamping</td>\n      <td>125.152.40.91</td>\n      <td>$19.07</td>\n    </tr>\n    <tr>\n      <th>18</th>\n      <td>44887-2589</td>\n      <td>Sergio</td>\n      <td>Whittlesee</td>\n      <td>76.116.223.149</td>\n      <td>$346.1</td>\n    </tr>\n    <tr>\n      <th>21</th>\n      <td>42549-609</td>\n      <td>Candra</td>\n      <td>Josowitz</td>\n      <td>158.206.200.105</td>\n      <td>$443.87</td>\n    </tr>\n    <tr>\n      <th>22</th>\n      <td>49999-065</td>\n      <td>Gunar</td>\n      <td>Enga</td>\n      <td>89.51.64.220</td>\n      <td>$62.60</td>\n    </tr>\n    <tr>\n      <th>23</th>\n      <td>52125-412</td>\n      <td>Constancia</td>\n      <td>Emberson</td>\n      <td>58.64.16.173</td>\n      <td>$666.13</td>\n    </tr>\n    <tr>\n      <th>24</th>\n      <td>64679-982</td>\n      <td>Felicle</td>\n      <td>Cappleman</td>\n      <td>246.127.246.202</td>\n      <td>$208.91</td>\n    </tr>\n    <tr>\n      <th>25</th>\n      <td>59779-556</td>\n      <td>Bartlett</td>\n      <td>Thrussell</td>\n      <td>213.80.235.219</td>\n      <td>$592.77</td>\n    </tr>\n    <tr>\n      <th>26</th>\n      <td>0093-1078</td>\n      <td>Wilhelm</td>\n      <td>Glanister</td>\n      <td>126.158.69.199</td>\n      <td>$722.42</td>\n    </tr>\n    <tr>\n      <th>27</th>\n      <td>54569-1444</td>\n      <td>Ivette</td>\n      <td>Michele</td>\n      <td>134.85.3.31</td>\n      <td>$962.30</td>\n    </tr>\n    <tr>\n      <th>29</th>\n      <td>43857-0134</td>\n      <td>Sergio</td>\n      <td>Whittlesee</td>\n      <td>76.116.223.149</td>\n      <td>$346.11</td>\n    </tr>\n    <tr>\n      <th>30</th>\n      <td>0378-2920</td>\n      <td>Shaylynn</td>\n      <td>Dominighi</td>\n      <td>105.104.251.83</td>\n      <td>$253.56</td>\n    </tr>\n    <tr>\n      <th>31</th>\n      <td>63629-3378</td>\n      <td>Leonid</td>\n      <td>Polino</td>\n      <td>68.183.173.70</td>\n      <td>$310.88</td>\n    </tr>\n    <tr>\n      <th>33</th>\n      <td>11673-003</td>\n      <td>Leroy</td>\n      <td>Stephenson</td>\n      <td>143.46.85.46</td>\n      <td>$951.73</td>\n    </tr>\n    <tr>\n      <th>34</th>\n      <td>60429-624</td>\n      <td>Glennis</td>\n      <td>Gianelli</td>\n      <td>48.90.168.126</td>\n      <td>$987.16</td>\n    </tr>\n    <tr>\n      <th>35</th>\n      <td>54973-0611</td>\n      <td>Brody</td>\n      <td>Goburn</td>\n      <td>142.230.225.8</td>\n      <td>$663.04</td>\n    </tr>\n    <tr>\n      <th>36</th>\n      <td>75949-1001</td>\n      <td>Madlin</td>\n      <td>Gotcliffe</td>\n      <td>45.31.218.244</td>\n      <td>$442.30</td>\n    </tr>\n    <tr>\n      <th>38</th>\n      <td>53746-191</td>\n      <td>Amil</td>\n      <td>O'Hannay</td>\n      <td>216.93.89.14</td>\n      <td>$520.86</td>\n    </tr>\n    <tr>\n      <th>39</th>\n      <td>42254-131</td>\n      <td>Inglebert</td>\n      <td>Houlson</td>\n      <td>102.102.146.27</td>\n      <td>$685.97</td>\n    </tr>\n    <tr>\n      <th>40</th>\n      <td>0904-6088</td>\n      <td>Ann</td>\n      <td>Cowling</td>\n      <td>113.27.40.144</td>\n      <td>$408.82</td>\n    </tr>\n    <tr>\n      <th>41</th>\n      <td>46122-023</td>\n      <td>Lloyd</td>\n      <td>Colliss</td>\n      <td>81.0.211.235</td>\n      <td>$225.69</td>\n    </tr>\n    <tr>\n      <th>43</th>\n      <td>0456-2212</td>\n      <td>Layney</td>\n      <td>Janssens</td>\n      <td>79.49.30.228</td>\n      <td>$889.27</td>\n    </tr>\n    <tr>\n      <th>44</th>\n      <td>59779-276</td>\n      <td>Lynnelle</td>\n      <td>Ainslie</td>\n      <td>38.85.34.83</td>\n      <td>$473.65</td>\n    </tr>\n    <tr>\n      <th>45</th>\n      <td>68712-049</td>\n      <td>Phaedra</td>\n      <td>Teodoro</td>\n      <td>92.45.204.14</td>\n      <td>$445.56</td>\n    </tr>\n    <tr>\n      <th>46</th>\n      <td>10157-9539</td>\n      <td>Sibylla</td>\n      <td>Pedron</td>\n      <td>207.112.216.80</td>\n      <td>$362.15</td>\n    </tr>\n    <tr>\n      <th>47</th>\n      <td>0378-1044</td>\n      <td>Sharlene</td>\n      <td>Wolfendale</td>\n      <td>32.253.106.253</td>\n      <td>$133.98</td>\n    </tr>\n  </tbody>\n</table>\n</div>"
     },
     "metadata": {},
     "execution_count": 18
    }
   ],
   "source": [
    "df"
   ]
  },
  {
   "cell_type": "code",
   "execution_count": null,
   "metadata": {},
   "outputs": [],
   "source": []
  }
 ]
}