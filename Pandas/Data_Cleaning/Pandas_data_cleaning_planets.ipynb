{
 "metadata": {
  "language_info": {
   "codemirror_mode": {
    "name": "ipython",
    "version": 3
   },
   "file_extension": ".py",
   "mimetype": "text/x-python",
   "name": "python",
   "nbconvert_exporter": "python",
   "pygments_lexer": "ipython3",
   "version": "3.8.3-final"
  },
  "orig_nbformat": 2,
  "kernelspec": {
   "name": "Python 3.8.3 64-bit",
   "display_name": "Python 3.8.3 64-bit",
   "metadata": {
    "interpreter": {
     "hash": "991da9b17d5655561a8686b9327745da023652667e5744d6112d3c7cefcedf59"
    }
   }
  }
 },
 "nbformat": 4,
 "nbformat_minor": 2,
 "cells": [
  {
   "cell_type": "code",
   "execution_count": 5,
   "metadata": {},
   "outputs": [],
   "source": [
    "import matplotlib.pyplot as plt\n",
    "import seaborn as sns\n",
    "\n",
    "sns.set()"
   ]
  },
  {
   "cell_type": "code",
   "execution_count": 6,
   "metadata": {},
   "outputs": [],
   "source": [
    "df = sns.load_dataset(\"planets\")"
   ]
  },
  {
   "cell_type": "code",
   "execution_count": 7,
   "metadata": {},
   "outputs": [
    {
     "output_type": "execute_result",
     "data": {
      "text/plain": "(1035, 6)"
     },
     "metadata": {},
     "execution_count": 7
    }
   ],
   "source": [
    "df.shape\n",
    "### df.shape[0] récupérer le nombre de lignes"
   ]
  },
  {
   "cell_type": "code",
   "execution_count": 9,
   "metadata": {},
   "outputs": [
    {
     "output_type": "execute_result",
     "data": {
      "text/plain": "method             object\nnumber              int64\norbital_period    float64\nmass              float64\ndistance          float64\nyear                int64\ndtype: object"
     },
     "metadata": {},
     "execution_count": 9
    }
   ],
   "source": [
    "df.dtypes"
   ]
  },
  {
   "cell_type": "code",
   "execution_count": 14,
   "metadata": {},
   "outputs": [
    {
     "output_type": "execute_result",
     "data": {
      "text/plain": "            method  number  orbital_period  mass  distance  year\n0  Radial Velocity       1         269.300  7.10     77.40  2006\n1  Radial Velocity       1         874.774  2.21     56.95  2008",
      "text/html": "<div>\n<style scoped>\n    .dataframe tbody tr th:only-of-type {\n        vertical-align: middle;\n    }\n\n    .dataframe tbody tr th {\n        vertical-align: top;\n    }\n\n    .dataframe thead th {\n        text-align: right;\n    }\n</style>\n<table border=\"1\" class=\"dataframe\">\n  <thead>\n    <tr style=\"text-align: right;\">\n      <th></th>\n      <th>method</th>\n      <th>number</th>\n      <th>orbital_period</th>\n      <th>mass</th>\n      <th>distance</th>\n      <th>year</th>\n    </tr>\n  </thead>\n  <tbody>\n    <tr>\n      <th>0</th>\n      <td>Radial Velocity</td>\n      <td>1</td>\n      <td>269.300</td>\n      <td>7.10</td>\n      <td>77.40</td>\n      <td>2006</td>\n    </tr>\n    <tr>\n      <th>1</th>\n      <td>Radial Velocity</td>\n      <td>1</td>\n      <td>874.774</td>\n      <td>2.21</td>\n      <td>56.95</td>\n      <td>2008</td>\n    </tr>\n  </tbody>\n</table>\n</div>"
     },
     "metadata": {},
     "execution_count": 14
    }
   ],
   "source": [
    "df.head(2)"
   ]
  },
  {
   "cell_type": "code",
   "execution_count": 13,
   "metadata": {},
   "outputs": [
    {
     "output_type": "execute_result",
     "data": {
      "text/plain": "       method  number  orbital_period  mass  distance  year\n1033  Transit       1        4.125083   NaN     293.0  2008\n1034  Transit       1        4.187757   NaN     260.0  2008",
      "text/html": "<div>\n<style scoped>\n    .dataframe tbody tr th:only-of-type {\n        vertical-align: middle;\n    }\n\n    .dataframe tbody tr th {\n        vertical-align: top;\n    }\n\n    .dataframe thead th {\n        text-align: right;\n    }\n</style>\n<table border=\"1\" class=\"dataframe\">\n  <thead>\n    <tr style=\"text-align: right;\">\n      <th></th>\n      <th>method</th>\n      <th>number</th>\n      <th>orbital_period</th>\n      <th>mass</th>\n      <th>distance</th>\n      <th>year</th>\n    </tr>\n  </thead>\n  <tbody>\n    <tr>\n      <th>1033</th>\n      <td>Transit</td>\n      <td>1</td>\n      <td>4.125083</td>\n      <td>NaN</td>\n      <td>293.0</td>\n      <td>2008</td>\n    </tr>\n    <tr>\n      <th>1034</th>\n      <td>Transit</td>\n      <td>1</td>\n      <td>4.187757</td>\n      <td>NaN</td>\n      <td>260.0</td>\n      <td>2008</td>\n    </tr>\n  </tbody>\n</table>\n</div>"
     },
     "metadata": {},
     "execution_count": 13
    }
   ],
   "source": [
    "df.tail(2)"
   ]
  },
  {
   "cell_type": "code",
   "execution_count": 18,
   "metadata": {},
   "outputs": [
    {
     "output_type": "execute_result",
     "data": {
      "text/plain": "                              number                                           \\\n                               count      mean       std  min  25%  50%   75%   \nmethod                                                                          \nAstrometry                       2.0  1.000000  0.000000  1.0  1.0  1.0  1.00   \nEclipse Timing Variations        9.0  1.666667  0.500000  1.0  1.0  2.0  2.00   \nImaging                         38.0  1.315789  0.933035  1.0  1.0  1.0  1.00   \nMicrolensing                    23.0  1.173913  0.387553  1.0  1.0  1.0  1.00   \nOrbital Brightness Modulation    3.0  1.666667  0.577350  1.0  1.5  2.0  2.00   \nPulsar Timing                    5.0  2.200000  1.095445  1.0  1.0  3.0  3.00   \nPulsation Timing Variations      1.0  1.000000       NaN  1.0  1.0  1.0  1.00   \nRadial Velocity                553.0  1.721519  1.157141  1.0  1.0  1.0  2.00   \nTransit                        397.0  1.954660  1.399119  1.0  1.0  1.0  2.00   \nTransit Timing Variations        4.0  2.250000  0.500000  2.0  2.0  2.0  2.25   \n\n                                   orbital_period                 ...  \\\n                               max          count           mean  ...   \nmethod                                                            ...   \nAstrometry                     1.0            2.0     631.180000  ...   \nEclipse Timing Variations      2.0            9.0    4751.644444  ...   \nImaging                        4.0           12.0  118247.737500  ...   \nMicrolensing                   2.0            7.0    3153.571429  ...   \nOrbital Brightness Modulation  2.0            3.0       0.709307  ...   \nPulsar Timing                  3.0            5.0    7343.021201  ...   \nPulsation Timing Variations    1.0            1.0    1170.000000  ...   \nRadial Velocity                6.0          553.0     823.354680  ...   \nTransit                        7.0          397.0      21.102073  ...   \nTransit Timing Variations      3.0            3.0      79.783500  ...   \n\n                                distance            year               \\\n                                     75%      max  count         mean   \nmethod                                                                  \nAstrometry                       19.3225    20.77    2.0  2011.500000   \nEclipse Timing Variations       500.0000   500.00    9.0  2010.000000   \nImaging                         132.6975   165.00   38.0  2009.131579   \nMicrolensing                   4747.5000  7720.00   23.0  2009.782609   \nOrbital Brightness Modulation  1180.0000  1180.00    3.0  2011.666667   \nPulsar Timing                  1200.0000  1200.00    5.0  1998.400000   \nPulsation Timing Variations          NaN      NaN    1.0  2007.000000   \nRadial Velocity                  59.2175   354.00  553.0  2007.518987   \nTransit                         650.0000  8500.00  397.0  2011.236776   \nTransit Timing Variations      1487.0000  2119.00    4.0  2012.500000   \n\n                                                                           \\\n                                    std     min      25%     50%      75%   \nmethod                                                                      \nAstrometry                     2.121320  2010.0  2010.75  2011.5  2012.25   \nEclipse Timing Variations      1.414214  2008.0  2009.00  2010.0  2011.00   \nImaging                        2.781901  2004.0  2008.00  2009.0  2011.00   \nMicrolensing                   2.859697  2004.0  2008.00  2010.0  2012.00   \nOrbital Brightness Modulation  1.154701  2011.0  2011.00  2011.0  2012.00   \nPulsar Timing                  8.384510  1992.0  1992.00  1994.0  2003.00   \nPulsation Timing Variations         NaN  2007.0  2007.00  2007.0  2007.00   \nRadial Velocity                4.249052  1989.0  2005.00  2009.0  2011.00   \nTransit                        2.077867  2002.0  2010.00  2012.0  2013.00   \nTransit Timing Variations      1.290994  2011.0  2011.75  2012.5  2013.25   \n\n                                       \n                                  max  \nmethod                                 \nAstrometry                     2013.0  \nEclipse Timing Variations      2012.0  \nImaging                        2013.0  \nMicrolensing                   2013.0  \nOrbital Brightness Modulation  2013.0  \nPulsar Timing                  2011.0  \nPulsation Timing Variations    2007.0  \nRadial Velocity                2014.0  \nTransit                        2014.0  \nTransit Timing Variations      2014.0  \n\n[10 rows x 40 columns]",
      "text/html": "<div>\n<style scoped>\n    .dataframe tbody tr th:only-of-type {\n        vertical-align: middle;\n    }\n\n    .dataframe tbody tr th {\n        vertical-align: top;\n    }\n\n    .dataframe thead tr th {\n        text-align: left;\n    }\n\n    .dataframe thead tr:last-of-type th {\n        text-align: right;\n    }\n</style>\n<table border=\"1\" class=\"dataframe\">\n  <thead>\n    <tr>\n      <th></th>\n      <th colspan=\"8\" halign=\"left\">number</th>\n      <th colspan=\"2\" halign=\"left\">orbital_period</th>\n      <th>...</th>\n      <th colspan=\"2\" halign=\"left\">distance</th>\n      <th colspan=\"8\" halign=\"left\">year</th>\n    </tr>\n    <tr>\n      <th></th>\n      <th>count</th>\n      <th>mean</th>\n      <th>std</th>\n      <th>min</th>\n      <th>25%</th>\n      <th>50%</th>\n      <th>75%</th>\n      <th>max</th>\n      <th>count</th>\n      <th>mean</th>\n      <th>...</th>\n      <th>75%</th>\n      <th>max</th>\n      <th>count</th>\n      <th>mean</th>\n      <th>std</th>\n      <th>min</th>\n      <th>25%</th>\n      <th>50%</th>\n      <th>75%</th>\n      <th>max</th>\n    </tr>\n    <tr>\n      <th>method</th>\n      <th></th>\n      <th></th>\n      <th></th>\n      <th></th>\n      <th></th>\n      <th></th>\n      <th></th>\n      <th></th>\n      <th></th>\n      <th></th>\n      <th></th>\n      <th></th>\n      <th></th>\n      <th></th>\n      <th></th>\n      <th></th>\n      <th></th>\n      <th></th>\n      <th></th>\n      <th></th>\n      <th></th>\n    </tr>\n  </thead>\n  <tbody>\n    <tr>\n      <th>Astrometry</th>\n      <td>2.0</td>\n      <td>1.000000</td>\n      <td>0.000000</td>\n      <td>1.0</td>\n      <td>1.0</td>\n      <td>1.0</td>\n      <td>1.00</td>\n      <td>1.0</td>\n      <td>2.0</td>\n      <td>631.180000</td>\n      <td>...</td>\n      <td>19.3225</td>\n      <td>20.77</td>\n      <td>2.0</td>\n      <td>2011.500000</td>\n      <td>2.121320</td>\n      <td>2010.0</td>\n      <td>2010.75</td>\n      <td>2011.5</td>\n      <td>2012.25</td>\n      <td>2013.0</td>\n    </tr>\n    <tr>\n      <th>Eclipse Timing Variations</th>\n      <td>9.0</td>\n      <td>1.666667</td>\n      <td>0.500000</td>\n      <td>1.0</td>\n      <td>1.0</td>\n      <td>2.0</td>\n      <td>2.00</td>\n      <td>2.0</td>\n      <td>9.0</td>\n      <td>4751.644444</td>\n      <td>...</td>\n      <td>500.0000</td>\n      <td>500.00</td>\n      <td>9.0</td>\n      <td>2010.000000</td>\n      <td>1.414214</td>\n      <td>2008.0</td>\n      <td>2009.00</td>\n      <td>2010.0</td>\n      <td>2011.00</td>\n      <td>2012.0</td>\n    </tr>\n    <tr>\n      <th>Imaging</th>\n      <td>38.0</td>\n      <td>1.315789</td>\n      <td>0.933035</td>\n      <td>1.0</td>\n      <td>1.0</td>\n      <td>1.0</td>\n      <td>1.00</td>\n      <td>4.0</td>\n      <td>12.0</td>\n      <td>118247.737500</td>\n      <td>...</td>\n      <td>132.6975</td>\n      <td>165.00</td>\n      <td>38.0</td>\n      <td>2009.131579</td>\n      <td>2.781901</td>\n      <td>2004.0</td>\n      <td>2008.00</td>\n      <td>2009.0</td>\n      <td>2011.00</td>\n      <td>2013.0</td>\n    </tr>\n    <tr>\n      <th>Microlensing</th>\n      <td>23.0</td>\n      <td>1.173913</td>\n      <td>0.387553</td>\n      <td>1.0</td>\n      <td>1.0</td>\n      <td>1.0</td>\n      <td>1.00</td>\n      <td>2.0</td>\n      <td>7.0</td>\n      <td>3153.571429</td>\n      <td>...</td>\n      <td>4747.5000</td>\n      <td>7720.00</td>\n      <td>23.0</td>\n      <td>2009.782609</td>\n      <td>2.859697</td>\n      <td>2004.0</td>\n      <td>2008.00</td>\n      <td>2010.0</td>\n      <td>2012.00</td>\n      <td>2013.0</td>\n    </tr>\n    <tr>\n      <th>Orbital Brightness Modulation</th>\n      <td>3.0</td>\n      <td>1.666667</td>\n      <td>0.577350</td>\n      <td>1.0</td>\n      <td>1.5</td>\n      <td>2.0</td>\n      <td>2.00</td>\n      <td>2.0</td>\n      <td>3.0</td>\n      <td>0.709307</td>\n      <td>...</td>\n      <td>1180.0000</td>\n      <td>1180.00</td>\n      <td>3.0</td>\n      <td>2011.666667</td>\n      <td>1.154701</td>\n      <td>2011.0</td>\n      <td>2011.00</td>\n      <td>2011.0</td>\n      <td>2012.00</td>\n      <td>2013.0</td>\n    </tr>\n    <tr>\n      <th>Pulsar Timing</th>\n      <td>5.0</td>\n      <td>2.200000</td>\n      <td>1.095445</td>\n      <td>1.0</td>\n      <td>1.0</td>\n      <td>3.0</td>\n      <td>3.00</td>\n      <td>3.0</td>\n      <td>5.0</td>\n      <td>7343.021201</td>\n      <td>...</td>\n      <td>1200.0000</td>\n      <td>1200.00</td>\n      <td>5.0</td>\n      <td>1998.400000</td>\n      <td>8.384510</td>\n      <td>1992.0</td>\n      <td>1992.00</td>\n      <td>1994.0</td>\n      <td>2003.00</td>\n      <td>2011.0</td>\n    </tr>\n    <tr>\n      <th>Pulsation Timing Variations</th>\n      <td>1.0</td>\n      <td>1.000000</td>\n      <td>NaN</td>\n      <td>1.0</td>\n      <td>1.0</td>\n      <td>1.0</td>\n      <td>1.00</td>\n      <td>1.0</td>\n      <td>1.0</td>\n      <td>1170.000000</td>\n      <td>...</td>\n      <td>NaN</td>\n      <td>NaN</td>\n      <td>1.0</td>\n      <td>2007.000000</td>\n      <td>NaN</td>\n      <td>2007.0</td>\n      <td>2007.00</td>\n      <td>2007.0</td>\n      <td>2007.00</td>\n      <td>2007.0</td>\n    </tr>\n    <tr>\n      <th>Radial Velocity</th>\n      <td>553.0</td>\n      <td>1.721519</td>\n      <td>1.157141</td>\n      <td>1.0</td>\n      <td>1.0</td>\n      <td>1.0</td>\n      <td>2.00</td>\n      <td>6.0</td>\n      <td>553.0</td>\n      <td>823.354680</td>\n      <td>...</td>\n      <td>59.2175</td>\n      <td>354.00</td>\n      <td>553.0</td>\n      <td>2007.518987</td>\n      <td>4.249052</td>\n      <td>1989.0</td>\n      <td>2005.00</td>\n      <td>2009.0</td>\n      <td>2011.00</td>\n      <td>2014.0</td>\n    </tr>\n    <tr>\n      <th>Transit</th>\n      <td>397.0</td>\n      <td>1.954660</td>\n      <td>1.399119</td>\n      <td>1.0</td>\n      <td>1.0</td>\n      <td>1.0</td>\n      <td>2.00</td>\n      <td>7.0</td>\n      <td>397.0</td>\n      <td>21.102073</td>\n      <td>...</td>\n      <td>650.0000</td>\n      <td>8500.00</td>\n      <td>397.0</td>\n      <td>2011.236776</td>\n      <td>2.077867</td>\n      <td>2002.0</td>\n      <td>2010.00</td>\n      <td>2012.0</td>\n      <td>2013.00</td>\n      <td>2014.0</td>\n    </tr>\n    <tr>\n      <th>Transit Timing Variations</th>\n      <td>4.0</td>\n      <td>2.250000</td>\n      <td>0.500000</td>\n      <td>2.0</td>\n      <td>2.0</td>\n      <td>2.0</td>\n      <td>2.25</td>\n      <td>3.0</td>\n      <td>3.0</td>\n      <td>79.783500</td>\n      <td>...</td>\n      <td>1487.0000</td>\n      <td>2119.00</td>\n      <td>4.0</td>\n      <td>2012.500000</td>\n      <td>1.290994</td>\n      <td>2011.0</td>\n      <td>2011.75</td>\n      <td>2012.5</td>\n      <td>2013.25</td>\n      <td>2014.0</td>\n    </tr>\n  </tbody>\n</table>\n<p>10 rows × 40 columns</p>\n</div>"
     },
     "metadata": {},
     "execution_count": 18
    }
   ],
   "source": [
    "df.groupby(\"method\").describe()"
   ]
  },
  {
   "cell_type": "code",
   "execution_count": 19,
   "metadata": {},
   "outputs": [
    {
     "output_type": "execute_result",
     "data": {
      "text/plain": "            number  orbital_period        mass     distance         year\ncount  1035.000000      992.000000  513.000000   808.000000  1035.000000\nmean      1.785507     2002.917596    2.638161   264.069282  2009.070531\nstd       1.240976    26014.728304    3.818617   733.116493     3.972567\nmin       1.000000        0.090706    0.003600     1.350000  1989.000000\n25%       1.000000        5.442540    0.229000    32.560000  2007.000000\n50%       1.000000       39.979500    1.260000    55.250000  2010.000000\n75%       2.000000      526.005000    3.040000   178.500000  2012.000000\nmax       7.000000   730000.000000   25.000000  8500.000000  2014.000000",
      "text/html": "<div>\n<style scoped>\n    .dataframe tbody tr th:only-of-type {\n        vertical-align: middle;\n    }\n\n    .dataframe tbody tr th {\n        vertical-align: top;\n    }\n\n    .dataframe thead th {\n        text-align: right;\n    }\n</style>\n<table border=\"1\" class=\"dataframe\">\n  <thead>\n    <tr style=\"text-align: right;\">\n      <th></th>\n      <th>number</th>\n      <th>orbital_period</th>\n      <th>mass</th>\n      <th>distance</th>\n      <th>year</th>\n    </tr>\n  </thead>\n  <tbody>\n    <tr>\n      <th>count</th>\n      <td>1035.000000</td>\n      <td>992.000000</td>\n      <td>513.000000</td>\n      <td>808.000000</td>\n      <td>1035.000000</td>\n    </tr>\n    <tr>\n      <th>mean</th>\n      <td>1.785507</td>\n      <td>2002.917596</td>\n      <td>2.638161</td>\n      <td>264.069282</td>\n      <td>2009.070531</td>\n    </tr>\n    <tr>\n      <th>std</th>\n      <td>1.240976</td>\n      <td>26014.728304</td>\n      <td>3.818617</td>\n      <td>733.116493</td>\n      <td>3.972567</td>\n    </tr>\n    <tr>\n      <th>min</th>\n      <td>1.000000</td>\n      <td>0.090706</td>\n      <td>0.003600</td>\n      <td>1.350000</td>\n      <td>1989.000000</td>\n    </tr>\n    <tr>\n      <th>25%</th>\n      <td>1.000000</td>\n      <td>5.442540</td>\n      <td>0.229000</td>\n      <td>32.560000</td>\n      <td>2007.000000</td>\n    </tr>\n    <tr>\n      <th>50%</th>\n      <td>1.000000</td>\n      <td>39.979500</td>\n      <td>1.260000</td>\n      <td>55.250000</td>\n      <td>2010.000000</td>\n    </tr>\n    <tr>\n      <th>75%</th>\n      <td>2.000000</td>\n      <td>526.005000</td>\n      <td>3.040000</td>\n      <td>178.500000</td>\n      <td>2012.000000</td>\n    </tr>\n    <tr>\n      <th>max</th>\n      <td>7.000000</td>\n      <td>730000.000000</td>\n      <td>25.000000</td>\n      <td>8500.000000</td>\n      <td>2014.000000</td>\n    </tr>\n  </tbody>\n</table>\n</div>"
     },
     "metadata": {},
     "execution_count": 19
    }
   ],
   "source": [
    "### Afficher les statistiques descriptives de la dataset\n",
    "df.describe()"
   ]
  },
  {
   "source": [
    "count = nombre de valeurs non nulles\n",
    "\n",
    "mean = moyenne\n",
    "\n",
    "std = ecart-type\n",
    "\n",
    "min = minimum\n",
    "\n",
    "max = maximum\n",
    "\n",
    "25% = \n",
    "\n",
    "50% = \n",
    "\n",
    "75% = "
   ],
   "cell_type": "markdown",
   "metadata": {}
  },
  {
   "cell_type": "code",
   "execution_count": 20,
   "metadata": {},
   "outputs": [
    {
     "output_type": "execute_result",
     "data": {
      "text/plain": "1.3076100289855073"
     },
     "metadata": {},
     "execution_count": 20
    }
   ],
   "source": [
    "df.mass.sum() / df.shape[0]"
   ]
  },
  {
   "cell_type": "code",
   "execution_count": 21,
   "metadata": {},
   "outputs": [
    {
     "output_type": "execute_result",
     "data": {
      "text/plain": "2.6381605847953216"
     },
     "metadata": {},
     "execution_count": 21
    }
   ],
   "source": [
    "df.mass.mean()"
   ]
  },
  {
   "cell_type": "code",
   "execution_count": 22,
   "metadata": {},
   "outputs": [
    {
     "output_type": "execute_result",
     "data": {
      "text/plain": "513"
     },
     "metadata": {},
     "execution_count": 22
    }
   ],
   "source": [
    "df.mass.count()"
   ]
  },
  {
   "cell_type": "code",
   "execution_count": 23,
   "metadata": {},
   "outputs": [
    {
     "output_type": "execute_result",
     "data": {
      "text/plain": "2.6381605847953216"
     },
     "metadata": {},
     "execution_count": 23
    }
   ],
   "source": [
    "df.mass.sum() / df.mass.count()"
   ]
  },
  {
   "cell_type": "code",
   "execution_count": 24,
   "metadata": {},
   "outputs": [
    {
     "output_type": "execute_result",
     "data": {
      "text/plain": "103.6"
     },
     "metadata": {},
     "execution_count": 24
    }
   ],
   "source": [
    "sum([3,4,5,6,500]) / 5"
   ]
  },
  {
   "cell_type": "code",
   "execution_count": 27,
   "metadata": {},
   "outputs": [
    {
     "output_type": "execute_result",
     "data": {
      "text/plain": "method\nAstrometry                          631.180000\nEclipse Timing Variations          4751.644444\nImaging                          118247.737500\nMicrolensing                       3153.571429\nOrbital Brightness Modulation         0.709307\nPulsar Timing                      7343.021201\nPulsation Timing Variations        1170.000000\nRadial Velocity                     823.354680\nTransit                              21.102073\nTransit Timing Variations            79.783500\nName: orbital_period, dtype: float64"
     },
     "metadata": {},
     "execution_count": 27
    }
   ],
   "source": [
    "df.groupby(\"method\")[\"orbital_period\"].mean()"
   ]
  },
  {
   "cell_type": "code",
   "execution_count": 29,
   "metadata": {},
   "outputs": [
    {
     "output_type": "execute_result",
     "data": {
      "text/plain": "method\nAstrometry                         0\nEclipse Timing Variations          2\nImaging                            0\nMicrolensing                       0\nOrbital Brightness Modulation      0\nPulsar Timing                      0\nPulsation Timing Variations        0\nRadial Velocity                  510\nTransit                            1\nTransit Timing Variations          0\nName: mass, dtype: int64"
     },
     "metadata": {},
     "execution_count": 29
    }
   ],
   "source": [
    "df.groupby(\"method\")[\"mass\"].count()"
   ]
  },
  {
   "source": [
    "Nombre de valeur nulles par méthode pour la colonne mass"
   ],
   "cell_type": "markdown",
   "metadata": {}
  },
  {
   "cell_type": "code",
   "execution_count": 30,
   "metadata": {},
   "outputs": [
    {
     "output_type": "execute_result",
     "data": {
      "text/plain": "Astrometry                         2\nEclipse Timing Variations          7\nImaging                           38\nMicrolensing                      23\nOrbital Brightness Modulation      3\nPulsar Timing                      5\nPulsation Timing Variations        1\nRadial Velocity                   43\nTransit                          396\nTransit Timing Variations          4\ndtype: int64"
     },
     "metadata": {},
     "execution_count": 30
    }
   ],
   "source": [
    "df.method.value_counts() - df.groupby(\"method\")[\"mass\"].count()"
   ]
  },
  {
   "source": [
    "Valeur la plus fréquente (value_counts() ou mode())"
   ],
   "cell_type": "markdown",
   "metadata": {}
  },
  {
   "cell_type": "code",
   "execution_count": 31,
   "metadata": {},
   "outputs": [
    {
     "output_type": "execute_result",
     "data": {
      "text/plain": "Radial Velocity                  553\nTransit                          397\nImaging                           38\nMicrolensing                      23\nEclipse Timing Variations          9\nPulsar Timing                      5\nTransit Timing Variations          4\nOrbital Brightness Modulation      3\nAstrometry                         2\nPulsation Timing Variations        1\nName: method, dtype: int64"
     },
     "metadata": {},
     "execution_count": 31
    }
   ],
   "source": [
    "df.method.value_counts()    "
   ]
  },
  {
   "cell_type": "code",
   "execution_count": 32,
   "metadata": {},
   "outputs": [
    {
     "output_type": "execute_result",
     "data": {
      "text/plain": "0    Radial Velocity\ndtype: object"
     },
     "metadata": {},
     "execution_count": 32
    }
   ],
   "source": [
    "df.method.mode()"
   ]
  },
  {
   "cell_type": "code",
   "execution_count": 33,
   "metadata": {},
   "outputs": [
    {
     "output_type": "execute_result",
     "data": {
      "text/plain": "0       262.200\n1       872.564\n2       760.400\n3       306.630\n4       505.720\n         ...   \n1030        NaN\n1031        NaN\n1032        NaN\n1033        NaN\n1034        NaN\nLength: 1035, dtype: float64"
     },
     "metadata": {},
     "execution_count": 33
    }
   ],
   "source": [
    "df.orbital_period - df.mass"
   ]
  },
  {
   "cell_type": "code",
   "execution_count": 34,
   "metadata": {},
   "outputs": [
    {
     "output_type": "execute_result",
     "data": {
      "text/plain": "            method  number  orbital_period   mass  distance  year\n0  Radial Velocity       1         269.300   7.10     77.40  2006\n1  Radial Velocity       1         874.774   2.21     56.95  2008\n2  Radial Velocity       1         763.000   2.60     19.84  2011\n3  Radial Velocity       1         326.030  19.40    110.62  2007\n4  Radial Velocity       1         516.220  10.50    119.47  2009",
      "text/html": "<div>\n<style scoped>\n    .dataframe tbody tr th:only-of-type {\n        vertical-align: middle;\n    }\n\n    .dataframe tbody tr th {\n        vertical-align: top;\n    }\n\n    .dataframe thead th {\n        text-align: right;\n    }\n</style>\n<table border=\"1\" class=\"dataframe\">\n  <thead>\n    <tr style=\"text-align: right;\">\n      <th></th>\n      <th>method</th>\n      <th>number</th>\n      <th>orbital_period</th>\n      <th>mass</th>\n      <th>distance</th>\n      <th>year</th>\n    </tr>\n  </thead>\n  <tbody>\n    <tr>\n      <th>0</th>\n      <td>Radial Velocity</td>\n      <td>1</td>\n      <td>269.300</td>\n      <td>7.10</td>\n      <td>77.40</td>\n      <td>2006</td>\n    </tr>\n    <tr>\n      <th>1</th>\n      <td>Radial Velocity</td>\n      <td>1</td>\n      <td>874.774</td>\n      <td>2.21</td>\n      <td>56.95</td>\n      <td>2008</td>\n    </tr>\n    <tr>\n      <th>2</th>\n      <td>Radial Velocity</td>\n      <td>1</td>\n      <td>763.000</td>\n      <td>2.60</td>\n      <td>19.84</td>\n      <td>2011</td>\n    </tr>\n    <tr>\n      <th>3</th>\n      <td>Radial Velocity</td>\n      <td>1</td>\n      <td>326.030</td>\n      <td>19.40</td>\n      <td>110.62</td>\n      <td>2007</td>\n    </tr>\n    <tr>\n      <th>4</th>\n      <td>Radial Velocity</td>\n      <td>1</td>\n      <td>516.220</td>\n      <td>10.50</td>\n      <td>119.47</td>\n      <td>2009</td>\n    </tr>\n  </tbody>\n</table>\n</div>"
     },
     "metadata": {},
     "execution_count": 34
    }
   ],
   "source": [
    "df.head()"
   ]
  },
  {
   "source": [
    "Afficher les lignes avec number > 1"
   ],
   "cell_type": "markdown",
   "metadata": {}
  },
  {
   "cell_type": "code",
   "execution_count": 39,
   "metadata": {},
   "outputs": [
    {
     "output_type": "execute_result",
     "data": {
      "text/plain": "              method  number  orbital_period  mass  distance  year\n9    Radial Velocity       2        452.8000  1.99     74.79  2010\n10   Radial Velocity       2        883.0000  0.86     74.79  2010\n13   Radial Velocity       3       1078.0000  2.53     14.08  1996\n14   Radial Velocity       3       2391.0000  0.54     14.08  2001\n15   Radial Velocity       3      14002.0000  1.64     14.08  2009\n..               ...     ...             ...   ...       ...   ...\n925     Microlensing       2             NaN   NaN   4080.00  2012\n926     Microlensing       2             NaN   NaN   4080.00  2012\n941    Pulsar Timing       3         25.2620   NaN       NaN  1992\n942    Pulsar Timing       3         66.5419   NaN       NaN  1992\n943    Pulsar Timing       3         98.2114   NaN       NaN  1994\n\n[440 rows x 6 columns]",
      "text/html": "<div>\n<style scoped>\n    .dataframe tbody tr th:only-of-type {\n        vertical-align: middle;\n    }\n\n    .dataframe tbody tr th {\n        vertical-align: top;\n    }\n\n    .dataframe thead th {\n        text-align: right;\n    }\n</style>\n<table border=\"1\" class=\"dataframe\">\n  <thead>\n    <tr style=\"text-align: right;\">\n      <th></th>\n      <th>method</th>\n      <th>number</th>\n      <th>orbital_period</th>\n      <th>mass</th>\n      <th>distance</th>\n      <th>year</th>\n    </tr>\n  </thead>\n  <tbody>\n    <tr>\n      <th>9</th>\n      <td>Radial Velocity</td>\n      <td>2</td>\n      <td>452.8000</td>\n      <td>1.99</td>\n      <td>74.79</td>\n      <td>2010</td>\n    </tr>\n    <tr>\n      <th>10</th>\n      <td>Radial Velocity</td>\n      <td>2</td>\n      <td>883.0000</td>\n      <td>0.86</td>\n      <td>74.79</td>\n      <td>2010</td>\n    </tr>\n    <tr>\n      <th>13</th>\n      <td>Radial Velocity</td>\n      <td>3</td>\n      <td>1078.0000</td>\n      <td>2.53</td>\n      <td>14.08</td>\n      <td>1996</td>\n    </tr>\n    <tr>\n      <th>14</th>\n      <td>Radial Velocity</td>\n      <td>3</td>\n      <td>2391.0000</td>\n      <td>0.54</td>\n      <td>14.08</td>\n      <td>2001</td>\n    </tr>\n    <tr>\n      <th>15</th>\n      <td>Radial Velocity</td>\n      <td>3</td>\n      <td>14002.0000</td>\n      <td>1.64</td>\n      <td>14.08</td>\n      <td>2009</td>\n    </tr>\n    <tr>\n      <th>...</th>\n      <td>...</td>\n      <td>...</td>\n      <td>...</td>\n      <td>...</td>\n      <td>...</td>\n      <td>...</td>\n    </tr>\n    <tr>\n      <th>925</th>\n      <td>Microlensing</td>\n      <td>2</td>\n      <td>NaN</td>\n      <td>NaN</td>\n      <td>4080.00</td>\n      <td>2012</td>\n    </tr>\n    <tr>\n      <th>926</th>\n      <td>Microlensing</td>\n      <td>2</td>\n      <td>NaN</td>\n      <td>NaN</td>\n      <td>4080.00</td>\n      <td>2012</td>\n    </tr>\n    <tr>\n      <th>941</th>\n      <td>Pulsar Timing</td>\n      <td>3</td>\n      <td>25.2620</td>\n      <td>NaN</td>\n      <td>NaN</td>\n      <td>1992</td>\n    </tr>\n    <tr>\n      <th>942</th>\n      <td>Pulsar Timing</td>\n      <td>3</td>\n      <td>66.5419</td>\n      <td>NaN</td>\n      <td>NaN</td>\n      <td>1992</td>\n    </tr>\n    <tr>\n      <th>943</th>\n      <td>Pulsar Timing</td>\n      <td>3</td>\n      <td>98.2114</td>\n      <td>NaN</td>\n      <td>NaN</td>\n      <td>1994</td>\n    </tr>\n  </tbody>\n</table>\n<p>440 rows × 6 columns</p>\n</div>"
     },
     "metadata": {},
     "execution_count": 39
    }
   ],
   "source": [
    "df[(df.number > 1)]"
   ]
  },
  {
   "cell_type": "code",
   "execution_count": 40,
   "metadata": {},
   "outputs": [
    {
     "output_type": "execute_result",
     "data": {
      "text/plain": "213367.98000000004"
     },
     "metadata": {},
     "execution_count": 40
    }
   ],
   "source": [
    "df.distance.sum()"
   ]
  },
  {
   "cell_type": "code",
   "execution_count": 41,
   "metadata": {},
   "outputs": [
    {
     "output_type": "execute_result",
     "data": {
      "text/plain": "1848"
     },
     "metadata": {},
     "execution_count": 41
    }
   ],
   "source": [
    "df.number.sum()"
   ]
  },
  {
   "source": [
    "Ratio "
   ],
   "cell_type": "markdown",
   "metadata": {}
  },
  {
   "cell_type": "code",
   "execution_count": 42,
   "metadata": {},
   "outputs": [
    {
     "output_type": "execute_result",
     "data": {
      "text/plain": "115.45886363636366"
     },
     "metadata": {},
     "execution_count": 42
    }
   ],
   "source": [
    "df.distance.sum() / df.number.sum()\n"
   ]
  },
  {
   "cell_type": "code",
   "execution_count": null,
   "metadata": {},
   "outputs": [],
   "source": []
  }
 ]
}