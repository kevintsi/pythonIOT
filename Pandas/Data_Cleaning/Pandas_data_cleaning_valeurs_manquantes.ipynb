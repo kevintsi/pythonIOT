{
 "metadata": {
  "language_info": {
   "codemirror_mode": {
    "name": "ipython",
    "version": 3
   },
   "file_extension": ".py",
   "mimetype": "text/x-python",
   "name": "python",
   "nbconvert_exporter": "python",
   "pygments_lexer": "ipython3",
   "version": "3.8.3-final"
  },
  "orig_nbformat": 2,
  "kernelspec": {
   "name": "Python 3.8.3 64-bit",
   "display_name": "Python 3.8.3 64-bit",
   "metadata": {
    "interpreter": {
     "hash": "991da9b17d5655561a8686b9327745da023652667e5744d6112d3c7cefcedf59"
    }
   }
  }
 },
 "nbformat": 4,
 "nbformat_minor": 2,
 "cells": [
  {
   "source": [
    "# Valeurs manquantes"
   ],
   "cell_type": "markdown",
   "metadata": {}
  },
  {
   "cell_type": "code",
   "execution_count": 3,
   "metadata": {},
   "outputs": [],
   "source": [
    "import numpy as np\n",
    "import pandas as pds\n",
    "\n",
    "url = 'https://bit.ly/missing-values'\n",
    "df = pds.read_csv(url)"
   ]
  },
  {
   "cell_type": "code",
   "execution_count": 4,
   "metadata": {},
   "outputs": [
    {
     "output_type": "execute_result",
     "data": {
      "text/plain": "color     129\nrating    256\ndtype: int64"
     },
     "metadata": {},
     "execution_count": 4
    }
   ],
   "source": [
    "df.isna().sum()"
   ]
  },
  {
   "cell_type": "code",
   "execution_count": 5,
   "metadata": {},
   "outputs": [
    {
     "output_type": "execute_result",
     "data": {
      "text/plain": "color     0.140676\nrating    0.279171\ndtype: float64"
     },
     "metadata": {},
     "execution_count": 5
    }
   ],
   "source": [
    "df.isna().mean()"
   ]
  },
  {
   "cell_type": "code",
   "execution_count": 6,
   "metadata": {},
   "outputs": [
    {
     "output_type": "execute_result",
     "data": {
      "text/plain": "0    1\n1    0\n2    0\n3    0\n4    0\nName: color, dtype: int8"
     },
     "metadata": {},
     "execution_count": 6
    }
   ],
   "source": [
    "df.color.isna().astype('int8').head()"
   ]
  },
  {
   "cell_type": "code",
   "execution_count": 7,
   "metadata": {},
   "outputs": [
    {
     "output_type": "execute_result",
     "data": {
      "text/plain": "      color  rating\n0       NaN    1.16\n1       Red     NaN\n2      Blue    2.54\n3       Red    1.51\n4       Red     NaN\n..      ...     ...\n912    Blue    3.40\n913     Red     NaN\n914     NaN    1.24\n915  Yellow    2.64\n916    Blue     NaN\n\n[917 rows x 2 columns]",
      "text/html": "<div>\n<style scoped>\n    .dataframe tbody tr th:only-of-type {\n        vertical-align: middle;\n    }\n\n    .dataframe tbody tr th {\n        vertical-align: top;\n    }\n\n    .dataframe thead th {\n        text-align: right;\n    }\n</style>\n<table border=\"1\" class=\"dataframe\">\n  <thead>\n    <tr style=\"text-align: right;\">\n      <th></th>\n      <th>color</th>\n      <th>rating</th>\n    </tr>\n  </thead>\n  <tbody>\n    <tr>\n      <th>0</th>\n      <td>NaN</td>\n      <td>1.16</td>\n    </tr>\n    <tr>\n      <th>1</th>\n      <td>Red</td>\n      <td>NaN</td>\n    </tr>\n    <tr>\n      <th>2</th>\n      <td>Blue</td>\n      <td>2.54</td>\n    </tr>\n    <tr>\n      <th>3</th>\n      <td>Red</td>\n      <td>1.51</td>\n    </tr>\n    <tr>\n      <th>4</th>\n      <td>Red</td>\n      <td>NaN</td>\n    </tr>\n    <tr>\n      <th>...</th>\n      <td>...</td>\n      <td>...</td>\n    </tr>\n    <tr>\n      <th>912</th>\n      <td>Blue</td>\n      <td>3.40</td>\n    </tr>\n    <tr>\n      <th>913</th>\n      <td>Red</td>\n      <td>NaN</td>\n    </tr>\n    <tr>\n      <th>914</th>\n      <td>NaN</td>\n      <td>1.24</td>\n    </tr>\n    <tr>\n      <th>915</th>\n      <td>Yellow</td>\n      <td>2.64</td>\n    </tr>\n    <tr>\n      <th>916</th>\n      <td>Blue</td>\n      <td>NaN</td>\n    </tr>\n  </tbody>\n</table>\n<p>917 rows × 2 columns</p>\n</div>"
     },
     "metadata": {},
     "execution_count": 7
    }
   ],
   "source": [
    "df"
   ]
  },
  {
   "source": [
    "# Insérer une colonne à un emplacement particulier\n",
    "## Méthode sans boucle"
   ],
   "cell_type": "markdown",
   "metadata": {}
  },
  {
   "cell_type": "code",
   "execution_count": 8,
   "metadata": {},
   "outputs": [],
   "source": [
    "df.insert(df.columns.get_loc(\"color\") + 1, \"color_missing\", df.color.isna())"
   ]
  },
  {
   "source": [
    "df.insert(df.columns.get_loc(\"rating\") + 1, \"rating_missing\", df.rating.isna())"
   ],
   "cell_type": "code",
   "metadata": {},
   "execution_count": null,
   "outputs": []
  },
  {
   "source": [
    " ## Méthode avec boucle"
   ],
   "cell_type": "markdown",
   "metadata": {}
  },
  {
   "cell_type": "code",
   "execution_count": 9,
   "metadata": {},
   "outputs": [],
   "source": [
    "# Ici, n'incluez que les noms des colonnes NUMERIQUES / ORDINALES\n",
    "for nom_colonne in [\"color\", \"rating\"]:\n",
    "    index_colonne = df.columns.get_loc(nom_colonne)\n",
    "    df.insert(index_colonne+1,\n",
    "    nom_colonne+\"_nan\",\n",
    "    df[nom_colonne].isna().astype(\"int8\"))"
   ]
  },
  {
   "cell_type": "code",
   "execution_count": 10,
   "metadata": {},
   "outputs": [
    {
     "output_type": "execute_result",
     "data": {
      "text/plain": "      color  color_nan  color_missing  rating  rating_nan\n0       NaN          1           True    1.16           0\n1       Red          0          False     NaN           1\n2      Blue          0          False    2.54           0\n3       Red          0          False    1.51           0\n4       Red          0          False     NaN           1\n..      ...        ...            ...     ...         ...\n912    Blue          0          False    3.40           0\n913     Red          0          False     NaN           1\n914     NaN          1           True    1.24           0\n915  Yellow          0          False    2.64           0\n916    Blue          0          False     NaN           1\n\n[917 rows x 5 columns]",
      "text/html": "<div>\n<style scoped>\n    .dataframe tbody tr th:only-of-type {\n        vertical-align: middle;\n    }\n\n    .dataframe tbody tr th {\n        vertical-align: top;\n    }\n\n    .dataframe thead th {\n        text-align: right;\n    }\n</style>\n<table border=\"1\" class=\"dataframe\">\n  <thead>\n    <tr style=\"text-align: right;\">\n      <th></th>\n      <th>color</th>\n      <th>color_nan</th>\n      <th>color_missing</th>\n      <th>rating</th>\n      <th>rating_nan</th>\n    </tr>\n  </thead>\n  <tbody>\n    <tr>\n      <th>0</th>\n      <td>NaN</td>\n      <td>1</td>\n      <td>True</td>\n      <td>1.16</td>\n      <td>0</td>\n    </tr>\n    <tr>\n      <th>1</th>\n      <td>Red</td>\n      <td>0</td>\n      <td>False</td>\n      <td>NaN</td>\n      <td>1</td>\n    </tr>\n    <tr>\n      <th>2</th>\n      <td>Blue</td>\n      <td>0</td>\n      <td>False</td>\n      <td>2.54</td>\n      <td>0</td>\n    </tr>\n    <tr>\n      <th>3</th>\n      <td>Red</td>\n      <td>0</td>\n      <td>False</td>\n      <td>1.51</td>\n      <td>0</td>\n    </tr>\n    <tr>\n      <th>4</th>\n      <td>Red</td>\n      <td>0</td>\n      <td>False</td>\n      <td>NaN</td>\n      <td>1</td>\n    </tr>\n    <tr>\n      <th>...</th>\n      <td>...</td>\n      <td>...</td>\n      <td>...</td>\n      <td>...</td>\n      <td>...</td>\n    </tr>\n    <tr>\n      <th>912</th>\n      <td>Blue</td>\n      <td>0</td>\n      <td>False</td>\n      <td>3.40</td>\n      <td>0</td>\n    </tr>\n    <tr>\n      <th>913</th>\n      <td>Red</td>\n      <td>0</td>\n      <td>False</td>\n      <td>NaN</td>\n      <td>1</td>\n    </tr>\n    <tr>\n      <th>914</th>\n      <td>NaN</td>\n      <td>1</td>\n      <td>True</td>\n      <td>1.24</td>\n      <td>0</td>\n    </tr>\n    <tr>\n      <th>915</th>\n      <td>Yellow</td>\n      <td>0</td>\n      <td>False</td>\n      <td>2.64</td>\n      <td>0</td>\n    </tr>\n    <tr>\n      <th>916</th>\n      <td>Blue</td>\n      <td>0</td>\n      <td>False</td>\n      <td>NaN</td>\n      <td>1</td>\n    </tr>\n  </tbody>\n</table>\n<p>917 rows × 5 columns</p>\n</div>"
     },
     "metadata": {},
     "execution_count": 10
    }
   ],
   "source": [
    "df"
   ]
  },
  {
   "source": [
    "#### La touche finale pour les colonnes ordinales : \"colonne.cat.codes\"\n",
    "#### La touche finale pour les colonnes numériques : \"astype(\"int\") ou astype(\"float\")"
   ],
   "cell_type": "markdown",
   "metadata": {}
  },
  {
   "source": [
    "### Méthode dropna()"
   ],
   "cell_type": "markdown",
   "metadata": {}
  },
  {
   "source": [
    "how : str\n",
    "- \"any\" - Supprime les lignes ayant au moins une des colonnes du subset avec une valeur NaN\n",
    "- \"all\" - Supprime les lignes ayant toutes les colonnes du subset avec une valeur NaN\n",
    "\n",
    "subset : list\n",
    "- Liste des noms de colonnes à analyser"
   ],
   "cell_type": "markdown",
   "metadata": {}
  }
 ]
}