{
 "metadata": {
  "language_info": {
   "codemirror_mode": {
    "name": "ipython",
    "version": 3
   },
   "file_extension": ".py",
   "mimetype": "text/x-python",
   "name": "python",
   "nbconvert_exporter": "python",
   "pygments_lexer": "ipython3",
   "version": "3.8.3-final"
  },
  "orig_nbformat": 2,
  "kernelspec": {
   "name": "Python 3.8.3 64-bit",
   "display_name": "Python 3.8.3 64-bit",
   "metadata": {
    "interpreter": {
     "hash": "991da9b17d5655561a8686b9327745da023652667e5744d6112d3c7cefcedf59"
    }
   }
  }
 },
 "nbformat": 4,
 "nbformat_minor": 2,
 "cells": [
  {
   "source": [
    "### Exercice Vintage Auctions"
   ],
   "cell_type": "markdown",
   "metadata": {}
  },
  {
   "cell_type": "code",
   "execution_count": 21,
   "metadata": {},
   "outputs": [
    {
     "output_type": "execute_result",
     "data": {
      "text/plain": "                                        tx id      time auction       color  \\\n0    8dbf3cfa48b25f32e300f279bb4163c67d5c60cd   3:36 PM  $17.18        Puce   \n1    8ccebfdb1a41830bdcc0e926531f3215986b3a90   9:03 AM  $15.19  Aquamarine   \n2    ae85a421a91cec8baf16ff1e45fb3e239130b584   7:42 PM   $7.58      Violet   \n3    85e44f09a04a79182befcfd55e288a855f633e81  10:28 PM   $9.10   Goldenrod   \n4    ff750bfca4910cfa7f538fbe5463457839021680   6:38 AM   $8.22         NaN   \n..                                        ...       ...     ...         ...   \n995  6fa16b110f53367cf15e6e1dcffdcb4c2653f1ab   9:56 AM   $5.79      Violet   \n996  2b7b6cbc2224502c7137262575e97a450b336fc2  11:31 AM  $14.07      Purple   \n997  7f2a5141de8a7f752f8f98722393ffa3b0fb1e7a   6:25 AM  $17.63      Yellow   \n998  c4549687dee4d3061fd3c82433367bea083d4d05   2:22 AM  $17.00      Yellow   \n999  abf227d09fe37b3e333b419e0854c6c2fd1caa50   7:47 PM  $17.05      Indigo   \n\n    shirt size   condition  \n0            S        used  \n1            L  never worn  \n2            L        used  \n3           XS         NaN  \n4          2XL        used  \n..         ...         ...  \n995        2XL         NaN  \n996          S        Used  \n997         XS        used  \n998          L        Used  \n999         XL        used  \n\n[1000 rows x 6 columns]",
      "text/html": "<div>\n<style scoped>\n    .dataframe tbody tr th:only-of-type {\n        vertical-align: middle;\n    }\n\n    .dataframe tbody tr th {\n        vertical-align: top;\n    }\n\n    .dataframe thead th {\n        text-align: right;\n    }\n</style>\n<table border=\"1\" class=\"dataframe\">\n  <thead>\n    <tr style=\"text-align: right;\">\n      <th></th>\n      <th>tx id</th>\n      <th>time</th>\n      <th>auction</th>\n      <th>color</th>\n      <th>shirt size</th>\n      <th>condition</th>\n    </tr>\n  </thead>\n  <tbody>\n    <tr>\n      <th>0</th>\n      <td>8dbf3cfa48b25f32e300f279bb4163c67d5c60cd</td>\n      <td>3:36 PM</td>\n      <td>$17.18</td>\n      <td>Puce</td>\n      <td>S</td>\n      <td>used</td>\n    </tr>\n    <tr>\n      <th>1</th>\n      <td>8ccebfdb1a41830bdcc0e926531f3215986b3a90</td>\n      <td>9:03 AM</td>\n      <td>$15.19</td>\n      <td>Aquamarine</td>\n      <td>L</td>\n      <td>never worn</td>\n    </tr>\n    <tr>\n      <th>2</th>\n      <td>ae85a421a91cec8baf16ff1e45fb3e239130b584</td>\n      <td>7:42 PM</td>\n      <td>$7.58</td>\n      <td>Violet</td>\n      <td>L</td>\n      <td>used</td>\n    </tr>\n    <tr>\n      <th>3</th>\n      <td>85e44f09a04a79182befcfd55e288a855f633e81</td>\n      <td>10:28 PM</td>\n      <td>$9.10</td>\n      <td>Goldenrod</td>\n      <td>XS</td>\n      <td>NaN</td>\n    </tr>\n    <tr>\n      <th>4</th>\n      <td>ff750bfca4910cfa7f538fbe5463457839021680</td>\n      <td>6:38 AM</td>\n      <td>$8.22</td>\n      <td>NaN</td>\n      <td>2XL</td>\n      <td>used</td>\n    </tr>\n    <tr>\n      <th>...</th>\n      <td>...</td>\n      <td>...</td>\n      <td>...</td>\n      <td>...</td>\n      <td>...</td>\n      <td>...</td>\n    </tr>\n    <tr>\n      <th>995</th>\n      <td>6fa16b110f53367cf15e6e1dcffdcb4c2653f1ab</td>\n      <td>9:56 AM</td>\n      <td>$5.79</td>\n      <td>Violet</td>\n      <td>2XL</td>\n      <td>NaN</td>\n    </tr>\n    <tr>\n      <th>996</th>\n      <td>2b7b6cbc2224502c7137262575e97a450b336fc2</td>\n      <td>11:31 AM</td>\n      <td>$14.07</td>\n      <td>Purple</td>\n      <td>S</td>\n      <td>Used</td>\n    </tr>\n    <tr>\n      <th>997</th>\n      <td>7f2a5141de8a7f752f8f98722393ffa3b0fb1e7a</td>\n      <td>6:25 AM</td>\n      <td>$17.63</td>\n      <td>Yellow</td>\n      <td>XS</td>\n      <td>used</td>\n    </tr>\n    <tr>\n      <th>998</th>\n      <td>c4549687dee4d3061fd3c82433367bea083d4d05</td>\n      <td>2:22 AM</td>\n      <td>$17.00</td>\n      <td>Yellow</td>\n      <td>L</td>\n      <td>Used</td>\n    </tr>\n    <tr>\n      <th>999</th>\n      <td>abf227d09fe37b3e333b419e0854c6c2fd1caa50</td>\n      <td>7:47 PM</td>\n      <td>$17.05</td>\n      <td>Indigo</td>\n      <td>XL</td>\n      <td>used</td>\n    </tr>\n  </tbody>\n</table>\n<p>1000 rows × 6 columns</p>\n</div>"
     },
     "metadata": {},
     "execution_count": 21
    }
   ],
   "source": [
    "import pandas as pds\n",
    "\n",
    "path = \"https://bit.ly/vintage-auctions\"\n",
    "\n",
    "df = pds.read_csv(path)\n",
    "\n",
    "df"
   ]
  },
  {
   "cell_type": "code",
   "execution_count": 22,
   "metadata": {},
   "outputs": [
    {
     "output_type": "execute_result",
     "data": {
      "text/plain": "                                      tx id      time auction       color  \\\n0  8dbf3cfa48b25f32e300f279bb4163c67d5c60cd   3:36 PM  $17.18        Puce   \n1  8ccebfdb1a41830bdcc0e926531f3215986b3a90   9:03 AM  $15.19  Aquamarine   \n2  ae85a421a91cec8baf16ff1e45fb3e239130b584   7:42 PM   $7.58      Violet   \n3  85e44f09a04a79182befcfd55e288a855f633e81  10:28 PM   $9.10   Goldenrod   \n4  ff750bfca4910cfa7f538fbe5463457839021680   6:38 AM   $8.22         NaN   \n\n  shirt size   condition  \n0          S        used  \n1          L  never worn  \n2          L        used  \n3         XS         NaN  \n4        2XL        used  ",
      "text/html": "<div>\n<style scoped>\n    .dataframe tbody tr th:only-of-type {\n        vertical-align: middle;\n    }\n\n    .dataframe tbody tr th {\n        vertical-align: top;\n    }\n\n    .dataframe thead th {\n        text-align: right;\n    }\n</style>\n<table border=\"1\" class=\"dataframe\">\n  <thead>\n    <tr style=\"text-align: right;\">\n      <th></th>\n      <th>tx id</th>\n      <th>time</th>\n      <th>auction</th>\n      <th>color</th>\n      <th>shirt size</th>\n      <th>condition</th>\n    </tr>\n  </thead>\n  <tbody>\n    <tr>\n      <th>0</th>\n      <td>8dbf3cfa48b25f32e300f279bb4163c67d5c60cd</td>\n      <td>3:36 PM</td>\n      <td>$17.18</td>\n      <td>Puce</td>\n      <td>S</td>\n      <td>used</td>\n    </tr>\n    <tr>\n      <th>1</th>\n      <td>8ccebfdb1a41830bdcc0e926531f3215986b3a90</td>\n      <td>9:03 AM</td>\n      <td>$15.19</td>\n      <td>Aquamarine</td>\n      <td>L</td>\n      <td>never worn</td>\n    </tr>\n    <tr>\n      <th>2</th>\n      <td>ae85a421a91cec8baf16ff1e45fb3e239130b584</td>\n      <td>7:42 PM</td>\n      <td>$7.58</td>\n      <td>Violet</td>\n      <td>L</td>\n      <td>used</td>\n    </tr>\n    <tr>\n      <th>3</th>\n      <td>85e44f09a04a79182befcfd55e288a855f633e81</td>\n      <td>10:28 PM</td>\n      <td>$9.10</td>\n      <td>Goldenrod</td>\n      <td>XS</td>\n      <td>NaN</td>\n    </tr>\n    <tr>\n      <th>4</th>\n      <td>ff750bfca4910cfa7f538fbe5463457839021680</td>\n      <td>6:38 AM</td>\n      <td>$8.22</td>\n      <td>NaN</td>\n      <td>2XL</td>\n      <td>used</td>\n    </tr>\n  </tbody>\n</table>\n</div>"
     },
     "metadata": {},
     "execution_count": 22
    }
   ],
   "source": [
    "df.head()"
   ]
  },
  {
   "cell_type": "code",
   "execution_count": 23,
   "metadata": {},
   "outputs": [
    {
     "output_type": "execute_result",
     "data": {
      "text/plain": "                                        tx id      time auction   color  \\\n995  6fa16b110f53367cf15e6e1dcffdcb4c2653f1ab   9:56 AM   $5.79  Violet   \n996  2b7b6cbc2224502c7137262575e97a450b336fc2  11:31 AM  $14.07  Purple   \n997  7f2a5141de8a7f752f8f98722393ffa3b0fb1e7a   6:25 AM  $17.63  Yellow   \n998  c4549687dee4d3061fd3c82433367bea083d4d05   2:22 AM  $17.00  Yellow   \n999  abf227d09fe37b3e333b419e0854c6c2fd1caa50   7:47 PM  $17.05  Indigo   \n\n    shirt size condition  \n995        2XL       NaN  \n996          S      Used  \n997         XS      used  \n998          L      Used  \n999         XL      used  ",
      "text/html": "<div>\n<style scoped>\n    .dataframe tbody tr th:only-of-type {\n        vertical-align: middle;\n    }\n\n    .dataframe tbody tr th {\n        vertical-align: top;\n    }\n\n    .dataframe thead th {\n        text-align: right;\n    }\n</style>\n<table border=\"1\" class=\"dataframe\">\n  <thead>\n    <tr style=\"text-align: right;\">\n      <th></th>\n      <th>tx id</th>\n      <th>time</th>\n      <th>auction</th>\n      <th>color</th>\n      <th>shirt size</th>\n      <th>condition</th>\n    </tr>\n  </thead>\n  <tbody>\n    <tr>\n      <th>995</th>\n      <td>6fa16b110f53367cf15e6e1dcffdcb4c2653f1ab</td>\n      <td>9:56 AM</td>\n      <td>$5.79</td>\n      <td>Violet</td>\n      <td>2XL</td>\n      <td>NaN</td>\n    </tr>\n    <tr>\n      <th>996</th>\n      <td>2b7b6cbc2224502c7137262575e97a450b336fc2</td>\n      <td>11:31 AM</td>\n      <td>$14.07</td>\n      <td>Purple</td>\n      <td>S</td>\n      <td>Used</td>\n    </tr>\n    <tr>\n      <th>997</th>\n      <td>7f2a5141de8a7f752f8f98722393ffa3b0fb1e7a</td>\n      <td>6:25 AM</td>\n      <td>$17.63</td>\n      <td>Yellow</td>\n      <td>XS</td>\n      <td>used</td>\n    </tr>\n    <tr>\n      <th>998</th>\n      <td>c4549687dee4d3061fd3c82433367bea083d4d05</td>\n      <td>2:22 AM</td>\n      <td>$17.00</td>\n      <td>Yellow</td>\n      <td>L</td>\n      <td>Used</td>\n    </tr>\n    <tr>\n      <th>999</th>\n      <td>abf227d09fe37b3e333b419e0854c6c2fd1caa50</td>\n      <td>7:47 PM</td>\n      <td>$17.05</td>\n      <td>Indigo</td>\n      <td>XL</td>\n      <td>used</td>\n    </tr>\n  </tbody>\n</table>\n</div>"
     },
     "metadata": {},
     "execution_count": 23
    }
   ],
   "source": [
    "df.tail()"
   ]
  },
  {
   "cell_type": "code",
   "execution_count": 24,
   "metadata": {},
   "outputs": [
    {
     "output_type": "execute_result",
     "data": {
      "text/plain": "tx id         object\ntime          object\nauction       object\ncolor         object\nshirt size    object\ncondition     object\ndtype: object"
     },
     "metadata": {},
     "execution_count": 24
    }
   ],
   "source": [
    "df.dtypes"
   ]
  },
  {
   "source": [
    "### Gestion du prix"
   ],
   "cell_type": "markdown",
   "metadata": {}
  },
  {
   "cell_type": "code",
   "execution_count": 25,
   "metadata": {},
   "outputs": [
    {
     "output_type": "execute_result",
     "data": {
      "text/plain": "                                        tx id      time auction       color  \\\n0    8dbf3cfa48b25f32e300f279bb4163c67d5c60cd   3:36 PM  $17.18        Puce   \n1    8ccebfdb1a41830bdcc0e926531f3215986b3a90   9:03 AM  $15.19  Aquamarine   \n2    ae85a421a91cec8baf16ff1e45fb3e239130b584   7:42 PM   $7.58      Violet   \n3    85e44f09a04a79182befcfd55e288a855f633e81  10:28 PM   $9.10   Goldenrod   \n4    ff750bfca4910cfa7f538fbe5463457839021680   6:38 AM   $8.22         NaN   \n..                                        ...       ...     ...         ...   \n995  6fa16b110f53367cf15e6e1dcffdcb4c2653f1ab   9:56 AM   $5.79      Violet   \n996  2b7b6cbc2224502c7137262575e97a450b336fc2  11:31 AM  $14.07      Purple   \n997  7f2a5141de8a7f752f8f98722393ffa3b0fb1e7a   6:25 AM  $17.63      Yellow   \n998  c4549687dee4d3061fd3c82433367bea083d4d05   2:22 AM  $17.00      Yellow   \n999  abf227d09fe37b3e333b419e0854c6c2fd1caa50   7:47 PM  $17.05      Indigo   \n\n    shirt size   condition currency  \n0            S        used        $  \n1            L  never worn        $  \n2            L        used        $  \n3           XS         NaN        $  \n4          2XL        used        $  \n..         ...         ...      ...  \n995        2XL         NaN        $  \n996          S        Used        $  \n997         XS        used        $  \n998          L        Used        $  \n999         XL        used        $  \n\n[1000 rows x 7 columns]",
      "text/html": "<div>\n<style scoped>\n    .dataframe tbody tr th:only-of-type {\n        vertical-align: middle;\n    }\n\n    .dataframe tbody tr th {\n        vertical-align: top;\n    }\n\n    .dataframe thead th {\n        text-align: right;\n    }\n</style>\n<table border=\"1\" class=\"dataframe\">\n  <thead>\n    <tr style=\"text-align: right;\">\n      <th></th>\n      <th>tx id</th>\n      <th>time</th>\n      <th>auction</th>\n      <th>color</th>\n      <th>shirt size</th>\n      <th>condition</th>\n      <th>currency</th>\n    </tr>\n  </thead>\n  <tbody>\n    <tr>\n      <th>0</th>\n      <td>8dbf3cfa48b25f32e300f279bb4163c67d5c60cd</td>\n      <td>3:36 PM</td>\n      <td>$17.18</td>\n      <td>Puce</td>\n      <td>S</td>\n      <td>used</td>\n      <td>$</td>\n    </tr>\n    <tr>\n      <th>1</th>\n      <td>8ccebfdb1a41830bdcc0e926531f3215986b3a90</td>\n      <td>9:03 AM</td>\n      <td>$15.19</td>\n      <td>Aquamarine</td>\n      <td>L</td>\n      <td>never worn</td>\n      <td>$</td>\n    </tr>\n    <tr>\n      <th>2</th>\n      <td>ae85a421a91cec8baf16ff1e45fb3e239130b584</td>\n      <td>7:42 PM</td>\n      <td>$7.58</td>\n      <td>Violet</td>\n      <td>L</td>\n      <td>used</td>\n      <td>$</td>\n    </tr>\n    <tr>\n      <th>3</th>\n      <td>85e44f09a04a79182befcfd55e288a855f633e81</td>\n      <td>10:28 PM</td>\n      <td>$9.10</td>\n      <td>Goldenrod</td>\n      <td>XS</td>\n      <td>NaN</td>\n      <td>$</td>\n    </tr>\n    <tr>\n      <th>4</th>\n      <td>ff750bfca4910cfa7f538fbe5463457839021680</td>\n      <td>6:38 AM</td>\n      <td>$8.22</td>\n      <td>NaN</td>\n      <td>2XL</td>\n      <td>used</td>\n      <td>$</td>\n    </tr>\n    <tr>\n      <th>...</th>\n      <td>...</td>\n      <td>...</td>\n      <td>...</td>\n      <td>...</td>\n      <td>...</td>\n      <td>...</td>\n      <td>...</td>\n    </tr>\n    <tr>\n      <th>995</th>\n      <td>6fa16b110f53367cf15e6e1dcffdcb4c2653f1ab</td>\n      <td>9:56 AM</td>\n      <td>$5.79</td>\n      <td>Violet</td>\n      <td>2XL</td>\n      <td>NaN</td>\n      <td>$</td>\n    </tr>\n    <tr>\n      <th>996</th>\n      <td>2b7b6cbc2224502c7137262575e97a450b336fc2</td>\n      <td>11:31 AM</td>\n      <td>$14.07</td>\n      <td>Purple</td>\n      <td>S</td>\n      <td>Used</td>\n      <td>$</td>\n    </tr>\n    <tr>\n      <th>997</th>\n      <td>7f2a5141de8a7f752f8f98722393ffa3b0fb1e7a</td>\n      <td>6:25 AM</td>\n      <td>$17.63</td>\n      <td>Yellow</td>\n      <td>XS</td>\n      <td>used</td>\n      <td>$</td>\n    </tr>\n    <tr>\n      <th>998</th>\n      <td>c4549687dee4d3061fd3c82433367bea083d4d05</td>\n      <td>2:22 AM</td>\n      <td>$17.00</td>\n      <td>Yellow</td>\n      <td>L</td>\n      <td>Used</td>\n      <td>$</td>\n    </tr>\n    <tr>\n      <th>999</th>\n      <td>abf227d09fe37b3e333b419e0854c6c2fd1caa50</td>\n      <td>7:47 PM</td>\n      <td>$17.05</td>\n      <td>Indigo</td>\n      <td>XL</td>\n      <td>used</td>\n      <td>$</td>\n    </tr>\n  </tbody>\n</table>\n<p>1000 rows × 7 columns</p>\n</div>"
     },
     "metadata": {},
     "execution_count": 25
    }
   ],
   "source": [
    "df[\"currency\"] = df.auction.str[0]\n",
    "df"
   ]
  },
  {
   "cell_type": "code",
   "execution_count": 26,
   "metadata": {},
   "outputs": [
    {
     "output_type": "execute_result",
     "data": {
      "text/plain": "                                        tx id      time auction       color  \\\n0    8dbf3cfa48b25f32e300f279bb4163c67d5c60cd   3:36 PM   17.18        Puce   \n1    8ccebfdb1a41830bdcc0e926531f3215986b3a90   9:03 AM   15.19  Aquamarine   \n2    ae85a421a91cec8baf16ff1e45fb3e239130b584   7:42 PM    7.58      Violet   \n3    85e44f09a04a79182befcfd55e288a855f633e81  10:28 PM    9.10   Goldenrod   \n4    ff750bfca4910cfa7f538fbe5463457839021680   6:38 AM    8.22         NaN   \n..                                        ...       ...     ...         ...   \n995  6fa16b110f53367cf15e6e1dcffdcb4c2653f1ab   9:56 AM    5.79      Violet   \n996  2b7b6cbc2224502c7137262575e97a450b336fc2  11:31 AM   14.07      Purple   \n997  7f2a5141de8a7f752f8f98722393ffa3b0fb1e7a   6:25 AM   17.63      Yellow   \n998  c4549687dee4d3061fd3c82433367bea083d4d05   2:22 AM   17.00      Yellow   \n999  abf227d09fe37b3e333b419e0854c6c2fd1caa50   7:47 PM   17.05      Indigo   \n\n    shirt size   condition currency  \n0            S        used        $  \n1            L  never worn        $  \n2            L        used        $  \n3           XS         NaN        $  \n4          2XL        used        $  \n..         ...         ...      ...  \n995        2XL         NaN        $  \n996          S        Used        $  \n997         XS        used        $  \n998          L        Used        $  \n999         XL        used        $  \n\n[1000 rows x 7 columns]",
      "text/html": "<div>\n<style scoped>\n    .dataframe tbody tr th:only-of-type {\n        vertical-align: middle;\n    }\n\n    .dataframe tbody tr th {\n        vertical-align: top;\n    }\n\n    .dataframe thead th {\n        text-align: right;\n    }\n</style>\n<table border=\"1\" class=\"dataframe\">\n  <thead>\n    <tr style=\"text-align: right;\">\n      <th></th>\n      <th>tx id</th>\n      <th>time</th>\n      <th>auction</th>\n      <th>color</th>\n      <th>shirt size</th>\n      <th>condition</th>\n      <th>currency</th>\n    </tr>\n  </thead>\n  <tbody>\n    <tr>\n      <th>0</th>\n      <td>8dbf3cfa48b25f32e300f279bb4163c67d5c60cd</td>\n      <td>3:36 PM</td>\n      <td>17.18</td>\n      <td>Puce</td>\n      <td>S</td>\n      <td>used</td>\n      <td>$</td>\n    </tr>\n    <tr>\n      <th>1</th>\n      <td>8ccebfdb1a41830bdcc0e926531f3215986b3a90</td>\n      <td>9:03 AM</td>\n      <td>15.19</td>\n      <td>Aquamarine</td>\n      <td>L</td>\n      <td>never worn</td>\n      <td>$</td>\n    </tr>\n    <tr>\n      <th>2</th>\n      <td>ae85a421a91cec8baf16ff1e45fb3e239130b584</td>\n      <td>7:42 PM</td>\n      <td>7.58</td>\n      <td>Violet</td>\n      <td>L</td>\n      <td>used</td>\n      <td>$</td>\n    </tr>\n    <tr>\n      <th>3</th>\n      <td>85e44f09a04a79182befcfd55e288a855f633e81</td>\n      <td>10:28 PM</td>\n      <td>9.10</td>\n      <td>Goldenrod</td>\n      <td>XS</td>\n      <td>NaN</td>\n      <td>$</td>\n    </tr>\n    <tr>\n      <th>4</th>\n      <td>ff750bfca4910cfa7f538fbe5463457839021680</td>\n      <td>6:38 AM</td>\n      <td>8.22</td>\n      <td>NaN</td>\n      <td>2XL</td>\n      <td>used</td>\n      <td>$</td>\n    </tr>\n    <tr>\n      <th>...</th>\n      <td>...</td>\n      <td>...</td>\n      <td>...</td>\n      <td>...</td>\n      <td>...</td>\n      <td>...</td>\n      <td>...</td>\n    </tr>\n    <tr>\n      <th>995</th>\n      <td>6fa16b110f53367cf15e6e1dcffdcb4c2653f1ab</td>\n      <td>9:56 AM</td>\n      <td>5.79</td>\n      <td>Violet</td>\n      <td>2XL</td>\n      <td>NaN</td>\n      <td>$</td>\n    </tr>\n    <tr>\n      <th>996</th>\n      <td>2b7b6cbc2224502c7137262575e97a450b336fc2</td>\n      <td>11:31 AM</td>\n      <td>14.07</td>\n      <td>Purple</td>\n      <td>S</td>\n      <td>Used</td>\n      <td>$</td>\n    </tr>\n    <tr>\n      <th>997</th>\n      <td>7f2a5141de8a7f752f8f98722393ffa3b0fb1e7a</td>\n      <td>6:25 AM</td>\n      <td>17.63</td>\n      <td>Yellow</td>\n      <td>XS</td>\n      <td>used</td>\n      <td>$</td>\n    </tr>\n    <tr>\n      <th>998</th>\n      <td>c4549687dee4d3061fd3c82433367bea083d4d05</td>\n      <td>2:22 AM</td>\n      <td>17.00</td>\n      <td>Yellow</td>\n      <td>L</td>\n      <td>Used</td>\n      <td>$</td>\n    </tr>\n    <tr>\n      <th>999</th>\n      <td>abf227d09fe37b3e333b419e0854c6c2fd1caa50</td>\n      <td>7:47 PM</td>\n      <td>17.05</td>\n      <td>Indigo</td>\n      <td>XL</td>\n      <td>used</td>\n      <td>$</td>\n    </tr>\n  </tbody>\n</table>\n<p>1000 rows × 7 columns</p>\n</div>"
     },
     "metadata": {},
     "execution_count": 26
    }
   ],
   "source": [
    "df.auction = df.auction.str[1:].replace(\",\",\".\")\n",
    "df"
   ]
  },
  {
   "cell_type": "code",
   "execution_count": 27,
   "metadata": {},
   "outputs": [
    {
     "output_type": "execute_result",
     "data": {
      "text/plain": "tx id          object\ntime           object\nauction       float64\ncolor          object\nshirt size     object\ncondition      object\ncurrency       object\ndtype: object"
     },
     "metadata": {},
     "execution_count": 27
    }
   ],
   "source": [
    "df.auction = df.auction.astype(\"float\")\n",
    "df.dtypes"
   ]
  },
  {
   "source": [
    "### Gestion des dates"
   ],
   "cell_type": "markdown",
   "metadata": {}
  },
  {
   "cell_type": "code",
   "execution_count": 32,
   "metadata": {},
   "outputs": [
    {
     "output_type": "execute_result",
     "data": {
      "text/plain": "tx id                 object\ntime          datetime64[ns]\nauction              float64\ncolor                 object\nshirt size            object\ncondition             object\ncurrency              object\ndtype: object"
     },
     "metadata": {},
     "execution_count": 32
    }
   ],
   "source": [
    "df.dtypes"
   ]
  },
  {
   "cell_type": "code",
   "execution_count": 30,
   "metadata": {},
   "outputs": [],
   "source": [
    "df.time = pds.to_datetime(df.time)"
   ]
  },
  {
   "source": [
    "### Gestion de l'id"
   ],
   "cell_type": "markdown",
   "metadata": {}
  },
  {
   "cell_type": "code",
   "execution_count": 36,
   "metadata": {},
   "outputs": [],
   "source": [
    "df.rename(columns={\"tx id\" : \"tx_id\"}, inplace=True)"
   ]
  },
  {
   "cell_type": "code",
   "execution_count": 37,
   "metadata": {},
   "outputs": [
    {
     "output_type": "execute_result",
     "data": {
      "text/plain": "                                        tx_id                time  auction  \\\n0    8dbf3cfa48b25f32e300f279bb4163c67d5c60cd 2020-09-24 15:36:00    17.18   \n1    8ccebfdb1a41830bdcc0e926531f3215986b3a90 2020-09-24 09:03:00    15.19   \n2    ae85a421a91cec8baf16ff1e45fb3e239130b584 2020-09-24 19:42:00     7.58   \n3    85e44f09a04a79182befcfd55e288a855f633e81 2020-09-24 22:28:00     9.10   \n4    ff750bfca4910cfa7f538fbe5463457839021680 2020-09-24 06:38:00     8.22   \n..                                        ...                 ...      ...   \n995  6fa16b110f53367cf15e6e1dcffdcb4c2653f1ab 2020-09-24 09:56:00     5.79   \n996  2b7b6cbc2224502c7137262575e97a450b336fc2 2020-09-24 11:31:00    14.07   \n997  7f2a5141de8a7f752f8f98722393ffa3b0fb1e7a 2020-09-24 06:25:00    17.63   \n998  c4549687dee4d3061fd3c82433367bea083d4d05 2020-09-24 02:22:00    17.00   \n999  abf227d09fe37b3e333b419e0854c6c2fd1caa50 2020-09-24 19:47:00    17.05   \n\n          color shirt size   condition currency  \n0          Puce          S        used        $  \n1    Aquamarine          L  never worn        $  \n2        Violet          L        used        $  \n3     Goldenrod         XS         NaN        $  \n4           NaN        2XL        used        $  \n..          ...        ...         ...      ...  \n995      Violet        2XL         NaN        $  \n996      Purple          S        Used        $  \n997      Yellow         XS        used        $  \n998      Yellow          L        Used        $  \n999      Indigo         XL        used        $  \n\n[1000 rows x 7 columns]",
      "text/html": "<div>\n<style scoped>\n    .dataframe tbody tr th:only-of-type {\n        vertical-align: middle;\n    }\n\n    .dataframe tbody tr th {\n        vertical-align: top;\n    }\n\n    .dataframe thead th {\n        text-align: right;\n    }\n</style>\n<table border=\"1\" class=\"dataframe\">\n  <thead>\n    <tr style=\"text-align: right;\">\n      <th></th>\n      <th>tx_id</th>\n      <th>time</th>\n      <th>auction</th>\n      <th>color</th>\n      <th>shirt size</th>\n      <th>condition</th>\n      <th>currency</th>\n    </tr>\n  </thead>\n  <tbody>\n    <tr>\n      <th>0</th>\n      <td>8dbf3cfa48b25f32e300f279bb4163c67d5c60cd</td>\n      <td>2020-09-24 15:36:00</td>\n      <td>17.18</td>\n      <td>Puce</td>\n      <td>S</td>\n      <td>used</td>\n      <td>$</td>\n    </tr>\n    <tr>\n      <th>1</th>\n      <td>8ccebfdb1a41830bdcc0e926531f3215986b3a90</td>\n      <td>2020-09-24 09:03:00</td>\n      <td>15.19</td>\n      <td>Aquamarine</td>\n      <td>L</td>\n      <td>never worn</td>\n      <td>$</td>\n    </tr>\n    <tr>\n      <th>2</th>\n      <td>ae85a421a91cec8baf16ff1e45fb3e239130b584</td>\n      <td>2020-09-24 19:42:00</td>\n      <td>7.58</td>\n      <td>Violet</td>\n      <td>L</td>\n      <td>used</td>\n      <td>$</td>\n    </tr>\n    <tr>\n      <th>3</th>\n      <td>85e44f09a04a79182befcfd55e288a855f633e81</td>\n      <td>2020-09-24 22:28:00</td>\n      <td>9.10</td>\n      <td>Goldenrod</td>\n      <td>XS</td>\n      <td>NaN</td>\n      <td>$</td>\n    </tr>\n    <tr>\n      <th>4</th>\n      <td>ff750bfca4910cfa7f538fbe5463457839021680</td>\n      <td>2020-09-24 06:38:00</td>\n      <td>8.22</td>\n      <td>NaN</td>\n      <td>2XL</td>\n      <td>used</td>\n      <td>$</td>\n    </tr>\n    <tr>\n      <th>...</th>\n      <td>...</td>\n      <td>...</td>\n      <td>...</td>\n      <td>...</td>\n      <td>...</td>\n      <td>...</td>\n      <td>...</td>\n    </tr>\n    <tr>\n      <th>995</th>\n      <td>6fa16b110f53367cf15e6e1dcffdcb4c2653f1ab</td>\n      <td>2020-09-24 09:56:00</td>\n      <td>5.79</td>\n      <td>Violet</td>\n      <td>2XL</td>\n      <td>NaN</td>\n      <td>$</td>\n    </tr>\n    <tr>\n      <th>996</th>\n      <td>2b7b6cbc2224502c7137262575e97a450b336fc2</td>\n      <td>2020-09-24 11:31:00</td>\n      <td>14.07</td>\n      <td>Purple</td>\n      <td>S</td>\n      <td>Used</td>\n      <td>$</td>\n    </tr>\n    <tr>\n      <th>997</th>\n      <td>7f2a5141de8a7f752f8f98722393ffa3b0fb1e7a</td>\n      <td>2020-09-24 06:25:00</td>\n      <td>17.63</td>\n      <td>Yellow</td>\n      <td>XS</td>\n      <td>used</td>\n      <td>$</td>\n    </tr>\n    <tr>\n      <th>998</th>\n      <td>c4549687dee4d3061fd3c82433367bea083d4d05</td>\n      <td>2020-09-24 02:22:00</td>\n      <td>17.00</td>\n      <td>Yellow</td>\n      <td>L</td>\n      <td>Used</td>\n      <td>$</td>\n    </tr>\n    <tr>\n      <th>999</th>\n      <td>abf227d09fe37b3e333b419e0854c6c2fd1caa50</td>\n      <td>2020-09-24 19:47:00</td>\n      <td>17.05</td>\n      <td>Indigo</td>\n      <td>XL</td>\n      <td>used</td>\n      <td>$</td>\n    </tr>\n  </tbody>\n</table>\n<p>1000 rows × 7 columns</p>\n</div>"
     },
     "metadata": {},
     "execution_count": 37
    }
   ],
   "source": [
    "df"
   ]
  },
  {
   "cell_type": "code",
   "execution_count": 57,
   "metadata": {},
   "outputs": [
    {
     "output_type": "error",
     "ename": "OverflowError",
     "evalue": "Python int too large to convert to C long",
     "traceback": [
      "\u001b[1;31m---------------------------------------------------------------------------\u001b[0m",
      "\u001b[1;31mOverflowError\u001b[0m                             Traceback (most recent call last)",
      "\u001b[1;32m<ipython-input-57-e94559fcfbcd>\u001b[0m in \u001b[0;36m<module>\u001b[1;34m\u001b[0m\n\u001b[1;32m----> 1\u001b[1;33m \u001b[0mdf\u001b[0m\u001b[1;33m.\u001b[0m\u001b[0mtx_id\u001b[0m\u001b[1;33m.\u001b[0m\u001b[0mapply\u001b[0m\u001b[1;33m(\u001b[0m\u001b[0mint\u001b[0m\u001b[1;33m,\u001b[0m \u001b[0mbase\u001b[0m\u001b[1;33m=\u001b[0m\u001b[1;36m16\u001b[0m\u001b[1;33m)\u001b[0m\u001b[1;33m.\u001b[0m\u001b[0mastype\u001b[0m\u001b[1;33m(\u001b[0m\u001b[1;34m\"int\"\u001b[0m\u001b[1;33m)\u001b[0m\u001b[1;33m\u001b[0m\u001b[1;33m\u001b[0m\u001b[0m\n\u001b[0m",
      "\u001b[1;32m~\\AppData\\Local\\Programs\\Python\\Python38\\lib\\site-packages\\pandas\\core\\generic.py\u001b[0m in \u001b[0;36mastype\u001b[1;34m(self, dtype, copy, errors)\u001b[0m\n\u001b[0;32m   5541\u001b[0m         \u001b[1;32melse\u001b[0m\u001b[1;33m:\u001b[0m\u001b[1;33m\u001b[0m\u001b[1;33m\u001b[0m\u001b[0m\n\u001b[0;32m   5542\u001b[0m             \u001b[1;31m# else, only a single dtype is given\u001b[0m\u001b[1;33m\u001b[0m\u001b[1;33m\u001b[0m\u001b[1;33m\u001b[0m\u001b[0m\n\u001b[1;32m-> 5543\u001b[1;33m             \u001b[0mnew_data\u001b[0m \u001b[1;33m=\u001b[0m \u001b[0mself\u001b[0m\u001b[1;33m.\u001b[0m\u001b[0m_mgr\u001b[0m\u001b[1;33m.\u001b[0m\u001b[0mastype\u001b[0m\u001b[1;33m(\u001b[0m\u001b[0mdtype\u001b[0m\u001b[1;33m=\u001b[0m\u001b[0mdtype\u001b[0m\u001b[1;33m,\u001b[0m \u001b[0mcopy\u001b[0m\u001b[1;33m=\u001b[0m\u001b[0mcopy\u001b[0m\u001b[1;33m,\u001b[0m \u001b[0merrors\u001b[0m\u001b[1;33m=\u001b[0m\u001b[0merrors\u001b[0m\u001b[1;33m,\u001b[0m\u001b[1;33m)\u001b[0m\u001b[1;33m\u001b[0m\u001b[1;33m\u001b[0m\u001b[0m\n\u001b[0m\u001b[0;32m   5544\u001b[0m             \u001b[1;32mreturn\u001b[0m \u001b[0mself\u001b[0m\u001b[1;33m.\u001b[0m\u001b[0m_constructor\u001b[0m\u001b[1;33m(\u001b[0m\u001b[0mnew_data\u001b[0m\u001b[1;33m)\u001b[0m\u001b[1;33m.\u001b[0m\u001b[0m__finalize__\u001b[0m\u001b[1;33m(\u001b[0m\u001b[0mself\u001b[0m\u001b[1;33m,\u001b[0m \u001b[0mmethod\u001b[0m\u001b[1;33m=\u001b[0m\u001b[1;34m\"astype\"\u001b[0m\u001b[1;33m)\u001b[0m\u001b[1;33m\u001b[0m\u001b[1;33m\u001b[0m\u001b[0m\n\u001b[0;32m   5545\u001b[0m \u001b[1;33m\u001b[0m\u001b[0m\n",
      "\u001b[1;32m~\\AppData\\Local\\Programs\\Python\\Python38\\lib\\site-packages\\pandas\\core\\internals\\managers.py\u001b[0m in \u001b[0;36mastype\u001b[1;34m(self, dtype, copy, errors)\u001b[0m\n\u001b[0;32m    593\u001b[0m         \u001b[0mself\u001b[0m\u001b[1;33m,\u001b[0m \u001b[0mdtype\u001b[0m\u001b[1;33m,\u001b[0m \u001b[0mcopy\u001b[0m\u001b[1;33m:\u001b[0m \u001b[0mbool\u001b[0m \u001b[1;33m=\u001b[0m \u001b[1;32mFalse\u001b[0m\u001b[1;33m,\u001b[0m \u001b[0merrors\u001b[0m\u001b[1;33m:\u001b[0m \u001b[0mstr\u001b[0m \u001b[1;33m=\u001b[0m \u001b[1;34m\"raise\"\u001b[0m\u001b[1;33m\u001b[0m\u001b[1;33m\u001b[0m\u001b[0m\n\u001b[0;32m    594\u001b[0m     ) -> \"BlockManager\":\n\u001b[1;32m--> 595\u001b[1;33m         \u001b[1;32mreturn\u001b[0m \u001b[0mself\u001b[0m\u001b[1;33m.\u001b[0m\u001b[0mapply\u001b[0m\u001b[1;33m(\u001b[0m\u001b[1;34m\"astype\"\u001b[0m\u001b[1;33m,\u001b[0m \u001b[0mdtype\u001b[0m\u001b[1;33m=\u001b[0m\u001b[0mdtype\u001b[0m\u001b[1;33m,\u001b[0m \u001b[0mcopy\u001b[0m\u001b[1;33m=\u001b[0m\u001b[0mcopy\u001b[0m\u001b[1;33m,\u001b[0m \u001b[0merrors\u001b[0m\u001b[1;33m=\u001b[0m\u001b[0merrors\u001b[0m\u001b[1;33m)\u001b[0m\u001b[1;33m\u001b[0m\u001b[1;33m\u001b[0m\u001b[0m\n\u001b[0m\u001b[0;32m    596\u001b[0m \u001b[1;33m\u001b[0m\u001b[0m\n\u001b[0;32m    597\u001b[0m     def convert(\n",
      "\u001b[1;32m~\\AppData\\Local\\Programs\\Python\\Python38\\lib\\site-packages\\pandas\\core\\internals\\managers.py\u001b[0m in \u001b[0;36mapply\u001b[1;34m(self, f, align_keys, **kwargs)\u001b[0m\n\u001b[0;32m    404\u001b[0m                 \u001b[0mapplied\u001b[0m \u001b[1;33m=\u001b[0m \u001b[0mb\u001b[0m\u001b[1;33m.\u001b[0m\u001b[0mapply\u001b[0m\u001b[1;33m(\u001b[0m\u001b[0mf\u001b[0m\u001b[1;33m,\u001b[0m \u001b[1;33m**\u001b[0m\u001b[0mkwargs\u001b[0m\u001b[1;33m)\u001b[0m\u001b[1;33m\u001b[0m\u001b[1;33m\u001b[0m\u001b[0m\n\u001b[0;32m    405\u001b[0m             \u001b[1;32melse\u001b[0m\u001b[1;33m:\u001b[0m\u001b[1;33m\u001b[0m\u001b[1;33m\u001b[0m\u001b[0m\n\u001b[1;32m--> 406\u001b[1;33m                 \u001b[0mapplied\u001b[0m \u001b[1;33m=\u001b[0m \u001b[0mgetattr\u001b[0m\u001b[1;33m(\u001b[0m\u001b[0mb\u001b[0m\u001b[1;33m,\u001b[0m \u001b[0mf\u001b[0m\u001b[1;33m)\u001b[0m\u001b[1;33m(\u001b[0m\u001b[1;33m**\u001b[0m\u001b[0mkwargs\u001b[0m\u001b[1;33m)\u001b[0m\u001b[1;33m\u001b[0m\u001b[1;33m\u001b[0m\u001b[0m\n\u001b[0m\u001b[0;32m    407\u001b[0m             \u001b[0mresult_blocks\u001b[0m \u001b[1;33m=\u001b[0m \u001b[0m_extend_blocks\u001b[0m\u001b[1;33m(\u001b[0m\u001b[0mapplied\u001b[0m\u001b[1;33m,\u001b[0m \u001b[0mresult_blocks\u001b[0m\u001b[1;33m)\u001b[0m\u001b[1;33m\u001b[0m\u001b[1;33m\u001b[0m\u001b[0m\n\u001b[0;32m    408\u001b[0m \u001b[1;33m\u001b[0m\u001b[0m\n",
      "\u001b[1;32m~\\AppData\\Local\\Programs\\Python\\Python38\\lib\\site-packages\\pandas\\core\\internals\\blocks.py\u001b[0m in \u001b[0;36mastype\u001b[1;34m(self, dtype, copy, errors)\u001b[0m\n\u001b[0;32m    592\u001b[0m             \u001b[0mvals1d\u001b[0m \u001b[1;33m=\u001b[0m \u001b[0mvalues\u001b[0m\u001b[1;33m.\u001b[0m\u001b[0mravel\u001b[0m\u001b[1;33m(\u001b[0m\u001b[1;33m)\u001b[0m\u001b[1;33m\u001b[0m\u001b[1;33m\u001b[0m\u001b[0m\n\u001b[0;32m    593\u001b[0m             \u001b[1;32mtry\u001b[0m\u001b[1;33m:\u001b[0m\u001b[1;33m\u001b[0m\u001b[1;33m\u001b[0m\u001b[0m\n\u001b[1;32m--> 594\u001b[1;33m                 \u001b[0mvalues\u001b[0m \u001b[1;33m=\u001b[0m \u001b[0mastype_nansafe\u001b[0m\u001b[1;33m(\u001b[0m\u001b[0mvals1d\u001b[0m\u001b[1;33m,\u001b[0m \u001b[0mdtype\u001b[0m\u001b[1;33m,\u001b[0m \u001b[0mcopy\u001b[0m\u001b[1;33m=\u001b[0m\u001b[1;32mTrue\u001b[0m\u001b[1;33m)\u001b[0m\u001b[1;33m\u001b[0m\u001b[1;33m\u001b[0m\u001b[0m\n\u001b[0m\u001b[0;32m    595\u001b[0m             \u001b[1;32mexcept\u001b[0m \u001b[1;33m(\u001b[0m\u001b[0mValueError\u001b[0m\u001b[1;33m,\u001b[0m \u001b[0mTypeError\u001b[0m\u001b[1;33m)\u001b[0m\u001b[1;33m:\u001b[0m\u001b[1;33m\u001b[0m\u001b[1;33m\u001b[0m\u001b[0m\n\u001b[0;32m    596\u001b[0m                 \u001b[1;31m# e.g. astype_nansafe can fail on object-dtype of strings\u001b[0m\u001b[1;33m\u001b[0m\u001b[1;33m\u001b[0m\u001b[1;33m\u001b[0m\u001b[0m\n",
      "\u001b[1;32m~\\AppData\\Local\\Programs\\Python\\Python38\\lib\\site-packages\\pandas\\core\\dtypes\\cast.py\u001b[0m in \u001b[0;36mastype_nansafe\u001b[1;34m(arr, dtype, copy, skipna)\u001b[0m\n\u001b[0;32m    965\u001b[0m         \u001b[1;31m# work around NumPy brokenness, #1987\u001b[0m\u001b[1;33m\u001b[0m\u001b[1;33m\u001b[0m\u001b[1;33m\u001b[0m\u001b[0m\n\u001b[0;32m    966\u001b[0m         \u001b[1;32mif\u001b[0m \u001b[0mnp\u001b[0m\u001b[1;33m.\u001b[0m\u001b[0missubdtype\u001b[0m\u001b[1;33m(\u001b[0m\u001b[0mdtype\u001b[0m\u001b[1;33m.\u001b[0m\u001b[0mtype\u001b[0m\u001b[1;33m,\u001b[0m \u001b[0mnp\u001b[0m\u001b[1;33m.\u001b[0m\u001b[0minteger\u001b[0m\u001b[1;33m)\u001b[0m\u001b[1;33m:\u001b[0m\u001b[1;33m\u001b[0m\u001b[1;33m\u001b[0m\u001b[0m\n\u001b[1;32m--> 967\u001b[1;33m             \u001b[1;32mreturn\u001b[0m \u001b[0mlib\u001b[0m\u001b[1;33m.\u001b[0m\u001b[0mastype_intsafe\u001b[0m\u001b[1;33m(\u001b[0m\u001b[0marr\u001b[0m\u001b[1;33m.\u001b[0m\u001b[0mravel\u001b[0m\u001b[1;33m(\u001b[0m\u001b[1;33m)\u001b[0m\u001b[1;33m,\u001b[0m \u001b[0mdtype\u001b[0m\u001b[1;33m)\u001b[0m\u001b[1;33m.\u001b[0m\u001b[0mreshape\u001b[0m\u001b[1;33m(\u001b[0m\u001b[0marr\u001b[0m\u001b[1;33m.\u001b[0m\u001b[0mshape\u001b[0m\u001b[1;33m)\u001b[0m\u001b[1;33m\u001b[0m\u001b[1;33m\u001b[0m\u001b[0m\n\u001b[0m\u001b[0;32m    968\u001b[0m \u001b[1;33m\u001b[0m\u001b[0m\n\u001b[0;32m    969\u001b[0m         \u001b[1;31m# if we have a datetime/timedelta array of objects\u001b[0m\u001b[1;33m\u001b[0m\u001b[1;33m\u001b[0m\u001b[1;33m\u001b[0m\u001b[0m\n",
      "\u001b[1;32mpandas\\_libs\\lib.pyx\u001b[0m in \u001b[0;36mpandas._libs.lib.astype_intsafe\u001b[1;34m()\u001b[0m\n",
      "\u001b[1;31mOverflowError\u001b[0m: Python int too large to convert to C long"
     ]
    }
   ],
   "source": []
  },
  {
   "cell_type": "code",
   "execution_count": null,
   "metadata": {},
   "outputs": [],
   "source": []
  }
 ]
}