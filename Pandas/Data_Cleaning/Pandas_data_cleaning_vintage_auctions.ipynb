{
 "metadata": {
  "language_info": {
   "codemirror_mode": {
    "name": "ipython",
    "version": 3
   },
   "file_extension": ".py",
   "mimetype": "text/x-python",
   "name": "python",
   "nbconvert_exporter": "python",
   "pygments_lexer": "ipython3",
   "version": "3.8.3-final"
  },
  "orig_nbformat": 2,
  "kernelspec": {
   "name": "Python 3.8.3 64-bit",
   "display_name": "Python 3.8.3 64-bit",
   "metadata": {
    "interpreter": {
     "hash": "991da9b17d5655561a8686b9327745da023652667e5744d6112d3c7cefcedf59"
    }
   }
  }
 },
 "nbformat": 4,
 "nbformat_minor": 2,
 "cells": [
  {
   "source": [
    "### Exercice Vintage Auctions"
   ],
   "cell_type": "markdown",
   "metadata": {}
  },
  {
   "cell_type": "code",
   "execution_count": 1,
   "metadata": {},
   "outputs": [
    {
     "output_type": "execute_result",
     "data": {
      "text/plain": "                                        tx id      time auction       color  \\\n0    8dbf3cfa48b25f32e300f279bb4163c67d5c60cd   3:36 PM  $17.18        Puce   \n1    8ccebfdb1a41830bdcc0e926531f3215986b3a90   9:03 AM  $15.19  Aquamarine   \n2    ae85a421a91cec8baf16ff1e45fb3e239130b584   7:42 PM   $7.58      Violet   \n3    85e44f09a04a79182befcfd55e288a855f633e81  10:28 PM   $9.10   Goldenrod   \n4    ff750bfca4910cfa7f538fbe5463457839021680   6:38 AM   $8.22         NaN   \n..                                        ...       ...     ...         ...   \n995  6fa16b110f53367cf15e6e1dcffdcb4c2653f1ab   9:56 AM   $5.79      Violet   \n996  2b7b6cbc2224502c7137262575e97a450b336fc2  11:31 AM  $14.07      Purple   \n997  7f2a5141de8a7f752f8f98722393ffa3b0fb1e7a   6:25 AM  $17.63      Yellow   \n998  c4549687dee4d3061fd3c82433367bea083d4d05   2:22 AM  $17.00      Yellow   \n999  abf227d09fe37b3e333b419e0854c6c2fd1caa50   7:47 PM  $17.05      Indigo   \n\n    shirt size   condition  \n0            S        used  \n1            L  never worn  \n2            L        used  \n3           XS         NaN  \n4          2XL        used  \n..         ...         ...  \n995        2XL         NaN  \n996          S        Used  \n997         XS        used  \n998          L        Used  \n999         XL        used  \n\n[1000 rows x 6 columns]",
      "text/html": "<div>\n<style scoped>\n    .dataframe tbody tr th:only-of-type {\n        vertical-align: middle;\n    }\n\n    .dataframe tbody tr th {\n        vertical-align: top;\n    }\n\n    .dataframe thead th {\n        text-align: right;\n    }\n</style>\n<table border=\"1\" class=\"dataframe\">\n  <thead>\n    <tr style=\"text-align: right;\">\n      <th></th>\n      <th>tx id</th>\n      <th>time</th>\n      <th>auction</th>\n      <th>color</th>\n      <th>shirt size</th>\n      <th>condition</th>\n    </tr>\n  </thead>\n  <tbody>\n    <tr>\n      <th>0</th>\n      <td>8dbf3cfa48b25f32e300f279bb4163c67d5c60cd</td>\n      <td>3:36 PM</td>\n      <td>$17.18</td>\n      <td>Puce</td>\n      <td>S</td>\n      <td>used</td>\n    </tr>\n    <tr>\n      <th>1</th>\n      <td>8ccebfdb1a41830bdcc0e926531f3215986b3a90</td>\n      <td>9:03 AM</td>\n      <td>$15.19</td>\n      <td>Aquamarine</td>\n      <td>L</td>\n      <td>never worn</td>\n    </tr>\n    <tr>\n      <th>2</th>\n      <td>ae85a421a91cec8baf16ff1e45fb3e239130b584</td>\n      <td>7:42 PM</td>\n      <td>$7.58</td>\n      <td>Violet</td>\n      <td>L</td>\n      <td>used</td>\n    </tr>\n    <tr>\n      <th>3</th>\n      <td>85e44f09a04a79182befcfd55e288a855f633e81</td>\n      <td>10:28 PM</td>\n      <td>$9.10</td>\n      <td>Goldenrod</td>\n      <td>XS</td>\n      <td>NaN</td>\n    </tr>\n    <tr>\n      <th>4</th>\n      <td>ff750bfca4910cfa7f538fbe5463457839021680</td>\n      <td>6:38 AM</td>\n      <td>$8.22</td>\n      <td>NaN</td>\n      <td>2XL</td>\n      <td>used</td>\n    </tr>\n    <tr>\n      <th>...</th>\n      <td>...</td>\n      <td>...</td>\n      <td>...</td>\n      <td>...</td>\n      <td>...</td>\n      <td>...</td>\n    </tr>\n    <tr>\n      <th>995</th>\n      <td>6fa16b110f53367cf15e6e1dcffdcb4c2653f1ab</td>\n      <td>9:56 AM</td>\n      <td>$5.79</td>\n      <td>Violet</td>\n      <td>2XL</td>\n      <td>NaN</td>\n    </tr>\n    <tr>\n      <th>996</th>\n      <td>2b7b6cbc2224502c7137262575e97a450b336fc2</td>\n      <td>11:31 AM</td>\n      <td>$14.07</td>\n      <td>Purple</td>\n      <td>S</td>\n      <td>Used</td>\n    </tr>\n    <tr>\n      <th>997</th>\n      <td>7f2a5141de8a7f752f8f98722393ffa3b0fb1e7a</td>\n      <td>6:25 AM</td>\n      <td>$17.63</td>\n      <td>Yellow</td>\n      <td>XS</td>\n      <td>used</td>\n    </tr>\n    <tr>\n      <th>998</th>\n      <td>c4549687dee4d3061fd3c82433367bea083d4d05</td>\n      <td>2:22 AM</td>\n      <td>$17.00</td>\n      <td>Yellow</td>\n      <td>L</td>\n      <td>Used</td>\n    </tr>\n    <tr>\n      <th>999</th>\n      <td>abf227d09fe37b3e333b419e0854c6c2fd1caa50</td>\n      <td>7:47 PM</td>\n      <td>$17.05</td>\n      <td>Indigo</td>\n      <td>XL</td>\n      <td>used</td>\n    </tr>\n  </tbody>\n</table>\n<p>1000 rows × 6 columns</p>\n</div>"
     },
     "metadata": {},
     "execution_count": 1
    }
   ],
   "source": [
    "import pandas as pds\n",
    "\n",
    "path = \"https://bit.ly/vintage-auctions\"\n",
    "\n",
    "df = pds.read_csv(path)\n",
    "\n",
    "df"
   ]
  },
  {
   "cell_type": "code",
   "execution_count": 2,
   "metadata": {},
   "outputs": [
    {
     "output_type": "execute_result",
     "data": {
      "text/plain": "                                      tx id      time auction       color  \\\n0  8dbf3cfa48b25f32e300f279bb4163c67d5c60cd   3:36 PM  $17.18        Puce   \n1  8ccebfdb1a41830bdcc0e926531f3215986b3a90   9:03 AM  $15.19  Aquamarine   \n2  ae85a421a91cec8baf16ff1e45fb3e239130b584   7:42 PM   $7.58      Violet   \n3  85e44f09a04a79182befcfd55e288a855f633e81  10:28 PM   $9.10   Goldenrod   \n4  ff750bfca4910cfa7f538fbe5463457839021680   6:38 AM   $8.22         NaN   \n\n  shirt size   condition  \n0          S        used  \n1          L  never worn  \n2          L        used  \n3         XS         NaN  \n4        2XL        used  ",
      "text/html": "<div>\n<style scoped>\n    .dataframe tbody tr th:only-of-type {\n        vertical-align: middle;\n    }\n\n    .dataframe tbody tr th {\n        vertical-align: top;\n    }\n\n    .dataframe thead th {\n        text-align: right;\n    }\n</style>\n<table border=\"1\" class=\"dataframe\">\n  <thead>\n    <tr style=\"text-align: right;\">\n      <th></th>\n      <th>tx id</th>\n      <th>time</th>\n      <th>auction</th>\n      <th>color</th>\n      <th>shirt size</th>\n      <th>condition</th>\n    </tr>\n  </thead>\n  <tbody>\n    <tr>\n      <th>0</th>\n      <td>8dbf3cfa48b25f32e300f279bb4163c67d5c60cd</td>\n      <td>3:36 PM</td>\n      <td>$17.18</td>\n      <td>Puce</td>\n      <td>S</td>\n      <td>used</td>\n    </tr>\n    <tr>\n      <th>1</th>\n      <td>8ccebfdb1a41830bdcc0e926531f3215986b3a90</td>\n      <td>9:03 AM</td>\n      <td>$15.19</td>\n      <td>Aquamarine</td>\n      <td>L</td>\n      <td>never worn</td>\n    </tr>\n    <tr>\n      <th>2</th>\n      <td>ae85a421a91cec8baf16ff1e45fb3e239130b584</td>\n      <td>7:42 PM</td>\n      <td>$7.58</td>\n      <td>Violet</td>\n      <td>L</td>\n      <td>used</td>\n    </tr>\n    <tr>\n      <th>3</th>\n      <td>85e44f09a04a79182befcfd55e288a855f633e81</td>\n      <td>10:28 PM</td>\n      <td>$9.10</td>\n      <td>Goldenrod</td>\n      <td>XS</td>\n      <td>NaN</td>\n    </tr>\n    <tr>\n      <th>4</th>\n      <td>ff750bfca4910cfa7f538fbe5463457839021680</td>\n      <td>6:38 AM</td>\n      <td>$8.22</td>\n      <td>NaN</td>\n      <td>2XL</td>\n      <td>used</td>\n    </tr>\n  </tbody>\n</table>\n</div>"
     },
     "metadata": {},
     "execution_count": 2
    }
   ],
   "source": [
    "df.head()"
   ]
  },
  {
   "cell_type": "code",
   "execution_count": 3,
   "metadata": {},
   "outputs": [
    {
     "output_type": "execute_result",
     "data": {
      "text/plain": "                                        tx id      time auction   color  \\\n995  6fa16b110f53367cf15e6e1dcffdcb4c2653f1ab   9:56 AM   $5.79  Violet   \n996  2b7b6cbc2224502c7137262575e97a450b336fc2  11:31 AM  $14.07  Purple   \n997  7f2a5141de8a7f752f8f98722393ffa3b0fb1e7a   6:25 AM  $17.63  Yellow   \n998  c4549687dee4d3061fd3c82433367bea083d4d05   2:22 AM  $17.00  Yellow   \n999  abf227d09fe37b3e333b419e0854c6c2fd1caa50   7:47 PM  $17.05  Indigo   \n\n    shirt size condition  \n995        2XL       NaN  \n996          S      Used  \n997         XS      used  \n998          L      Used  \n999         XL      used  ",
      "text/html": "<div>\n<style scoped>\n    .dataframe tbody tr th:only-of-type {\n        vertical-align: middle;\n    }\n\n    .dataframe tbody tr th {\n        vertical-align: top;\n    }\n\n    .dataframe thead th {\n        text-align: right;\n    }\n</style>\n<table border=\"1\" class=\"dataframe\">\n  <thead>\n    <tr style=\"text-align: right;\">\n      <th></th>\n      <th>tx id</th>\n      <th>time</th>\n      <th>auction</th>\n      <th>color</th>\n      <th>shirt size</th>\n      <th>condition</th>\n    </tr>\n  </thead>\n  <tbody>\n    <tr>\n      <th>995</th>\n      <td>6fa16b110f53367cf15e6e1dcffdcb4c2653f1ab</td>\n      <td>9:56 AM</td>\n      <td>$5.79</td>\n      <td>Violet</td>\n      <td>2XL</td>\n      <td>NaN</td>\n    </tr>\n    <tr>\n      <th>996</th>\n      <td>2b7b6cbc2224502c7137262575e97a450b336fc2</td>\n      <td>11:31 AM</td>\n      <td>$14.07</td>\n      <td>Purple</td>\n      <td>S</td>\n      <td>Used</td>\n    </tr>\n    <tr>\n      <th>997</th>\n      <td>7f2a5141de8a7f752f8f98722393ffa3b0fb1e7a</td>\n      <td>6:25 AM</td>\n      <td>$17.63</td>\n      <td>Yellow</td>\n      <td>XS</td>\n      <td>used</td>\n    </tr>\n    <tr>\n      <th>998</th>\n      <td>c4549687dee4d3061fd3c82433367bea083d4d05</td>\n      <td>2:22 AM</td>\n      <td>$17.00</td>\n      <td>Yellow</td>\n      <td>L</td>\n      <td>Used</td>\n    </tr>\n    <tr>\n      <th>999</th>\n      <td>abf227d09fe37b3e333b419e0854c6c2fd1caa50</td>\n      <td>7:47 PM</td>\n      <td>$17.05</td>\n      <td>Indigo</td>\n      <td>XL</td>\n      <td>used</td>\n    </tr>\n  </tbody>\n</table>\n</div>"
     },
     "metadata": {},
     "execution_count": 3
    }
   ],
   "source": [
    "df.tail()"
   ]
  },
  {
   "cell_type": "code",
   "execution_count": 6,
   "metadata": {},
   "outputs": [
    {
     "output_type": "execute_result",
     "data": {
      "text/plain": "tx id         object\ntime          object\nauction       object\ncolor         object\nshirt size    object\ncondition     object\ndtype: object"
     },
     "metadata": {},
     "execution_count": 6
    }
   ],
   "source": [
    "df.dtypes"
   ]
  },
  {
   "source": [
    "### Gestion du prix"
   ],
   "cell_type": "markdown",
   "metadata": {}
  },
  {
   "cell_type": "code",
   "execution_count": 10,
   "metadata": {},
   "outputs": [
    {
     "output_type": "execute_result",
     "data": {
      "text/plain": "                                        tx id      time auction       color  \\\n0    8dbf3cfa48b25f32e300f279bb4163c67d5c60cd   3:36 PM  $17.18        Puce   \n1    8ccebfdb1a41830bdcc0e926531f3215986b3a90   9:03 AM  $15.19  Aquamarine   \n2    ae85a421a91cec8baf16ff1e45fb3e239130b584   7:42 PM   $7.58      Violet   \n3    85e44f09a04a79182befcfd55e288a855f633e81  10:28 PM   $9.10   Goldenrod   \n4    ff750bfca4910cfa7f538fbe5463457839021680   6:38 AM   $8.22         NaN   \n..                                        ...       ...     ...         ...   \n995  6fa16b110f53367cf15e6e1dcffdcb4c2653f1ab   9:56 AM   $5.79      Violet   \n996  2b7b6cbc2224502c7137262575e97a450b336fc2  11:31 AM  $14.07      Purple   \n997  7f2a5141de8a7f752f8f98722393ffa3b0fb1e7a   6:25 AM  $17.63      Yellow   \n998  c4549687dee4d3061fd3c82433367bea083d4d05   2:22 AM  $17.00      Yellow   \n999  abf227d09fe37b3e333b419e0854c6c2fd1caa50   7:47 PM  $17.05      Indigo   \n\n    shirt size   condition currency  \n0            S        used        $  \n1            L  never worn        $  \n2            L        used        $  \n3           XS         NaN        $  \n4          2XL        used        $  \n..         ...         ...      ...  \n995        2XL         NaN        $  \n996          S        Used        $  \n997         XS        used        $  \n998          L        Used        $  \n999         XL        used        $  \n\n[1000 rows x 7 columns]",
      "text/html": "<div>\n<style scoped>\n    .dataframe tbody tr th:only-of-type {\n        vertical-align: middle;\n    }\n\n    .dataframe tbody tr th {\n        vertical-align: top;\n    }\n\n    .dataframe thead th {\n        text-align: right;\n    }\n</style>\n<table border=\"1\" class=\"dataframe\">\n  <thead>\n    <tr style=\"text-align: right;\">\n      <th></th>\n      <th>tx id</th>\n      <th>time</th>\n      <th>auction</th>\n      <th>color</th>\n      <th>shirt size</th>\n      <th>condition</th>\n      <th>currency</th>\n    </tr>\n  </thead>\n  <tbody>\n    <tr>\n      <th>0</th>\n      <td>8dbf3cfa48b25f32e300f279bb4163c67d5c60cd</td>\n      <td>3:36 PM</td>\n      <td>$17.18</td>\n      <td>Puce</td>\n      <td>S</td>\n      <td>used</td>\n      <td>$</td>\n    </tr>\n    <tr>\n      <th>1</th>\n      <td>8ccebfdb1a41830bdcc0e926531f3215986b3a90</td>\n      <td>9:03 AM</td>\n      <td>$15.19</td>\n      <td>Aquamarine</td>\n      <td>L</td>\n      <td>never worn</td>\n      <td>$</td>\n    </tr>\n    <tr>\n      <th>2</th>\n      <td>ae85a421a91cec8baf16ff1e45fb3e239130b584</td>\n      <td>7:42 PM</td>\n      <td>$7.58</td>\n      <td>Violet</td>\n      <td>L</td>\n      <td>used</td>\n      <td>$</td>\n    </tr>\n    <tr>\n      <th>3</th>\n      <td>85e44f09a04a79182befcfd55e288a855f633e81</td>\n      <td>10:28 PM</td>\n      <td>$9.10</td>\n      <td>Goldenrod</td>\n      <td>XS</td>\n      <td>NaN</td>\n      <td>$</td>\n    </tr>\n    <tr>\n      <th>4</th>\n      <td>ff750bfca4910cfa7f538fbe5463457839021680</td>\n      <td>6:38 AM</td>\n      <td>$8.22</td>\n      <td>NaN</td>\n      <td>2XL</td>\n      <td>used</td>\n      <td>$</td>\n    </tr>\n    <tr>\n      <th>...</th>\n      <td>...</td>\n      <td>...</td>\n      <td>...</td>\n      <td>...</td>\n      <td>...</td>\n      <td>...</td>\n      <td>...</td>\n    </tr>\n    <tr>\n      <th>995</th>\n      <td>6fa16b110f53367cf15e6e1dcffdcb4c2653f1ab</td>\n      <td>9:56 AM</td>\n      <td>$5.79</td>\n      <td>Violet</td>\n      <td>2XL</td>\n      <td>NaN</td>\n      <td>$</td>\n    </tr>\n    <tr>\n      <th>996</th>\n      <td>2b7b6cbc2224502c7137262575e97a450b336fc2</td>\n      <td>11:31 AM</td>\n      <td>$14.07</td>\n      <td>Purple</td>\n      <td>S</td>\n      <td>Used</td>\n      <td>$</td>\n    </tr>\n    <tr>\n      <th>997</th>\n      <td>7f2a5141de8a7f752f8f98722393ffa3b0fb1e7a</td>\n      <td>6:25 AM</td>\n      <td>$17.63</td>\n      <td>Yellow</td>\n      <td>XS</td>\n      <td>used</td>\n      <td>$</td>\n    </tr>\n    <tr>\n      <th>998</th>\n      <td>c4549687dee4d3061fd3c82433367bea083d4d05</td>\n      <td>2:22 AM</td>\n      <td>$17.00</td>\n      <td>Yellow</td>\n      <td>L</td>\n      <td>Used</td>\n      <td>$</td>\n    </tr>\n    <tr>\n      <th>999</th>\n      <td>abf227d09fe37b3e333b419e0854c6c2fd1caa50</td>\n      <td>7:47 PM</td>\n      <td>$17.05</td>\n      <td>Indigo</td>\n      <td>XL</td>\n      <td>used</td>\n      <td>$</td>\n    </tr>\n  </tbody>\n</table>\n<p>1000 rows × 7 columns</p>\n</div>"
     },
     "metadata": {},
     "execution_count": 10
    }
   ],
   "source": [
    "df[\"currency\"] = df.auction.str[0]\n",
    "df"
   ]
  },
  {
   "cell_type": "code",
   "execution_count": 13,
   "metadata": {},
   "outputs": [
    {
     "output_type": "execute_result",
     "data": {
      "text/plain": "                                        tx id      time auction       color  \\\n0    8dbf3cfa48b25f32e300f279bb4163c67d5c60cd   3:36 PM   17.18        Puce   \n1    8ccebfdb1a41830bdcc0e926531f3215986b3a90   9:03 AM   15.19  Aquamarine   \n2    ae85a421a91cec8baf16ff1e45fb3e239130b584   7:42 PM    7.58      Violet   \n3    85e44f09a04a79182befcfd55e288a855f633e81  10:28 PM    9.10   Goldenrod   \n4    ff750bfca4910cfa7f538fbe5463457839021680   6:38 AM    8.22         NaN   \n..                                        ...       ...     ...         ...   \n995  6fa16b110f53367cf15e6e1dcffdcb4c2653f1ab   9:56 AM    5.79      Violet   \n996  2b7b6cbc2224502c7137262575e97a450b336fc2  11:31 AM   14.07      Purple   \n997  7f2a5141de8a7f752f8f98722393ffa3b0fb1e7a   6:25 AM   17.63      Yellow   \n998  c4549687dee4d3061fd3c82433367bea083d4d05   2:22 AM   17.00      Yellow   \n999  abf227d09fe37b3e333b419e0854c6c2fd1caa50   7:47 PM   17.05      Indigo   \n\n    shirt size   condition currency  \n0            S        used        $  \n1            L  never worn        $  \n2            L        used        $  \n3           XS         NaN        $  \n4          2XL        used        $  \n..         ...         ...      ...  \n995        2XL         NaN        $  \n996          S        Used        $  \n997         XS        used        $  \n998          L        Used        $  \n999         XL        used        $  \n\n[1000 rows x 7 columns]",
      "text/html": "<div>\n<style scoped>\n    .dataframe tbody tr th:only-of-type {\n        vertical-align: middle;\n    }\n\n    .dataframe tbody tr th {\n        vertical-align: top;\n    }\n\n    .dataframe thead th {\n        text-align: right;\n    }\n</style>\n<table border=\"1\" class=\"dataframe\">\n  <thead>\n    <tr style=\"text-align: right;\">\n      <th></th>\n      <th>tx id</th>\n      <th>time</th>\n      <th>auction</th>\n      <th>color</th>\n      <th>shirt size</th>\n      <th>condition</th>\n      <th>currency</th>\n    </tr>\n  </thead>\n  <tbody>\n    <tr>\n      <th>0</th>\n      <td>8dbf3cfa48b25f32e300f279bb4163c67d5c60cd</td>\n      <td>3:36 PM</td>\n      <td>17.18</td>\n      <td>Puce</td>\n      <td>S</td>\n      <td>used</td>\n      <td>$</td>\n    </tr>\n    <tr>\n      <th>1</th>\n      <td>8ccebfdb1a41830bdcc0e926531f3215986b3a90</td>\n      <td>9:03 AM</td>\n      <td>15.19</td>\n      <td>Aquamarine</td>\n      <td>L</td>\n      <td>never worn</td>\n      <td>$</td>\n    </tr>\n    <tr>\n      <th>2</th>\n      <td>ae85a421a91cec8baf16ff1e45fb3e239130b584</td>\n      <td>7:42 PM</td>\n      <td>7.58</td>\n      <td>Violet</td>\n      <td>L</td>\n      <td>used</td>\n      <td>$</td>\n    </tr>\n    <tr>\n      <th>3</th>\n      <td>85e44f09a04a79182befcfd55e288a855f633e81</td>\n      <td>10:28 PM</td>\n      <td>9.10</td>\n      <td>Goldenrod</td>\n      <td>XS</td>\n      <td>NaN</td>\n      <td>$</td>\n    </tr>\n    <tr>\n      <th>4</th>\n      <td>ff750bfca4910cfa7f538fbe5463457839021680</td>\n      <td>6:38 AM</td>\n      <td>8.22</td>\n      <td>NaN</td>\n      <td>2XL</td>\n      <td>used</td>\n      <td>$</td>\n    </tr>\n    <tr>\n      <th>...</th>\n      <td>...</td>\n      <td>...</td>\n      <td>...</td>\n      <td>...</td>\n      <td>...</td>\n      <td>...</td>\n      <td>...</td>\n    </tr>\n    <tr>\n      <th>995</th>\n      <td>6fa16b110f53367cf15e6e1dcffdcb4c2653f1ab</td>\n      <td>9:56 AM</td>\n      <td>5.79</td>\n      <td>Violet</td>\n      <td>2XL</td>\n      <td>NaN</td>\n      <td>$</td>\n    </tr>\n    <tr>\n      <th>996</th>\n      <td>2b7b6cbc2224502c7137262575e97a450b336fc2</td>\n      <td>11:31 AM</td>\n      <td>14.07</td>\n      <td>Purple</td>\n      <td>S</td>\n      <td>Used</td>\n      <td>$</td>\n    </tr>\n    <tr>\n      <th>997</th>\n      <td>7f2a5141de8a7f752f8f98722393ffa3b0fb1e7a</td>\n      <td>6:25 AM</td>\n      <td>17.63</td>\n      <td>Yellow</td>\n      <td>XS</td>\n      <td>used</td>\n      <td>$</td>\n    </tr>\n    <tr>\n      <th>998</th>\n      <td>c4549687dee4d3061fd3c82433367bea083d4d05</td>\n      <td>2:22 AM</td>\n      <td>17.00</td>\n      <td>Yellow</td>\n      <td>L</td>\n      <td>Used</td>\n      <td>$</td>\n    </tr>\n    <tr>\n      <th>999</th>\n      <td>abf227d09fe37b3e333b419e0854c6c2fd1caa50</td>\n      <td>7:47 PM</td>\n      <td>17.05</td>\n      <td>Indigo</td>\n      <td>XL</td>\n      <td>used</td>\n      <td>$</td>\n    </tr>\n  </tbody>\n</table>\n<p>1000 rows × 7 columns</p>\n</div>"
     },
     "metadata": {},
     "execution_count": 13
    }
   ],
   "source": [
    "df.auction = df.auction.str[1:].replace(\",\",\".\")\n",
    "df"
   ]
  },
  {
   "cell_type": "code",
   "execution_count": 15,
   "metadata": {},
   "outputs": [
    {
     "output_type": "execute_result",
     "data": {
      "text/plain": "tx id          object\ntime           object\nauction       float64\ncolor          object\nshirt size     object\ncondition      object\ncurrency       object\ndtype: object"
     },
     "metadata": {},
     "execution_count": 15
    }
   ],
   "source": [
    "df.auction = df.auction.astype(\"float\")\n",
    "df.dtypes"
   ]
  },
  {
   "source": [
    "### Gestion des dates"
   ],
   "cell_type": "markdown",
   "metadata": {}
  }
 ]
}