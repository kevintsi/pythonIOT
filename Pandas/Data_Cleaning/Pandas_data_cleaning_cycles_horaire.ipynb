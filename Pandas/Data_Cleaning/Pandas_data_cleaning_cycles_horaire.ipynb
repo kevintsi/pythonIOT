{
 "metadata": {
  "language_info": {
   "codemirror_mode": {
    "name": "ipython",
    "version": 3
   },
   "file_extension": ".py",
   "mimetype": "text/x-python",
   "name": "python",
   "nbconvert_exporter": "python",
   "pygments_lexer": "ipython3",
   "version": "3.8.3-final"
  },
  "orig_nbformat": 2,
  "kernelspec": {
   "name": "Python 3.8.3 64-bit",
   "display_name": "Python 3.8.3 64-bit",
   "metadata": {
    "interpreter": {
     "hash": "991da9b17d5655561a8686b9327745da023652667e5744d6112d3c7cefcedf59"
    }
   }
  }
 },
 "nbformat": 4,
 "nbformat_minor": 2,
 "cells": [
  {
   "source": [
    "### Exercice cycle Horaires"
   ],
   "cell_type": "markdown",
   "metadata": {}
  },
  {
   "cell_type": "code",
   "execution_count": 1,
   "metadata": {
    "tags": []
   },
   "outputs": [
    {
     "output_type": "stream",
     "name": "stdout",
     "text": "                     DoA  Age Convicted\n0    2014-07-16 14:59:18   77       Yes\n1    2002-12-19 22:17:59   28       Yes\n2    1994-06-28 09:31:40   21        No\n3    1985-05-14 09:52:17   45       Yes\n4    1985-05-25 14:06:28   39       Yes\n..                   ...  ...       ...\n995  1992-02-04 14:24:25   72       Yes\n996  1996-04-29 18:03:23   68       Yes\n997  1980-07-15 21:59:27   87       Yes\n998  1999-07-05 17:16:12   27        No\n999  1996-03-17 18:29:25   57       Yes\n\n[1000 rows x 3 columns]\n"
    }
   ],
   "source": [
    "import pandas as pds\n",
    "\n",
    "fp = \"http://bit.ly/felonies-dataset\"\n",
    "df = pds.read_csv(fp)\n",
    "\n",
    "df.rename(columns={\"Date of Arrest\" : \"DoA\"}, inplace=True)\n",
    "\n",
    "df.dtypes\n",
    "print(df)"
   ]
  },
  {
   "cell_type": "code",
   "execution_count": 2,
   "metadata": {},
   "outputs": [
    {
     "output_type": "execute_result",
     "data": {
      "text/plain": "0     2014-07-16 14:59:18\n1     2002-12-19 22:17:59\n2     1994-06-28 09:31:40\n3     1985-05-14 09:52:17\n4     1985-05-25 14:06:28\n              ...        \n995   1992-02-04 14:24:25\n996   1996-04-29 18:03:23\n997   1980-07-15 21:59:27\n998   1999-07-05 17:16:12\n999   1996-03-17 18:29:25\nName: DoA, Length: 1000, dtype: datetime64[ns]"
     },
     "metadata": {},
     "execution_count": 2
    }
   ],
   "source": [
    "df.DoA = pds.to_datetime(df.DoA)\n",
    "df.DoA"
   ]
  },
  {
   "cell_type": "code",
   "execution_count": 3,
   "metadata": {},
   "outputs": [
    {
     "output_type": "execute_result",
     "data": {
      "text/plain": "0      1459\n1      2217\n2       931\n3       952\n4      1406\n       ... \n995    1424\n996    1803\n997    2159\n998    1716\n999    1829\nName: Horaire, Length: 1000, dtype: int64"
     },
     "metadata": {},
     "execution_count": 3
    }
   ],
   "source": [
    "df[\"Horaire\"] = df.DoA.dt.hour * 100 + df.DoA.dt.minute\n",
    "df.Horaire"
   ]
  },
  {
   "cell_type": "code",
   "execution_count": 5,
   "metadata": {},
   "outputs": [],
   "source": [
    "DEBUT_JOURNEE = -1\n",
    "MATIN = 325\n",
    "APRES_MIDI = 1613\n",
    "NUIT = 2212\n",
    "FIN_JOURNEE = 2400\n",
    "\n",
    "bins = [DEBUT_JOURNEE, \n",
    "        MATIN, \n",
    "        APRES_MIDI, \n",
    "        NUIT,\n",
    "        FIN_JOURNEE]\n",
    "\n",
    "df.Horaire = pds.cut(df[\"Horaire\"],\n",
    "        bins=bins,\n",
    "        labels = [\"NUIT\", \"MATIN\", \"APRES MIDI\", \"NUIT2\"]\n",
    "        )\n"
   ]
  },
  {
   "cell_type": "code",
   "execution_count": 6,
   "metadata": {},
   "outputs": [
    {
     "output_type": "execute_result",
     "data": {
      "text/plain": "                  DoA  Age Convicted Horaire\n0 2014-07-16 14:59:18   77       Yes   MATIN\n1 2002-12-19 22:17:59   28       Yes   NUIT2\n2 1994-06-28 09:31:40   21        No   MATIN\n3 1985-05-14 09:52:17   45       Yes   MATIN\n4 1985-05-25 14:06:28   39       Yes   MATIN",
      "text/html": "<div>\n<style scoped>\n    .dataframe tbody tr th:only-of-type {\n        vertical-align: middle;\n    }\n\n    .dataframe tbody tr th {\n        vertical-align: top;\n    }\n\n    .dataframe thead th {\n        text-align: right;\n    }\n</style>\n<table border=\"1\" class=\"dataframe\">\n  <thead>\n    <tr style=\"text-align: right;\">\n      <th></th>\n      <th>DoA</th>\n      <th>Age</th>\n      <th>Convicted</th>\n      <th>Horaire</th>\n    </tr>\n  </thead>\n  <tbody>\n    <tr>\n      <th>0</th>\n      <td>2014-07-16 14:59:18</td>\n      <td>77</td>\n      <td>Yes</td>\n      <td>MATIN</td>\n    </tr>\n    <tr>\n      <th>1</th>\n      <td>2002-12-19 22:17:59</td>\n      <td>28</td>\n      <td>Yes</td>\n      <td>NUIT2</td>\n    </tr>\n    <tr>\n      <th>2</th>\n      <td>1994-06-28 09:31:40</td>\n      <td>21</td>\n      <td>No</td>\n      <td>MATIN</td>\n    </tr>\n    <tr>\n      <th>3</th>\n      <td>1985-05-14 09:52:17</td>\n      <td>45</td>\n      <td>Yes</td>\n      <td>MATIN</td>\n    </tr>\n    <tr>\n      <th>4</th>\n      <td>1985-05-25 14:06:28</td>\n      <td>39</td>\n      <td>Yes</td>\n      <td>MATIN</td>\n    </tr>\n  </tbody>\n</table>\n</div>"
     },
     "metadata": {},
     "execution_count": 6
    }
   ],
   "source": [
    "df.head()"
   ]
  },
  {
   "cell_type": "code",
   "execution_count": 7,
   "metadata": {},
   "outputs": [],
   "source": [
    "horaire = df.Horaire.str.replace(\"2\",\"\")"
   ]
  },
  {
   "cell_type": "code",
   "execution_count": 8,
   "metadata": {},
   "outputs": [
    {
     "output_type": "execute_result",
     "data": {
      "text/plain": "0           MATIN\n1            NUIT\n2           MATIN\n3           MATIN\n4           MATIN\n          ...    \n995         MATIN\n996    APRES MIDI\n997    APRES MIDI\n998    APRES MIDI\n999    APRES MIDI\nName: Horaire, Length: 1000, dtype: object"
     },
     "metadata": {},
     "execution_count": 8
    }
   ],
   "source": [
    "horaire"
   ]
  },
  {
   "cell_type": "code",
   "execution_count": 9,
   "metadata": {},
   "outputs": [],
   "source": [
    "order = [\"NUIT\", \"MATIN\", \"APRES MIDI\"]\n",
    "horaire = (horaire.astype(\"category\")\n",
    "          .cat.as_ordered()\n",
    "          .cat.reorder_categories([\"NUIT\", \"MATIN\", \"APRES MIDI\"]))"
   ]
  },
  {
   "cell_type": "code",
   "execution_count": 10,
   "metadata": {},
   "outputs": [
    {
     "output_type": "execute_result",
     "data": {
      "text/plain": "0    MATIN\n1     NUIT\n2    MATIN\n3    MATIN\n4    MATIN\nName: Horaire, dtype: category\nCategories (3, object): ['NUIT' < 'MATIN' < 'APRES MIDI']"
     },
     "metadata": {},
     "execution_count": 10
    }
   ],
   "source": [
    "horaire.head()"
   ]
  },
  {
   "cell_type": "code",
   "execution_count": 11,
   "metadata": {},
   "outputs": [],
   "source": [
    "df.Horaire = horaire"
   ]
  },
  {
   "cell_type": "code",
   "execution_count": 14,
   "metadata": {},
   "outputs": [
    {
     "output_type": "execute_result",
     "data": {
      "text/plain": "                  DoA  Age Convicted Horaire\n0 2014-07-16 14:59:18   77       Yes   MATIN\n1 2002-12-19 22:17:59   28       Yes    NUIT\n2 1994-06-28 09:31:40   21        No   MATIN\n3 1985-05-14 09:52:17   45       Yes   MATIN\n4 1985-05-25 14:06:28   39       Yes   MATIN",
      "text/html": "<div>\n<style scoped>\n    .dataframe tbody tr th:only-of-type {\n        vertical-align: middle;\n    }\n\n    .dataframe tbody tr th {\n        vertical-align: top;\n    }\n\n    .dataframe thead th {\n        text-align: right;\n    }\n</style>\n<table border=\"1\" class=\"dataframe\">\n  <thead>\n    <tr style=\"text-align: right;\">\n      <th></th>\n      <th>DoA</th>\n      <th>Age</th>\n      <th>Convicted</th>\n      <th>Horaire</th>\n    </tr>\n  </thead>\n  <tbody>\n    <tr>\n      <th>0</th>\n      <td>2014-07-16 14:59:18</td>\n      <td>77</td>\n      <td>Yes</td>\n      <td>MATIN</td>\n    </tr>\n    <tr>\n      <th>1</th>\n      <td>2002-12-19 22:17:59</td>\n      <td>28</td>\n      <td>Yes</td>\n      <td>NUIT</td>\n    </tr>\n    <tr>\n      <th>2</th>\n      <td>1994-06-28 09:31:40</td>\n      <td>21</td>\n      <td>No</td>\n      <td>MATIN</td>\n    </tr>\n    <tr>\n      <th>3</th>\n      <td>1985-05-14 09:52:17</td>\n      <td>45</td>\n      <td>Yes</td>\n      <td>MATIN</td>\n    </tr>\n    <tr>\n      <th>4</th>\n      <td>1985-05-25 14:06:28</td>\n      <td>39</td>\n      <td>Yes</td>\n      <td>MATIN</td>\n    </tr>\n  </tbody>\n</table>\n</div>"
     },
     "metadata": {},
     "execution_count": 14
    }
   ],
   "source": [
    "df.head()"
   ]
  },
  {
   "cell_type": "code",
   "execution_count": 13,
   "metadata": {},
   "outputs": [
    {
     "output_type": "execute_result",
     "data": {
      "text/plain": "                    DoA  Age Convicted     Horaire\n995 1992-02-04 14:24:25   72       Yes       MATIN\n996 1996-04-29 18:03:23   68       Yes  APRES MIDI\n997 1980-07-15 21:59:27   87       Yes  APRES MIDI\n998 1999-07-05 17:16:12   27        No  APRES MIDI\n999 1996-03-17 18:29:25   57       Yes  APRES MIDI",
      "text/html": "<div>\n<style scoped>\n    .dataframe tbody tr th:only-of-type {\n        vertical-align: middle;\n    }\n\n    .dataframe tbody tr th {\n        vertical-align: top;\n    }\n\n    .dataframe thead th {\n        text-align: right;\n    }\n</style>\n<table border=\"1\" class=\"dataframe\">\n  <thead>\n    <tr style=\"text-align: right;\">\n      <th></th>\n      <th>DoA</th>\n      <th>Age</th>\n      <th>Convicted</th>\n      <th>Horaire</th>\n    </tr>\n  </thead>\n  <tbody>\n    <tr>\n      <th>995</th>\n      <td>1992-02-04 14:24:25</td>\n      <td>72</td>\n      <td>Yes</td>\n      <td>MATIN</td>\n    </tr>\n    <tr>\n      <th>996</th>\n      <td>1996-04-29 18:03:23</td>\n      <td>68</td>\n      <td>Yes</td>\n      <td>APRES MIDI</td>\n    </tr>\n    <tr>\n      <th>997</th>\n      <td>1980-07-15 21:59:27</td>\n      <td>87</td>\n      <td>Yes</td>\n      <td>APRES MIDI</td>\n    </tr>\n    <tr>\n      <th>998</th>\n      <td>1999-07-05 17:16:12</td>\n      <td>27</td>\n      <td>No</td>\n      <td>APRES MIDI</td>\n    </tr>\n    <tr>\n      <th>999</th>\n      <td>1996-03-17 18:29:25</td>\n      <td>57</td>\n      <td>Yes</td>\n      <td>APRES MIDI</td>\n    </tr>\n  </tbody>\n</table>\n</div>"
     },
     "metadata": {},
     "execution_count": 13
    }
   ],
   "source": [
    "df.tail()"
   ]
  },
  {
   "cell_type": "code",
   "execution_count": null,
   "metadata": {},
   "outputs": [],
   "source": []
  }
 ]
}