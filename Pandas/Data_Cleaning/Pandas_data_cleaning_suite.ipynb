{
 "metadata": {
  "language_info": {
   "codemirror_mode": {
    "name": "ipython",
    "version": 3
   },
   "file_extension": ".py",
   "mimetype": "text/x-python",
   "name": "python",
   "nbconvert_exporter": "python",
   "pygments_lexer": "ipython3",
   "version": "3.8.3-final"
  },
  "orig_nbformat": 2,
  "kernelspec": {
   "name": "Python 3.8.3 64-bit",
   "display_name": "Python 3.8.3 64-bit",
   "metadata": {
    "interpreter": {
     "hash": "991da9b17d5655561a8686b9327745da023652667e5744d6112d3c7cefcedf59"
    }
   }
  }
 },
 "nbformat": 4,
 "nbformat_minor": 2,
 "cells": [
  {
   "source": [
    "### Cleaning sale -> propre\n",
    "str -> num\n",
    "\n",
    "num -> ordinal\n",
    "\n",
    "date -> num\n",
    "\n",
    "date -> ordinal\n",
    "\n",
    "NaN -> str, num, date -> catégorie"
   ],
   "cell_type": "markdown",
   "metadata": {}
  },
  {
   "source": [
    "### Exercice 7 "
   ],
   "cell_type": "markdown",
   "metadata": {}
  },
  {
   "cell_type": "code",
   "execution_count": null,
   "metadata": {},
   "outputs": [],
   "source": [
    "path = \"https://bit.ly/bitcoin-purchases2\"\n",
    "\n",
    "path"
   ]
  },
  {
   "cell_type": "code",
   "execution_count": null,
   "metadata": {},
   "outputs": [],
   "source": [
    "df = pds.read_csv(path)\n",
    "df"
   ]
  },
  {
   "cell_type": "code",
   "execution_count": null,
   "metadata": {},
   "outputs": [],
   "source": [
    " df[\"wire amount\"] = df[\"wire amount\"].str.replace(\",\", \".\")"
   ]
  },
  {
   "cell_type": "code",
   "execution_count": null,
   "metadata": {},
   "outputs": [],
   "source": [
    "df"
   ]
  },
  {
   "source": [
    "### 1 Extraire les devises"
   ],
   "cell_type": "markdown",
   "metadata": {}
  },
  {
   "cell_type": "code",
   "execution_count": null,
   "metadata": {},
   "outputs": [],
   "source": [
    "df[\"devise\"] = df[\"wire amount\"].str[0]"
   ]
  },
  {
   "cell_type": "code",
   "execution_count": null,
   "metadata": {},
   "outputs": [],
   "source": [
    "df"
   ]
  },
  {
   "cell_type": "code",
   "execution_count": null,
   "metadata": {},
   "outputs": [],
   "source": [
    "df[\"wire amount\"] = df[\"wire amount\"].str[1:] ### df[\"wire amount\"].str.slice(1, None)"
   ]
  },
  {
   "cell_type": "code",
   "execution_count": null,
   "metadata": {},
   "outputs": [],
   "source": [
    "df"
   ]
  },
  {
   "source": [
    "#### Cleaning str -> float,int"
   ],
   "cell_type": "markdown",
   "metadata": {}
  },
  {
   "cell_type": "code",
   "execution_count": null,
   "metadata": {},
   "outputs": [],
   "source": [
    "df[\"wire amount\"] = df[\"wire amount\"].astype('float')"
   ]
  },
  {
   "cell_type": "code",
   "execution_count": null,
   "metadata": {},
   "outputs": [],
   "source": [
    "df.dtypes"
   ]
  },
  {
   "cell_type": "code",
   "execution_count": null,
   "metadata": {},
   "outputs": [],
   "source": [
    "import random\n",
    "\n",
    "def makeNumberStr(sep=[\",\"]):\n",
    "\n",
    "    avantVirgule = str(random.randint(1,1000))\n",
    "    apresVirgule = '{:02}'.format(random.randint(0,99))\n",
    "    sep = random.choice(sep)\n",
    "\n",
    "    return avantVirgule + sep + apresVirgule\n",
    "\n",
    "col1 = [makeNumberStr() for _ in range(200)]\n",
    "col2 = [makeNumberStr([\".\",\",\"]) for _ in range(200)]\n",
    "\n",
    "exo1 = pds.DataFrame(data={\n",
    "    \"col1\" : col1,\n",
    "    \"col2\" : col2\n",
    "})\n",
    "\n",
    "exo1[\"col1\"] = exo1[\"col1\"].str.replace(\",\",\".\")\n",
    "exo1[\"col2\"] = exo1[\"col2\"].str.replace(\",\",\".\")\n",
    "print(exo1)\n",
    "\n",
    "exo1.col1 = exo1.col1.astype(\"float\")\n",
    "exo1.col2 =exo1.col2.astype(\"float\")\n",
    "\n",
    "print(exo1.dtypes)"
   ]
  },
  {
   "cell_type": "code",
   "execution_count": null,
   "metadata": {},
   "outputs": [],
   "source": [
    "import random\n",
    "\n",
    "def makeNumberStrRandSign(sep=[\",\"], signs=[\"€\", \"$\"]):\n",
    "\n",
    "    avantVirgule = str(random.randint(1,1000))\n",
    "    apresVirgule = '{:02}'.format(random.randint(0,99))\n",
    "    sep = random.choice(sep)\n",
    "    signs = random.choice(signs)\n",
    "\n",
    "    return avantVirgule + sep + apresVirgule + signs\n",
    "\n",
    "col1 = [makeNumberStrRandSign() for _ in range(200)]\n",
    "col2 = [makeNumberStrRandSign([\".\",\",\"]) for _ in range(200)]\n",
    "\n",
    "exo2 = pds.DataFrame(data={\n",
    "    \"col1\" : col1,\n",
    "    \"col2\" : col2\n",
    "})\n",
    "\n",
    "\n",
    "exo2[\"col1\"] = exo2[\"col1\"].str.replace(\",\",\".\")\n",
    "exo2[\"col2\"] = exo2[\"col2\"].str.replace(\",\",\".\")\n",
    "print(exo2)\n",
    "\n",
    "exo2[\"devise_col1\"] = exo2[\"col1\"].str[-1]\n",
    "exo2[\"devise_col2\"] = exo2[\"col2\"].str[-1]\n",
    "\n",
    "exo2[\"col1\"] = exo2[\"col1\"].str[:-1]\n",
    "exo2[\"col2\"] = exo2[\"col2\"].str[:-1]\n",
    "\n",
    "print(exo2)\n",
    "\n",
    "exo2[\"col1\"] = exo2[\"col1\"].astype(\"float\")\n",
    "exo2[\"col2\"] = exo2[\"col2\"].astype(\"float\")\n",
    "\n",
    "print(exo2.dtypes)\n",
    "\n"
   ]
  },
  {
   "source": [
    "### Cleaning date "
   ],
   "cell_type": "markdown",
   "metadata": {}
  },
  {
   "cell_type": "code",
   "execution_count": 3,
   "metadata": {},
   "outputs": [],
   "source": [
    "import pandas as pds\n",
    "\n",
    "path = \"https://bit.ly/felonies-dataset\"\n",
    "\n",
    "dataset = pds.read_csv(path)"
   ]
  },
  {
   "cell_type": "code",
   "execution_count": 21,
   "metadata": {},
   "outputs": [
    {
     "output_type": "execute_result",
     "data": {
      "text/plain": "        Date of Arrest  Age Convicted\n0  2014-07-16 14:59:18   77       Yes\n1  2002-12-19 22:17:59   28       Yes\n2  1994-06-28 09:31:40   21        No\n3  1985-05-14 09:52:17   45       Yes\n4  1985-05-25 14:06:28   39       Yes",
      "text/html": "<div>\n<style scoped>\n    .dataframe tbody tr th:only-of-type {\n        vertical-align: middle;\n    }\n\n    .dataframe tbody tr th {\n        vertical-align: top;\n    }\n\n    .dataframe thead th {\n        text-align: right;\n    }\n</style>\n<table border=\"1\" class=\"dataframe\">\n  <thead>\n    <tr style=\"text-align: right;\">\n      <th></th>\n      <th>Date of Arrest</th>\n      <th>Age</th>\n      <th>Convicted</th>\n    </tr>\n  </thead>\n  <tbody>\n    <tr>\n      <th>0</th>\n      <td>2014-07-16 14:59:18</td>\n      <td>77</td>\n      <td>Yes</td>\n    </tr>\n    <tr>\n      <th>1</th>\n      <td>2002-12-19 22:17:59</td>\n      <td>28</td>\n      <td>Yes</td>\n    </tr>\n    <tr>\n      <th>2</th>\n      <td>1994-06-28 09:31:40</td>\n      <td>21</td>\n      <td>No</td>\n    </tr>\n    <tr>\n      <th>3</th>\n      <td>1985-05-14 09:52:17</td>\n      <td>45</td>\n      <td>Yes</td>\n    </tr>\n    <tr>\n      <th>4</th>\n      <td>1985-05-25 14:06:28</td>\n      <td>39</td>\n      <td>Yes</td>\n    </tr>\n  </tbody>\n</table>\n</div>"
     },
     "metadata": {},
     "execution_count": 21
    }
   ],
   "source": [
    "dataset.head()"
   ]
  },
  {
   "cell_type": "code",
   "execution_count": null,
   "metadata": {},
   "outputs": [],
   "source": [
    "dataset.dtypes"
   ]
  },
  {
   "cell_type": "code",
   "execution_count": 4,
   "metadata": {},
   "outputs": [
    {
     "output_type": "execute_result",
     "data": {
      "text/plain": "count    1000.000000\nmean       54.605000\nstd        25.225172\nmin        10.000000\n25%        33.000000\n50%        53.000000\n75%        76.000000\nmax        99.000000\nName: Age, dtype: float64"
     },
     "metadata": {},
     "execution_count": 4
    }
   ],
   "source": [
    "dataset.Age.describe()"
   ]
  },
  {
   "cell_type": "code",
   "execution_count": 10,
   "metadata": {},
   "outputs": [
    {
     "output_type": "execute_result",
     "data": {
      "text/plain": "0      Senior\n1      Adulte\n2      Adulte\n3      Adulte\n4      Adulte\n        ...  \n995    Senior\n996    Senior\n997    Senior\n998    Adulte\n999    Adulte\nName: Age, Length: 1000, dtype: category\nCategories (4, object): ['Child' < 'Ado' < 'Adulte' < 'Senior']"
     },
     "metadata": {},
     "execution_count": 10
    }
   ],
   "source": [
    "o = pds.cut(\n",
    "    dataset.Age, \n",
    "    bins=[10,14,20,65,100], \n",
    "    labels=[\"Child\", \"Ado\", \"Adulte\", \"Senior\"]\n",
    "    )\n",
    "o"
   ]
  },
  {
   "cell_type": "code",
   "execution_count": 6,
   "metadata": {},
   "outputs": [
    {
     "output_type": "execute_result",
     "data": {
      "text/plain": "13"
     },
     "metadata": {},
     "execution_count": 6
    }
   ],
   "source": [
    "o.isna().sum()"
   ]
  },
  {
   "cell_type": "code",
   "execution_count": 7,
   "metadata": {},
   "outputs": [],
   "source": [
    "exo1 = pds.Series(data=[0,1,2,3])"
   ]
  },
  {
   "cell_type": "code",
   "execution_count": 8,
   "metadata": {},
   "outputs": [
    {
     "output_type": "execute_result",
     "data": {
      "text/plain": "0    NaN\n1      A\n2      A\n3      B\ndtype: category\nCategories (2, object): ['A' < 'B']"
     },
     "metadata": {},
     "execution_count": 8
    }
   ],
   "source": [
    "pds.cut(exo1, \n",
    "        bins=[0,2,3],\n",
    "        labels=[\"A\",\"B\"]\n",
    "        )"
   ]
  },
  {
   "cell_type": "code",
   "execution_count": 26,
   "metadata": {},
   "outputs": [
    {
     "output_type": "execute_result",
     "data": {
      "text/plain": "['tenties',\n 'twenties',\n 'thirties',\n 'fourties',\n 'fifties',\n 'sixties',\n 'seventies',\n 'eighties',\n 'nineties']"
     },
     "metadata": {},
     "execution_count": 26
    }
   ],
   "source": [
    "prefix = [\"ten\",\"twen\",\"thir\",\"four\",\"fif\",\"six\", \"seven\",\"eigh\",\"nine\"]\n",
    "\n",
    "labels = [p + \"ties\" for p in prefix]\n",
    "\n",
    "labels"
   ]
  },
  {
   "source": [
    "dataset[\"Decade\"] = pds.cut(\n",
    "    dataset.Age, \n",
    "    bins=[i for i in range(9,99+1,10)], \n",
    "    labels=labels\n",
    "    )"
   ],
   "cell_type": "code",
   "metadata": {},
   "execution_count": 30,
   "outputs": []
  },
  {
   "cell_type": "code",
   "execution_count": 31,
   "metadata": {},
   "outputs": [
    {
     "output_type": "execute_result",
     "data": {
      "text/plain": "        Date of Arrest  Age Convicted     Decade\n0  2014-07-16 14:59:18   77       Yes  seventies\n1  2002-12-19 22:17:59   28       Yes   twenties\n2  1994-06-28 09:31:40   21        No   twenties\n3  1985-05-14 09:52:17   45       Yes   fourties\n4  1985-05-25 14:06:28   39       Yes   thirties",
      "text/html": "<div>\n<style scoped>\n    .dataframe tbody tr th:only-of-type {\n        vertical-align: middle;\n    }\n\n    .dataframe tbody tr th {\n        vertical-align: top;\n    }\n\n    .dataframe thead th {\n        text-align: right;\n    }\n</style>\n<table border=\"1\" class=\"dataframe\">\n  <thead>\n    <tr style=\"text-align: right;\">\n      <th></th>\n      <th>Date of Arrest</th>\n      <th>Age</th>\n      <th>Convicted</th>\n      <th>Decade</th>\n    </tr>\n  </thead>\n  <tbody>\n    <tr>\n      <th>0</th>\n      <td>2014-07-16 14:59:18</td>\n      <td>77</td>\n      <td>Yes</td>\n      <td>seventies</td>\n    </tr>\n    <tr>\n      <th>1</th>\n      <td>2002-12-19 22:17:59</td>\n      <td>28</td>\n      <td>Yes</td>\n      <td>twenties</td>\n    </tr>\n    <tr>\n      <th>2</th>\n      <td>1994-06-28 09:31:40</td>\n      <td>21</td>\n      <td>No</td>\n      <td>twenties</td>\n    </tr>\n    <tr>\n      <th>3</th>\n      <td>1985-05-14 09:52:17</td>\n      <td>45</td>\n      <td>Yes</td>\n      <td>fourties</td>\n    </tr>\n    <tr>\n      <th>4</th>\n      <td>1985-05-25 14:06:28</td>\n      <td>39</td>\n      <td>Yes</td>\n      <td>thirties</td>\n    </tr>\n  </tbody>\n</table>\n</div>"
     },
     "metadata": {},
     "execution_count": 31
    }
   ],
   "source": [
    "dataset.head()"
   ]
  },
  {
   "cell_type": "code",
   "execution_count": 32,
   "metadata": {},
   "outputs": [
    {
     "output_type": "execute_result",
     "data": {
      "text/plain": "Date of Arrest    0\nAge               0\nConvicted         0\nDecade            0\ndtype: int64"
     },
     "metadata": {},
     "execution_count": 32
    }
   ],
   "source": [
    "dataset.isna().sum()"
   ]
  },
  {
   "cell_type": "code",
   "execution_count": 33,
   "metadata": {},
   "outputs": [
    {
     "output_type": "execute_result",
     "data": {
      "text/plain": "Date of Arrest      object\nAge                  int64\nConvicted           object\nDecade            category\ndtype: object"
     },
     "metadata": {},
     "execution_count": 33
    }
   ],
   "source": [
    "dataset.dtypes"
   ]
  },
  {
   "cell_type": "code",
   "execution_count": 4,
   "metadata": {},
   "outputs": [
    {
     "output_type": "execute_result",
     "data": {
      "text/plain": "(1000, 3)"
     },
     "metadata": {},
     "execution_count": 4
    }
   ],
   "source": [
    "import pandas as pds\n",
    "\n",
    "fp = \"http://bit.ly/felonies-dataset\"\n",
    "df = pds.read_csv(fp)\n",
    "df.shape"
   ]
  },
  {
   "cell_type": "code",
   "execution_count": 5,
   "metadata": {},
   "outputs": [],
   "source": [
    "df.rename(columns={\"Date of Arrest\" : \"DOA\"}, inplace=True)"
   ]
  },
  {
   "cell_type": "code",
   "execution_count": 6,
   "metadata": {},
   "outputs": [
    {
     "output_type": "execute_result",
     "data": {
      "text/plain": "                   DOA  Age Convicted\n0  2014-07-16 14:59:18   77       Yes\n1  2002-12-19 22:17:59   28       Yes\n2  1994-06-28 09:31:40   21        No\n3  1985-05-14 09:52:17   45       Yes\n4  1985-05-25 14:06:28   39       Yes",
      "text/html": "<div>\n<style scoped>\n    .dataframe tbody tr th:only-of-type {\n        vertical-align: middle;\n    }\n\n    .dataframe tbody tr th {\n        vertical-align: top;\n    }\n\n    .dataframe thead th {\n        text-align: right;\n    }\n</style>\n<table border=\"1\" class=\"dataframe\">\n  <thead>\n    <tr style=\"text-align: right;\">\n      <th></th>\n      <th>DOA</th>\n      <th>Age</th>\n      <th>Convicted</th>\n    </tr>\n  </thead>\n  <tbody>\n    <tr>\n      <th>0</th>\n      <td>2014-07-16 14:59:18</td>\n      <td>77</td>\n      <td>Yes</td>\n    </tr>\n    <tr>\n      <th>1</th>\n      <td>2002-12-19 22:17:59</td>\n      <td>28</td>\n      <td>Yes</td>\n    </tr>\n    <tr>\n      <th>2</th>\n      <td>1994-06-28 09:31:40</td>\n      <td>21</td>\n      <td>No</td>\n    </tr>\n    <tr>\n      <th>3</th>\n      <td>1985-05-14 09:52:17</td>\n      <td>45</td>\n      <td>Yes</td>\n    </tr>\n    <tr>\n      <th>4</th>\n      <td>1985-05-25 14:06:28</td>\n      <td>39</td>\n      <td>Yes</td>\n    </tr>\n  </tbody>\n</table>\n</div>"
     },
     "metadata": {},
     "execution_count": 6
    }
   ],
   "source": [
    "df.head()"
   ]
  },
  {
   "source": [
    "### Methode 1"
   ],
   "cell_type": "markdown",
   "metadata": {}
  },
  {
   "cell_type": "code",
   "execution_count": 7,
   "metadata": {},
   "outputs": [],
   "source": [
    "df[\"YOA\"] = df.DOA.str[:4]"
   ]
  },
  {
   "cell_type": "code",
   "execution_count": 8,
   "metadata": {},
   "outputs": [
    {
     "output_type": "execute_result",
     "data": {
      "text/plain": "                   DOA  Age Convicted   YOA\n0  2014-07-16 14:59:18   77       Yes  2014\n1  2002-12-19 22:17:59   28       Yes  2002\n2  1994-06-28 09:31:40   21        No  1994\n3  1985-05-14 09:52:17   45       Yes  1985\n4  1985-05-25 14:06:28   39       Yes  1985",
      "text/html": "<div>\n<style scoped>\n    .dataframe tbody tr th:only-of-type {\n        vertical-align: middle;\n    }\n\n    .dataframe tbody tr th {\n        vertical-align: top;\n    }\n\n    .dataframe thead th {\n        text-align: right;\n    }\n</style>\n<table border=\"1\" class=\"dataframe\">\n  <thead>\n    <tr style=\"text-align: right;\">\n      <th></th>\n      <th>DOA</th>\n      <th>Age</th>\n      <th>Convicted</th>\n      <th>YOA</th>\n    </tr>\n  </thead>\n  <tbody>\n    <tr>\n      <th>0</th>\n      <td>2014-07-16 14:59:18</td>\n      <td>77</td>\n      <td>Yes</td>\n      <td>2014</td>\n    </tr>\n    <tr>\n      <th>1</th>\n      <td>2002-12-19 22:17:59</td>\n      <td>28</td>\n      <td>Yes</td>\n      <td>2002</td>\n    </tr>\n    <tr>\n      <th>2</th>\n      <td>1994-06-28 09:31:40</td>\n      <td>21</td>\n      <td>No</td>\n      <td>1994</td>\n    </tr>\n    <tr>\n      <th>3</th>\n      <td>1985-05-14 09:52:17</td>\n      <td>45</td>\n      <td>Yes</td>\n      <td>1985</td>\n    </tr>\n    <tr>\n      <th>4</th>\n      <td>1985-05-25 14:06:28</td>\n      <td>39</td>\n      <td>Yes</td>\n      <td>1985</td>\n    </tr>\n  </tbody>\n</table>\n</div>"
     },
     "metadata": {},
     "execution_count": 8
    }
   ],
   "source": [
    "df.head()"
   ]
  },
  {
   "source": [
    "### Methode 2"
   ],
   "cell_type": "markdown",
   "metadata": {}
  },
  {
   "cell_type": "code",
   "execution_count": 9,
   "metadata": {},
   "outputs": [],
   "source": [
    "df[\"DOA\"] = pds.to_datetime(df[\"DOA\"])"
   ]
  },
  {
   "cell_type": "code",
   "execution_count": 10,
   "metadata": {},
   "outputs": [
    {
     "output_type": "execute_result",
     "data": {
      "text/plain": "DOA          datetime64[ns]\nAge                   int64\nConvicted            object\nYOA                  object\ndtype: object"
     },
     "metadata": {},
     "execution_count": 10
    }
   ],
   "source": [
    "df.dtypes"
   ]
  },
  {
   "cell_type": "code",
   "execution_count": 11,
   "metadata": {
    "tags": []
   },
   "outputs": [
    {
     "output_type": "stream",
     "name": "stdout",
     "text": "Years : \n\n0      2014\n1      2002\n2      1994\n3      1985\n4      1985\n       ... \n995    1992\n996    1996\n997    1980\n998    1999\n999    1996\nName: DOA, Length: 1000, dtype: int64\nDays : \n\n0      16\n1      19\n2      28\n3      14\n4      25\n       ..\n995     4\n996    29\n997    15\n998     5\n999    17\nName: DOA, Length: 1000, dtype: int64\nDay of week : \n\n0      2\n1      3\n2      1\n3      1\n4      5\n      ..\n995    1\n996    0\n997    1\n998    0\n999    6\nName: DOA, Length: 1000, dtype: int64\n"
    }
   ],
   "source": [
    "print(\"Years : \\n\")\n",
    "print(df[\"DOA\"].dt.year)\n",
    "print(\"Days : \\n\")\n",
    "print(df[\"DOA\"].dt.day)\n",
    "print(\"Day of week : \\n\")\n",
    "print(df[\"DOA\"].dt.dayofweek)"
   ]
  },
  {
   "cell_type": "code",
   "execution_count": 52,
   "metadata": {},
   "outputs": [
    {
     "output_type": "execute_result",
     "data": {
      "text/plain": "['tenties',\n 'twenties',\n 'zeroties',\n 'sixties',\n 'seventies',\n 'eighties',\n 'nineties']"
     },
     "metadata": {},
     "execution_count": 52
    }
   ],
   "source": [
    "prefix = [\"ten\",\"twen\",\"zero\",\"six\", \"seven\",\"eigh\",\"nine\"]\n",
    "\n",
    "labels = [p + \"ties\" for p in prefix]\n",
    "\n",
    "labels"
   ]
  },
  {
   "cell_type": "code",
   "execution_count": null,
   "metadata": {},
   "outputs": [],
   "source": [
    "from datetime import datetime\n",
    "\n",
    "obj_dt = datetime(year= 1, month= 1, day= 1)"
   ]
  },
  {
   "cell_type": "code",
   "execution_count": 53,
   "metadata": {},
   "outputs": [
    {
     "output_type": "execute_result",
     "data": {
      "text/plain": "0       eighties\n1      seventies\n2        sixties\n3       zeroties\n4       zeroties\n         ...    \n995      sixties\n996      sixties\n997     zeroties\n998      sixties\n999      sixties\nName: DOA, Length: 1000, dtype: category\nCategories (7, object): ['tenties' < 'twenties' < 'zeroties' < 'sixties' < 'seventies' < 'eighties' < 'nineties']"
     },
     "metadata": {},
     "execution_count": 53
    }
   ],
   "source": [
    "pds.cut(df.DOA.dt.year, bins= list(range(1959,2029+1,10)), labels=labels)"
   ]
  },
  {
   "cell_type": "code",
   "execution_count": 1,
   "metadata": {},
   "outputs": [],
   "source": [
    "import pandas as pds\n",
    "\n",
    "fp = \"http://bit.ly/felonies-dataset\"\n",
    "df = pds.read_csv(fp)"
   ]
  },
  {
   "cell_type": "code",
   "execution_count": 7,
   "metadata": {},
   "outputs": [
    {
     "output_type": "execute_result",
     "data": {
      "text/plain": "   Age Convicted                 DoA\n0   77       Yes 2014-07-16 14:59:18\n1   28       Yes 2002-12-19 22:17:59\n2   21        No 1994-06-28 09:31:40\n3   45       Yes 1985-05-14 09:52:17\n4   39       Yes 1985-05-25 14:06:28",
      "text/html": "<div>\n<style scoped>\n    .dataframe tbody tr th:only-of-type {\n        vertical-align: middle;\n    }\n\n    .dataframe tbody tr th {\n        vertical-align: top;\n    }\n\n    .dataframe thead th {\n        text-align: right;\n    }\n</style>\n<table border=\"1\" class=\"dataframe\">\n  <thead>\n    <tr style=\"text-align: right;\">\n      <th></th>\n      <th>Age</th>\n      <th>Convicted</th>\n      <th>DoA</th>\n    </tr>\n  </thead>\n  <tbody>\n    <tr>\n      <th>0</th>\n      <td>77</td>\n      <td>Yes</td>\n      <td>2014-07-16 14:59:18</td>\n    </tr>\n    <tr>\n      <th>1</th>\n      <td>28</td>\n      <td>Yes</td>\n      <td>2002-12-19 22:17:59</td>\n    </tr>\n    <tr>\n      <th>2</th>\n      <td>21</td>\n      <td>No</td>\n      <td>1994-06-28 09:31:40</td>\n    </tr>\n    <tr>\n      <th>3</th>\n      <td>45</td>\n      <td>Yes</td>\n      <td>1985-05-14 09:52:17</td>\n    </tr>\n    <tr>\n      <th>4</th>\n      <td>39</td>\n      <td>Yes</td>\n      <td>1985-05-25 14:06:28</td>\n    </tr>\n  </tbody>\n</table>\n</div>"
     },
     "metadata": {},
     "execution_count": 7
    }
   ],
   "source": [
    "df.head()"
   ]
  },
  {
   "source": [
    "### Méthode map() de Pandas"
   ],
   "cell_type": "markdown",
   "metadata": {}
  },
  {
   "cell_type": "code",
   "execution_count": 3,
   "metadata": {},
   "outputs": [],
   "source": [
    "df[\"DoA\"] = pds.to_datetime(df[\"Date of Arrest\"])"
   ]
  },
  {
   "cell_type": "code",
   "execution_count": 6,
   "metadata": {},
   "outputs": [
    {
     "output_type": "execute_result",
     "data": {
      "text/plain": "Age                   int64\nConvicted            object\nDoA          datetime64[ns]\ndtype: object"
     },
     "metadata": {},
     "execution_count": 6
    }
   ],
   "source": [
    "df.dtypes"
   ]
  },
  {
   "cell_type": "code",
   "execution_count": 5,
   "metadata": {},
   "outputs": [],
   "source": [
    "df.drop(\"Date of Arrest\", axis=\"columns\", inplace=True)"
   ]
  },
  {
   "cell_type": "code",
   "execution_count": 8,
   "metadata": {},
   "outputs": [
    {
     "output_type": "execute_result",
     "data": {
      "text/plain": "0      2\n1      3\n2      1\n3      1\n4      5\n      ..\n995    1\n996    0\n997    1\n998    0\n999    6\nName: DoA, Length: 1000, dtype: int64"
     },
     "metadata": {},
     "execution_count": 8
    }
   ],
   "source": [
    "df.DoA.dt.dayofweek"
   ]
  },
  {
   "cell_type": "code",
   "execution_count": 9,
   "metadata": {},
   "outputs": [],
   "source": [
    "dow2weektime = {\n",
    "                    0 : \"DEBUT\",1 : \"DEBUT\",\n",
    "                    2: \"MILIEU\",3: \"MILIEU\",4: \"MILIEU\",\n",
    "                    5:\"WEEKEND\",6: \"WEEKEND\"\n",
    "                }"
   ]
  },
  {
   "cell_type": "code",
   "execution_count": 10,
   "metadata": {},
   "outputs": [
    {
     "output_type": "execute_result",
     "data": {
      "text/plain": "0       MILIEU\n1       MILIEU\n2        DEBUT\n3        DEBUT\n4      WEEKEND\n        ...   \n995      DEBUT\n996      DEBUT\n997      DEBUT\n998      DEBUT\n999    WEEKEND\nName: DoA, Length: 1000, dtype: object"
     },
     "metadata": {},
     "execution_count": 10
    }
   ],
   "source": [
    "df.DoA.dt.dayofweek.map(dow2weektime)"
   ]
  },
  {
   "cell_type": "code",
   "execution_count": 12,
   "metadata": {},
   "outputs": [],
   "source": [
    "### une liste une dictionnaire\n",
    "id2str = [\"MONDAY\", \"TUESDAY\", \"WEDNESDAY\", \"THURSDAY\",\"FRIDAY\",\"SATURDAY\",\"SUNDAY\"]"
   ]
  },
  {
   "cell_type": "code",
   "execution_count": 32,
   "metadata": {},
   "outputs": [],
   "source": [
    "str2id = {val: idx for idx,val in enumerate(id2str)}\n",
    "id2str = {idx: val for idx,val in enumerate(id2str)}"
   ]
  },
  {
   "cell_type": "code",
   "execution_count": 35,
   "metadata": {
    "tags": []
   },
   "outputs": [
    {
     "output_type": "stream",
     "name": "stdout",
     "text": "MONDAY\n0\n"
    }
   ],
   "source": [
    "str2id\n",
    "print(id2str[0])\n",
    "print(str2id[id2str[0]])"
   ]
  },
  {
   "cell_type": "code",
   "execution_count": 36,
   "metadata": {},
   "outputs": [
    {
     "output_type": "execute_result",
     "data": {
      "text/plain": "0      WEDNESDAY\n1       THURSDAY\n2        TUESDAY\n3        TUESDAY\n4       SATURDAY\n         ...    \n995      TUESDAY\n996       MONDAY\n997      TUESDAY\n998       MONDAY\n999       SUNDAY\nName: DoA, Length: 1000, dtype: object"
     },
     "metadata": {},
     "execution_count": 36
    }
   ],
   "source": [
    "df[\"DoA\"].dt.dayofweek.map(id2str)"
   ]
  },
  {
   "cell_type": "code",
   "execution_count": 17,
   "metadata": {},
   "outputs": [],
   "source": [
    "jour = str2id"
   ]
  },
  {
   "cell_type": "code",
   "execution_count": 20,
   "metadata": {},
   "outputs": [
    {
     "output_type": "execute_result",
     "data": {
      "text/plain": "0"
     },
     "metadata": {},
     "execution_count": 20
    }
   ],
   "source": [
    "jour[\"MONDAY\"]"
   ]
  },
  {
   "source": [
    "### Sauvegarder un contenu"
   ],
   "cell_type": "markdown",
   "metadata": {}
  },
  {
   "source": [
    "import pickle"
   ],
   "cell_type": "code",
   "metadata": {},
   "execution_count": null,
   "outputs": []
  },
  {
   "cell_type": "code",
   "execution_count": 29,
   "metadata": {},
   "outputs": [],
   "source": [
    "chemin_disque = \"dictionnaire.pkl\"\n",
    "\n",
    "### en ecriture\n",
    "with open(chemin_disque, \"wb\") as f:\n",
    "    pickle.dump(str2id,f)\n",
    "\n",
    "### en lecture\n",
    "with open(chemin_disque, \"rb\") as f:\n",
    "    obj = pickle.load(f)\n",
    "\n"
   ]
  },
  {
   "cell_type": "code",
   "execution_count": 30,
   "metadata": {},
   "outputs": [
    {
     "output_type": "execute_result",
     "data": {
      "text/plain": "{'MONDAY': 0,\n 'TUESDAY': 1,\n 'WEDNESDAY': 2,\n 'THURSDAY': 3,\n 'FRIDAY': 4,\n 'SATURDAY': 5,\n 'SUNDAY': 6}"
     },
     "metadata": {},
     "execution_count": 30
    }
   ],
   "source": [
    "obj"
   ]
  },
  {
   "cell_type": "code",
   "execution_count": 31,
   "metadata": {},
   "outputs": [
    {
     "output_type": "execute_result",
     "data": {
      "text/plain": "0"
     },
     "metadata": {},
     "execution_count": 31
    }
   ],
   "source": [
    "obj[\"MONDAY\"]"
   ]
  },
  {
   "source": [
    "### Retour au cours"
   ],
   "cell_type": "markdown",
   "metadata": {}
  },
  {
   "cell_type": "code",
   "execution_count": 38,
   "metadata": {},
   "outputs": [],
   "source": [
    "periodeSemaine = {\n",
    "    \"FRIDAY\" : \"MILIEU\",\n",
    "    \"MONDAY\" : \"DEBUT\",\n",
    "    \"SATURDAY\" : \"WEEKEND\",\n",
    "    \"SUNDAY\" : \"WEEKEND\",\n",
    "    \"THURSDAY\" : \"MILIEU\",\n",
    "    \"TUESDAY\" : \"DEBUT\",\n",
    "    \"WEDNESDAY\" : \"MILIEU\"\n",
    "}"
   ]
  },
  {
   "cell_type": "code",
   "execution_count": 39,
   "metadata": {},
   "outputs": [
    {
     "output_type": "execute_result",
     "data": {
      "text/plain": "0       MILIEU\n1       MILIEU\n2        DEBUT\n3        DEBUT\n4      WEEKEND\n        ...   \n995      DEBUT\n996      DEBUT\n997      DEBUT\n998      DEBUT\n999    WEEKEND\nName: DoA, Length: 1000, dtype: object"
     },
     "metadata": {},
     "execution_count": 39
    }
   ],
   "source": [
    "df[\"DoA\"].dt.dayofweek.map(id2str).map(periodeSemaine)"
   ]
  },
  {
   "cell_type": "code",
   "execution_count": 40,
   "metadata": {},
   "outputs": [],
   "source": [
    "df[\"Période semaine\"] = df[\"DoA\"].dt.dayofweek.map(id2str).map(periodeSemaine)"
   ]
  },
  {
   "cell_type": "code",
   "execution_count": 41,
   "metadata": {},
   "outputs": [
    {
     "output_type": "execute_result",
     "data": {
      "text/plain": "     Age Convicted                 DoA Période semaine\n0     77       Yes 2014-07-16 14:59:18          MILIEU\n1     28       Yes 2002-12-19 22:17:59          MILIEU\n2     21        No 1994-06-28 09:31:40           DEBUT\n3     45       Yes 1985-05-14 09:52:17           DEBUT\n4     39       Yes 1985-05-25 14:06:28         WEEKEND\n..   ...       ...                 ...             ...\n995   72       Yes 1992-02-04 14:24:25           DEBUT\n996   68       Yes 1996-04-29 18:03:23           DEBUT\n997   87       Yes 1980-07-15 21:59:27           DEBUT\n998   27        No 1999-07-05 17:16:12           DEBUT\n999   57       Yes 1996-03-17 18:29:25         WEEKEND\n\n[1000 rows x 4 columns]",
      "text/html": "<div>\n<style scoped>\n    .dataframe tbody tr th:only-of-type {\n        vertical-align: middle;\n    }\n\n    .dataframe tbody tr th {\n        vertical-align: top;\n    }\n\n    .dataframe thead th {\n        text-align: right;\n    }\n</style>\n<table border=\"1\" class=\"dataframe\">\n  <thead>\n    <tr style=\"text-align: right;\">\n      <th></th>\n      <th>Age</th>\n      <th>Convicted</th>\n      <th>DoA</th>\n      <th>Période semaine</th>\n    </tr>\n  </thead>\n  <tbody>\n    <tr>\n      <th>0</th>\n      <td>77</td>\n      <td>Yes</td>\n      <td>2014-07-16 14:59:18</td>\n      <td>MILIEU</td>\n    </tr>\n    <tr>\n      <th>1</th>\n      <td>28</td>\n      <td>Yes</td>\n      <td>2002-12-19 22:17:59</td>\n      <td>MILIEU</td>\n    </tr>\n    <tr>\n      <th>2</th>\n      <td>21</td>\n      <td>No</td>\n      <td>1994-06-28 09:31:40</td>\n      <td>DEBUT</td>\n    </tr>\n    <tr>\n      <th>3</th>\n      <td>45</td>\n      <td>Yes</td>\n      <td>1985-05-14 09:52:17</td>\n      <td>DEBUT</td>\n    </tr>\n    <tr>\n      <th>4</th>\n      <td>39</td>\n      <td>Yes</td>\n      <td>1985-05-25 14:06:28</td>\n      <td>WEEKEND</td>\n    </tr>\n    <tr>\n      <th>...</th>\n      <td>...</td>\n      <td>...</td>\n      <td>...</td>\n      <td>...</td>\n    </tr>\n    <tr>\n      <th>995</th>\n      <td>72</td>\n      <td>Yes</td>\n      <td>1992-02-04 14:24:25</td>\n      <td>DEBUT</td>\n    </tr>\n    <tr>\n      <th>996</th>\n      <td>68</td>\n      <td>Yes</td>\n      <td>1996-04-29 18:03:23</td>\n      <td>DEBUT</td>\n    </tr>\n    <tr>\n      <th>997</th>\n      <td>87</td>\n      <td>Yes</td>\n      <td>1980-07-15 21:59:27</td>\n      <td>DEBUT</td>\n    </tr>\n    <tr>\n      <th>998</th>\n      <td>27</td>\n      <td>No</td>\n      <td>1999-07-05 17:16:12</td>\n      <td>DEBUT</td>\n    </tr>\n    <tr>\n      <th>999</th>\n      <td>57</td>\n      <td>Yes</td>\n      <td>1996-03-17 18:29:25</td>\n      <td>WEEKEND</td>\n    </tr>\n  </tbody>\n</table>\n<p>1000 rows × 4 columns</p>\n</div>"
     },
     "metadata": {},
     "execution_count": 41
    }
   ],
   "source": [
    "df"
   ]
  },
  {
   "cell_type": "code",
   "execution_count": 42,
   "metadata": {},
   "outputs": [
    {
     "output_type": "execute_result",
     "data": {
      "text/plain": "Age                         int64\nConvicted                  object\nDoA                datetime64[ns]\nPériode semaine            object\ndtype: object"
     },
     "metadata": {},
     "execution_count": 42
    }
   ],
   "source": [
    "df.dtypes"
   ]
  },
  {
   "source": [
    "### Convertir la colonne en type catégorie [ORDINAL]"
   ],
   "cell_type": "markdown",
   "metadata": {}
  },
  {
   "cell_type": "code",
   "execution_count": 47,
   "metadata": {},
   "outputs": [],
   "source": [
    "order = [\"DEBUT\", \"MILIEU\", \"WEEKEND\"]"
   ]
  },
  {
   "cell_type": "code",
   "execution_count": 52,
   "metadata": {},
   "outputs": [],
   "source": [
    "df[\"Période semaine\"] = (df[\"Période semaine\"].astype(\"category\").\n",
    "cat.reorder_categories(order).\n",
    "cat.as_ordered())"
   ]
  },
  {
   "source": [
    "### Convertir colonne \"category\" en \"int\" [ORDINAL]"
   ],
   "cell_type": "markdown",
   "metadata": {}
  },
  {
   "cell_type": "code",
   "execution_count": 53,
   "metadata": {},
   "outputs": [],
   "source": [
    "df[\"Période semaine\"] = df[\"Période semaine\"].cat.codes"
   ]
  },
  {
   "cell_type": "code",
   "execution_count": 54,
   "metadata": {},
   "outputs": [
    {
     "output_type": "execute_result",
     "data": {
      "text/plain": "     Age Convicted                 DoA  Période semaine\n0     77       Yes 2014-07-16 14:59:18                1\n1     28       Yes 2002-12-19 22:17:59                1\n2     21        No 1994-06-28 09:31:40                0\n3     45       Yes 1985-05-14 09:52:17                0\n4     39       Yes 1985-05-25 14:06:28                2\n..   ...       ...                 ...              ...\n995   72       Yes 1992-02-04 14:24:25                0\n996   68       Yes 1996-04-29 18:03:23                0\n997   87       Yes 1980-07-15 21:59:27                0\n998   27        No 1999-07-05 17:16:12                0\n999   57       Yes 1996-03-17 18:29:25                2\n\n[1000 rows x 4 columns]",
      "text/html": "<div>\n<style scoped>\n    .dataframe tbody tr th:only-of-type {\n        vertical-align: middle;\n    }\n\n    .dataframe tbody tr th {\n        vertical-align: top;\n    }\n\n    .dataframe thead th {\n        text-align: right;\n    }\n</style>\n<table border=\"1\" class=\"dataframe\">\n  <thead>\n    <tr style=\"text-align: right;\">\n      <th></th>\n      <th>Age</th>\n      <th>Convicted</th>\n      <th>DoA</th>\n      <th>Période semaine</th>\n    </tr>\n  </thead>\n  <tbody>\n    <tr>\n      <th>0</th>\n      <td>77</td>\n      <td>Yes</td>\n      <td>2014-07-16 14:59:18</td>\n      <td>1</td>\n    </tr>\n    <tr>\n      <th>1</th>\n      <td>28</td>\n      <td>Yes</td>\n      <td>2002-12-19 22:17:59</td>\n      <td>1</td>\n    </tr>\n    <tr>\n      <th>2</th>\n      <td>21</td>\n      <td>No</td>\n      <td>1994-06-28 09:31:40</td>\n      <td>0</td>\n    </tr>\n    <tr>\n      <th>3</th>\n      <td>45</td>\n      <td>Yes</td>\n      <td>1985-05-14 09:52:17</td>\n      <td>0</td>\n    </tr>\n    <tr>\n      <th>4</th>\n      <td>39</td>\n      <td>Yes</td>\n      <td>1985-05-25 14:06:28</td>\n      <td>2</td>\n    </tr>\n    <tr>\n      <th>...</th>\n      <td>...</td>\n      <td>...</td>\n      <td>...</td>\n      <td>...</td>\n    </tr>\n    <tr>\n      <th>995</th>\n      <td>72</td>\n      <td>Yes</td>\n      <td>1992-02-04 14:24:25</td>\n      <td>0</td>\n    </tr>\n    <tr>\n      <th>996</th>\n      <td>68</td>\n      <td>Yes</td>\n      <td>1996-04-29 18:03:23</td>\n      <td>0</td>\n    </tr>\n    <tr>\n      <th>997</th>\n      <td>87</td>\n      <td>Yes</td>\n      <td>1980-07-15 21:59:27</td>\n      <td>0</td>\n    </tr>\n    <tr>\n      <th>998</th>\n      <td>27</td>\n      <td>No</td>\n      <td>1999-07-05 17:16:12</td>\n      <td>0</td>\n    </tr>\n    <tr>\n      <th>999</th>\n      <td>57</td>\n      <td>Yes</td>\n      <td>1996-03-17 18:29:25</td>\n      <td>2</td>\n    </tr>\n  </tbody>\n</table>\n<p>1000 rows × 4 columns</p>\n</div>"
     },
     "metadata": {},
     "execution_count": 54
    }
   ],
   "source": [
    "df"
   ]
  },
  {
   "source": [
    "### Gérer les cycles (Saisons)"
   ],
   "cell_type": "markdown",
   "metadata": {}
  },
  {
   "cell_type": "code",
   "execution_count": 55,
   "metadata": {},
   "outputs": [
    {
     "output_type": "execute_result",
     "data": {
      "text/plain": "DoA          object\nAge           int64\nConvicted    object\ndtype: object"
     },
     "metadata": {},
     "execution_count": 55
    }
   ],
   "source": [
    "import pandas as pds\n",
    "\n",
    "fp = \"http://bit.ly/felonies-dataset\"\n",
    "df = pds.read_csv(fp)\n",
    "\n",
    "df.rename(columns={\"Date of Arrest\" : \"DoA\"}, inplace=True)\n",
    "\n",
    "df.dtypes"
   ]
  },
  {
   "cell_type": "code",
   "execution_count": 56,
   "metadata": {},
   "outputs": [
    {
     "output_type": "execute_result",
     "data": {
      "text/plain": "0      2014-07-16 14:59:18\n1      2002-12-19 22:17:59\n2      1994-06-28 09:31:40\n3      1985-05-14 09:52:17\n4      1985-05-25 14:06:28\n              ...         \n995    1992-02-04 14:24:25\n996    1996-04-29 18:03:23\n997    1980-07-15 21:59:27\n998    1999-07-05 17:16:12\n999    1996-03-17 18:29:25\nName: DoA, Length: 1000, dtype: object"
     },
     "metadata": {},
     "execution_count": 56
    }
   ],
   "source": [
    "df.DoA"
   ]
  },
  {
   "cell_type": "code",
   "execution_count": 58,
   "metadata": {},
   "outputs": [],
   "source": [
    "df.DoA = pds.to_datetime(df.DoA)"
   ]
  },
  {
   "cell_type": "code",
   "execution_count": 59,
   "metadata": {},
   "outputs": [
    {
     "output_type": "execute_result",
     "data": {
      "text/plain": "0     2014-07-16 14:59:18\n1     2002-12-19 22:17:59\n2     1994-06-28 09:31:40\n3     1985-05-14 09:52:17\n4     1985-05-25 14:06:28\n              ...        \n995   1992-02-04 14:24:25\n996   1996-04-29 18:03:23\n997   1980-07-15 21:59:27\n998   1999-07-05 17:16:12\n999   1996-03-17 18:29:25\nName: DoA, Length: 1000, dtype: datetime64[ns]"
     },
     "metadata": {},
     "execution_count": 59
    }
   ],
   "source": [
    "df.DoA"
   ]
  },
  {
   "cell_type": "code",
   "execution_count": 61,
   "metadata": {},
   "outputs": [
    {
     "output_type": "execute_result",
     "data": {
      "text/plain": "0      16\n1      19\n2      28\n3      14\n4      25\n       ..\n995     4\n996    29\n997    15\n998     5\n999    17\nName: DoA, Length: 1000, dtype: int64"
     },
     "metadata": {},
     "execution_count": 61
    }
   ],
   "source": [
    "df.DoA.dt.day"
   ]
  },
  {
   "cell_type": "code",
   "execution_count": 64,
   "metadata": {},
   "outputs": [
    {
     "output_type": "execute_result",
     "data": {
      "text/plain": "1"
     },
     "metadata": {},
     "execution_count": 64
    }
   ],
   "source": [
    "df.DoA.dt.month.min()"
   ]
  },
  {
   "cell_type": "code",
   "execution_count": 65,
   "metadata": {},
   "outputs": [
    {
     "output_type": "execute_result",
     "data": {
      "text/plain": "12"
     },
     "metadata": {},
     "execution_count": 65
    }
   ],
   "source": [
    "df.DoA.dt.month.max()"
   ]
  },
  {
   "cell_type": "code",
   "execution_count": 66,
   "metadata": {},
   "outputs": [
    {
     "output_type": "execute_result",
     "data": {
      "text/plain": "0       716\n1      1219\n2       628\n3       514\n4       525\n       ... \n995     204\n996     429\n997     715\n998     705\n999     317\nName: DoA, Length: 1000, dtype: int64"
     },
     "metadata": {},
     "execution_count": 66
    }
   ],
   "source": [
    "colonne_temporaire = df.DoA.dt.month * 100 + df.DoA.dt.day\n",
    "colonne_temporaire"
   ]
  },
  {
   "cell_type": "code",
   "execution_count": 68,
   "metadata": {},
   "outputs": [],
   "source": [
    "AVANT_JANVIER = 0\n",
    "AVANT_PRINTEMPS = 320\n",
    "AVANT_ETE = 620\n",
    "AVANT_AUTOMNE = 920\n",
    "AVANT_HIVER = 1220\n",
    "FIN_ANNEE = 1232\n",
    "\n",
    "bins = [AVANT_JANVIER, \n",
    "        AVANT_PRINTEMPS, \n",
    "        AVANT_ETE, \n",
    "        AVANT_AUTOMNE, \n",
    "        AVANT_HIVER,\n",
    "        FIN_ANNEE]"
   ]
  },
  {
   "cell_type": "code",
   "execution_count": 72,
   "metadata": {},
   "outputs": [
    {
     "output_type": "execute_result",
     "data": {
      "text/plain": "0          ETE\n1      AUTOMNE\n2          ETE\n3    PRINTEMPS\n4    PRINTEMPS\nName: DoA, dtype: category\nCategories (5, object): ['HIVER' < 'PRINTEMPS' < 'ETE' < 'AUTOMNE' < 'HIVER2']"
     },
     "metadata": {},
     "execution_count": 72
    }
   ],
   "source": [
    "season = pds.cut(colonne_temporaire,\n",
    "        bins=bins,\n",
    "        labels=[\"HIVER\", \"PRINTEMPS\", \"ETE\", \"AUTOMNE\", \"HIVER2\"])\n",
    "\n",
    "season.head()"
   ]
  },
  {
   "cell_type": "code",
   "execution_count": 75,
   "metadata": {},
   "outputs": [],
   "source": [
    "season = season.str.replace(\"2\",\"\")"
   ]
  },
  {
   "cell_type": "code",
   "execution_count": 76,
   "metadata": {},
   "outputs": [
    {
     "output_type": "execute_result",
     "data": {
      "text/plain": "array(['ETE', 'AUTOMNE', 'PRINTEMPS', 'HIVER'], dtype=object)"
     },
     "metadata": {},
     "execution_count": 76
    }
   ],
   "source": [
    "season.unique()"
   ]
  },
  {
   "cell_type": "code",
   "execution_count": 77,
   "metadata": {},
   "outputs": [
    {
     "output_type": "execute_result",
     "data": {
      "text/plain": "0          ETE\n1      AUTOMNE\n2          ETE\n3    PRINTEMPS\n4    PRINTEMPS\nName: DoA, dtype: object"
     },
     "metadata": {},
     "execution_count": 77
    }
   ],
   "source": [
    "season.head()"
   ]
  },
  {
   "cell_type": "code",
   "execution_count": 78,
   "metadata": {},
   "outputs": [],
   "source": [
    "order = [\"HIVER\", \"PRINTEMPS\", \"ETE\", \"AUTOMNE\"]\n",
    "season = (season.astype(\"category\")\n",
    "          .cat.as_ordered()\n",
    "          .cat.reorder_categories([\"AUTOMNE\", \"HIVER\", \"PRINTEMPS\", \"ETE\"]))"
   ]
  },
  {
   "cell_type": "code",
   "execution_count": 79,
   "metadata": {},
   "outputs": [
    {
     "output_type": "execute_result",
     "data": {
      "text/plain": "0            ETE\n1        AUTOMNE\n2            ETE\n3      PRINTEMPS\n4      PRINTEMPS\n         ...    \n995        HIVER\n996    PRINTEMPS\n997          ETE\n998          ETE\n999        HIVER\nName: DoA, Length: 1000, dtype: category\nCategories (4, object): ['AUTOMNE' < 'HIVER' < 'PRINTEMPS' < 'ETE']"
     },
     "metadata": {},
     "execution_count": 79
    }
   ],
   "source": [
    "season"
   ]
  }
 ]
}