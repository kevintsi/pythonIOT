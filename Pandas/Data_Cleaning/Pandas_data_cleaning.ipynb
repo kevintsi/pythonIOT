{
 "metadata": {
  "language_info": {
   "codemirror_mode": {
    "name": "ipython",
    "version": 3
   },
   "file_extension": ".py",
   "mimetype": "text/x-python",
   "name": "python",
   "nbconvert_exporter": "python",
   "pygments_lexer": "ipython3",
   "version": "3.8.3-final"
  },
  "orig_nbformat": 2,
  "kernelspec": {
   "name": "python_defaultSpec_1600845719786",
   "display_name": "Python 3.8.3 64-bit"
  }
 },
 "nbformat": 4,
 "nbformat_minor": 2,
 "cells": [
  {
   "source": [
    "# Data Cleaning - 23/09/2020\n",
    "#### a = créer une nouvelle cellule au dessus\n",
    "#### b = créer une nouvelle cellule en dessous\n",
    "#### m = commentaire\n",
    "#### y = code\n",
    "#### dd = suppression cellule selectionnée\n",
    "#### shift + enter = passer à la cellule suivante \n",
    "#### inplace = True, effectue pour de bon et ne retourne rien (NoneType)\n",
    "#### <u>exemple : df.drop(\"Open\" axis=\"columns\" inplace=True)</u>\n",
    "#### inplace = False, n'effectue pas pour de bon et retourne la copie\n",
    "#### <u>exemple : df = df.drop(\"Open\" axis=\"columns\")</u>"
   ],
   "cell_type": "markdown",
   "metadata": {}
  },
  {
   "cell_type": "code",
   "execution_count": 9,
   "metadata": {},
   "outputs": [],
   "source": [
    "import pandas as pds"
   ]
  },
  {
   "cell_type": "code",
   "execution_count": 64,
   "metadata": {
    "tags": []
   },
   "outputs": [
    {
     "output_type": "stream",
     "name": "stdout",
     "text": "Head : \n               name               country          subcountry  geonameid\n0      les Escaldes               Andorra  Escaldes-Engordany    3040051\n1  Andorra la Vella               Andorra    Andorra la Vella    3041563\n2    Umm al Qaywayn  United Arab Emirates      Umm al Qaywayn     290594\n3    Ras al-Khaimah  United Arab Emirates     Raʼs al Khaymah     291074\n4      Khawr Fakkān  United Arab Emirates        Ash Shāriqah     291696 \n\nShape : \n(23018, 4) \n\nData type : \nname          object\ncountry       object\nsubcountry    object\ngeonameid      int64\ndtype: object \n\nTail :\n              name   country           subcountry  geonameid\n23013     Bulawayo  Zimbabwe             Bulawayo     894701\n23014      Bindura  Zimbabwe  Mashonaland Central     895061\n23015   Beitbridge  Zimbabwe   Matabeleland South     895269\n23016      Epworth  Zimbabwe               Harare    1085510\n23017  Chitungwiza  Zimbabwe               Harare    1106542 \n\nSum Na :\nname           0\ncountry        0\nsubcountry    26\ngeonameid      0\ndtype: int64\n"
    }
   ],
   "source": [
    "path = \"https://bit.ly/world-cities-clean\"\n",
    "dataset = pds.read_csv(path)\n",
    "print(\"Head : \")\n",
    "print(dataset.head(),\"\\n\")\n",
    "print(\"Shape : \")\n",
    "print(dataset.shape,\"\\n\")\n",
    "print(\"Data type : \")\n",
    "print(dataset.dtypes,\"\\n\")\n",
    "print(\"Tail :\")\n",
    "print(dataset.tail(),\"\\n\")\n",
    "print(\"Sum Na :\")\n",
    "print(dataset.isna().sum())"
   ]
  },
  {
   "source": [
    "\n",
    "### Exercice 1 "
   ],
   "cell_type": "markdown",
   "metadata": {}
  },
  {
   "cell_type": "code",
   "execution_count": 10,
   "metadata": {},
   "outputs": [
    {
     "output_type": "error",
     "ename": "FileNotFoundError",
     "evalue": "[Errno 2] No such file or directory: 'chemin/qui/nexistepas'",
     "traceback": [
      "\u001b[1;31m---------------------------------------------------------------------------\u001b[0m",
      "\u001b[1;31mFileNotFoundError\u001b[0m                         Traceback (most recent call last)",
      "\u001b[1;32m<ipython-input-10-2b5235ae72d9>\u001b[0m in \u001b[0;36m<module>\u001b[1;34m\u001b[0m\n\u001b[0;32m      1\u001b[0m \u001b[0mchemin\u001b[0m \u001b[1;33m=\u001b[0m \u001b[1;34m\"chemin/qui/nexistepas\"\u001b[0m\u001b[1;33m\u001b[0m\u001b[1;33m\u001b[0m\u001b[0m\n\u001b[1;32m----> 2\u001b[1;33m \u001b[0mdata\u001b[0m \u001b[1;33m=\u001b[0m \u001b[0mpds\u001b[0m\u001b[1;33m.\u001b[0m\u001b[0mread_csv\u001b[0m\u001b[1;33m(\u001b[0m\u001b[0mchemin\u001b[0m\u001b[1;33m)\u001b[0m\u001b[1;33m\u001b[0m\u001b[1;33m\u001b[0m\u001b[0m\n\u001b[0m",
      "\u001b[1;32m~\\AppData\\Local\\Programs\\Python\\Python38\\lib\\site-packages\\pandas\\io\\parsers.py\u001b[0m in \u001b[0;36mread_csv\u001b[1;34m(filepath_or_buffer, sep, delimiter, header, names, index_col, usecols, squeeze, prefix, mangle_dupe_cols, dtype, engine, converters, true_values, false_values, skipinitialspace, skiprows, skipfooter, nrows, na_values, keep_default_na, na_filter, verbose, skip_blank_lines, parse_dates, infer_datetime_format, keep_date_col, date_parser, dayfirst, cache_dates, iterator, chunksize, compression, thousands, decimal, lineterminator, quotechar, quoting, doublequote, escapechar, comment, encoding, dialect, error_bad_lines, warn_bad_lines, delim_whitespace, low_memory, memory_map, float_precision)\u001b[0m\n\u001b[0;32m    684\u001b[0m     )\n\u001b[0;32m    685\u001b[0m \u001b[1;33m\u001b[0m\u001b[0m\n\u001b[1;32m--> 686\u001b[1;33m     \u001b[1;32mreturn\u001b[0m \u001b[0m_read\u001b[0m\u001b[1;33m(\u001b[0m\u001b[0mfilepath_or_buffer\u001b[0m\u001b[1;33m,\u001b[0m \u001b[0mkwds\u001b[0m\u001b[1;33m)\u001b[0m\u001b[1;33m\u001b[0m\u001b[1;33m\u001b[0m\u001b[0m\n\u001b[0m\u001b[0;32m    687\u001b[0m \u001b[1;33m\u001b[0m\u001b[0m\n\u001b[0;32m    688\u001b[0m \u001b[1;33m\u001b[0m\u001b[0m\n",
      "\u001b[1;32m~\\AppData\\Local\\Programs\\Python\\Python38\\lib\\site-packages\\pandas\\io\\parsers.py\u001b[0m in \u001b[0;36m_read\u001b[1;34m(filepath_or_buffer, kwds)\u001b[0m\n\u001b[0;32m    450\u001b[0m \u001b[1;33m\u001b[0m\u001b[0m\n\u001b[0;32m    451\u001b[0m     \u001b[1;31m# Create the parser.\u001b[0m\u001b[1;33m\u001b[0m\u001b[1;33m\u001b[0m\u001b[1;33m\u001b[0m\u001b[0m\n\u001b[1;32m--> 452\u001b[1;33m     \u001b[0mparser\u001b[0m \u001b[1;33m=\u001b[0m \u001b[0mTextFileReader\u001b[0m\u001b[1;33m(\u001b[0m\u001b[0mfp_or_buf\u001b[0m\u001b[1;33m,\u001b[0m \u001b[1;33m**\u001b[0m\u001b[0mkwds\u001b[0m\u001b[1;33m)\u001b[0m\u001b[1;33m\u001b[0m\u001b[1;33m\u001b[0m\u001b[0m\n\u001b[0m\u001b[0;32m    453\u001b[0m \u001b[1;33m\u001b[0m\u001b[0m\n\u001b[0;32m    454\u001b[0m     \u001b[1;32mif\u001b[0m \u001b[0mchunksize\u001b[0m \u001b[1;32mor\u001b[0m \u001b[0miterator\u001b[0m\u001b[1;33m:\u001b[0m\u001b[1;33m\u001b[0m\u001b[1;33m\u001b[0m\u001b[0m\n",
      "\u001b[1;32m~\\AppData\\Local\\Programs\\Python\\Python38\\lib\\site-packages\\pandas\\io\\parsers.py\u001b[0m in \u001b[0;36m__init__\u001b[1;34m(self, f, engine, **kwds)\u001b[0m\n\u001b[0;32m    934\u001b[0m             \u001b[0mself\u001b[0m\u001b[1;33m.\u001b[0m\u001b[0moptions\u001b[0m\u001b[1;33m[\u001b[0m\u001b[1;34m\"has_index_names\"\u001b[0m\u001b[1;33m]\u001b[0m \u001b[1;33m=\u001b[0m \u001b[0mkwds\u001b[0m\u001b[1;33m[\u001b[0m\u001b[1;34m\"has_index_names\"\u001b[0m\u001b[1;33m]\u001b[0m\u001b[1;33m\u001b[0m\u001b[1;33m\u001b[0m\u001b[0m\n\u001b[0;32m    935\u001b[0m \u001b[1;33m\u001b[0m\u001b[0m\n\u001b[1;32m--> 936\u001b[1;33m         \u001b[0mself\u001b[0m\u001b[1;33m.\u001b[0m\u001b[0m_make_engine\u001b[0m\u001b[1;33m(\u001b[0m\u001b[0mself\u001b[0m\u001b[1;33m.\u001b[0m\u001b[0mengine\u001b[0m\u001b[1;33m)\u001b[0m\u001b[1;33m\u001b[0m\u001b[1;33m\u001b[0m\u001b[0m\n\u001b[0m\u001b[0;32m    937\u001b[0m \u001b[1;33m\u001b[0m\u001b[0m\n\u001b[0;32m    938\u001b[0m     \u001b[1;32mdef\u001b[0m \u001b[0mclose\u001b[0m\u001b[1;33m(\u001b[0m\u001b[0mself\u001b[0m\u001b[1;33m)\u001b[0m\u001b[1;33m:\u001b[0m\u001b[1;33m\u001b[0m\u001b[1;33m\u001b[0m\u001b[0m\n",
      "\u001b[1;32m~\\AppData\\Local\\Programs\\Python\\Python38\\lib\\site-packages\\pandas\\io\\parsers.py\u001b[0m in \u001b[0;36m_make_engine\u001b[1;34m(self, engine)\u001b[0m\n\u001b[0;32m   1166\u001b[0m     \u001b[1;32mdef\u001b[0m \u001b[0m_make_engine\u001b[0m\u001b[1;33m(\u001b[0m\u001b[0mself\u001b[0m\u001b[1;33m,\u001b[0m \u001b[0mengine\u001b[0m\u001b[1;33m=\u001b[0m\u001b[1;34m\"c\"\u001b[0m\u001b[1;33m)\u001b[0m\u001b[1;33m:\u001b[0m\u001b[1;33m\u001b[0m\u001b[1;33m\u001b[0m\u001b[0m\n\u001b[0;32m   1167\u001b[0m         \u001b[1;32mif\u001b[0m \u001b[0mengine\u001b[0m \u001b[1;33m==\u001b[0m \u001b[1;34m\"c\"\u001b[0m\u001b[1;33m:\u001b[0m\u001b[1;33m\u001b[0m\u001b[1;33m\u001b[0m\u001b[0m\n\u001b[1;32m-> 1168\u001b[1;33m             \u001b[0mself\u001b[0m\u001b[1;33m.\u001b[0m\u001b[0m_engine\u001b[0m \u001b[1;33m=\u001b[0m \u001b[0mCParserWrapper\u001b[0m\u001b[1;33m(\u001b[0m\u001b[0mself\u001b[0m\u001b[1;33m.\u001b[0m\u001b[0mf\u001b[0m\u001b[1;33m,\u001b[0m \u001b[1;33m**\u001b[0m\u001b[0mself\u001b[0m\u001b[1;33m.\u001b[0m\u001b[0moptions\u001b[0m\u001b[1;33m)\u001b[0m\u001b[1;33m\u001b[0m\u001b[1;33m\u001b[0m\u001b[0m\n\u001b[0m\u001b[0;32m   1169\u001b[0m         \u001b[1;32melse\u001b[0m\u001b[1;33m:\u001b[0m\u001b[1;33m\u001b[0m\u001b[1;33m\u001b[0m\u001b[0m\n\u001b[0;32m   1170\u001b[0m             \u001b[1;32mif\u001b[0m \u001b[0mengine\u001b[0m \u001b[1;33m==\u001b[0m \u001b[1;34m\"python\"\u001b[0m\u001b[1;33m:\u001b[0m\u001b[1;33m\u001b[0m\u001b[1;33m\u001b[0m\u001b[0m\n",
      "\u001b[1;32m~\\AppData\\Local\\Programs\\Python\\Python38\\lib\\site-packages\\pandas\\io\\parsers.py\u001b[0m in \u001b[0;36m__init__\u001b[1;34m(self, src, **kwds)\u001b[0m\n\u001b[0;32m   1996\u001b[0m         \u001b[0mkwds\u001b[0m\u001b[1;33m[\u001b[0m\u001b[1;34m\"usecols\"\u001b[0m\u001b[1;33m]\u001b[0m \u001b[1;33m=\u001b[0m \u001b[0mself\u001b[0m\u001b[1;33m.\u001b[0m\u001b[0musecols\u001b[0m\u001b[1;33m\u001b[0m\u001b[1;33m\u001b[0m\u001b[0m\n\u001b[0;32m   1997\u001b[0m \u001b[1;33m\u001b[0m\u001b[0m\n\u001b[1;32m-> 1998\u001b[1;33m         \u001b[0mself\u001b[0m\u001b[1;33m.\u001b[0m\u001b[0m_reader\u001b[0m \u001b[1;33m=\u001b[0m \u001b[0mparsers\u001b[0m\u001b[1;33m.\u001b[0m\u001b[0mTextReader\u001b[0m\u001b[1;33m(\u001b[0m\u001b[0msrc\u001b[0m\u001b[1;33m,\u001b[0m \u001b[1;33m**\u001b[0m\u001b[0mkwds\u001b[0m\u001b[1;33m)\u001b[0m\u001b[1;33m\u001b[0m\u001b[1;33m\u001b[0m\u001b[0m\n\u001b[0m\u001b[0;32m   1999\u001b[0m         \u001b[0mself\u001b[0m\u001b[1;33m.\u001b[0m\u001b[0munnamed_cols\u001b[0m \u001b[1;33m=\u001b[0m \u001b[0mself\u001b[0m\u001b[1;33m.\u001b[0m\u001b[0m_reader\u001b[0m\u001b[1;33m.\u001b[0m\u001b[0munnamed_cols\u001b[0m\u001b[1;33m\u001b[0m\u001b[1;33m\u001b[0m\u001b[0m\n\u001b[0;32m   2000\u001b[0m \u001b[1;33m\u001b[0m\u001b[0m\n",
      "\u001b[1;32mpandas\\_libs\\parsers.pyx\u001b[0m in \u001b[0;36mpandas._libs.parsers.TextReader.__cinit__\u001b[1;34m()\u001b[0m\n",
      "\u001b[1;32mpandas\\_libs\\parsers.pyx\u001b[0m in \u001b[0;36mpandas._libs.parsers.TextReader._setup_parser_source\u001b[1;34m()\u001b[0m\n",
      "\u001b[1;31mFileNotFoundError\u001b[0m: [Errno 2] No such file or directory: 'chemin/qui/nexistepas'"
     ]
    }
   ],
   "source": [
    "chemin = \"chemin/qui/nexistepas\"\n",
    "data = pds.read_csv(chemin)"
   ]
  },
  {
   "source": [
    "Un tel fichier ou dossier n'existe pas : \"chemin/qui/nexistepas\"\n",
    "\n",
    "Cela signifie que le chemin vers le fichier est incorrect ou n'existe pas"
   ],
   "cell_type": "markdown",
   "metadata": {}
  },
  {
   "source": [
    "### Exercice 2"
   ],
   "cell_type": "markdown",
   "metadata": {}
  },
  {
   "cell_type": "code",
   "execution_count": 65,
   "metadata": {
    "tags": []
   },
   "outputs": [
    {
     "output_type": "stream",
     "name": "stdout",
     "text": "Head : \n               name               country          subcountry  geonameid\n0      les Escaldes               Andorra  Escaldes-Engordany    3040051\n1  Andorra la Vella               Andorra    Andorra la Vella    3041563\n2    Umm al Qaywayn  United Arab Emirates      Umm al Qaywayn     290594\n3    Ras al-Khaimah  United Arab Emirates     Raʼs al Khaymah     291074\n4      Khawr Fakkān  United Arab Emirates        Ash Shāriqah     291696 \n\nShape : \n(23018, 4) \n\nData type : \nname          object\ncountry       object\nsubcountry    object\ngeonameid      int64\ndtype: object \n\nTail :\n              name   country           subcountry  geonameid\n23013     Bulawayo  Zimbabwe             Bulawayo     894701\n23014      Bindura  Zimbabwe  Mashonaland Central     895061\n23015   Beitbridge  Zimbabwe   Matabeleland South     895269\n23016      Epworth  Zimbabwe               Harare    1085510\n23017  Chitungwiza  Zimbabwe               Harare    1106542 \n\nSum Na :\nname           0\ncountry        0\nsubcountry    26\ngeonameid      0\ndtype: int64\n"
    }
   ],
   "source": [
    "chemin = \"https://bit.ly/world-cities-dirty-v1\"\n",
    "data = pds.read_csv(chemin)\n",
    "data.head()"
   ]
  },
  {
   "source": [
    "#### Correction"
   ],
   "cell_type": "markdown",
   "metadata": {}
  },
  {
   "cell_type": "code",
   "execution_count": 66,
   "metadata": {
    "tags": []
   },
   "outputs": [
    {
     "output_type": "stream",
     "name": "stdout",
     "text": "Head : \n               name               country          subcountry  geonameid\n0      les Escaldes               Andorra  Escaldes-Engordany    3040051\n1  Andorra la Vella               Andorra    Andorra la Vella    3041563\n2    Umm al Qaywayn  United Arab Emirates      Umm al Qaywayn     290594\n3    Ras al-Khaimah  United Arab Emirates     Raʼs al Khaymah     291074\n4      Khawr Fakkān  United Arab Emirates        Ash Shāriqah     291696 \n\nShape : \n(23018, 4) \n\nData type : \nname          object\ncountry       object\nsubcountry    object\ngeonameid      int64\ndtype: object \n\nTail :\n              name   country           subcountry  geonameid\n23013     Bulawayo  Zimbabwe             Bulawayo     894701\n23014      Bindura  Zimbabwe  Mashonaland Central     895061\n23015   Beitbridge  Zimbabwe   Matabeleland South     895269\n23016      Epworth  Zimbabwe               Harare    1085510\n23017  Chitungwiza  Zimbabwe               Harare    1106542 \n\nSum Na :\nname           0\ncountry        0\nsubcountry    26\ngeonameid      0\ndtype: int64\n"
    }
   ],
   "source": [
    "chemin = \"https://bit.ly/world-cities-dirty-v1\"\n",
    "data = pds.read_csv(chemin, names=[\"name\",\"country\",\"subcountry\",\"geonameid\"])\n",
    "data.head()\n",
    "print(\"Head : \")\n",
    "print(dataset.head(),\"\\n\")\n",
    "print(\"Shape : \")\n",
    "print(dataset.shape,\"\\n\")\n",
    "print(\"Data type : \")\n",
    "print(dataset.dtypes,\"\\n\")\n",
    "print(\"Tail :\")\n",
    "print(dataset.tail(),\"\\n\")\n",
    "print(\"Sum Na :\")\n",
    "print(dataset.isna().sum())"
   ]
  },
  {
   "source": [
    "### Exercice 3"
   ],
   "cell_type": "markdown",
   "metadata": {}
  },
  {
   "cell_type": "code",
   "execution_count": 23,
   "metadata": {},
   "outputs": [
    {
     "output_type": "execute_result",
     "data": {
      "text/plain": "                                                                                                                                                                                                                                  Lorem ipsum dolor sit amet  \\\nSed ut perspiciatis unde omnis iste natus error...  totam rem aperiam    eaque ipsa quae ab illo inventore veritatis et...  sed quia consequuntur magni dolores eos qui ra...  qui dolorem ipsum quia dolor sit amet  consectetur             adipisci velit   \nname                                               country              subcountry                                         geonameid                                          NaN                                    NaN                                 NaN   \nles Escaldes                                       Andorra              Escaldes-Engordany                                 3040051                                            NaN                                    NaN                                 NaN   \nAndorra la Vella                                   Andorra              Andorra la Vella                                   3041563                                            NaN                                    NaN                                 NaN   \nUmm al Qaywayn                                     United Arab Emirates Umm al Qaywayn                                     290594                                             NaN                                    NaN                                 NaN   \n\n                                                                                                                                                                                                                                                         consectetur adipiscing elit  \\\nSed ut perspiciatis unde omnis iste natus error...  totam rem aperiam    eaque ipsa quae ab illo inventore veritatis et...  sed quia consequuntur magni dolores eos qui ra...  qui dolorem ipsum quia dolor sit amet  consectetur   sed quia non numquam eius modi tempora incidu...   \nname                                               country              subcountry                                         geonameid                                          NaN                                    NaN                                                         NaN   \nles Escaldes                                       Andorra              Escaldes-Engordany                                 3040051                                            NaN                                    NaN                                                         NaN   \nAndorra la Vella                                   Andorra              Andorra la Vella                                   3041563                                            NaN                                    NaN                                                         NaN   \nUmm al Qaywayn                                     United Arab Emirates Umm al Qaywayn                                     290594                                             NaN                                    NaN                                                         NaN   \n\n                                                                                                                                                                                                                                   sed do eiusmod tempor incididunt ut labore et dolore magna aliqua. Ut enim ad minim veniam  \\\nSed ut perspiciatis unde omnis iste natus error...  totam rem aperiam    eaque ipsa quae ab illo inventore veritatis et...  sed quia consequuntur magni dolores eos qui ra...  qui dolorem ipsum quia dolor sit amet  consectetur   quis nostrum exercitationem ullam corporis su...                                            \nname                                               country              subcountry                                         geonameid                                          NaN                                    NaN                                                         NaN                                            \nles Escaldes                                       Andorra              Escaldes-Engordany                                 3040051                                            NaN                                    NaN                                                         NaN                                            \nAndorra la Vella                                   Andorra              Andorra la Vella                                   3041563                                            NaN                                    NaN                                                         NaN                                            \nUmm al Qaywayn                                     United Arab Emirates Umm al Qaywayn                                     290594                                             NaN                                    NaN                                                         NaN                                            \n\n                                                                                                                                                                                                                                   quis nostrud exercitation ullamco laboris nisi ut aliquip ex ea commodo consequat. Duis aute irure dolor in reprehenderit in voluptate velit esse cillum dolore eu fugiat nulla pariatur. Excepteur sint occaecat cupidatat non proident  \\\nSed ut perspiciatis unde omnis iste natus error...  totam rem aperiam    eaque ipsa quae ab illo inventore veritatis et...  sed quia consequuntur magni dolores eos qui ra...  qui dolorem ipsum quia dolor sit amet  consectetur   nisi ut aliquid ex ea commodi consequatur? Qu...                                                                                                                                                                                          \nname                                               country              subcountry                                         geonameid                                          NaN                                    NaN                                                         NaN                                                                                                                                                                                          \nles Escaldes                                       Andorra              Escaldes-Engordany                                 3040051                                            NaN                                    NaN                                                         NaN                                                                                                                                                                                          \nAndorra la Vella                                   Andorra              Andorra la Vella                                   3041563                                            NaN                                    NaN                                                         NaN                                                                                                                                                                                          \nUmm al Qaywayn                                     United Arab Emirates Umm al Qaywayn                                     290594                                             NaN                                    NaN                                                         NaN                                                                                                                                                                                          \n\n                                                                                                                                                                                                                                   sunt in culpa qui officia deserunt mollit anim id est laborum.  \nSed ut perspiciatis unde omnis iste natus error...  totam rem aperiam    eaque ipsa quae ab illo inventore veritatis et...  sed quia consequuntur magni dolores eos qui ra...  qui dolorem ipsum quia dolor sit amet  consectetur   vel illum qui dolorem eum fugiat quo voluptas...               \nname                                               country              subcountry                                         geonameid                                          NaN                                    NaN                                                         NaN               \nles Escaldes                                       Andorra              Escaldes-Engordany                                 3040051                                            NaN                                    NaN                                                         NaN               \nAndorra la Vella                                   Andorra              Andorra la Vella                                   3041563                                            NaN                                    NaN                                                         NaN               \nUmm al Qaywayn                                     United Arab Emirates Umm al Qaywayn                                     290594                                             NaN                                    NaN                                                         NaN               ",
      "text/html": "<div>\n<style scoped>\n    .dataframe tbody tr th:only-of-type {\n        vertical-align: middle;\n    }\n\n    .dataframe tbody tr th {\n        vertical-align: top;\n    }\n\n    .dataframe thead th {\n        text-align: right;\n    }\n</style>\n<table border=\"1\" class=\"dataframe\">\n  <thead>\n    <tr style=\"text-align: right;\">\n      <th></th>\n      <th></th>\n      <th></th>\n      <th></th>\n      <th></th>\n      <th></th>\n      <th>Lorem ipsum dolor sit amet</th>\n      <th>consectetur adipiscing elit</th>\n      <th>sed do eiusmod tempor incididunt ut labore et dolore magna aliqua. Ut enim ad minim veniam</th>\n      <th>quis nostrud exercitation ullamco laboris nisi ut aliquip ex ea commodo consequat. Duis aute irure dolor in reprehenderit in voluptate velit esse cillum dolore eu fugiat nulla pariatur. Excepteur sint occaecat cupidatat non proident</th>\n      <th>sunt in culpa qui officia deserunt mollit anim id est laborum.</th>\n    </tr>\n  </thead>\n  <tbody>\n    <tr>\n      <th>Sed ut perspiciatis unde omnis iste natus error sit voluptatem accusantium doloremque laudantium</th>\n      <th>totam rem aperiam</th>\n      <th>eaque ipsa quae ab illo inventore veritatis et quasi architecto beatae vitae dicta sunt explicabo. Nemo enim ipsam voluptatem quia voluptas sit aspernatur aut odit aut fugit</th>\n      <th>sed quia consequuntur magni dolores eos qui ratione voluptatem sequi nesciunt. Neque porro quisquam est</th>\n      <th>qui dolorem ipsum quia dolor sit amet</th>\n      <th>consectetur</th>\n      <td>adipisci velit</td>\n      <td>sed quia non numquam eius modi tempora incidu...</td>\n      <td>quis nostrum exercitationem ullam corporis su...</td>\n      <td>nisi ut aliquid ex ea commodi consequatur? Qu...</td>\n      <td>vel illum qui dolorem eum fugiat quo voluptas...</td>\n    </tr>\n    <tr>\n      <th>name</th>\n      <th>country</th>\n      <th>subcountry</th>\n      <th>geonameid</th>\n      <th>NaN</th>\n      <th>NaN</th>\n      <td>NaN</td>\n      <td>NaN</td>\n      <td>NaN</td>\n      <td>NaN</td>\n      <td>NaN</td>\n    </tr>\n    <tr>\n      <th>les Escaldes</th>\n      <th>Andorra</th>\n      <th>Escaldes-Engordany</th>\n      <th>3040051</th>\n      <th>NaN</th>\n      <th>NaN</th>\n      <td>NaN</td>\n      <td>NaN</td>\n      <td>NaN</td>\n      <td>NaN</td>\n      <td>NaN</td>\n    </tr>\n    <tr>\n      <th>Andorra la Vella</th>\n      <th>Andorra</th>\n      <th>Andorra la Vella</th>\n      <th>3041563</th>\n      <th>NaN</th>\n      <th>NaN</th>\n      <td>NaN</td>\n      <td>NaN</td>\n      <td>NaN</td>\n      <td>NaN</td>\n      <td>NaN</td>\n    </tr>\n    <tr>\n      <th>Umm al Qaywayn</th>\n      <th>United Arab Emirates</th>\n      <th>Umm al Qaywayn</th>\n      <th>290594</th>\n      <th>NaN</th>\n      <th>NaN</th>\n      <td>NaN</td>\n      <td>NaN</td>\n      <td>NaN</td>\n      <td>NaN</td>\n      <td>NaN</td>\n    </tr>\n  </tbody>\n</table>\n</div>"
     },
     "metadata": {},
     "execution_count": 23
    }
   ],
   "source": [
    "chemin = \"https://bit.ly/world-cities-dirty-v2\"\n",
    "data = pds.read_csv(chemin)\n",
    "data.head()"
   ]
  },
  {
   "source": [
    "#### Correction"
   ],
   "cell_type": "markdown",
   "metadata": {}
  },
  {
   "cell_type": "code",
   "execution_count": 67,
   "metadata": {
    "tags": []
   },
   "outputs": [
    {
     "output_type": "stream",
     "name": "stdout",
     "text": "Head : \n               name               country          subcountry  geonameid\n0      les Escaldes               Andorra  Escaldes-Engordany    3040051\n1  Andorra la Vella               Andorra    Andorra la Vella    3041563\n2    Umm al Qaywayn  United Arab Emirates      Umm al Qaywayn     290594\n3    Ras al-Khaimah  United Arab Emirates     Raʼs al Khaymah     291074\n4      Khawr Fakkān  United Arab Emirates        Ash Shāriqah     291696 \n\nShape : \n(23018, 4) \n\nData type : \nname          object\ncountry       object\nsubcountry    object\ngeonameid      int64\ndtype: object \n\nTail :\n              name   country           subcountry  geonameid\n23013     Bulawayo  Zimbabwe             Bulawayo     894701\n23014      Bindura  Zimbabwe  Mashonaland Central     895061\n23015   Beitbridge  Zimbabwe   Matabeleland South     895269\n23016      Epworth  Zimbabwe               Harare    1085510\n23017  Chitungwiza  Zimbabwe               Harare    1106542 \n\nSum Na :\nname           0\ncountry        0\nsubcountry    26\ngeonameid      0\ndtype: int64\n"
    }
   ],
   "source": [
    "chemin = \"https://bit.ly/world-cities-dirty-v2\"\n",
    "data = pds.read_csv(chemin, skipfooter=1, skiprows=2, encoding=\"utf-8\")\n",
    "print(\"Head : \")\n",
    "print(dataset.head(),\"\\n\")\n",
    "print(\"Shape : \")\n",
    "print(dataset.shape,\"\\n\")\n",
    "print(\"Data type : \")\n",
    "print(dataset.dtypes,\"\\n\")\n",
    "print(\"Tail :\")\n",
    "print(dataset.tail(),\"\\n\")\n",
    "print(\"Sum Na :\")\n",
    "print(dataset.isna().sum())"
   ]
  },
  {
   "source": [
    "### Exercice 4"
   ],
   "cell_type": "markdown",
   "metadata": {}
  },
  {
   "cell_type": "code",
   "execution_count": 55,
   "metadata": {},
   "outputs": [
    {
     "output_type": "execute_result",
     "data": {
      "text/plain": "     les Escaldes|Andorra|Escaldes-Engordany|3040051\n0  Andorra la Vella|Andorra|Andorra la Vella|3041563\n1  Umm al Qaywayn|United Arab Emirates|Umm al Qay...\n2  Ras al-Khaimah|United Arab Emirates|Raʼs al Kh...\n3  Khawr Fakkān|United Arab Emirates|Ash Shāriqah...\n4            Dubai|United Arab Emirates|Dubai|292223",
      "text/html": "<div>\n<style scoped>\n    .dataframe tbody tr th:only-of-type {\n        vertical-align: middle;\n    }\n\n    .dataframe tbody tr th {\n        vertical-align: top;\n    }\n\n    .dataframe thead th {\n        text-align: right;\n    }\n</style>\n<table border=\"1\" class=\"dataframe\">\n  <thead>\n    <tr style=\"text-align: right;\">\n      <th></th>\n      <th>les Escaldes|Andorra|Escaldes-Engordany|3040051</th>\n    </tr>\n  </thead>\n  <tbody>\n    <tr>\n      <th>0</th>\n      <td>Andorra la Vella|Andorra|Andorra la Vella|3041563</td>\n    </tr>\n    <tr>\n      <th>1</th>\n      <td>Umm al Qaywayn|United Arab Emirates|Umm al Qay...</td>\n    </tr>\n    <tr>\n      <th>2</th>\n      <td>Ras al-Khaimah|United Arab Emirates|Raʼs al Kh...</td>\n    </tr>\n    <tr>\n      <th>3</th>\n      <td>Khawr Fakkān|United Arab Emirates|Ash Shāriqah...</td>\n    </tr>\n    <tr>\n      <th>4</th>\n      <td>Dubai|United Arab Emirates|Dubai|292223</td>\n    </tr>\n  </tbody>\n</table>\n</div>"
     },
     "metadata": {},
     "execution_count": 55
    }
   ],
   "source": [
    "chemin = \"https://bit.ly/world-cities-dirty-v3\"\n",
    "data = pds.read_csv(chemin)\n",
    "data.head()"
   ]
  },
  {
   "source": [
    "#### Correction"
   ],
   "cell_type": "markdown",
   "metadata": {}
  },
  {
   "cell_type": "code",
   "execution_count": 68,
   "metadata": {
    "tags": []
   },
   "outputs": [
    {
     "output_type": "stream",
     "name": "stdout",
     "text": "Head : \n               name               country          subcountry  geonameid\n0      les Escaldes               Andorra  Escaldes-Engordany    3040051\n1  Andorra la Vella               Andorra    Andorra la Vella    3041563\n2    Umm al Qaywayn  United Arab Emirates      Umm al Qaywayn     290594\n3    Ras al-Khaimah  United Arab Emirates     Raʼs al Khaymah     291074\n4      Khawr Fakkān  United Arab Emirates        Ash Shāriqah     291696 \n\nShape : \n(23018, 4) \n\nData type : \nname          object\ncountry       object\nsubcountry    object\ngeonameid      int64\ndtype: object \n\nTail :\n              name   country           subcountry  geonameid\n23013     Bulawayo  Zimbabwe             Bulawayo     894701\n23014      Bindura  Zimbabwe  Mashonaland Central     895061\n23015   Beitbridge  Zimbabwe   Matabeleland South     895269\n23016      Epworth  Zimbabwe               Harare    1085510\n23017  Chitungwiza  Zimbabwe               Harare    1106542 \n\nSum Na :\nname           0\ncountry        0\nsubcountry    26\ngeonameid      0\ndtype: int64\n"
    }
   ],
   "source": [
    "chemin = \"https://bit.ly/world-cities-dirty-v3\"\n",
    "data = pds.read_csv(chemin, sep=\"|\", names=[\"name\",\"country\",\"subcountry\",\"geonameid\"])\n",
    "print(\"Head : \")\n",
    "print(dataset.head(),\"\\n\")\n",
    "print(\"Shape : \")\n",
    "print(dataset.shape,\"\\n\")\n",
    "print(\"Data type : \")\n",
    "print(dataset.dtypes,\"\\n\")\n",
    "print(\"Tail :\")\n",
    "print(dataset.tail(),\"\\n\")\n",
    "print(\"Sum Na :\")\n",
    "print(dataset.isna().sum())"
   ]
  },
  {
   "source": [
    "### Exercice 5 "
   ],
   "cell_type": "markdown",
   "metadata": {}
  },
  {
   "cell_type": "code",
   "execution_count": 69,
   "metadata": {
    "tags": []
   },
   "outputs": [
    {
     "output_type": "stream",
     "name": "stdout",
     "text": "Head : \n          Date    Open*     High      Low  Close**        Volume    Market Cap\n0  Jan 14 2020  8140.93  8879.51  8140.93  8827.76  4.484178e+10  1.603195e+11\n1  Jan 13 2020  8189.77  8197.79  8079.70  8144.19  2.248291e+10  1.478905e+11\n2  Jan 12 2020  8033.26  8200.06  8009.06  8192.49  2.290344e+10  1.487530e+11\n3  Jan 11 2020  8162.19  8218.36  8029.64  8037.54  2.552117e+10  1.459242e+11\n4  Jan 10 2020  7878.31  8166.55  7726.77  8166.55  2.871458e+10  1.482499e+11 \n\nShape : \n(33, 7) \n\nDatatypes : \nDate           object\nOpen*         float64\nHigh          float64\nLow           float64\nClose**       float64\nVolume        float64\nMarket Cap    float64\ndtype: object \n\nTail : \n                                   Date    Open*     High      Low  Close**  \\\n28                          Dec 17 2019  6931.32  6964.07  6587.97  6640.52   \n29                          Dec 16 2019  7153.66  7171.17  6903.68  6932.48   \n30                          Dec 15 2019  7124.24  7181.08  6924.38  7152.30   \n31  * Earliest data in range (UTC time)      NaN      NaN      NaN      NaN   \n32   ** Latest data in range (UTC time)      NaN      NaN      NaN      NaN   \n\n          Volume    Market Cap  \n28  2.236380e+10  1.202342e+11  \n29  2.021327e+10  1.255156e+11  \n30  1.688113e+10  1.294814e+11  \n31           NaN           NaN  \n32           NaN           NaN   \n\n"
    }
   ],
   "source": [
    "chemin = \"https://bit.ly/bitcoin-data\"\n",
    "dataset = pds.read_csv(chemin)\n",
    "print(\"Head : \")\n",
    "print(dataset.head(),\"\\n\")\n",
    "print(\"Shape : \")\n",
    "print(dataset.shape,\"\\n\")\n",
    "print(\"Datatypes : \")\n",
    "print(dataset.dtypes, \"\\n\")\n",
    "print(\"Tail : \")\n",
    "print(dataset.tail(),\"\\n\")\n"
   ]
  },
  {
   "source": [
    "### Correction"
   ],
   "cell_type": "markdown",
   "metadata": {}
  },
  {
   "source": [
    "chemin = \"https://bit.ly/bitcoin-data\"\n",
    "dataset = pds.read_csv(chemin, skipfooter=2)\n",
    "print(\"Head : \")\n",
    "print(dataset.head(),\"\\n\")\n",
    "print(\"Shape : \")\n",
    "print(dataset.shape,\"\\n\")\n",
    "print(\"Datatypes : \")\n",
    "print(dataset.dtypes, \"\\n\")\n",
    "print(\"Tail : \")\n",
    "print(dataset.tail(),\"\\n\")"
   ],
   "cell_type": "code",
   "metadata": {
    "tags": []
   },
   "execution_count": null,
   "outputs": []
  },
  {
   "source": [
    "### Exercice 6 "
   ],
   "cell_type": "markdown",
   "metadata": {}
  },
  {
   "cell_type": "code",
   "execution_count": 90,
   "metadata": {},
   "outputs": [
    {
     "output_type": "execute_result",
     "data": {
      "text/plain": "   a**  b__\n0    1    3\n1    2    3",
      "text/html": "<div>\n<style scoped>\n    .dataframe tbody tr th:only-of-type {\n        vertical-align: middle;\n    }\n\n    .dataframe tbody tr th {\n        vertical-align: top;\n    }\n\n    .dataframe thead th {\n        text-align: right;\n    }\n</style>\n<table border=\"1\" class=\"dataframe\">\n  <thead>\n    <tr style=\"text-align: right;\">\n      <th></th>\n      <th>a**</th>\n      <th>b__</th>\n    </tr>\n  </thead>\n  <tbody>\n    <tr>\n      <th>0</th>\n      <td>1</td>\n      <td>3</td>\n    </tr>\n    <tr>\n      <th>1</th>\n      <td>2</td>\n      <td>3</td>\n    </tr>\n  </tbody>\n</table>\n</div>"
     },
     "metadata": {},
     "execution_count": 90
    }
   ],
   "source": [
    "toy = pds.DataFrame(\n",
    "    data={\n",
    "    'a**' : [1,2],\n",
    "    'b__' : [3,3]\n",
    "    }\n",
    ")\n",
    "toy"
   ]
  },
  {
   "source": [
    "### Correction"
   ],
   "cell_type": "markdown",
   "metadata": {}
  },
  {
   "cell_type": "code",
   "execution_count": 80,
   "metadata": {},
   "outputs": [],
   "source": [
    "def convert(s):\n",
    "  s = s.replace(\"*\",\"\")\n",
    "  s = s.replace(\"_\",\"\")\n",
    "  \n",
    "  return s"
   ]
  },
  {
   "cell_type": "code",
   "execution_count": 81,
   "metadata": {},
   "outputs": [
    {
     "output_type": "execute_result",
     "data": {
      "text/plain": "   a  b\n0  1  3\n1  2  3",
      "text/html": "<div>\n<style scoped>\n    .dataframe tbody tr th:only-of-type {\n        vertical-align: middle;\n    }\n\n    .dataframe tbody tr th {\n        vertical-align: top;\n    }\n\n    .dataframe thead th {\n        text-align: right;\n    }\n</style>\n<table border=\"1\" class=\"dataframe\">\n  <thead>\n    <tr style=\"text-align: right;\">\n      <th></th>\n      <th>a</th>\n      <th>b</th>\n    </tr>\n  </thead>\n  <tbody>\n    <tr>\n      <th>0</th>\n      <td>1</td>\n      <td>3</td>\n    </tr>\n    <tr>\n      <th>1</th>\n      <td>2</td>\n      <td>3</td>\n    </tr>\n  </tbody>\n</table>\n</div>"
     },
     "metadata": {},
     "execution_count": 81
    }
   ],
   "source": [
    "toy.rename(convert, \n",
    "           axis=\"columns\"\n",
    "           )"
   ]
  },
  {
   "cell_type": "code",
   "execution_count": 83,
   "metadata": {},
   "outputs": [
    {
     "output_type": "execute_result",
     "data": {
      "text/plain": "   a  b\n0  1  3\n1  2  3",
      "text/html": "<div>\n<style scoped>\n    .dataframe tbody tr th:only-of-type {\n        vertical-align: middle;\n    }\n\n    .dataframe tbody tr th {\n        vertical-align: top;\n    }\n\n    .dataframe thead th {\n        text-align: right;\n    }\n</style>\n<table border=\"1\" class=\"dataframe\">\n  <thead>\n    <tr style=\"text-align: right;\">\n      <th></th>\n      <th>a</th>\n      <th>b</th>\n    </tr>\n  </thead>\n  <tbody>\n    <tr>\n      <th>0</th>\n      <td>1</td>\n      <td>3</td>\n    </tr>\n    <tr>\n      <th>1</th>\n      <td>2</td>\n      <td>3</td>\n    </tr>\n  </tbody>\n</table>\n</div>"
     },
     "metadata": {},
     "execution_count": 83
    }
   ],
   "source": [
    "toy.rename(\n",
    "    columns={\n",
    "    \"a**\" : \"a\",\n",
    "    \"b__\" : \"b\"\n",
    "    }\n",
    ")"
   ]
  },
  {
   "cell_type": "code",
   "execution_count": 98,
   "metadata": {},
   "outputs": [
    {
     "output_type": "execute_result",
     "data": {
      "text/plain": "   a  b\n0  1  3\n1  2  3",
      "text/html": "<div>\n<style scoped>\n    .dataframe tbody tr th:only-of-type {\n        vertical-align: middle;\n    }\n\n    .dataframe tbody tr th {\n        vertical-align: top;\n    }\n\n    .dataframe thead th {\n        text-align: right;\n    }\n</style>\n<table border=\"1\" class=\"dataframe\">\n  <thead>\n    <tr style=\"text-align: right;\">\n      <th></th>\n      <th>a</th>\n      <th>b</th>\n    </tr>\n  </thead>\n  <tbody>\n    <tr>\n      <th>0</th>\n      <td>1</td>\n      <td>3</td>\n    </tr>\n    <tr>\n      <th>1</th>\n      <td>2</td>\n      <td>3</td>\n    </tr>\n  </tbody>\n</table>\n</div>"
     },
     "metadata": {},
     "execution_count": 98
    }
   ],
   "source": [
    "toy.columns = toy.columns.str.replace(\"*\",\"\")\n",
    "toy.columns = toy.columns.str.replace(\"_\",\"\")\n",
    "toy"
   ]
  }
 ]
}