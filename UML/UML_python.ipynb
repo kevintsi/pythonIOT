{
 "metadata": {
  "language_info": {
   "codemirror_mode": {
    "name": "ipython",
    "version": 3
   },
   "file_extension": ".py",
   "mimetype": "text/x-python",
   "name": "python",
   "nbconvert_exporter": "python",
   "pygments_lexer": "ipython3",
   "version": "3.8.3-final"
  },
  "orig_nbformat": 2,
  "kernelspec": {
   "name": "Python 3.8.3 64-bit",
   "display_name": "Python 3.8.3 64-bit",
   "metadata": {
    "interpreter": {
     "hash": "991da9b17d5655561a8686b9327745da023652667e5744d6112d3c7cefcedf59"
    }
   }
  }
 },
 "nbformat": 4,
 "nbformat_minor": 2,
 "cells": [
  {
   "source": [
    "# UML & Python class"
   ],
   "cell_type": "markdown",
   "metadata": {}
  },
  {
   "cell_type": "code",
   "execution_count": 26,
   "metadata": {},
   "outputs": [],
   "source": [
    "from datetime import datetime\n",
    "\n",
    "class Person:\n",
    "    \"\"\"\n",
    "        Person class\n",
    "        param last_name : string\n",
    "        param first_name : string\n",
    "        param birth_day : datetime \n",
    "    \"\"\"\n",
    "    def __init__(self, last_name, first_name, birth_day):\n",
    "        \"\"\"\n",
    "            Initialize attributes : last_name, first_name, birth_day\n",
    "        \"\"\"\n",
    "        self.last_name = last_name\n",
    "        self.first_name = first_name\n",
    "        self.birth_day = birth_day\n",
    "    \n",
    "    def display(self):\n",
    "        \"\"\"\n",
    "            Display the information of person\n",
    "        \"\"\"\n",
    "        return self.last_name+\" \"+self.first_name+\" \"+self.birth_day.strftime(\"%d/%m/%Y\")\n",
    "    \n",
    "    def calculationAge(self):\n",
    "        return datetime.now().year - self.birth_day.year"
   ]
  },
  {
   "cell_type": "code",
   "execution_count": 29,
   "metadata": {
    "tags": []
   },
   "outputs": [
    {
     "output_type": "stream",
     "name": "stdout",
     "text": "TSI Kévin 10/09/1998\n22\n"
    }
   ],
   "source": [
    "p1 = Person(\"TSI\", \"Kévin\", datetime(1998, 9, 10))\n",
    "print(p1.display())\n",
    "print(p1.calculationAge())"
   ]
  },
  {
   "source": [
    "## Encapsulation"
   ],
   "cell_type": "markdown",
   "metadata": {}
  },
  {
   "source": [
    ", + = Public ---> Python : nothing , - = Private ----> Python : _ name_variable , # = Protected ----> Python : __ name_variable"
   ],
   "cell_type": "markdown",
   "metadata": {}
  },
  {
   "cell_type": "code",
   "execution_count": 39,
   "metadata": {},
   "outputs": [],
   "source": [
    "class Vecteur:\n",
    "    def __init__(self, x, y):\n",
    "        self.x = x\n",
    "        self.y = y\n",
    "\n",
    "    def __repr__(self):\n",
    "        return \"Vecteur({0},{1})\".format(self.x, self.y)\n",
    "\n",
    "    def __add__(self, other: Vecteur) -> Vecteur:\n",
    "        return Vecteur(self.x+ other.y, self.y+ other.y)"
   ]
  },
  {
   "cell_type": "code",
   "execution_count": 40,
   "metadata": {
    "tags": []
   },
   "outputs": [
    {
     "output_type": "stream",
     "name": "stdout",
     "text": "Vecteur(1,2)\nVecteur(1,2)\nVecteur(3,4)\n"
    }
   ],
   "source": [
    "v1 = Vecteur(1,2)\n",
    "print(v1)\n",
    "v2 = Vecteur(1,2)\n",
    "print(v2)\n",
    "print(v1+v2)\n"
   ]
  },
  {
   "source": [
    "## Exercises\n",
    "### Compte bancaire"
   ],
   "cell_type": "markdown",
   "metadata": {}
  },
  {
   "cell_type": "code",
   "execution_count": null,
   "metadata": {},
   "outputs": [],
   "source": []
  },
  {
   "source": [],
   "cell_type": "markdown",
   "metadata": {}
  }
 ]
}