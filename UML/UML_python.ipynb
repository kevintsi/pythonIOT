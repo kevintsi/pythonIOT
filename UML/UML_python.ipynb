{
 "metadata": {
  "language_info": {
   "codemirror_mode": {
    "name": "ipython",
    "version": 3
   },
   "file_extension": ".py",
   "mimetype": "text/x-python",
   "name": "python",
   "nbconvert_exporter": "python",
   "pygments_lexer": "ipython3",
   "version": "3.7.3-final"
  },
  "orig_nbformat": 2,
  "kernelspec": {
   "name": "Python 3.7.3 64-bit",
   "display_name": "Python 3.7.3 64-bit",
   "metadata": {
    "interpreter": {
     "hash": "529fb34a2367274ec457362bf209a46b8f791fd761ec3d2cde653a7faa5df1fc"
    }
   }
  }
 },
 "nbformat": 4,
 "nbformat_minor": 2,
 "cells": [
  {
   "source": [
    "# UML & Python class"
   ],
   "cell_type": "markdown",
   "metadata": {}
  },
  {
   "cell_type": "code",
   "execution_count": 1,
   "metadata": {},
   "outputs": [],
   "source": [
    "from datetime import datetime\n",
    "\n",
    "class Person:\n",
    "    \"\"\"\n",
    "        Person class\n",
    "        param last_name : string\n",
    "        param first_name : string\n",
    "        param birth_day : datetime \n",
    "    \"\"\"\n",
    "    def __init__(self, last_name, first_name, birth_day):\n",
    "        \"\"\"\n",
    "            Initialize attributes : last_name, first_name, birth_day\n",
    "        \"\"\"\n",
    "        self.last_name = last_name\n",
    "        self.first_name = first_name\n",
    "        self.birth_day = birth_day\n",
    "    \n",
    "    def display(self):\n",
    "        \"\"\"\n",
    "            Display the information of person\n",
    "        \"\"\"\n",
    "        return self.last_name+\" \"+self.first_name+\" \"+self.birth_day.strftime(\"%d/%m/%Y\")\n",
    "    \n",
    "    def calculationAge(self):\n",
    "        return datetime.now().year - self.birth_day.year"
   ]
  },
  {
   "cell_type": "code",
   "execution_count": 2,
   "metadata": {
    "tags": []
   },
   "outputs": [
    {
     "output_type": "stream",
     "name": "stdout",
     "text": [
      "TSI Kévin 10/09/1998\n22\n"
     ]
    }
   ],
   "source": [
    "p1 = Person(\"TSI\", \"Kévin\", datetime(1998, 9, 10))\n",
    "print(p1.display())\n",
    "print(p1.calculationAge())"
   ]
  },
  {
   "source": [
    "## Encapsulation"
   ],
   "cell_type": "markdown",
   "metadata": {}
  },
  {
   "source": [
    ", + = Public ---> Python : nothing , - = Private ----> Python : _ name_variable , # = Protected ----> Python : __ name_variable"
   ],
   "cell_type": "markdown",
   "metadata": {}
  },
  {
   "cell_type": "code",
   "execution_count": 3,
   "metadata": {},
   "outputs": [
    {
     "output_type": "error",
     "ename": "NameError",
     "evalue": "name 'Vecteur' is not defined",
     "traceback": [
      "\u001b[1;31m---------------------------------------------------------------------------\u001b[0m",
      "\u001b[1;31mNameError\u001b[0m                                 Traceback (most recent call last)",
      "\u001b[1;32m<ipython-input-3-f02c9c8f4108>\u001b[0m in \u001b[0;36m<module>\u001b[1;34m\u001b[0m\n\u001b[1;32m----> 1\u001b[1;33m \u001b[1;32mclass\u001b[0m \u001b[0mVecteur\u001b[0m\u001b[1;33m:\u001b[0m\u001b[1;33m\u001b[0m\u001b[1;33m\u001b[0m\u001b[0m\n\u001b[0m\u001b[0;32m      2\u001b[0m     \u001b[1;32mdef\u001b[0m \u001b[0m__init__\u001b[0m\u001b[1;33m(\u001b[0m\u001b[0mself\u001b[0m\u001b[1;33m,\u001b[0m \u001b[0mx\u001b[0m\u001b[1;33m,\u001b[0m \u001b[0my\u001b[0m\u001b[1;33m)\u001b[0m\u001b[1;33m:\u001b[0m\u001b[1;33m\u001b[0m\u001b[1;33m\u001b[0m\u001b[0m\n\u001b[0;32m      3\u001b[0m         \u001b[0mself\u001b[0m\u001b[1;33m.\u001b[0m\u001b[0mx\u001b[0m \u001b[1;33m=\u001b[0m \u001b[0mx\u001b[0m\u001b[1;33m\u001b[0m\u001b[1;33m\u001b[0m\u001b[0m\n\u001b[0;32m      4\u001b[0m         \u001b[0mself\u001b[0m\u001b[1;33m.\u001b[0m\u001b[0my\u001b[0m \u001b[1;33m=\u001b[0m \u001b[0my\u001b[0m\u001b[1;33m\u001b[0m\u001b[1;33m\u001b[0m\u001b[0m\n\u001b[0;32m      5\u001b[0m \u001b[1;33m\u001b[0m\u001b[0m\n",
      "\u001b[1;32m<ipython-input-3-f02c9c8f4108>\u001b[0m in \u001b[0;36mVecteur\u001b[1;34m()\u001b[0m\n\u001b[0;32m      7\u001b[0m         \u001b[1;32mreturn\u001b[0m \u001b[1;34m\"Vecteur({0},{1})\"\u001b[0m\u001b[1;33m.\u001b[0m\u001b[0mformat\u001b[0m\u001b[1;33m(\u001b[0m\u001b[0mself\u001b[0m\u001b[1;33m.\u001b[0m\u001b[0mx\u001b[0m\u001b[1;33m,\u001b[0m \u001b[0mself\u001b[0m\u001b[1;33m.\u001b[0m\u001b[0my\u001b[0m\u001b[1;33m)\u001b[0m\u001b[1;33m\u001b[0m\u001b[1;33m\u001b[0m\u001b[0m\n\u001b[0;32m      8\u001b[0m \u001b[1;33m\u001b[0m\u001b[0m\n\u001b[1;32m----> 9\u001b[1;33m     \u001b[1;32mdef\u001b[0m \u001b[0m__add__\u001b[0m\u001b[1;33m(\u001b[0m\u001b[0mself\u001b[0m\u001b[1;33m,\u001b[0m \u001b[0mother\u001b[0m\u001b[1;33m:\u001b[0m \u001b[0mVecteur\u001b[0m\u001b[1;33m)\u001b[0m \u001b[1;33m->\u001b[0m \u001b[0mVecteur\u001b[0m\u001b[1;33m:\u001b[0m\u001b[1;33m\u001b[0m\u001b[1;33m\u001b[0m\u001b[0m\n\u001b[0m\u001b[0;32m     10\u001b[0m         \u001b[1;32mreturn\u001b[0m \u001b[0mVecteur\u001b[0m\u001b[1;33m(\u001b[0m\u001b[0mself\u001b[0m\u001b[1;33m.\u001b[0m\u001b[0mx\u001b[0m\u001b[1;33m+\u001b[0m \u001b[0mother\u001b[0m\u001b[1;33m.\u001b[0m\u001b[0my\u001b[0m\u001b[1;33m,\u001b[0m \u001b[0mself\u001b[0m\u001b[1;33m.\u001b[0m\u001b[0my\u001b[0m\u001b[1;33m+\u001b[0m \u001b[0mother\u001b[0m\u001b[1;33m.\u001b[0m\u001b[0my\u001b[0m\u001b[1;33m)\u001b[0m\u001b[1;33m\u001b[0m\u001b[1;33m\u001b[0m\u001b[0m\n",
      "\u001b[1;31mNameError\u001b[0m: name 'Vecteur' is not defined"
     ]
    }
   ],
   "source": [
    "class Vecteur:\n",
    "    def __init__(self, x, y):\n",
    "        self.x = x\n",
    "        self.y = y\n",
    "\n",
    "    def __repr__(self):\n",
    "        return \"Vecteur({0},{1})\".format(self.x, self.y)\n",
    "\n",
    "    def __add__(self, other: Vecteur) -> Vecteur:\n",
    "        return Vecteur(self.x+ other.y, self.y+ other.y)"
   ]
  },
  {
   "cell_type": "code",
   "execution_count": 40,
   "metadata": {
    "tags": []
   },
   "outputs": [
    {
     "output_type": "stream",
     "name": "stdout",
     "text": "Vecteur(1,2)\nVecteur(1,2)\nVecteur(3,4)\n"
    }
   ],
   "source": [
    "v1 = Vecteur(1,2)\n",
    "print(v1)\n",
    "v2 = Vecteur(1,2)\n",
    "print(v2)\n",
    "print(v1+v2)\n"
   ]
  },
  {
   "source": [
    "## Exercises\n",
    "### Compte bancaire"
   ],
   "cell_type": "markdown",
   "metadata": {}
  },
  {
   "cell_type": "code",
   "execution_count": 10,
   "metadata": {},
   "outputs": [],
   "source": [
    "class CompteBancaire:\n",
    "\n",
    "    def __init__(self, nom=\"Dupont\", solde=1000):\n",
    "        self.nom = nom\n",
    "        self.solde = solde\n",
    "    \n",
    "    def depot(self, montant):\n",
    "        self.solde+=montant\n",
    "    \n",
    "    def retrait(self, montant):\n",
    "        self.solde-=montant\n",
    "\n",
    "    def affiche(self):\n",
    "        print(\"Le solde du compte bancaire de {} est de {} euros\".format(self.nom, self.solde))"
   ]
  },
  {
   "cell_type": "code",
   "execution_count": 11,
   "metadata": {},
   "outputs": [
    {
     "output_type": "stream",
     "name": "stdout",
     "text": [
      "Le solde du compte bancaire de Duchmol est de 950 euros\nLe solde du compte bancaire de Dupont est de 1025 euros\n"
     ]
    }
   ],
   "source": [
    "compte1 = CompteBancaire(\"Duchmol\", 800)\n",
    "compte1.depot(350)\n",
    "compte1.retrait(200)\n",
    "compte1.affiche()\n",
    "compte2 = CompteBancaire()\n",
    "compte2.depot(25)\n",
    "compte2.affiche()\n",
    "\n"
   ]
  },
  {
   "source": [
    "### Surcharge d'opérateur"
   ],
   "cell_type": "markdown",
   "metadata": {}
  },
  {
   "cell_type": "code",
   "execution_count": 34,
   "metadata": {},
   "outputs": [],
   "source": [
    "class Point:\n",
    "\n",
    "    def __init__(self, x, y, z=None):\n",
    "        self.x = x\n",
    "        self.y = y\n",
    "        self.z = z\n",
    "\n",
    "    def ToString(self):\n",
    "        if(self.z):\n",
    "            print(\"Point({}, {}, {})\".format(float(self.x), float(self.y), float(self.z)))\n",
    "        else:\n",
    "            print(\"Point({}, {})\".format(float(self.x), float(self.y)))"
   ]
  },
  {
   "cell_type": "code",
   "execution_count": 35,
   "metadata": {},
   "outputs": [
    {
     "output_type": "stream",
     "name": "stdout",
     "text": [
      "Point(2.0, 3.0)\nPoint(1.0, -5.0, 6.0)\n"
     ]
    }
   ],
   "source": [
    "P1=Point(2,3)\n",
    "P1.ToString()\n",
    "P2=Point(1,-5,6)\n",
    "P2.ToString()"
   ]
  },
  {
   "source": [
    "### Héritage simple"
   ],
   "cell_type": "markdown",
   "metadata": {}
  },
  {
   "cell_type": "code",
   "execution_count": 36,
   "metadata": {},
   "outputs": [],
   "source": [
    "class DateNaissance:\n",
    "\n",
    "    def __init__(self, jour, mois, annee):\n",
    "        self.jour = jour\n",
    "        self.mois = mois\n",
    "        self.annee = annee\n",
    "    \n",
    "    def ToString(self):\n",
    "        return \"{}/{}/{}\".format(self.jour, self.mois, self.annee)\n",
    "    "
   ]
  },
  {
   "cell_type": "code",
   "execution_count": 44,
   "metadata": {},
   "outputs": [],
   "source": [
    "class Personne:\n",
    "    \n",
    "    def __init__(self, nom, prenom, date_naissance: DateNaissance):\n",
    "        self.nom = nom\n",
    "        self.prenom = prenom\n",
    "        self.date_naissance = date_naissance\n",
    "    \n",
    "    def afficher(self):\n",
    "        print(\"Nom : \"+self.nom)\n",
    "        print(\"Prenom : \"+self.prenom)\n",
    "        print(\"Date de naissance : \"+self.date_naissance.ToString())\n"
   ]
  },
  {
   "cell_type": "code",
   "execution_count": 47,
   "metadata": {},
   "outputs": [],
   "source": [
    "class Employe(Personne):\n",
    "\n",
    "    def __init__(self, nom, prenom, date_naissance: DateNaissance, salaire):\n",
    "        self.nom = nom\n",
    "        self.prenom = prenom\n",
    "        self.date_naissance = date_naissance\n",
    "        self.salaire = salaire\n",
    "    \n",
    "    def afficher(self):\n",
    "        print(\"Nom : \"+self.nom)\n",
    "        print(\"Prenom : \"+self.prenom)\n",
    "        print(\"Salaire : {}\".format(self.salaire))"
   ]
  },
  {
   "cell_type": "code",
   "execution_count": 49,
   "metadata": {},
   "outputs": [],
   "source": [
    "class Chef(Employe):\n",
    "    def __init__(self, nom, prenom, date_naissance: DateNaissance, salaire, service):\n",
    "        self.nom = nom\n",
    "        self.prenom = prenom\n",
    "        self.date_naissance = date_naissance\n",
    "        self.salaire = salaire\n",
    "        self.service = service\n",
    "\n",
    "    def afficher(self):\n",
    "        print(\"Nom : \"+self.nom)\n",
    "        print(\"Prenom : \"+self.prenom)\n",
    "        print(\"Salaire : {}\".format(self.salaire))\n",
    "        print(\"Service : \"+self.service)"
   ]
  },
  {
   "cell_type": "code",
   "execution_count": 51,
   "metadata": {},
   "outputs": [
    {
     "output_type": "stream",
     "name": "stdout",
     "text": [
      "Nom : Ilyass\nPrenom : Math\nDate de naissance : 1/7/1982\nNom : Ilyass\nPrenom : Math\nSalaire : 7865.548\nNom : Ilyass\nPrenom : Math\nSalaire : 7865.548\nService : Ressource humaine\n"
     ]
    }
   ],
   "source": [
    "P= Personne(\"Ilyass\",\"Math\",DateNaissance(1,7,1982))\n",
    "P.afficher()\n",
    "E= Employe(\"Ilyass\",\"Math\",DateNaissance(1,7,1985),7865.548)\n",
    "E.afficher()\n",
    "Ch=Chef(\"Ilyass\",\"Math\",DateNaissance(1,7,1988),7865.548,\"Ressource humaine\")\n",
    "Ch.afficher()"
   ]
  },
  {
   "source": [
    "### Le polymorphisme"
   ],
   "cell_type": "markdown",
   "metadata": {}
  },
  {
   "cell_type": "code",
   "execution_count": 9,
   "metadata": {},
   "outputs": [],
   "source": [
    "class Courrier:\n",
    "    \n",
    "    def __init__(self, poids, expedition, adresse_destination, adresse_expedition):\n",
    "        self.poids = poids\n",
    "        self.expedition = expedition\n",
    "        self.adresse_destination = adresse_destination\n",
    "        self.adresse_expedition = adresse_expedition\n"
   ]
  },
  {
   "cell_type": "code",
   "execution_count": 18,
   "metadata": {},
   "outputs": [],
   "source": [
    "class Lettre(Courrier):\n",
    "    \n",
    "    def __init__(self, poids, expedition, adresse_destination, adresse_expedition, format_):\n",
    "        self.poids = poids\n",
    "        self.expedition = expedition\n",
    "        self.adresse_destination = adresse_destination\n",
    "        self.adresse_expedition = adresse_expedition\n",
    "        self.format = format_\n",
    "\n",
    "    def ToString(self):\n",
    "        print(\"Lettre : \")\n",
    "        print(\"Adresse destination: {}\".format(self.adresse_destination)) \n",
    "        print(\"Adresse expedition: {}\".format(self.adresse_expedition))\n",
    "        print(\"Poids: {} grammes\".format(self.poids))\n",
    "        print(\"Mode: {}\".format(self.expedition)) \n",
    "        print(\"Format: {}\".format(self.format))\n",
    "        print(\"Prix du timbre: {}\".format(self.calculTimbre()))\n",
    "\n",
    "    \n",
    "    def calculTimbre(self):\n",
    "        tarifBase = 0\n",
    "        if self.expedition == \"normal\":\n",
    "            if self.format == \"A4\":\n",
    "                tarifBase = 2.50\n",
    "            else:\n",
    "                tarifBase = 3.50\n",
    "            \n",
    "            return tarifBase+1.0*self.poids\n",
    "        else:\n",
    "            return tarifBase*2\n",
    "        \n",
    "    \n",
    "            "
   ]
  },
  {
   "cell_type": "code",
   "execution_count": 29,
   "metadata": {},
   "outputs": [],
   "source": [
    "class Colis(Courrier):\n",
    "\n",
    "    def __init__(self, poids, expedition, adresse_destination, adresse_expedition, volume):\n",
    "        self.poids = poids\n",
    "        self.expedition = expedition\n",
    "        self.adresse_destination = adresse_destination\n",
    "        self.adresse_expedition = adresse_expedition\n",
    "        self.volume = volume\n",
    "    \n",
    "    def ToString(self):\n",
    "        print(\"Colis : \")\n",
    "        print(\"Adresse destination: {}\".format(self.adresse_destination)) \n",
    "        print(\"Adresse expedition: {}\".format(self.adresse_expedition))\n",
    "        print(\"Poids: {} grammes\".format(self.poids))\n",
    "        print(\"Mode: {}\".format(self.expedition)) \n",
    "        print(\"Format: {}\".format(self.volume))\n",
    "        print(\"Prix du timbre: {}\".format(self.calculTimbre()))\n",
    "\n",
    "    def calculTimbre(self):\n",
    "        tarifBase = 0\n",
    "        if self.expedition == \"normal\":\n",
    "            return 0.25*self.volume+self.poids*1.0\n",
    "        else:\n",
    "            return (0.25*self.volume+self.poids*1.0)*2\n"
   ]
  },
  {
   "cell_type": "code",
   "execution_count": 30,
   "metadata": {},
   "outputs": [
    {
     "output_type": "stream",
     "name": "stdout",
     "text": [
      "Lettre : \nAdresse destination: Lille\nAdresse expedition: Paris\nPoids: 80 grammes\nMode: normal\nFormat: A4\nPrix du timbre: 82.5\nColis : \nAdresse destination: Marrakeche\nAdresse expedition: Barcelone\nPoids: 3500 grammes\nMode: expresse\nFormat: 2.25\nPrix du timbre: 7000.222222222223\n"
     ]
    }
   ],
   "source": [
    "L1 = Lettre( 80, \"normal\",\"Lille\", \"Paris\", \"A4\")\n",
    "L1.ToString()\n",
    "C1 = Colis(3500, \"expresse\", \"Marrakeche\", \"Barcelone\", 2.25)\n",
    "C1.ToString()"
   ]
  },
  {
   "cell_type": "code",
   "execution_count": null,
   "metadata": {},
   "outputs": [],
   "source": []
  }
 ]
}